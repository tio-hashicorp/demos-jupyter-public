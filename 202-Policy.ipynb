{
 "cells": [
  {
   "cell_type": "markdown",
   "metadata": {},
   "source": [
    "<img align=right src=images/HashiCorp_PrimaryLogo_Black_RGB.png width=150>\n",
    "<img src=images/sglogo.png width=50 align=left>"
   ]
  },
  {
   "cell_type": "markdown",
   "metadata": {},
   "source": [
    "---\n",
    "## Vault Policies\n",
    "Vault use policies to govern the behavior of lcients and instrument RBAC by specifying autorization.\n",
    "\n",
    "<img src=\"images/vault-policy-2.png\" width=500>\n",
    "\n",
    " \n",
    "ACL policy **PATH** supports wildcard matching (\"**+**\", \"**\\***\")  \n",
    "**PATH** corresponds to Vault API endpoints.  **No policy means no permission**  \n",
    "\n",
    "\n",
    "List of capabilities  \n",
    "\n",
    "| List of Permissions | HTTP Verbs |\n",
    "|------------|------------|\n",
    "| create | POST/PUT |\n",
    "| read | GET |\n",
    "| update | POST/PUT |\n",
    "| delete | DELETE |\n",
    "| list | LIST |\n",
    "| sudo | allows access to paths that are **root-protected** |\n",
    "| deny | disallows access regardless of other capabilities |\n",
    "\n",
    "Two out-of-the-box policies, they can't be deleted:\n",
    "* **root** policy - superuser with all permissions\n",
    "* **default** policy - common permissions  \n",
    "\n",
    "**Prerequisites:**\n",
    "- Vault binary\n",
    "\n",
    "\n",
    "Before you begin, execute the following command in a separate windows:\n",
    "\n",
    "`VAULT_UI=true VAULT_REDIRECT_ADDR=http://127.0.0.1:8200 vault server -log-level=trace -dev -dev-root-token-id=root -dev-listen-address=127.0.0.1:8200 -dev-ha -dev-transactional`\n"
   ]
  },
  {
   "cell_type": "markdown",
   "metadata": {},
   "source": [
    "## Setup\n",
    "\n"
   ]
  },
  {
   "cell_type": "code",
   "execution_count": 3,
   "metadata": {},
   "outputs": [],
   "source": [
    "export VAULT_ADDR=http://127.0.0.1:8200\n",
    "export VAULT_SKIP_VERIFY=true"
   ]
  },
  {
   "cell_type": "code",
   "execution_count": 4,
   "metadata": {},
   "outputs": [
    {
     "name": "stdout",
     "output_type": "stream",
     "text": [
      "\u001b[0mSuccess! You are now authenticated. The token information displayed below\n",
      "is already stored in the token helper. You do NOT need to run \"vault login\"\n",
      "again. Future Vault requests will automatically use this token.\n",
      "\u001b[0m\n",
      "\u001b[0mKey                  Value\n",
      "---                  -----\n",
      "token                root\n",
      "token_accessor       dRq6usE3NFp7vjYtgtH8uqQv\n",
      "token_duration       ∞\n",
      "token_renewable      false\n",
      "token_policies       [\"root\"]\n",
      "identity_policies    []\n",
      "policies             [\"root\"]\u001b[0m\n"
     ]
    }
   ],
   "source": [
    "vault login root"
   ]
  },
  {
   "cell_type": "code",
   "execution_count": null,
   "metadata": {},
   "outputs": [],
   "source": [
    "vault status; vault version"
   ]
  },
  {
   "cell_type": "markdown",
   "metadata": {},
   "source": [
    "## Create Policy"
   ]
  },
  {
   "cell_type": "code",
   "execution_count": null,
   "metadata": {},
   "outputs": [],
   "source": [
    "# Work with kv secrets engine\n",
    "\n",
    "cat << EOF > /tmp/static.hcl\n",
    "\n",
    "path \"secret2/*\" {\n",
    "  capabilities = [ \"create\", \"read\", \"update\", \"delete\", \"list\" ]\n",
    "}\n",
    "\n",
    "path \"secret1/*\" {\n",
    "  capabilities = [ \"create\", \"read\", \"update\", \"delete\", \"list\" ]\n",
    "}\n",
    "\n",
    "EOF"
   ]
  },
  {
   "cell_type": "code",
   "execution_count": null,
   "metadata": {},
   "outputs": [],
   "source": [
    "cat << EOF > /tmp/static.json\n",
    "{\n",
    "\"policy\": \"\n",
    "   {\n",
    "    \\\"path\\\" : {\n",
    "           \\\"secret1/*\\\" : { \\\"capabilities\\\" : [ \\\"create\\\", \\\"read\\\", \\\"update\\\", \\\"delete\\\", \\\"list\\\"] },\n",
    "           \\\"secret2/*\\\" : { \\\"capabilities\\\" : [ \\\"create\\\", \\\"read\\\", \\\"update\\\", \\\"delete\\\", \\\"list\\\"] }\n",
    "           }\n",
    "  }\n",
    "  \"\n",
    "}\n",
    "EOF"
   ]
  },
  {
   "cell_type": "code",
   "execution_count": 7,
   "metadata": {},
   "outputs": [],
   "source": [
    "# Work with kv secrets engine\n",
    "\n",
    "cat << EOF > /tmp/dynamic.hcl\n",
    "\n",
    "path \"secret1/*\" {\n",
    "  capabilities = [ \"create\", \"read\", \"update\", \"delete\", \"list\" ]\n",
    "}\n",
    "\n",
    "path \"mdb1/*\" {\n",
    "  capabilities = [ \"create\", \"read\", \"update\", \"delete\", \"list\" ]\n",
    "}\n",
    "\n",
    "EOF"
   ]
  },
  {
   "cell_type": "code",
   "execution_count": null,
   "metadata": {},
   "outputs": [],
   "source": [
    "cat << EOF > /tmp/sys-policy.json\n",
    "{\n",
    "# Configure the ad secrets engine and create roles\n",
    "path \"ad/*\" {\n",
    "  capabilities = [ \"create\", \"read\", \"update\", \"delete\", \"list\" ]\n",
    "}\n",
    "\n",
    "# Mount secrets engines\n",
    "path \"sys/mounts/*\" {\n",
    "  capabilities = [ \"create\", \"read\", \"update\", \"delete\", \"list\" ]\n",
    "}\n",
    "\n",
    "# Write ACL policies\n",
    "path \"sys/policies/acl/*\" {\n",
    "  capabilities = [ \"create\", \"read\", \"update\", \"delete\", \"list\" ]\n",
    "}\n",
    "\n",
    "# Manage tokens for verification\n",
    "path \"auth/token/create\" {\n",
    "  capabilities = [ \"create\", \"read\", \"update\", \"delete\", \"list\" ]\n",
    "}\n",
    "\n",
    "# Manage the leases\n",
    "path \"sys/leases/*\" {\n",
    "  capabilities = [ \"create\", \"read\", \"update\", \"delete\", \"list\" ]\n",
    "}\n",
    "EOF"
   ]
  },
  {
   "cell_type": "markdown",
   "metadata": {},
   "source": [
    "\n",
    "**Note:** in *key/value secret engine 2*, the path to write policy would be **kv/data/\\<path\\>** even though the CLI command to the path is **kv/\\<path\\>**"
   ]
  },
  {
   "cell_type": "markdown",
   "metadata": {},
   "source": [
    "### Policy CLI Commands\n",
    "```\n",
    "vault policy list|read|write|delete [options]\n",
    "```"
   ]
  },
  {
   "cell_type": "code",
   "execution_count": null,
   "metadata": {},
   "outputs": [],
   "source": [
    "vault secrets enable -path=secret2/ kv-v2"
   ]
  },
  {
   "cell_type": "code",
   "execution_count": 5,
   "metadata": {},
   "outputs": [
    {
     "name": "stdout",
     "output_type": "stream",
     "text": [
      "\u001b[91mError opening policy file: open /tmp/static.hcl: no such file or directory\u001b[0m\n"
     ]
    }
   ],
   "source": [
    "vault policy write static-policy /tmp/static.hcl"
   ]
  },
  {
   "cell_type": "code",
   "execution_count": null,
   "metadata": {},
   "outputs": [],
   "source": [
    "curl --header \"X-Vault-Token: root\" --request PUT \\\n",
    "  --data @/tmp/static.json \\\n",
    "  $VAULT_ADDR/v1/sys/policy/staticjs-policy"
   ]
  },
  {
   "cell_type": "code",
   "execution_count": 8,
   "metadata": {},
   "outputs": [
    {
     "name": "stdout",
     "output_type": "stream",
     "text": [
      "\u001b[0mSuccess! Uploaded policy: dynamic-policy\u001b[0m\n"
     ]
    }
   ],
   "source": [
    "vault policy write dynamic-policy /tmp/dynamic.hcl"
   ]
  },
  {
   "cell_type": "code",
   "execution_count": null,
   "metadata": {},
   "outputs": [],
   "source": [
    "vault policy read dynamic-policy"
   ]
  },
  {
   "cell_type": "code",
   "execution_count": null,
   "metadata": {},
   "outputs": [],
   "source": [
    "vault policy list"
   ]
  },
  {
   "cell_type": "markdown",
   "metadata": {},
   "source": [
    "**Using cURL**"
   ]
  },
  {
   "cell_type": "code",
   "execution_count": null,
   "metadata": {},
   "outputs": [],
   "source": [
    "curl -s --header \"X-Vault-Token: $(vault print token)\"\\\n",
    "  $VAULT_ADDR/v1/sys/policy | jq"
   ]
  },
  {
   "cell_type": "markdown",
   "metadata": {},
   "source": [
    "## Associating Policies\n",
    "\n",
    "During the configuration of users, roles, entities, and groups a list of policies can be specified\n",
    "```\n",
    "vault write auth/ldap/groups/sre policies=\"dev, ops\"\n",
    "```\n",
    "Another example:\n",
    "```vault write auth/userpass/users/tbagio password=\"s3cr3t\" policies=\"base\""
   ]
  },
  {
   "cell_type": "code",
   "execution_count": null,
   "metadata": {},
   "outputs": [],
   "source": [
    "vault write auth/userpass/users/tbagio password=\"r31nsta11\" policies=\"base\""
   ]
  },
  {
   "cell_type": "markdown",
   "metadata": {},
   "source": [
    "#### Create a token attached to the newly *base* policy"
   ]
  },
  {
   "cell_type": "code",
   "execution_count": null,
   "metadata": {},
   "outputs": [],
   "source": [
    "vault token create -policy=\"foo\""
   ]
  },
  {
   "cell_type": "markdown",
   "metadata": {},
   "source": [
    "**Note:** every token automatically gets *default* policy attached."
   ]
  },
  {
   "cell_type": "code",
   "execution_count": null,
   "metadata": {},
   "outputs": [],
   "source": [
    "unset VAULT_TOKEN\n",
    "vault login \"s.CO6TDYdpsgE4I4MzmpAvXNf4\""
   ]
  },
  {
   "cell_type": "markdown",
   "metadata": {},
   "source": [
    "---\n",
    "## Test \"base\" Policy\n",
    "\n",
    "Using base token, you have very limited permissions."
   ]
  },
  {
   "cell_type": "code",
   "execution_count": null,
   "metadata": {},
   "outputs": [],
   "source": [
    "vault policy list"
   ]
  },
  {
   "cell_type": "markdown",
   "metadata": {},
   "source": [
    "Using base token, you have very limited permissions.  THe base policy does not have a rule on `sys/policy` path.  Lack of policy means **no permission** on that path.  Therefore, \"permission denied\" error is the expected behavior."
   ]
  },
  {
   "cell_type": "code",
   "execution_count": null,
   "metadata": {},
   "outputs": [],
   "source": [
    "vault kv put secret2/training_test password=\"p@ssw0rd\""
   ]
  },
  {
   "cell_type": "markdown",
   "metadata": {},
   "source": [
    "#### Read the data back"
   ]
  },
  {
   "cell_type": "code",
   "execution_count": null,
   "metadata": {},
   "outputs": [],
   "source": [
    "vault kv get secret2/training_test"
   ]
  },
  {
   "cell_type": "markdown",
   "metadata": {},
   "source": [
    "#### Base policy only granst \"create\" and \"read\".  With the absence of \"update\" permission, this operation fails."
   ]
  },
  {
   "cell_type": "code",
   "execution_count": null,
   "metadata": {},
   "outputs": [],
   "source": [
    "vault kv put secret2/training_test password=\"password1234\""
   ]
  },
  {
   "cell_type": "code",
   "execution_count": null,
   "metadata": {},
   "outputs": [],
   "source": [
    "vault kv put secret2/team-eng/apikey api_key=\"123455\""
   ]
  },
  {
   "cell_type": "code",
   "execution_count": null,
   "metadata": {},
   "outputs": [],
   "source": [
    "vault kv delete secret2/team-eng/apikey"
   ]
  },
  {
   "cell_type": "code",
   "execution_count": null,
   "metadata": {},
   "outputs": [],
   "source": [
    "vault kv put secret2/training_ year=\"2020\""
   ]
  },
  {
   "cell_type": "markdown",
   "metadata": {},
   "source": [
    "&nbsp;   \n",
    "### Check Token capabilities\n",
    "The `vault token capabilities` command fetches the capabilities of a token for a given path.  You can review the policy, but if your token has multiple policies attached, you have to review all the associated policies which can get troublesome."
   ]
  },
  {
   "cell_type": "code",
   "execution_count": null,
   "metadata": {},
   "outputs": [],
   "source": [
    "vault token capabilities secret2/data/apikey"
   ]
  },
  {
   "cell_type": "code",
   "execution_count": null,
   "metadata": {},
   "outputs": [],
   "source": [
    "vault token capabilities secret2/data/splunk/apikey"
   ]
  },
  {
   "cell_type": "markdown",
   "metadata": {},
   "source": [
    "#### Try another path that is not permitted by the `base` policy"
   ]
  },
  {
   "cell_type": "code",
   "execution_count": null,
   "metadata": {},
   "outputs": [],
   "source": [
    "vault token capabilities secret2/data/test"
   ]
  },
  {
   "cell_type": "code",
   "execution_count": null,
   "metadata": {},
   "outputs": [],
   "source": [
    "vault login root >/dev/null\n",
    "vault token capabilities secret2/data/test"
   ]
  },
  {
   "cell_type": "markdown",
   "metadata": {},
   "source": [
    "---\n",
    "### Policy for Policies\n",
    "To allow users to be able to manage policies, you need to write policies for that"
   ]
  },
  {
   "cell_type": "code",
   "execution_count": null,
   "metadata": {},
   "outputs": [],
   "source": [
    "cat << EOF > /tmp/manage-policies.hcl\n",
    "\n",
    "path \"sys/policies/acl/*\" {\n",
    "  capabilities = [\"create\", \"read\", \"update\", \"delete\", \"list\", \"sudo\"]\n",
    "}\n",
    "# Create and manage ACL policies via API\n",
    "path \"sys/policies/acl\" {\n",
    "  capabilities = [\"list\"]\n",
    "}\n",
    "EOF"
   ]
  },
  {
   "cell_type": "markdown",
   "metadata": {},
   "source": [
    "&nbsp;\n",
    "\n",
    "---\n",
    "#### Thank you.\n",
    "<img src=images/HashiCorp_PrimaryLogo_Black_RGB.png width=100 align=\"left\">"
   ]
  }
 ],
 "metadata": {
  "kernelspec": {
   "display_name": "Z shell",
   "language": "zsh",
   "name": "zsh"
  },
  "language_info": {
   "codemirror_mode": "shell",
   "file_extension": ".zsh",
   "mimetype": "text/x-zsh",
   "name": "zsh",
   "pygments_lexer": "shell",
   "version": "5.7.1"
  }
 },
 "nbformat": 4,
 "nbformat_minor": 4
}
