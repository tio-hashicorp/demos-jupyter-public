{
 "cells": [
  {
   "cell_type": "markdown",
   "metadata": {},
   "source": [
    "<img src=images/HashiCorp_PrimaryLogo_Black_RGB.png width=150 align=\"right\">\n",
    "<img src=images/Acme.jpeg width=100 align=\"left\">"
   ]
  },
  {
   "cell_type": "markdown",
   "metadata": {},
   "source": [
    "<a id =1></a>\n",
    "## Encryption as a Service / Cryptography as a Service / Transit Secrets Engine\n",
    "\n",
    "\n",
    "## Business Values:\n",
    " * Enables security teams to fortify data during transit and at rest\n",
    " * Relieve the burden of proper encryption/decryption from application developers\n",
    " * Sign adn Verify data; generate hashes and HMACs of data and act as a source of random bytes\n",
    " * If an intrusion occurs, your data is encrypted with **AES 256-bit GCM** encryption\n",
    " * A centrally managed resource that can encrypt any data for the organization at scale\n",
    " * High performance - Vault will encrypt at higher rates (20K+ requests/sec) than the cloud providers solutions.\n",
    " \n",
    "<img src=images/EncryptionAsaService.png width=900>\n",
    "Transit Secret Engine supports a number of key types and some support signing and signature verification.\n",
    "\n",
    "| Key Type |  Description |\n",
    "|----------|--------------|\n",
    "| aes128-gcm96 | AES-GCM with a 128-bit AES key and a 96-bit nonce |\n",
    "| aes256-gcm96 | AES-GCM with a 256-bit AES key and a 96-bit nonce (**default**) |\n",
    "| chachca20-poly1305 | ChaCha20-Poly1305 with a 256-bit key |\n",
    "| ed25519 | ED 25519 |\n",
    "|ecdsa-p256 | ECDSA using the P-256 elliptic curve |\n",
    "|ecdsa-p256 | ECDSA using the P-384 elliptic curve |\n",
    "|ecdsa-p521 | ECDSA using the P-521 elliptic curve |\n",
    "| rsa-2048 | 2048-bit RSA key |\n",
    "| rsa-3072 | 3072-bit RSA key |\n",
    "| rsa-4096 | 4096-bit RSA key "
   ]
  },
  {
   "cell_type": "markdown",
   "metadata": {},
   "source": [
    "### Vault Setup\n",
    "\n",
    "### Prerequisites\n",
    "* Running Vault Enterprise instance (in dev mode) \n"
   ]
  },
  {
   "cell_type": "code",
   "execution_count": null,
   "metadata": {},
   "outputs": [],
   "source": [
    "export VAULT_ADDR=http://127.0.0.1:8200\n",
    "export VAULT_SKIP_VERIFY=true"
   ]
  },
  {
   "cell_type": "code",
   "execution_count": null,
   "metadata": {},
   "outputs": [],
   "source": [
    "vault login root"
   ]
  },
  {
   "cell_type": "markdown",
   "metadata": {},
   "source": [
    "---\n",
    "### Enable the Transit Secret Engine\n"
   ]
  },
  {
   "cell_type": "code",
   "execution_count": null,
   "metadata": {},
   "outputs": [],
   "source": [
    "vault secrets enable transit"
   ]
  },
  {
   "cell_type": "markdown",
   "metadata": {},
   "source": [
    "\n",
    "### Create an Encryption Key Ring"
   ]
  },
  {
   "cell_type": "code",
   "execution_count": null,
   "metadata": {},
   "outputs": [],
   "source": [
    "vault write -f  transit/keys/orders #type=rsa-2048"
   ]
  },
  {
   "cell_type": "code",
   "execution_count": null,
   "metadata": {},
   "outputs": [],
   "source": [
    "vault read transit/keys/orders"
   ]
  },
  {
   "cell_type": "code",
   "execution_count": null,
   "metadata": {},
   "outputs": [],
   "source": [
    "vault write -f transit/keys/orders/rotate"
   ]
  },
  {
   "cell_type": "code",
   "execution_count": null,
   "metadata": {},
   "outputs": [],
   "source": [
    "vault  read transit/export/encryption-key/orders"
   ]
  },
  {
   "cell_type": "markdown",
   "metadata": {},
   "source": [
    "### Update key configurations\n",
    "See a list of configurations using `vault read transit/keys/<keyname>` above"
   ]
  },
  {
   "cell_type": "code",
   "execution_count": null,
   "metadata": {},
   "outputs": [],
   "source": [
    "vault write transit/keys/orders/config deletion_allowed=true exportable=true"
   ]
  },
  {
   "cell_type": "code",
   "execution_count": null,
   "metadata": {},
   "outputs": [],
   "source": [
    "vault delete transit/keys/orders"
   ]
  },
  {
   "cell_type": "markdown",
   "metadata": {},
   "source": [
    "---\n",
    "### Encrypt Secrets\n",
    "\n",
    "##### Note: Plaintext must be **base64-encoded** before it can be encrypted."
   ]
  },
  {
   "cell_type": "code",
   "execution_count": null,
   "metadata": {},
   "outputs": [],
   "source": [
    "PLAIN=\"This is my demo secret\"\n",
    "echo \"Plaintext: \"$PLAIN"
   ]
  },
  {
   "cell_type": "code",
   "execution_count": null,
   "metadata": {},
   "outputs": [],
   "source": [
    "PLAINTEXT64=$(base64 <<< \"$PLAIN\")\n",
    "echo \"Plaintext in base64: \" $PLAINTEXT64"
   ]
  },
  {
   "cell_type": "code",
   "execution_count": null,
   "metadata": {},
   "outputs": [],
   "source": [
    "vault write transit/encrypt/orders  plaintext=$PLAINTEXT64  #key_version=0"
   ]
  },
  {
   "cell_type": "markdown",
   "metadata": {},
   "source": [
    "**Note:** Vault does **NOT** store any of this data.  The output you received is ciphertext.  You can store this ciphertext at the desired location (e.g. mysql database) or pass it to your application.\n",
    "\n",
    "We'll copy the value of ciphertext and refer to it later as \"\\<ciphertext\\>\"\n",
    "    \n",
    "Here's another way to encrypt using API (you can always use -output-curl-string)\n"
   ]
  },
  {
   "cell_type": "code",
   "execution_count": null,
   "metadata": {},
   "outputs": [],
   "source": [
    "CIPHERTEXT=$(curl -s --header \"X-Vault-Token: $(vault print token)\" \\\n",
    "       --request POST \\\n",
    "       --data '{\"plaintext\": \"'\"${PLAINTEXT64}\"'\"}' \\\n",
    "       http://127.0.0.1:8200/v1/transit/encrypt/orders | jq -r '.data.ciphertext')\n",
    "\n",
    "echo \"Ciphertext: ${CIPHERTEXT}\""
   ]
  },
  {
   "cell_type": "markdown",
   "metadata": {},
   "source": [
    "---\n",
    "### Decrypt Ciphertext"
   ]
  },
  {
   "cell_type": "code",
   "execution_count": null,
   "metadata": {},
   "outputs": [],
   "source": [
    "vault write transit/decrypt/orders ciphertext=\"vault:v1:2zV2ryzMkhjhhD743eRfOfuM4ik+pxn2K4GR+yQeJM+2jByBT6/YFWwkPN/6chdoSOBG\""
   ]
  },
  {
   "cell_type": "markdown",
   "metadata": {},
   "source": [
    "\\\n",
    "Take the above output `plaintext` and execute a command\n",
    "```\n",
    "    base64 --decode <<< \"<plaintext>\"\n",
    "```"
   ]
  },
  {
   "cell_type": "code",
   "execution_count": null,
   "metadata": {},
   "outputs": [],
   "source": [
    "base64 --decode <<< \"VGhpcyBpcyBteSBkZW1vIHNlY3JldAo=\""
   ]
  },
  {
   "cell_type": "markdown",
   "metadata": {},
   "source": [
    "&nbsp;"
   ]
  },
  {
   "cell_type": "code",
   "execution_count": null,
   "metadata": {},
   "outputs": [],
   "source": [
    "DECIPHER=$(curl -s --header \"X-Vault-Token: $(vault print token)\" \\\n",
    "     --request POST \\\n",
    "     --data '{\"ciphertext\": \"'\"${CIPHERTEXT}\"'\"}' \\\n",
    "    http://127.0.0.1:8200/v1/transit/decrypt/orders | jq -r '.data.plaintext')\n",
    "\n",
    "\n",
    "echo \"Plaintext in Base 64 : ${DECIPHER}\\n\"\n",
    "echo \"Plaintext : \"\n",
    "echo \"${DECIPHER}\" | base64 --decode"
   ]
  },
  {
   "cell_type": "markdown",
   "metadata": {},
   "source": [
    "---\n",
    "### Rotate the Encryption key\n",
    "\n",
    "One of the benefits of using the Vault transit secrets engine is its ability to easily rotate encryption keys. Keys can be rotated manually by a human or by an automated process."
   ]
  },
  {
   "cell_type": "code",
   "execution_count": null,
   "metadata": {},
   "outputs": [],
   "source": [
    "vault write -f transit/keys/orders/rotate"
   ]
  },
  {
   "cell_type": "code",
   "execution_count": null,
   "metadata": {},
   "outputs": [],
   "source": [
    "vault write transit/encrypt/orders plaintext=$(base64 <<< \"$PLAIN\")"
   ]
  },
  {
   "cell_type": "code",
   "execution_count": null,
   "metadata": {},
   "outputs": [],
   "source": [
    "## Encrypt using the http api \n",
    "CIPHERTEXT2=$(curl -s --header \"X-Vault-Token: $(vault print token)\" \\\n",
    "       --request POST \\\n",
    "       --data '{\"plaintext\": \"'\"${PLAINTEXT64}\"'\"}' \\\n",
    "       http://127.0.0.1:8200/v1/transit/encrypt/orders | jq -r '.data.ciphertext')\n",
    "\n",
    "echo \"Ciphertext after Rotation: ${CIPHERTEXT2}\\n\"\n",
    "echo \"Cipherext before Rotation: ${CIPHERTEXT}\""
   ]
  },
  {
   "cell_type": "markdown",
   "metadata": {},
   "source": [
    "##### Notice that the first ciphertext starts with \" vault:v1: \". After rotating the encryption key, the ciphertext starts with \" vault:v2: \". This indicates that the data gets encrypted using the latest version of the key after the rotation"
   ]
  },
  {
   "cell_type": "markdown",
   "metadata": {},
   "source": [
    "&nbsp;\n",
    "### Rewrap the older version of ciphertext\n"
   ]
  },
  {
   "cell_type": "code",
   "execution_count": null,
   "metadata": {},
   "outputs": [],
   "source": [
    "REWRAP_CIPHERTEXT=$(curl -s --header \"X-Vault-Token: $(vault print token)\" \\\n",
    "   --request POST \\\n",
    "   --data '{\"ciphertext\": \"'\"${CIPHERTEXT}\"'\" }' \\\n",
    "   http://127.0.0.1:8200/v1/transit/rewrap/orders | jq -r '.data.ciphertext')\n",
    "   \n",
    "\n",
    "echo \"Original Ciphertext: ${CIPHERTEXT}\\n\"\n",
    "echo \"Rewrapped Ciphertext: ${REWRAP_CIPHERTEXT}\\n\"\n"
   ]
  },
  {
   "cell_type": "markdown",
   "metadata": {},
   "source": [
    "#### Note that the rewrapped ciphertext has a **'v2'** in it. "
   ]
  },
  {
   "cell_type": "markdown",
   "metadata": {},
   "source": [
    "### Update Key Configuration\n",
    "\n",
    "A Vault admin can update the encryption key configuration to specify the minimum version of ciphertext allowed to be decrypted,  \n",
    "the minimum version of the key that can be used to encrypt the plaintext, and if the key is allowed to be deleted, etc. for _**increased security**_."
   ]
  },
  {
   "cell_type": "markdown",
   "metadata": {},
   "source": [
    "### Rotate keys a few times (more versions)"
   ]
  },
  {
   "cell_type": "code",
   "execution_count": null,
   "metadata": {},
   "outputs": [],
   "source": [
    "export VAULT_TOKEN=root\n",
    "vault write -f transit/keys/orders/rotate"
   ]
  },
  {
   "cell_type": "markdown",
   "metadata": {},
   "source": [
    "### Read the order key information back"
   ]
  },
  {
   "cell_type": "code",
   "execution_count": null,
   "metadata": {
    "scrolled": true
   },
   "outputs": [],
   "source": [
    "vault read transit/keys/orders"
   ]
  },
  {
   "cell_type": "markdown",
   "metadata": {},
   "source": [
    "##### The current version of the key is 7.  There is no restriction about the minimum key version and any of the key versions can decrypt the data (min_decyption_version)"
   ]
  },
  {
   "cell_type": "markdown",
   "metadata": {},
   "source": [
    "### Set a Minimum Decryption Version"
   ]
  },
  {
   "cell_type": "code",
   "execution_count": null,
   "metadata": {},
   "outputs": [],
   "source": [
    "vault write transit/keys/orders/config min_decryption_version=5"
   ]
  },
  {
   "cell_type": "markdown",
   "metadata": {},
   "source": [
    "### Read the new Key Configuration"
   ]
  },
  {
   "cell_type": "code",
   "execution_count": null,
   "metadata": {},
   "outputs": [],
   "source": [
    "vault read transit/keys/orders"
   ]
  },
  {
   "cell_type": "code",
   "execution_count": null,
   "metadata": {},
   "outputs": [],
   "source": [
    "vault write transit/keys/orders/config min_decryption_version=2"
   ]
  },
  {
   "cell_type": "markdown",
   "metadata": {},
   "source": [
    "&nbsp;\n",
    "##### What happen to those ciphertext that were encrypted with v1, v2, or v3 of the key?\n",
    "Answer:  Vault would refuse to decrypt the data as the key used is less than the minimum key version allowed."
   ]
  },
  {
   "cell_type": "code",
   "execution_count": null,
   "metadata": {},
   "outputs": [],
   "source": [
    "vault read transit/keys/orders"
   ]
  },
  {
   "cell_type": "markdown",
   "metadata": {},
   "source": [
    "---\n",
    "## Data Key\n",
    "  \n",
    "**Use case:** you have a large (say 2GB) base64 blob that needs to be encrypted.  You dont want to send large data over the network and receive encrypted data back.  Generate a data key to encrypt data **locally**.  Likewise, use the same data key to decrypt data locally when needed. "
   ]
  },
  {
   "cell_type": "code",
   "execution_count": null,
   "metadata": {},
   "outputs": [],
   "source": [
    "vault write -f transit/datakey/plaintext/orders"
   ]
  },
  {
   "cell_type": "markdown",
   "metadata": {},
   "source": [
    "**Note:**  Use the plaintext to ecnrypt your blob.  Store the ciphertext of your data key whereever you want, incl key/value secrets engine."
   ]
  },
  {
   "cell_type": "markdown",
   "metadata": {},
   "source": [
    "### Use openssl to encrypt and decrypt data using the generated data key"
   ]
  },
  {
   "cell_type": "code",
   "execution_count": null,
   "metadata": {},
   "outputs": [],
   "source": [
    "echo \"b2R5jAUa92id30O3wmjZj8DVoWpdSklViYKN1pW3RNY=\" > /tmp/key.bin"
   ]
  },
  {
   "cell_type": "code",
   "execution_count": null,
   "metadata": {},
   "outputs": [],
   "source": [
    "rm /tmp/hello.enc /tmp/hello.in /tmp/hello.out; echo \"hello world\" > /tmp/hello.in;"
   ]
  },
  {
   "cell_type": "code",
   "execution_count": null,
   "metadata": {},
   "outputs": [],
   "source": [
    "openssl enc -aes-256-cbc -salt -in /tmp/hello.in -out /tmp/hello.enc -pass file:/tmp/key.bin"
   ]
  },
  {
   "cell_type": "code",
   "execution_count": null,
   "metadata": {},
   "outputs": [],
   "source": [
    "openssl enc -d -aes-256-cbc -salt -in /tmp/hello.enc -out /tmp/hello.out  -pass file:/tmp/key.bin"
   ]
  },
  {
   "cell_type": "code",
   "execution_count": null,
   "metadata": {},
   "outputs": [],
   "source": [
    "cat /tmp/hello.in \n",
    "#cat /tmp/hello.enc \n",
    "cat /tmp/hello.out"
   ]
  },
  {
   "cell_type": "markdown",
   "metadata": {},
   "source": [
    "&nbsp;   \n",
    "**Misc: Generate Random bytes of certain length**"
   ]
  },
  {
   "cell_type": "code",
   "execution_count": null,
   "metadata": {},
   "outputs": [],
   "source": [
    "curl -s --header \"X-Vault-Token: $(vault print token)\" \\\n",
    "   --request POST \\\n",
    "   http://127.0.0.1:8200/v1/transit/random/10 |jq"
   ]
  },
  {
   "cell_type": "code",
   "execution_count": null,
   "metadata": {},
   "outputs": [],
   "source": [
    "echo \"aGVsbG8gd29ybGQ=\" |base64 --decode"
   ]
  },
  {
   "cell_type": "code",
   "execution_count": null,
   "metadata": {},
   "outputs": [],
   "source": [
    "curl -s --header \"X-Vault-Token: $(vault print token)\" \\\n",
    "   --request POST \\\n",
    "   http://127.0.0.1:8200/v1/transit/cache-config |jq"
   ]
  },
  {
   "cell_type": "markdown",
   "metadata": {},
   "source": [
    "vault write transit/encrypt/orders plaintext=$PLAINTEXT64#### Create another Encryption Key Ring"
   ]
  },
  {
   "cell_type": "markdown",
   "metadata": {},
   "source": [
    "---\n",
    "### Sign and Validate data\n",
    "Consider a time where you want to ensure the data came from a trusted source.  You don't care who can read the data, but you care about the source of the data.   In such case, you use data signing instead of encryption.\n",
    "\n",
    "see https://www.vaultproject.io/api-docs/secret/transit#create-key\n"
   ]
  },
  {
   "cell_type": "code",
   "execution_count": null,
   "metadata": {},
   "outputs": [],
   "source": [
    "vault write transit/keys/newsletter type=\"rsa-4096\""
   ]
  },
  {
   "cell_type": "code",
   "execution_count": null,
   "metadata": {},
   "outputs": [],
   "source": [
    "vault write transit/sign/newsletter input=$(base64 <<< \"$PLAIN\")"
   ]
  },
  {
   "cell_type": "code",
   "execution_count": null,
   "metadata": {},
   "outputs": [],
   "source": [
    "# replace <signature> with the real data\n",
    "vault write transit/verify/newsletter input=$(base64 <<< \"$PLAIN\") \\\n",
    "   signature=\"vault:v1:T1k9d5jbWYMm+GmBEYfPVWvpPSMMrzIFmU39RTrUe3meVq/LCee1lzcWCGwFOIofbA93vKJce/1Zx3lFAV+mN7Gp7hFbap1NfK964q/cbh759CEbZIE4sNt2t3ke1cXpeFJZ73KQgBzr/teZ3zrVNGJrtgAVSbo2mLoxkdjrkhymJFlqsyK2wxeLn+hCbahsI/QOYCBnlkUo1HsoMQx9DVjU2corOMDYnhHcniNsW5WGqIGive6Wet3d9lbKrKiP5EMn7MYhUrZ/xOcLErU4Th5YQWjSYj+tkpSWp6i2yR0Rgaw+6TLf5eieqHRYXvL9qJeWWt2ao4f3nUm6+40nQDPQVsF6hk0ihjb4dlYBKc5gO/mkqfCGftcoayJqujQ62535sLbCGmZObcb27CrPDi7GzBcdySh0z48tCQlerMPFk74lhnj2Yh4r+TonQXdCy6lr4PR+8hfv1edntImGQdcOmtzhwo/NnCeNKLO68XeoCYL3XJm1LKQIb56e5d7CwoEb1bfj349F4ZGNO2xsIHxqrUt5DqRg0g29bxCnnTI3/OcDEJJOZtop0Bd6srqLmYcG3LRacO9watORbC50s9XG6wkuQMJ8EP2kDoN2Bh+vFF2+BKQsX+JOc/wS1eTDEXU/UtN+Nw6aP8jSQjNbO7+ASJjabecOemSyOw+cED0=\""
   ]
  },
  {
   "cell_type": "markdown",
   "metadata": {},
   "source": [
    "---\n",
    "### Encrypt data via web UI\n",
    "\n",
    "Open a browser and visit http://127.0.0.1:8200\n"
   ]
  },
  {
   "cell_type": "code",
   "execution_count": null,
   "metadata": {},
   "outputs": [],
   "source": [
    "vault delete transit/keys/newsletter"
   ]
  },
  {
   "cell_type": "markdown",
   "metadata": {},
   "source": [
    "&nbsp;\n",
    "\n",
    "---\n",
    "#### Thank you.\n",
    "<img src=images/HashiCorp_PrimaryLogo_Black_RGB.png width=100 align=\"left\">"
   ]
  }
 ],
 "metadata": {
  "kernelspec": {
   "display_name": "Z shell",
   "language": "zsh",
   "name": "zsh"
  },
  "language_info": {
   "codemirror_mode": "shell",
   "file_extension": ".zsh",
   "mimetype": "text/x-zsh",
   "name": "zsh",
   "pygments_lexer": "shell",
   "version": "5.7.1"
  }
 },
 "nbformat": 4,
 "nbformat_minor": 4
}
