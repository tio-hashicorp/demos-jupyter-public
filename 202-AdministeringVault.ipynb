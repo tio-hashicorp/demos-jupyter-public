{
 "cells": [
  {
   "cell_type": "markdown",
   "metadata": {},
   "source": [
    "<img align=right src=images/HashiCorp_PrimaryLogo_Black_RGB.png width=150>\n",
    "<img src=images/acme.jpeg width=100 align=left>"
   ]
  },
  {
   "cell_type": "markdown",
   "metadata": {},
   "source": [
    "# Vault Setup (dev mode)\n",
    "\n",
    "**\"Dev\"** mode is a pre-configured server\n",
    "* useful for local development, testing, and exploration\n",
    "* not very secure\n",
    "* in-memory\n",
    "* Vault is automatically unsealed\n",
    "* can optionally set the initial root token\n",
    "\n",
    "\n",
    "Prereq: \n",
    "You need to have Vault binary\n",
    "\n",
    "\n",
    "Command to execute (in separate windows):\n",
    "\n",
    "`VAULT_UI=true VAULT_REDIRECT_ADDR=http://127.0.0.1:8200 vault server -log-level=trace -dev -dev-root-token-id=root -dev-listen-address=127.0.0.1:8200 -dev-ha -dev-transactional`\n"
   ]
  },
  {
   "cell_type": "code",
   "execution_count": 2,
   "metadata": {},
   "outputs": [],
   "source": [
    "export VAULT_ADDR=http://127.0.0.1:8200\n",
    "export VAULT_SKIP_VERIFY=true"
   ]
  },
  {
   "cell_type": "code",
   "execution_count": 2,
   "metadata": {},
   "outputs": [
    {
     "name": "stdout",
     "output_type": "stream",
     "text": [
      "\u001b[0mVault v1.6.0 (7ce0bd9691998e0443bc77e98b1e2a4ab1e965d4)\u001b[0m\n"
     ]
    }
   ],
   "source": [
    "vault --version"
   ]
  },
  {
   "cell_type": "code",
   "execution_count": 9,
   "metadata": {},
   "outputs": [
    {
     "name": "stdout",
     "output_type": "stream",
     "text": [
      "\u001b[0mSuccess! You are now authenticated. The token information displayed below\n",
      "is already stored in the token helper. You do NOT need to run \"vault login\"\n",
      "again. Future Vault requests will automatically use this token.\n",
      "\u001b[0m\n",
      "\u001b[0mKey                  Value\n",
      "---                  -----\n",
      "token                root\n",
      "token_accessor       DX9mkWrAfEN0wRJaMBCuy6hN\n",
      "token_duration       ∞\n",
      "token_renewable      false\n",
      "token_policies       [\"root\"]\n",
      "identity_policies    []\n",
      "policies             [\"root\"]\u001b[0m\n"
     ]
    }
   ],
   "source": [
    "unset VAULT_TOKEN\n",
    "vault login root"
   ]
  },
  {
   "cell_type": "markdown",
   "metadata": {},
   "source": [
    "#### Note the Initialized and Sealed status above."
   ]
  },
  {
   "cell_type": "markdown",
   "metadata": {},
   "source": [
    "## Interacting with Vault\n",
    "\n",
    "Vault **HTTP API**\n",
    "* Full access to Vault via HTTP\n",
    "* Every aspect of Vault can be controlled via API\n",
    "\n",
    "\n",
    "Vault **CLI**\n",
    "* uses HTTP API to access Vault\n",
    "* it is a thin wrapper around the HTTP API\n",
    "* outputs are formatted\n",
    "\n",
    "**Note**: You should remember **-output-curl-string** CLI flag to find out the `curl` equivalent of CLI."
   ]
  },
  {
   "cell_type": "markdown",
   "metadata": {},
   "source": [
    "## Enable Audit Logging\n",
    "\n",
    "Audit backend keeps a detailed log of all requests and responses to Vault.  Sensitive information is **obfuscated** by default (HMAC)."
   ]
  },
  {
   "cell_type": "code",
   "execution_count": 6,
   "metadata": {},
   "outputs": [
    {
     "name": "stdout",
     "output_type": "stream",
     "text": [
      "\u001b[0mSuccess! Enabled the file audit device at: file/\u001b[0m\n"
     ]
    }
   ],
   "source": [
    "vault audit enable file file_path=/tmp/audit.log"
   ]
  },
  {
   "cell_type": "code",
   "execution_count": 3,
   "metadata": {},
   "outputs": [
    {
     "name": "stdout",
     "output_type": "stream",
     "text": [
      "\u001b[1;39m{\n",
      "  \u001b[0m\u001b[34;1m\"time\"\u001b[0m\u001b[1;39m: \u001b[0m\u001b[0;32m\"2020-12-24T07:24:23.030504Z\"\u001b[0m\u001b[1;39m,\n",
      "  \u001b[0m\u001b[34;1m\"type\"\u001b[0m\u001b[1;39m: \u001b[0m\u001b[0;32m\"response\"\u001b[0m\u001b[1;39m,\n",
      "  \u001b[0m\u001b[34;1m\"auth\"\u001b[0m\u001b[1;39m: \u001b[0m\u001b[1;39m{\n",
      "    \u001b[0m\u001b[34;1m\"client_token\"\u001b[0m\u001b[1;39m: \u001b[0m\u001b[0;32m\"hmac-sha256:43510274735afea704524fe636af99dfdd216b0ade274ae07eeb1044c6ccce32\"\u001b[0m\u001b[1;39m,\n",
      "    \u001b[0m\u001b[34;1m\"accessor\"\u001b[0m\u001b[1;39m: \u001b[0m\u001b[0;32m\"hmac-sha256:29a3538aa4c60394043cb9065977e6b7095420f6986aede129ebd2cc223ef5de\"\u001b[0m\u001b[1;39m,\n",
      "    \u001b[0m\u001b[34;1m\"display_name\"\u001b[0m\u001b[1;39m: \u001b[0m\u001b[0;32m\"token\"\u001b[0m\u001b[1;39m,\n",
      "    \u001b[0m\u001b[34;1m\"policies\"\u001b[0m\u001b[1;39m: \u001b[0m\u001b[1;39m[\n",
      "      \u001b[0;32m\"root\"\u001b[0m\u001b[1;39m\n",
      "    \u001b[1;39m]\u001b[0m\u001b[1;39m,\n",
      "    \u001b[0m\u001b[34;1m\"token_policies\"\u001b[0m\u001b[1;39m: \u001b[0m\u001b[1;39m[\n",
      "      \u001b[0;32m\"root\"\u001b[0m\u001b[1;39m\n",
      "    \u001b[1;39m]\u001b[0m\u001b[1;39m,\n",
      "    \u001b[0m\u001b[34;1m\"token_type\"\u001b[0m\u001b[1;39m: \u001b[0m\u001b[0;32m\"service\"\u001b[0m\u001b[1;39m,\n",
      "    \u001b[0m\u001b[34;1m\"token_issue_time\"\u001b[0m\u001b[1;39m: \u001b[0m\u001b[0;32m\"2020-12-24T15:23:11+08:00\"\u001b[0m\u001b[1;39m\n",
      "  \u001b[1;39m}\u001b[0m\u001b[1;39m,\n",
      "  \u001b[0m\u001b[34;1m\"request\"\u001b[0m\u001b[1;39m: \u001b[0m\u001b[1;39m{\n",
      "    \u001b[0m\u001b[34;1m\"id\"\u001b[0m\u001b[1;39m: \u001b[0m\u001b[0;32m\"31d40fbb-9be4-99ab-eeba-519a539b6360\"\u001b[0m\u001b[1;39m,\n",
      "    \u001b[0m\u001b[34;1m\"operation\"\u001b[0m\u001b[1;39m: \u001b[0m\u001b[0;32m\"update\"\u001b[0m\u001b[1;39m,\n",
      "    \u001b[0m\u001b[34;1m\"mount_type\"\u001b[0m\u001b[1;39m: \u001b[0m\u001b[0;32m\"system\"\u001b[0m\u001b[1;39m,\n",
      "    \u001b[0m\u001b[34;1m\"client_token\"\u001b[0m\u001b[1;39m: \u001b[0m\u001b[0;32m\"hmac-sha256:43510274735afea704524fe636af99dfdd216b0ade274ae07eeb1044c6ccce32\"\u001b[0m\u001b[1;39m,\n",
      "    \u001b[0m\u001b[34;1m\"client_token_accessor\"\u001b[0m\u001b[1;39m: \u001b[0m\u001b[0;32m\"hmac-sha256:29a3538aa4c60394043cb9065977e6b7095420f6986aede129ebd2cc223ef5de\"\u001b[0m\u001b[1;39m,\n",
      "    \u001b[0m\u001b[34;1m\"namespace\"\u001b[0m\u001b[1;39m: \u001b[0m\u001b[1;39m{\n",
      "      \u001b[0m\u001b[34;1m\"id\"\u001b[0m\u001b[1;39m: \u001b[0m\u001b[0;32m\"root\"\u001b[0m\u001b[1;39m\n",
      "    \u001b[1;39m}\u001b[0m\u001b[1;39m,\n",
      "    \u001b[0m\u001b[34;1m\"path\"\u001b[0m\u001b[1;39m: \u001b[0m\u001b[0;32m\"sys/audit/file\"\u001b[0m\u001b[1;39m,\n",
      "    \u001b[0m\u001b[34;1m\"data\"\u001b[0m\u001b[1;39m: \u001b[0m\u001b[1;39m{\n",
      "      \u001b[0m\u001b[34;1m\"description\"\u001b[0m\u001b[1;39m: \u001b[0m\u001b[0;32m\"hmac-sha256:37d76557af31a8b85a44e9f578593527d34a6a31e68541daa9fe3107362bc3d3\"\u001b[0m\u001b[1;39m,\n",
      "      \u001b[0m\u001b[34;1m\"local\"\u001b[0m\u001b[1;39m: \u001b[0m\u001b[0;39mfalse\u001b[0m\u001b[1;39m,\n",
      "      \u001b[0m\u001b[34;1m\"options\"\u001b[0m\u001b[1;39m: \u001b[0m\u001b[1;39m{\n",
      "        \u001b[0m\u001b[34;1m\"file_path\"\u001b[0m\u001b[1;39m: \u001b[0m\u001b[0;32m\"hmac-sha256:41e172dd72ebe5171f7e60268e613066ec2e52421ab57ca501cadd48a9923ffa\"\u001b[0m\u001b[1;39m\n",
      "      \u001b[1;39m}\u001b[0m\u001b[1;39m,\n",
      "      \u001b[0m\u001b[34;1m\"type\"\u001b[0m\u001b[1;39m: \u001b[0m\u001b[0;32m\"hmac-sha256:bf7fd7b27ccc29573d914077f5f5a7c7b996e97b3f7a667785232b4f16a99309\"\u001b[0m\u001b[1;39m\n",
      "    \u001b[1;39m}\u001b[0m\u001b[1;39m,\n",
      "    \u001b[0m\u001b[34;1m\"remote_address\"\u001b[0m\u001b[1;39m: \u001b[0m\u001b[0;32m\"127.0.0.1\"\u001b[0m\u001b[1;39m\n",
      "  \u001b[1;39m}\u001b[0m\u001b[1;39m,\n",
      "  \u001b[0m\u001b[34;1m\"response\"\u001b[0m\u001b[1;39m: \u001b[0m\u001b[1;39m{\n",
      "    \u001b[0m\u001b[34;1m\"mount_type\"\u001b[0m\u001b[1;39m: \u001b[0m\u001b[0;32m\"system\"\u001b[0m\u001b[1;39m\n",
      "  \u001b[1;39m}\u001b[0m\u001b[1;39m\n",
      "\u001b[1;39m}\u001b[0m\n"
     ]
    }
   ],
   "source": [
    "cat /tmp/audit.log |jq"
   ]
  },
  {
   "cell_type": "code",
   "execution_count": 8,
   "metadata": {},
   "outputs": [
    {
     "name": "stdout",
     "output_type": "stream",
     "text": [
      "\u001b[0mSuccess! Enabled the file audit device at: file-raw/\u001b[0m\n"
     ]
    }
   ],
   "source": [
    "vault audit enable -path=file-raw file file_path=/tmp/audit-raw.log log_raw=true"
   ]
  },
  {
   "cell_type": "code",
   "execution_count": 6,
   "metadata": {},
   "outputs": [
    {
     "name": "stdout",
     "output_type": "stream",
     "text": [
      "\u001b[1;39m{\n",
      "  \u001b[0m\u001b[34;1m\"time\"\u001b[0m\u001b[1;39m: \u001b[0m\u001b[0;32m\"2020-12-24T07:26:33.060622Z\"\u001b[0m\u001b[1;39m,\n",
      "  \u001b[0m\u001b[34;1m\"type\"\u001b[0m\u001b[1;39m: \u001b[0m\u001b[0;32m\"response\"\u001b[0m\u001b[1;39m,\n",
      "  \u001b[0m\u001b[34;1m\"auth\"\u001b[0m\u001b[1;39m: \u001b[0m\u001b[1;39m{\n",
      "    \u001b[0m\u001b[34;1m\"client_token\"\u001b[0m\u001b[1;39m: \u001b[0m\u001b[0;32m\"root\"\u001b[0m\u001b[1;39m,\n",
      "    \u001b[0m\u001b[34;1m\"accessor\"\u001b[0m\u001b[1;39m: \u001b[0m\u001b[0;32m\"fJ8e3QTuMKunEyab9ODjEA1M\"\u001b[0m\u001b[1;39m,\n",
      "    \u001b[0m\u001b[34;1m\"display_name\"\u001b[0m\u001b[1;39m: \u001b[0m\u001b[0;32m\"token\"\u001b[0m\u001b[1;39m,\n",
      "    \u001b[0m\u001b[34;1m\"policies\"\u001b[0m\u001b[1;39m: \u001b[0m\u001b[1;39m[\n",
      "      \u001b[0;32m\"root\"\u001b[0m\u001b[1;39m\n",
      "    \u001b[1;39m]\u001b[0m\u001b[1;39m,\n",
      "    \u001b[0m\u001b[34;1m\"token_policies\"\u001b[0m\u001b[1;39m: \u001b[0m\u001b[1;39m[\n",
      "      \u001b[0;32m\"root\"\u001b[0m\u001b[1;39m\n",
      "    \u001b[1;39m]\u001b[0m\u001b[1;39m,\n",
      "    \u001b[0m\u001b[34;1m\"token_type\"\u001b[0m\u001b[1;39m: \u001b[0m\u001b[0;32m\"service\"\u001b[0m\u001b[1;39m,\n",
      "    \u001b[0m\u001b[34;1m\"token_issue_time\"\u001b[0m\u001b[1;39m: \u001b[0m\u001b[0;32m\"2020-12-24T15:23:11+08:00\"\u001b[0m\u001b[1;39m\n",
      "  \u001b[1;39m}\u001b[0m\u001b[1;39m,\n",
      "  \u001b[0m\u001b[34;1m\"request\"\u001b[0m\u001b[1;39m: \u001b[0m\u001b[1;39m{\n",
      "    \u001b[0m\u001b[34;1m\"id\"\u001b[0m\u001b[1;39m: \u001b[0m\u001b[0;32m\"3cd1cf10-9fde-2390-897a-59a1fccc76c8\"\u001b[0m\u001b[1;39m,\n",
      "    \u001b[0m\u001b[34;1m\"operation\"\u001b[0m\u001b[1;39m: \u001b[0m\u001b[0;32m\"update\"\u001b[0m\u001b[1;39m,\n",
      "    \u001b[0m\u001b[34;1m\"mount_type\"\u001b[0m\u001b[1;39m: \u001b[0m\u001b[0;32m\"system\"\u001b[0m\u001b[1;39m,\n",
      "    \u001b[0m\u001b[34;1m\"client_token\"\u001b[0m\u001b[1;39m: \u001b[0m\u001b[0;32m\"root\"\u001b[0m\u001b[1;39m,\n",
      "    \u001b[0m\u001b[34;1m\"client_token_accessor\"\u001b[0m\u001b[1;39m: \u001b[0m\u001b[0;32m\"fJ8e3QTuMKunEyab9ODjEA1M\"\u001b[0m\u001b[1;39m,\n",
      "    \u001b[0m\u001b[34;1m\"namespace\"\u001b[0m\u001b[1;39m: \u001b[0m\u001b[1;39m{\n",
      "      \u001b[0m\u001b[34;1m\"id\"\u001b[0m\u001b[1;39m: \u001b[0m\u001b[0;32m\"root\"\u001b[0m\u001b[1;39m\n",
      "    \u001b[1;39m}\u001b[0m\u001b[1;39m,\n",
      "    \u001b[0m\u001b[34;1m\"path\"\u001b[0m\u001b[1;39m: \u001b[0m\u001b[0;32m\"sys/audit/file-raw\"\u001b[0m\u001b[1;39m,\n",
      "    \u001b[0m\u001b[34;1m\"data\"\u001b[0m\u001b[1;39m: \u001b[0m\u001b[1;39m{\n",
      "      \u001b[0m\u001b[34;1m\"description\"\u001b[0m\u001b[1;39m: \u001b[0m\u001b[0;32m\"\"\u001b[0m\u001b[1;39m,\n",
      "      \u001b[0m\u001b[34;1m\"local\"\u001b[0m\u001b[1;39m: \u001b[0m\u001b[0;39mfalse\u001b[0m\u001b[1;39m,\n",
      "      \u001b[0m\u001b[34;1m\"options\"\u001b[0m\u001b[1;39m: \u001b[0m\u001b[1;39m{\n",
      "        \u001b[0m\u001b[34;1m\"file_path\"\u001b[0m\u001b[1;39m: \u001b[0m\u001b[0;32m\"/tmp/audit-raw.log\"\u001b[0m\u001b[1;39m,\n",
      "        \u001b[0m\u001b[34;1m\"log_raw\"\u001b[0m\u001b[1;39m: \u001b[0m\u001b[0;32m\"true\"\u001b[0m\u001b[1;39m\n",
      "      \u001b[1;39m}\u001b[0m\u001b[1;39m,\n",
      "      \u001b[0m\u001b[34;1m\"type\"\u001b[0m\u001b[1;39m: \u001b[0m\u001b[0;32m\"file\"\u001b[0m\u001b[1;39m\n",
      "    \u001b[1;39m}\u001b[0m\u001b[1;39m,\n",
      "    \u001b[0m\u001b[34;1m\"remote_address\"\u001b[0m\u001b[1;39m: \u001b[0m\u001b[0;32m\"127.0.0.1\"\u001b[0m\u001b[1;39m\n",
      "  \u001b[1;39m}\u001b[0m\u001b[1;39m,\n",
      "  \u001b[0m\u001b[34;1m\"response\"\u001b[0m\u001b[1;39m: \u001b[0m\u001b[1;39m{\n",
      "    \u001b[0m\u001b[34;1m\"mount_type\"\u001b[0m\u001b[1;39m: \u001b[0m\u001b[0;32m\"system\"\u001b[0m\u001b[1;39m\n",
      "  \u001b[1;39m}\u001b[0m\u001b[1;39m\n",
      "\u001b[1;39m}\u001b[0m\n"
     ]
    }
   ],
   "source": [
    "cat /tmp/audit-raw.log |jq"
   ]
  },
  {
   "cell_type": "markdown",
   "metadata": {},
   "source": [
    "---\n",
    "## Generate a root token\n",
    "\n",
    "Good Practice: The root tokens should be used only for just enough initial setup or in emergencies.  Use tokens with assigned set of policies based on your role in the organization.\n",
    "\n",
    "When a situation arise and you need a root token, this task walks you through the steps to generate one"
   ]
  },
  {
   "cell_type": "markdown",
   "metadata": {},
   "source": [
    "#### 1a. Initialize the root generation with One Time Password (OTP)"
   ]
  },
  {
   "cell_type": "code",
   "execution_count": 3,
   "metadata": {},
   "outputs": [],
   "source": [
    "vault operator generate-root -generate-otp > /tmp/otp.txt"
   ]
  },
  {
   "cell_type": "code",
   "execution_count": 4,
   "metadata": {},
   "outputs": [
    {
     "name": "stdout",
     "output_type": "stream",
     "text": [
      "AwJA1xqvzR4Vdu8996NYMmwWS4"
     ]
    }
   ],
   "source": [
    "cat /tmp/otp.txt"
   ]
  },
  {
   "cell_type": "markdown",
   "metadata": {},
   "source": [
    "&nbsp;   \n",
    "#### 1b. Generate nonce to be distributed to all unseal key holders"
   ]
  },
  {
   "cell_type": "code",
   "execution_count": 5,
   "metadata": {},
   "outputs": [],
   "source": [
    "vault operator generate-root -init -otp=$(cat /tmp/otp.txt) -format=json | jq -r \".nonce\" > /tmp/nonce.txt"
   ]
  },
  {
   "cell_type": "markdown",
   "metadata": {},
   "source": [
    "&nbsp;   \n",
    "#### 2. Each key holder run 'generate-root' with their unseal key\n",
    "Note:  The generation of a root token requires a quorum of unseal keys."
   ]
  },
  {
   "cell_type": "code",
   "execution_count": 13,
   "metadata": {},
   "outputs": [
    {
     "name": "stdout",
     "output_type": "stream",
     "text": [
      "\u001b[0mNonce            0a1d941a-fb30-7bc6-1057-f8b3f9fee295\n",
      "Started          true\n",
      "Progress         1/1\n",
      "Complete         true\n",
      "Encoded Token    FF8+HgUWAgtdPSQTYiAsUDksEFYKLRkSBks\u001b[0m\n"
     ]
    }
   ],
   "source": [
    "vault operator generate-root -nonce=$(cat /tmp/nonce.txt) \"anvKNuOKnLkTd5p4dQDfZ5Bv2b4We4tEIJXJ+divvVY=\""
   ]
  },
  {
   "cell_type": "markdown",
   "metadata": {},
   "source": [
    "#### 3. Decode the generated root token\n",
    "The previous output should have **Encoded Token** which then need to be decoded"
   ]
  },
  {
   "cell_type": "code",
   "execution_count": 14,
   "metadata": {},
   "outputs": [
    {
     "name": "stdout",
     "output_type": "stream",
     "text": [
      "\u001b[0ms.SxNruZ2GrTRBi3qgg29gTPRx\u001b[0m\n"
     ]
    }
   ],
   "source": [
    "vault operator generate-root -decode=\"FF8+HgUWAgtdPSQTYiAsUDksEFYKLRkSBks\" -otp=$(cat /tmp/otp.txt)"
   ]
  },
  {
   "cell_type": "code",
   "execution_count": 16,
   "metadata": {},
   "outputs": [
    {
     "name": "stdout",
     "output_type": "stream",
     "text": [
      "\u001b[0mKey                 Value\n",
      "---                 -----\n",
      "accessor            QBPktcYWq9FvkRcqkij6FLd7\n",
      "creation_time       1608795880\n",
      "creation_ttl        0s\n",
      "display_name        root\n",
      "entity_id           n/a\n",
      "expire_time         <nil>\n",
      "explicit_max_ttl    0s\n",
      "id                  s.SxNruZ2GrTRBi3qgg29gTPRx\n",
      "meta                <nil>\n",
      "num_uses            0\n",
      "orphan              true\n",
      "path                auth/token/root\n",
      "policies            [root]\n",
      "ttl                 0s\n",
      "type                service\u001b[0m\n"
     ]
    }
   ],
   "source": [
    "vault token lookup s.SxNruZ2GrTRBi3qgg29gTPRx"
   ]
  },
  {
   "cell_type": "markdown",
   "metadata": {},
   "source": [
    "---\n",
    "### Rekeying Vault\n",
    "\n",
    "The process for generating a new master key and applying Shamir's algorithm is called **\"rekeying\"**.  During the initialization, the encryption keys and unseal keys were generated.  This only happens **once** when the server is started against a new backend that has never been used with Vault before.\n",
    "\n",
    "Under some circumstances, you may want to re-generate the master key and key shares.  For example:  \n",
    "* Someone joints or leaves the organization  \n",
    "* Security wants to hange the number of shares or threshold of shares  \n",
    "* Compliance mandates the master key to be rotated at regular interval\n",
    "\n",
    "<img src=\"images/vault-rekey-rotate.png\" width=\"500\">"
   ]
  },
  {
   "cell_type": "markdown",
   "metadata": {},
   "source": [
    "##### 1. Initialize a rekeying operation"
   ]
  },
  {
   "cell_type": "code",
   "execution_count": 29,
   "metadata": {},
   "outputs": [
    {
     "name": "stdout",
     "output_type": "stream",
     "text": [
      "{\n",
      "  \"nonce\": \"5b4c17ce-70fd-5103-06d4-ba80563440a9\",\n",
      "  \"started\": true,\n",
      "  \"t\": 2,\n",
      "  \"n\": 3,\n",
      "  \"progress\": 0,\n",
      "  \"required\": 1,\n",
      "  \"pgp_fingerprints\": null,\n",
      "  \"backup\": false,\n",
      "  \"verification_required\": false,\n",
      "  \"verification_nonce\": \"\"\n",
      "}\n"
     ]
    }
   ],
   "source": [
    "vault operator rekey -init -key-shares=3 -key-threshold=2  -format=json "
   ]
  },
  {
   "cell_type": "markdown",
   "metadata": {},
   "source": [
    "&nbsp;\n",
    "##### 2. Each key holder must provide this nonce to rekey.  \n",
    "This nonce is NOT a secret, so it is safe to distribute over insucre channels.   \n",
    "Since there is only *one* unseal key, execute the following to rekey:"
   ]
  },
  {
   "cell_type": "code",
   "execution_count": 32,
   "metadata": {},
   "outputs": [
    {
     "name": "stdout",
     "output_type": "stream",
     "text": [
      "\u001b[0m\u001b[0m\n",
      "\u001b[0mKey 1: nbj1hcD0z73B6ohMpjwlbiexKBYG9M40x5BoQHwFJq2q\u001b[0m\n",
      "\u001b[0mKey 2: OCWENVorPALem9Z7cRJIQehOB9pBd47R9ypPqtfayXci\u001b[0m\n",
      "\u001b[0mKey 3: gpJYqIl2jZEER7d4Rmkf/GGgugJY3PMWkEqYY6WH89my\u001b[0m\n",
      "\u001b[0m\u001b[0m\n",
      "\u001b[0mOperation nonce: 5b4c17ce-70fd-5103-06d4-ba80563440a9\u001b[0m\n",
      "\u001b[0m\u001b[0m\n",
      "\u001b[0mVault rekeyed with 3 key shares and a key threshold of 2. Please securely\n",
      "distribute the key shares printed above. When Vault is re-sealed, restarted,\n",
      "or stopped, you must supply at least 2 of these keys to unseal it before it\n",
      "can start servicing requests.\u001b[0m\n"
     ]
    }
   ],
   "source": [
    "vault operator rekey -nonce=\"5b4c17ce-70fd-5103-06d4-ba80563440a9\" \"peXBqC0uG4Sgu0oH3HLDW6tB36247TfTuu382P0BJNs=\""
   ]
  },
  {
   "cell_type": "markdown",
   "metadata": {},
   "source": [
    "**The generated keys are the new unseal keys required to unseal your Vault server**"
   ]
  },
  {
   "cell_type": "markdown",
   "metadata": {},
   "source": [
    "&nbsp;\n",
    "### Rotating Encryption Key\n",
    "The process for generating a new encryption key for Vault to encrypt data at rest is called **\"rotating\"**.  NIST recommends no more than 2^32 (~4 Billion) operations per key. \n",
    "\n",
    "**Note:** the **encryption key** is **never available** to operators and thus does NOT require a threshold of key holders.\n",
    "To trigger a key rotation, execute the following:"
   ]
  },
  {
   "cell_type": "code",
   "execution_count": 33,
   "metadata": {},
   "outputs": [
    {
     "name": "stdout",
     "output_type": "stream",
     "text": [
      "\u001b[0mSuccess! Rotated key\u001b[0m\n",
      "\u001b[0m\u001b[0m\n",
      "\u001b[0mKey Term        2\n",
      "Install Time    24 Dec 20 08:30 UTC\u001b[0m\n"
     ]
    }
   ],
   "source": [
    "vault operator rotate"
   ]
  },
  {
   "cell_type": "markdown",
   "metadata": {},
   "source": [
    "**The output shows the key version and installation time.  \n",
    "This will add a new key to the keyring.  All new values written to the storage backend will be encrypted with this new key.  Old values can still be decrypted and are updated on-the-fly.**"
   ]
  },
  {
   "cell_type": "markdown",
   "metadata": {},
   "source": [
    "---\n",
    "### View Vault via a browser\n",
    "Open a web browser and visit http://127.0.0.1:8200/ui/vault\n",
    "Use **TOKEN** and **Sign in**\n",
    "\n",
    "Only when you start the Vault server in development mode, you would see the key/value v2 secrets engine enabled at \"secret/\" path by default. However, when you run Vault in non-development mode, you would need to enable key/value secrets engine explicitly like other secrets engine."
   ]
  },
  {
   "cell_type": "markdown",
   "metadata": {},
   "source": [
    "&nbsp;\n",
    "\n",
    "---\n",
    "#### Thank you.\n",
    "<img src=images/HashiCorp_PrimaryLogo_Black_RGB.png width=100 align=\"left\">"
   ]
  }
 ],
 "metadata": {
  "kernelspec": {
   "display_name": "Z shell",
   "language": "zsh",
   "name": "zsh"
  },
  "language_info": {
   "codemirror_mode": "shell",
   "file_extension": ".zsh",
   "mimetype": "text/x-zsh",
   "name": "zsh",
   "pygments_lexer": "shell",
   "version": "5.7.1"
  }
 },
 "nbformat": 4,
 "nbformat_minor": 4
}
