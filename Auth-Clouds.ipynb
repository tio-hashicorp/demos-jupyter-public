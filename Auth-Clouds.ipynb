{
 "cells": [
  {
   "cell_type": "markdown",
   "metadata": {},
   "source": [
    "<img align=right src=images/HashiCorp_PrimaryLogo_Black_RGB.png width=150>\n",
    "<img src=images/sglogo.png width=50 align=\"left\">"
   ]
  },
  {
   "cell_type": "markdown",
   "metadata": {},
   "source": [
    "# Cloud Authentication Methods\n",
    "<img src=\"images/cloud-auth.png\" width=600>  \n",
    "\n",
    "\n",
    "Vault supports many different authentication methods, suitable for human and applications (e.g. AppRole, AWS/Azure/Google, K8s).\n",
    "Most Vault auth methods need to be explicitly enabled.  Each method has a default path.\n",
    "\n",
    "\n",
    "**Prerequisites:** \n",
    "You need to have Vault up and running\n",
    "\n",
    "`VAULT_UI=true VAULT_REDIRECT_ADDR=http://127.0.0.1:8200 vault server -log-level=trace -dev -dev-root-token-id=root -dev-listen-address=127.0.0.1:8200 -dev-ha -dev-transactional`"
   ]
  },
  {
   "cell_type": "code",
   "execution_count": null,
   "metadata": {},
   "outputs": [],
   "source": [
    "export VAULT_ADDR=http://127.0.0.1:8200\n",
    "export VAULT_SKIP_VERIFY=true"
   ]
  },
  {
   "cell_type": "code",
   "execution_count": null,
   "metadata": {},
   "outputs": [],
   "source": [
    "vault login root"
   ]
  },
  {
   "cell_type": "code",
   "execution_count": null,
   "metadata": {},
   "outputs": [],
   "source": [
    "vault status; vault version"
   ]
  },
  {
   "cell_type": "code",
   "execution_count": null,
   "metadata": {},
   "outputs": [],
   "source": [
    "vault list auth/userpass/users"
   ]
  },
  {
   "cell_type": "markdown",
   "metadata": {},
   "source": [
    "---\n",
    "# AWS Auth method\n",
    "\n",
    "\n",
    "There are two authentication types in the AWS auth method:  `iam` and `ec2`.  \n",
    "\n",
    "The aws auth method provides an automated mechanism to retrieve Vault token for IAM principals and AWS EC2 instances.   \n",
    "This method does not require manual first-deploying or profisioning security-sensitive credentials.\n"
   ]
  },
  {
   "cell_type": "markdown",
   "metadata": {},
   "source": [
    "### Setup AWS auth config"
   ]
  },
  {
   "cell_type": "code",
   "execution_count": null,
   "metadata": {},
   "outputs": [],
   "source": [
    "export VAULT_ADDR=http://127.0.0.1:8200"
   ]
  },
  {
   "cell_type": "code",
   "execution_count": null,
   "metadata": {},
   "outputs": [],
   "source": [
    "vault login root"
   ]
  },
  {
   "cell_type": "code",
   "execution_count": null,
   "metadata": {},
   "outputs": [],
   "source": [
    "vault auth enable aws"
   ]
  },
  {
   "cell_type": "code",
   "execution_count": null,
   "metadata": {},
   "outputs": [],
   "source": [
    "source ~/.zshrc; echo $AWS_ACCESS_KEY_ID; aws sts get-caller-identity"
   ]
  },
  {
   "cell_type": "code",
   "execution_count": null,
   "metadata": {},
   "outputs": [],
   "source": [
    "# tbagio profile in ~/.aws/credentials\n",
    "#\n",
    "vault write auth/aws/config/client \\\n",
    "  secret_key=$AWS_SECRET_ACCESS_KEY \\\n",
    "  access_key=$AWS_ACCESS_KEY_ID "
   ]
  },
  {
   "cell_type": "code",
   "execution_count": null,
   "metadata": {},
   "outputs": [],
   "source": [
    "vault read auth/aws/config/client"
   ]
  },
  {
   "cell_type": "markdown",
   "metadata": {},
   "source": [
    "&nbsp;   \n",
    "### IAM Authentication type. \n",
    "<img src=\"images/iam-auth-flow.png\" width=400>  \n",
    "\n",
    "1. The AWS User makes a request to Vault and includes its IAM credential.   \n",
    "\n",
    "2. Vault verifies that the User is valid  using the public AWS API endpoint.   \n",
    "\n",
    "3. Provided all steps are successful, Vault returns the initial Vault token to the AWS User. This token is mapped to any configured policies based on the instance metadata.   \n"
   ]
  },
  {
   "cell_type": "code",
   "execution_count": null,
   "metadata": {},
   "outputs": [],
   "source": [
    "vault write auth/aws/role/dev-role-iam \\\n",
    "   auth_type=iam \\\n",
    "   bound_iam_principal_arn=\"arn:aws:iam::451256726182:*\"\\\n",
    "   policies=dynamic-policy,prod,dev ttl=5m"
   ]
  },
  {
   "cell_type": "code",
   "execution_count": null,
   "metadata": {},
   "outputs": [],
   "source": [
    "vault write auth/aws/config/client iam_server_id_header_value=vault.example.com"
   ]
  },
  {
   "cell_type": "code",
   "execution_count": null,
   "metadata": {},
   "outputs": [],
   "source": [
    "vault read auth/aws/role/dev-role-iam"
   ]
  },
  {
   "cell_type": "markdown",
   "metadata": {},
   "source": [
    "### Demo: Login using AWS IAM information"
   ]
  },
  {
   "cell_type": "markdown",
   "metadata": {},
   "source": [
    "&nbsp;   \n",
    "### IAM Authentication type. \n",
    "<img src=\"images/iam-auth-flow.png\" width=400>  \n",
    "\n",
    "1. The AWS User makes a request to Vault and includes its IAM credential.   \n",
    "\n",
    "2. Vault verifies that the User is valid  using the public AWS API endpoint.   \n",
    "\n",
    "3. Vault returns the initial Vault token to the AWS User. This token is mapped to any configured policies based on the instance metadata.   \n"
   ]
  },
  {
   "cell_type": "code",
   "execution_count": 22,
   "metadata": {},
   "outputs": [
    {
     "name": "stdout",
     "output_type": "stream",
     "text": [
      "{\u001b[mh\u001b=\n",
      "    \"UserId\": \"AIDAWSEH7GKTD4E53KCTO\",\u001b[m\n",
      "    \"Account\": \"451256726182\",\u001b[m\n",
      "    \"Arn\": \"arn:aws:iam::451256726182:user/raymond\"\u001b[m\n",
      "}\u001b[m\n"
     ]
    }
   ],
   "source": [
    "AWS_ACCESS_KEY_ID=$(cat /tmp/aws_id); AWS_SECRET_ACCESS_KEY=$(cat /tmp/aws_secret);  \\\n",
    "aws sts get-caller-identity"
   ]
  },
  {
   "cell_type": "code",
   "execution_count": 23,
   "metadata": {},
   "outputs": [
    {
     "name": "stdout",
     "output_type": "stream",
     "text": [
      "\u001b[0mSuccess! You are now authenticated. The token information displayed below\n",
      "is already stored in the token helper. You do NOT need to run \"vault login\"\n",
      "again. Future Vault requests will automatically use this token.\n",
      "\u001b[0m\n",
      "\u001b[0mKey                      Value\n",
      "---                      -----\n",
      "token                    s.vqyJinyWay6RYnBWnYrsi7mp\n",
      "token_accessor           Eerh8Ufv3elwNb6STZ5KybO4\n",
      "token_duration           5m\n",
      "token_renewable          true\n",
      "token_policies           [\"default\" \"dev\" \"dynamic-policy\" \"prod\"]\n",
      "identity_policies        []\n",
      "policies                 [\"default\" \"dev\" \"dynamic-policy\" \"prod\"]\n",
      "token_meta_account_id    451256726182\n",
      "token_meta_auth_type     iam\n",
      "token_meta_role_id       6503c4c8-1d37-4a1a-1c66-68db7bcc025f\u001b[0m\n"
     ]
    }
   ],
   "source": [
    "# raymond\n",
    "vault login -method=aws header_value=vault.example.com \\\n",
    "  role=dev-role-iam \\\n",
    "  aws_access_key_id=$(cat /tmp/aws_id) \\\n",
    "  aws_secret_access_key=$(cat /tmp/aws_secret)"
   ]
  },
  {
   "cell_type": "markdown",
   "metadata": {},
   "source": [
    "### and get a secret"
   ]
  },
  {
   "cell_type": "code",
   "execution_count": 24,
   "metadata": {},
   "outputs": [
    {
     "name": "stdout",
     "output_type": "stream",
     "text": [
      "\u001b[0m====== Data ======\u001b[0m\n",
      "\u001b[0mKey         Value\n",
      "---         -----\n",
      "ip          192.168.1.191\n",
      "password    passw0rd123\n",
      "username    arthur\u001b[0m\n"
     ]
    }
   ],
   "source": [
    "VAULT_TOKEN=s.vqyJinyWay6RYnBWnYrsi7mp vault  kv get secret1/web01"
   ]
  },
  {
   "cell_type": "code",
   "execution_count": 25,
   "metadata": {},
   "outputs": [
    {
     "name": "stdout",
     "output_type": "stream",
     "text": [
      "\u001b[0mKey                Value\n",
      "---                -----\n",
      "lease_id           mdb1/creds/manager/g1dGxmdJgfwBpLd0m9whtvpn\n",
      "lease_duration     3m\n",
      "lease_renewable    true\n",
      "password           u&%*QMD6\n",
      "username           v_mana_qUfBrHF5E\u001b[0m\n"
     ]
    }
   ],
   "source": [
    "VAULT_TOKEN=s.vqyJinyWay6RYnBWnYrsi7mp  vault read mdb1/creds/manager"
   ]
  },
  {
   "cell_type": "code",
   "execution_count": 26,
   "metadata": {},
   "outputs": [
    {
     "name": "stdout",
     "output_type": "stream",
     "text": [
      "mysql: [Warning] Using a password on the command line interface can be insecure.\n",
      "+------------------+\n",
      "| user             |\n",
      "+------------------+\n",
      "| root             |\n",
      "| v_mana_qUfBrHF5E |\n",
      "| vault            |\n",
      "| vaultadmin       |\n",
      "| healthchecker    |\n",
      "| mysql.session    |\n",
      "| mysql.sys        |\n",
      "| root             |\n",
      "+------------------+\n"
     ]
    }
   ],
   "source": [
    "docker exec -it workshop-mysql mysql -u vaultadmin -p'vadmin' -e \"select user from mysql.user\"; "
   ]
  },
  {
   "cell_type": "code",
   "execution_count": 28,
   "metadata": {},
   "outputs": [
    {
     "name": "stdout",
     "output_type": "stream",
     "text": [
      "mysql: [Warning] Using a password on the command line interface can be insecure.\n",
      "+-------+\n",
      "| score |\n",
      "+-------+\n",
      "|    10 |\n",
      "|     7 |\n",
      "+-------+\n"
     ]
    }
   ],
   "source": [
    "docker exec -it workshop-mysql mysql -u v_mana_qUfBrHF5E -p'u&%*QMD6' \\\n",
    "  -e \"use my_app; select * from my_app.test\""
   ]
  },
  {
   "cell_type": "markdown",
   "metadata": {},
   "source": [
    "---\n",
    "### EC2 Authentication Method\n",
    "<img src=\"images/aws-ec2-auth-flow.png\" width=500>   \n",
    "\n",
    "1. An AWS EC2 instance fetches its AWS Instance Identity Document from the EC2 Metadata Service.   \n",
    "\n",
    "2. The AWS EC2 instance makes a request to Vault and includes Instance Identity Document.   \n",
    "\n",
    "3. Vault verifies that the instance is currently running using the public EC2 API endpoint.   \n",
    "\n",
    "4. Provided all steps are successful, Vault returns the initial Vault token to the EC2 instance. This token is mapped to any configured policies based on the instance metadata.   \n"
   ]
  },
  {
   "cell_type": "markdown",
   "metadata": {},
   "source": [
    "**Configure Vault for EC2 Authentication type**"
   ]
  },
  {
   "cell_type": "code",
   "execution_count": null,
   "metadata": {},
   "outputs": [],
   "source": [
    "VAULT_TOKEN=root vault write auth/aws/role/dev-role-ec2 \\\n",
    "   auth_type=ec2 \\\n",
    "   bound_ami_id=ami-fce3c696 \\\n",
    "   policies=prod,dev max_ttl=5m"
   ]
  },
  {
   "cell_type": "code",
   "execution_count": null,
   "metadata": {},
   "outputs": [],
   "source": [
    "vault read auth/aws/role/dev-role-ec2"
   ]
  },
  {
   "cell_type": "code",
   "execution_count": null,
   "metadata": {},
   "outputs": [],
   "source": []
  },
  {
   "cell_type": "markdown",
   "metadata": {},
   "source": [
    "---\n",
    "# Github Authentication method"
   ]
  },
  {
   "cell_type": "markdown",
   "metadata": {},
   "source": [
    "### Setup Vault-Github integration"
   ]
  },
  {
   "cell_type": "code",
   "execution_count": null,
   "metadata": {},
   "outputs": [],
   "source": [
    "export VAULT_ADDR=http://127.0.0.1:8200\n",
    "vault login root"
   ]
  },
  {
   "cell_type": "code",
   "execution_count": null,
   "metadata": {},
   "outputs": [],
   "source": [
    "vault auth enable github"
   ]
  },
  {
   "cell_type": "markdown",
   "metadata": {},
   "source": [
    "### Configure Vault to talk to Github"
   ]
  },
  {
   "cell_type": "code",
   "execution_count": null,
   "metadata": {},
   "outputs": [],
   "source": [
    "vault write auth/github/config organization=hashicorp"
   ]
  },
  {
   "cell_type": "markdown",
   "metadata": {},
   "source": [
    "### Map users/teams of that Github organization to policies in Vault.  \n",
    "Team names must be \"slugified\""
   ]
  },
  {
   "cell_type": "code",
   "execution_count": null,
   "metadata": {},
   "outputs": [],
   "source": [
    "vault write auth/github/map/teams/team-se value=static-policy"
   ]
  },
  {
   "cell_type": "code",
   "execution_count": null,
   "metadata": {},
   "outputs": [],
   "source": [
    "vault write auth/github/map/users/tiobagio value=dynamic-policy"
   ]
  },
  {
   "cell_type": "markdown",
   "metadata": {},
   "source": [
    "### Login using Github token\n",
    "The `github` auth method can be used to authenticate with Vault using a Github personal access token.  This method of authentication is most useful for operators or developers usign Vault directly."
   ]
  },
  {
   "cell_type": "code",
   "execution_count": null,
   "metadata": {},
   "outputs": [],
   "source": [
    "MY_GITHUB_TOKEN=$(cat /tmp/githubtoken)\n",
    "vault login -method=github token=$MY_GITHUB_TOKEN"
   ]
  },
  {
   "cell_type": "markdown",
   "metadata": {},
   "source": [
    "**Using cURL**"
   ]
  },
  {
   "cell_type": "code",
   "execution_count": null,
   "metadata": {},
   "outputs": [],
   "source": [
    "MY_GITHUB_TOKEN=$(cat /tmp/githubtoken)\n",
    "curl -s --request POST --data \" {\\\"token\\\": \\\"$MY_GITHUB_TOKEN\\\"} \" \\\n",
    "    http://127.0.0.1:8200/v1/auth/github/login  | jq"
   ]
  },
  {
   "cell_type": "markdown",
   "metadata": {},
   "source": [
    "---\n",
    "# Okta Auth method"
   ]
  },
  {
   "cell_type": "markdown",
   "metadata": {},
   "source": [
    "### Configure Vault to talk to Okta"
   ]
  },
  {
   "cell_type": "code",
   "execution_count": null,
   "metadata": {},
   "outputs": [],
   "source": [
    "export VAULT_ADDR=http://127.0.0.1:8200\n",
    "vault login root\n",
    "vault auth enable okta"
   ]
  },
  {
   "cell_type": "code",
   "execution_count": null,
   "metadata": {},
   "outputs": [],
   "source": [
    "vault write auth/okta/config \\\n",
    "  base_url=\"okta.com\" \\\n",
    "  org_name=\"hashicorp\" \\\n",
    "  token_policies=\"static-policy\""
   ]
  },
  {
   "cell_type": "markdown",
   "metadata": {},
   "source": [
    "**Note:**  \n",
    "Anyone who successfully authenticates via Okta who's a member of Hashicorp organization will receive a Vault token with \"static-policy\" attached.   \n",
    "Furthermore for a specific user, he/she gets additional policies like \"dynamic-policy\"."
   ]
  },
  {
   "cell_type": "code",
   "execution_count": null,
   "metadata": {},
   "outputs": [],
   "source": [
    "vault write auth/okta/users/tio@hashicorp.com policies=\"dynamic-policy,other-policy\""
   ]
  },
  {
   "cell_type": "markdown",
   "metadata": {},
   "source": [
    "### Login using Okta method"
   ]
  },
  {
   "cell_type": "code",
   "execution_count": null,
   "metadata": {},
   "outputs": [],
   "source": [
    "## you'll be prompted for password\n",
    "vault login -method=okta username=xyz@hashi.com"
   ]
  },
  {
   "cell_type": "markdown",
   "metadata": {},
   "source": [
    "**Using cURL**"
   ]
  },
  {
   "cell_type": "code",
   "execution_count": null,
   "metadata": {},
   "outputs": [],
   "source": [
    "MY_PASSWORD=$(cat /tmp/mypassword)\n",
    "curl -s --request POST --data \" {\\\"password\\\": \\\"$MY_PASSWORD\\\"} \" \\\n",
    "    http://127.0.0.1:8200/v1/auth/okta/login/tio@hashicorp.com"
   ]
  },
  {
   "cell_type": "markdown",
   "metadata": {},
   "source": [
    "---\n",
    "### TODO:\n",
    "- how to set AWS_ACCESS_KEY_ID, AWS_SECRET_ACCESS for a certain profile\n",
    "- use \"bound_iam_principal_arn=arn:aws:iam:::user/\\ \"\n",
    "- use \"bound_iam_role_arn=arn:aws:iam::451256726182:role/example-role\\ \""
   ]
  },
  {
   "cell_type": "markdown",
   "metadata": {},
   "source": [
    "---\n",
    "# Azure Auth "
   ]
  },
  {
   "cell_type": "code",
   "execution_count": null,
   "metadata": {},
   "outputs": [],
   "source": [
    "vault login root\n",
    "vault auth enable azure"
   ]
  },
  {
   "cell_type": "code",
   "execution_count": null,
   "metadata": {},
   "outputs": [],
   "source": [
    "vault write auth/azure/config \\\n",
    "    resource=https://vault.hashicorp.com \\\n",
    "    tenant_id= \\\n",
    "    client_id= \\\n",
    "    client_secret="
   ]
  },
  {
   "cell_type": "code",
   "execution_count": null,
   "metadata": {},
   "outputs": [],
   "source": [
    "vault write auth/azure/role/dev-role \\\n",
    "    policies=\"prod,dev\" \\\n",
    "    bound_subscription_ids=6a1d5988- \\\n",
    "    bound_resource_groups=vault"
   ]
  },
  {
   "cell_type": "markdown",
   "metadata": {},
   "source": [
    "### Login"
   ]
  },
  {
   "cell_type": "code",
   "execution_count": null,
   "metadata": {},
   "outputs": [],
   "source": [
    "vault write auth/azure/login \\\n",
    "   role=\"dev-role\" \\\n",
    "   jwt=\"eyJhbGciOiJIUzI1NiIsInR5cCI6IkpXVCJ9...\" \\\n",
    "   subscription_id=\"12345-...\" \\\n",
    "   resource_group_name=\"test-group\" \\\n",
    "   vm_name=\"test-vm\""
   ]
  },
  {
   "cell_type": "code",
   "execution_count": null,
   "metadata": {},
   "outputs": [],
   "source": [
    "vault write auth/azure/login \\\n",
    "   role=\"dev-role\" \\\n",
    "   jwt=\"$(curl -s 'http://169.254.169.254/metadata/identity/oauth2/token?api-version=2018-02-01&resource=https%3A%2F%2Fvault.hashicorp.com%2F' -H Metadata:true | jq -r '.access_token')\" \\\n",
    "   subscription_id=$(curl -s -H Metadata:true \"http://169.254.169.254/metadata/instance?api-version=2017-08-01\" | jq -r '.compute | .subscriptionId')  \\\n",
    "   resource_group_name=$(curl -s -H Metadata:true \"http://169.254.169.254/metadata/instance?api-version=2017-08-01\" | jq -r '.compute | .resourceGroupName') \\\n",
    "   vm_name=$(curl -s -H Metadata:true \"http://169.254.169.254/metadata/instance?api-version=2017-08-01\" | jq -r '.compute | .name')"
   ]
  },
  {
   "cell_type": "markdown",
   "metadata": {},
   "source": [
    "\n",
    "\n"
   ]
  },
  {
   "cell_type": "markdown",
   "metadata": {},
   "source": [
    "---\n",
    "# Google Cloud Auth Method\n",
    "The `gcp` auth method allows Google Cloud Platform entities to authenticate to Vault.  \n",
    "Vault treats Google Cloud as a trusted third party and verifies authenticating entities against the Google Cloud APIs.\n",
    "  \n",
    "This backend allow for authentication of:\n",
    "* IAM service accounts\n",
    "* GCE (compute engine) instances\n",
    "\n",
    "It does not support authenticating arbitrary Google/G Suite users or generic OAuth against Google.\n",
    "\n",
    "### Setup"
   ]
  },
  {
   "cell_type": "code",
   "execution_count": null,
   "metadata": {},
   "outputs": [],
   "source": [
    "vault login root\n",
    "vault auth enable gcp"
   ]
  },
  {
   "cell_type": "code",
   "execution_count": null,
   "metadata": {},
   "outputs": [],
   "source": [
    "vault write auth/gcp/config credentials=@/path/to/credentials.json"
   ]
  },
  {
   "cell_type": "markdown",
   "metadata": {},
   "source": [
    "**Create a role**  \n",
    "For `iam` type role.  Note that `bound_service_account` is only required for `iam`-type roles"
   ]
  },
  {
   "cell_type": "code",
   "execution_count": null,
   "metadata": {},
   "outputs": [],
   "source": [
    "vault write auth/gcp/role/my-iam-role \\\n",
    "   type=\"iam\" \\\n",
    "   policies=\"dev, prod\" \\\n",
    "   bound_service_accounts=\"my-service@my-project.iam.gserviceaccount.com\""
   ]
  },
  {
   "cell_type": "markdown",
   "metadata": {},
   "source": [
    "For `gce` type role"
   ]
  },
  {
   "cell_type": "code",
   "execution_count": null,
   "metadata": {},
   "outputs": [],
   "source": [
    "vault write auth/gcp/role/my-gce-role \\\n",
    "   type=\"gce\" \\\n",
    "   policies=\"dev, prod\" \\\n",
    "   bound_projects=\"my-prject1,my-project2\" \\\n",
    "   bound_zones=\"us-east1-b\" \\\n",
    "   bound_labels=\"fooLbar, zip:zap\" \\\n",
    "   bound_service_accounts=\"my-service@my-project.iam.gserviceaccount.com\""
   ]
  },
  {
   "cell_type": "markdown",
   "metadata": {},
   "source": [
    "### Login/Authenticate"
   ]
  },
  {
   "cell_type": "code",
   "execution_count": null,
   "metadata": {},
   "outputs": [],
   "source": [
    "vault write -field=token auth/gcp/login \\\n",
    "  role=\"my-role\" \\\n",
    "  jwt=\"...\" "
   ]
  },
  {
   "cell_type": "markdown",
   "metadata": {},
   "source": [
    "Vault includes a CLI helper that obtains a signed JWT locally and sends the request to Vault.  This helper is only for IAM-type roles."
   ]
  },
  {
   "cell_type": "code",
   "execution_count": null,
   "metadata": {},
   "outputs": [],
   "source": [
    "vault login -method=gcp \\\n",
    "   role=\"my-role\" \\\n",
    "   service_account=\"authenticating-account@my-project.iam.gserviceaccount.com\" \\\n",
    "   project=\"my-project\" \\\n",
    "   jwt_exp=\"15m\" \\\n",
    "   credentials=@path/to/signer/credentials.json"
   ]
  },
  {
   "cell_type": "code",
   "execution_count": null,
   "metadata": {},
   "outputs": [],
   "source": []
  },
  {
   "cell_type": "markdown",
   "metadata": {},
   "source": [
    "---\n",
    "### View Vault via a browser\n",
    "Open a web browser and visit http://127.0.0.1:8200/ui/vault\n",
    "Use **TOKEN** and **Sign in**"
   ]
  },
  {
   "cell_type": "markdown",
   "metadata": {},
   "source": [
    "&nbsp;\n",
    "\n",
    "---\n",
    "#### Thank you.\n",
    "<img src=images/HashiCorp_PrimaryLogo_Black_RGB.png width=100 align=\"left\">"
   ]
  }
 ],
 "metadata": {
  "kernelspec": {
   "display_name": "Z shell",
   "language": "zsh",
   "name": "zsh"
  },
  "language_info": {
   "codemirror_mode": "shell",
   "file_extension": ".zsh",
   "mimetype": "text/x-zsh",
   "name": "zsh",
   "pygments_lexer": "shell",
   "version": "5.7.1"
  }
 },
 "nbformat": 4,
 "nbformat_minor": 4
}
