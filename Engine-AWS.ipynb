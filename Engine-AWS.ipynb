{
 "cells": [
  {
   "cell_type": "markdown",
   "metadata": {},
   "source": [
    "<img align=right src=images/HashiCorp_PrimaryLogo_Black_RGB.png width=150>\n",
    "<img src=images/sglogo.png width=100 align=\"left\">"
   ]
  },
  {
   "cell_type": "markdown",
   "metadata": {},
   "source": [
    "# AWS Dynamic Credentials\n",
    "---\n",
    "\n",
    "## Business Value of Capability\n",
    "The AWS secrets engine generates AWS access credentials dynamically based on IAM policies. This generally makes working with AWS IAM easier, since it does not involve clicking in the web UI. Additionally, the process is codified and mapped to internal auth methods (such as LDAP). The AWS IAM credentials are time-based and are automatically revoked when the Vault lease expires.\n",
    "\n",
    "\n",
    "<img src=images/aws-secret-engine.png width=700 >   \n"
   ]
  },
  {
   "cell_type": "markdown",
   "metadata": {},
   "source": [
    "### Setup\n",
    "\n",
    "**Note**:  \n",
    "* Run > Render All Markdown Cells\n",
    "* Edit > Clear all output"
   ]
  },
  {
   "cell_type": "code",
   "execution_count": 3,
   "metadata": {},
   "outputs": [],
   "source": [
    "export VAULT_ADDR=http://127.0.0.1:8200\n",
    "export VAULT_SKIP_VERIFY=true"
   ]
  },
  {
   "cell_type": "code",
   "execution_count": 4,
   "metadata": {},
   "outputs": [
    {
     "name": "stdout",
     "output_type": "stream",
     "text": [
      "\u001b[0mSuccess! You are now authenticated. The token information displayed below\n",
      "is already stored in the token helper. You do NOT need to run \"vault login\"\n",
      "again. Future Vault requests will automatically use this token.\n",
      "\u001b[0m\n",
      "\u001b[0mKey                  Value\n",
      "---                  -----\n",
      "token                root\n",
      "token_accessor       dRq6usE3NFp7vjYtgtH8uqQv\n",
      "token_duration       ∞\n",
      "token_renewable      false\n",
      "token_policies       [\"root\"]\n",
      "identity_policies    []\n",
      "policies             [\"root\"]\u001b[0m\n"
     ]
    }
   ],
   "source": [
    "vault login root"
   ]
  },
  {
   "cell_type": "code",
   "execution_count": null,
   "metadata": {},
   "outputs": [],
   "source": [
    "vault status; vault version"
   ]
  },
  {
   "cell_type": "markdown",
   "metadata": {},
   "source": [
    "### Demo\n",
    "---\n",
    "**Enable the Vault AWS secrets engine**  \n",
    "Example: `vault secrets enable -path=amz -default-lease-ttl=5m -max-lease-ttl=30m aws`"
   ]
  },
  {
   "cell_type": "code",
   "execution_count": 6,
   "metadata": {},
   "outputs": [
    {
     "name": "stdout",
     "output_type": "stream",
     "text": [
      "\u001b[0mSuccess! Enabled the aws secrets engine at: aws/\u001b[0m\n"
     ]
    }
   ],
   "source": [
    "vault secrets enable -path=aws -default-lease-ttl=5m -max-lease-ttl=30m aws"
   ]
  },
  {
   "cell_type": "markdown",
   "metadata": {},
   "source": [
    "### Configure the credentials that Vault uses to communicate with AWS to generate temporary IAM credentials"
   ]
  },
  {
   "cell_type": "code",
   "execution_count": 2,
   "metadata": {},
   "outputs": [
    {
     "name": "stdout",
     "output_type": "stream",
     "text": [
      "MO4V\n",
      "{\u001b[mh\u001b=\n",
      "    \"UserId\": \"GC2\",\u001b[m\n",
      "    \"Account\": \"6182\",\u001b[m\n",
      "    \"Arn\": \"arn:aws:iam::82:user/tbagio\"\u001b[m\n",
      "}\u001b[m\n"
     ]
    }
   ],
   "source": [
    "source ~/.zshrc; echo $AWS_ACCESS_KEY_ID $AWS_REGION; unset AWS_SESSION_TOKEN; aws sts get-caller-identity"
   ]
  },
  {
   "cell_type": "code",
   "execution_count": 7,
   "metadata": {},
   "outputs": [
    {
     "name": "stdout",
     "output_type": "stream",
     "text": [
      "\u001b[0mSuccess! Data written to: aws/config/root\u001b[0m\n"
     ]
    }
   ],
   "source": [
    "vault write aws/config/root \\\n",
    "  access_key=$AWS_ACCESS_KEY_ID \\\n",
    "  secret_key=$AWS_SECRET_ACCESS_KEY \\\n",
    "  region=$AWS_DEFAULT_REGION"
   ]
  },
  {
   "cell_type": "code",
   "execution_count": 8,
   "metadata": {},
   "outputs": [
    {
     "name": "stdout",
     "output_type": "stream",
     "text": [
      "\u001b[0mKey             Value\n",
      "---             -----\n",
      "access_key      4V\n",
      "iam_endpoint    n/a\n",
      "max_retries     -1\n",
      "region          ap-southeast-1\n",
      "sts_endpoint    n/a\u001b[0m\n"
     ]
    }
   ],
   "source": [
    "vault read aws/config/root"
   ]
  },
  {
   "cell_type": "markdown",
   "metadata": {},
   "source": [
    "---\n",
    "## Use Case: Generate IAM USER\n",
    "Configure a Vault role that maps to a set of permissions in AWS as well as an AWS credential type.   \n",
    "When users generate credentials, they are generated against this role.   \n",
    "**Note:** credential_type=iam_user"
   ]
  },
  {
   "cell_type": "code",
   "execution_count": 9,
   "metadata": {},
   "outputs": [
    {
     "name": "stdout",
     "output_type": "stream",
     "text": [
      "\u001b[0mSuccess! Data written to: aws/roles/infra-ops\u001b[0m\n"
     ]
    }
   ],
   "source": [
    "vault write aws/roles/infra-ops \\\n",
    "    credential_type=iam_user \\\n",
    "    policy_document=-<<EOF\n",
    "{\n",
    "  \"Version\": \"2012-10-17\",\n",
    "  \"Statement\": [\n",
    "    {\n",
    "      \"Effect\": \"Allow\",\n",
    "      \"Action\": \"ec2:*\",\n",
    "      \"Resource\": \"*\"\n",
    "    }\n",
    "  ]\n",
    "}\n",
    "EOF"
   ]
  },
  {
   "cell_type": "markdown",
   "metadata": {},
   "source": [
    "\n",
    "**Reading the role creates the credentials in AWS as an IAM user with those permissions above**"
   ]
  },
  {
   "cell_type": "code",
   "execution_count": 10,
   "metadata": {},
   "outputs": [
    {
     "name": "stdout",
     "output_type": "stream",
     "text": [
      "\u001b[0mKey                Value\n",
      "---                -----\n",
      "lease_id           aws/creds/infra-ops/UtBtNFRQyXYWs8pTjD7g4ai0\n",
      "lease_duration     5m\n",
      "lease_renewable    true\n",
      "access_key         VI\n",
      "secret_key         jp\n",
      "security_token     <nil>\u001b[0m\n"
     ]
    }
   ],
   "source": [
    "#-output-curl-string always available\n",
    "vault read aws/creds/infra-ops"
   ]
  },
  {
   "cell_type": "code",
   "execution_count": null,
   "metadata": {},
   "outputs": [],
   "source": [
    "#vault unwrap s.TzPCHYip1lGxIRp1KpQ3j3mK"
   ]
  },
  {
   "cell_type": "markdown",
   "metadata": {},
   "source": [
    "&nbsp;"
   ]
  },
  {
   "cell_type": "code",
   "execution_count": 13,
   "metadata": {},
   "outputs": [
    {
     "name": "stdout",
     "output_type": "stream",
     "text": [
      "zsh: command not found:  \n",
      "{\u001b[mh\u001b=\n",
      "    \"UserId\": \"YLF3US\",\u001b[m\n",
      "    \"Account\": \"6182\",\u001b[m\n",
      "    \"Arn\": \"arn:aws:iam::6182:user/vault-token-infra-ops-1616303938-2276\u001b[m\"\u001b[m\n",
      "}\u001b[m\n"
     ]
    }
   ],
   "source": [
    "AWS_ACCESS_KEY_ID= AWS_SECRET_ACCESS_KEY=;\n",
    "AWS_DEFAULT_REGION=us-east-2; \\ \n",
    "\n",
    "aws sts get-caller-identity"
   ]
  },
  {
   "cell_type": "markdown",
   "metadata": {},
   "source": [
    "&nbsp;"
   ]
  },
  {
   "cell_type": "code",
   "execution_count": null,
   "metadata": {},
   "outputs": [],
   "source": [
    "AWS_ACCESS_KEY_ID=  AWS_SECRET_ACCESS_KEY=;\n",
    "AWS_DEFAULT_REGION=us-east-2; \\\n",
    "aws rds describe-db-instances --query \"DBInstances[*].[DBInstanceIdentifier, DBName, DBInstanceStatus, AvailabilityZone, DBInstanceClass]\"\n",
    "#aws ec2 describe-instances --query \"Reservations[*].Instances[*].[VpcId, InstanceId, ImageId, InstanceType]\""
   ]
  },
  {
   "cell_type": "markdown",
   "metadata": {},
   "source": [
    "&nbsp;  \n",
    "**Check details on a lease, e.g. the remaining lifetime of the credential**\n",
    "&nbsp;"
   ]
  },
  {
   "cell_type": "code",
   "execution_count": null,
   "metadata": {},
   "outputs": [],
   "source": [
    "vault write sys/leases/lookup lease_id=aws/creds/infra-ops/FCHNpoRALcRfJQmF5qbjeHWK"
   ]
  },
  {
   "cell_type": "markdown",
   "metadata": {},
   "source": [
    "**Renew lease**"
   ]
  },
  {
   "cell_type": "code",
   "execution_count": null,
   "metadata": {},
   "outputs": [],
   "source": [
    "vault write sys/leases/renew lease_id=aws/creds/infra-ops/7eqGE2tHNbieGqK6M3pjqBHA"
   ]
  },
  {
   "cell_type": "markdown",
   "metadata": {},
   "source": [
    "**Revoking the lease removes the user**"
   ]
  },
  {
   "cell_type": "code",
   "execution_count": null,
   "metadata": {},
   "outputs": [],
   "source": [
    "vault lease revoke aws/creds/infra-ops/7eqGE2tHNbieGqK6M3pjqBHA"
   ]
  },
  {
   "cell_type": "markdown",
   "metadata": {},
   "source": [
    "**Revoke all leases**"
   ]
  },
  {
   "cell_type": "code",
   "execution_count": 3,
   "metadata": {},
   "outputs": [
    {
     "name": "stdout",
     "output_type": "stream",
     "text": [
      "\u001b[0mAll revocation operations queued successfully!\u001b[0m\n"
     ]
    }
   ],
   "source": [
    "vault lease revoke -prefix=true aws/creds/infra-ops"
   ]
  },
  {
   "cell_type": "markdown",
   "metadata": {},
   "source": [
    "---\n",
    "## Use Case: ASSUMMED ROLE\n",
    "Vault also supports ```assumed_role``` and ```federation_token``` credential types.  \n",
    "**Note:** Due to limitations in AWS, in order to use the federation_token credential type, Vault must be configured with IAM user credentials. AWS does not allow temporary credentials (such as those from an IAM instance profile) to be used."
   ]
  },
  {
   "cell_type": "code",
   "execution_count": null,
   "metadata": {},
   "outputs": [],
   "source": [
    "vault write aws/roles/deploy \\\n",
    "    role_arns=arn:aws:iam::726182:role/example-role \\\n",
    "    credential_type=assumed_role"
   ]
  },
  {
   "cell_type": "markdown",
   "metadata": {},
   "source": [
    "&nbsp;"
   ]
  },
  {
   "cell_type": "code",
   "execution_count": null,
   "metadata": {},
   "outputs": [],
   "source": [
    "vault write aws/sts/deploy ttl=60m"
   ]
  },
  {
   "cell_type": "markdown",
   "metadata": {},
   "source": [
    "&nbsp;"
   ]
  },
  {
   "cell_type": "code",
   "execution_count": null,
   "metadata": {},
   "outputs": [],
   "source": [
    "export AWS_ACCESS_KEY_ID=; \n",
    "export  AWS_SECRET_ACCESS_KEY=;\n",
    "export AWS_SESSION_TOKEN=;\n",
    "aws sts get-caller-identity\n",
    "#aws ec2 describe-regions --filters \"Name=endpoint,Values=*us*\""
   ]
  },
  {
   "cell_type": "markdown",
   "metadata": {},
   "source": [
    "### Test the asssumed role capabilities"
   ]
  },
  {
   "cell_type": "code",
   "execution_count": null,
   "metadata": {},
   "outputs": [],
   "source": [
    "AWS_DEFAULT_REGION=us-east-1; aws ec2 describe-instances --query \"Reservations[*].Instances[*].[VpcId, InstanceId, ImageId, InstanceType]\""
   ]
  },
  {
   "cell_type": "markdown",
   "metadata": {},
   "source": [
    "&nbsp;"
   ]
  },
  {
   "cell_type": "code",
   "execution_count": null,
   "metadata": {},
   "outputs": [],
   "source": [
    "AWS_DEFAULT_REGION=us-east-2; aws rds describe-db-instances --query \"DBInstances[*].[DBInstanceIdentifier, DBName, DBInstanceStatus, AvailabilityZone, DBInstanceClass]\""
   ]
  },
  {
   "cell_type": "markdown",
   "metadata": {},
   "source": [
    "### Disable the AWS Secret engine"
   ]
  },
  {
   "cell_type": "code",
   "execution_count": null,
   "metadata": {},
   "outputs": [],
   "source": [
    "vault secrets disable aws/ "
   ]
  },
  {
   "cell_type": "markdown",
   "metadata": {},
   "source": [
    "#### TO DO:\n",
    "- list policies in an assumed role\n",
    "aws iam list-roles --query \"Roles[?RoleName == 'example-role'].[RoleName, Arn]\"\n",
    "aws iam list-role-policies --role-name example-role"
   ]
  },
  {
   "cell_type": "markdown",
   "metadata": {},
   "source": [
    "**END**"
   ]
  }
 ],
 "metadata": {
  "kernelspec": {
   "display_name": "Z shell",
   "language": "zsh",
   "name": "zsh"
  },
  "language_info": {
   "codemirror_mode": "shell",
   "file_extension": ".zsh",
   "mimetype": "text/x-zsh",
   "name": "zsh",
   "pygments_lexer": "shell",
   "version": "5.7.1"
  }
 },
 "nbformat": 4,
 "nbformat_minor": 4
}
