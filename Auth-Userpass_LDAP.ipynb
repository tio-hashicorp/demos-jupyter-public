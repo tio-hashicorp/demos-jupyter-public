{
 "cells": [
  {
   "cell_type": "markdown",
   "metadata": {},
   "source": [
    "<img align=right src=images/HashiCorp_PrimaryLogo_Black_RGB.png width=150>\n",
    "<img src=images/sglogo.png width=50 align=\"left\">"
   ]
  },
  {
   "cell_type": "markdown",
   "metadata": {},
   "source": [
    "# Vault Authentication Methods\n",
    "<img src=\"images/vault-auth-1.png\" width=600>  \n",
    "\n",
    "\n",
    "Vault supports many different authentication methods, suitable for human and applications (e.g. AppRole, AWS/Azure/Google, K8s).\n",
    "Most Vault auth methods need to be explicitly enabled.  Each method has a default path.\n",
    "\n",
    "\n",
    "**Prerequisites:** \n",
    "You need to have Vault up and running\n",
    "\n",
    "`VAULT_UI=true VAULT_REDIRECT_ADDR=http://127.0.0.1:8200 vault server -log-level=trace -dev -dev-root-token-id=root -dev-listen-address=127.0.0.1:8200 -dev-ha -dev-transactional`"
   ]
  },
  {
   "cell_type": "code",
   "execution_count": 1,
   "metadata": {},
   "outputs": [],
   "source": [
    "export VAULT_ADDR=http://127.0.0.1:8200\n",
    "export VAULT_SKIP_VERIFY=true"
   ]
  },
  {
   "cell_type": "code",
   "execution_count": 2,
   "metadata": {},
   "outputs": [
    {
     "name": "stdout",
     "output_type": "stream",
     "text": [
      "\u001b[0mSuccess! You are now authenticated. The token information displayed below\n",
      "is already stored in the token helper. You do NOT need to run \"vault login\"\n",
      "again. Future Vault requests will automatically use this token.\n",
      "\u001b[0m\n",
      "\u001b[0mKey                  Value\n",
      "---                  -----\n",
      "token                root\n",
      "token_accessor       dRq6usE3NFp7vjYtgtH8uqQv\n",
      "token_duration       ∞\n",
      "token_renewable      false\n",
      "token_policies       [\"root\"]\n",
      "identity_policies    []\n",
      "policies             [\"root\"]\u001b[0m\n"
     ]
    }
   ],
   "source": [
    "vault login root"
   ]
  },
  {
   "cell_type": "code",
   "execution_count": null,
   "metadata": {},
   "outputs": [],
   "source": [
    "vault status; vault version"
   ]
  },
  {
   "cell_type": "markdown",
   "metadata": {},
   "source": [
    "---\n",
    "# Userpass Authentication method\n",
    "authenticates users with usernames and passwords managed by Vault.\n",
    "\n"
   ]
  },
  {
   "cell_type": "markdown",
   "metadata": {},
   "source": [
    "### Setup"
   ]
  },
  {
   "cell_type": "code",
   "execution_count": 3,
   "metadata": {},
   "outputs": [
    {
     "name": "stdout",
     "output_type": "stream",
     "text": [
      "\u001b[0mSuccess! Enabled userpass auth method at: userpass/\u001b[0m\n"
     ]
    }
   ],
   "source": [
    "vault auth enable userpass"
   ]
  },
  {
   "cell_type": "markdown",
   "metadata": {},
   "source": [
    "**Configure username/password**"
   ]
  },
  {
   "cell_type": "code",
   "execution_count": 4,
   "metadata": {},
   "outputs": [
    {
     "name": "stdout",
     "output_type": "stream",
     "text": [
      "\u001b[91mError enabling userpass auth: Error making API request.\n",
      "\n",
      "URL: POST http://127.0.0.1:8200/v1/sys/auth/userpass\n",
      "Code: 400. Errors:\n",
      "\n",
      "* path is already in use at userpass/\u001b[0m\n",
      "\u001b[0mSuccess! Data written to: auth/userpass/users/arthur\u001b[0m\n",
      "\u001b[0mSuccess! Data written to: auth/userpass/users/samantha\u001b[0m\n",
      "\u001b[0mSuccess! Data written to: auth/userpass/users/tio\u001b[0m\n",
      "\u001b[0mSuccess! Data written to: auth/userpass/users/moayad\u001b[0m\n",
      "\u001b[0mSuccess! Data written to: auth/userpass/users/raymond\u001b[0m\n"
     ]
    }
   ],
   "source": [
    "vault auth enable userpass\n",
    "vault write auth/userpass/users/arthur password=\"passw0rd\" policies=\"static-policy\"\n",
    "vault write auth/userpass/users/samantha password=\"passw0rd\" policies=\"static-policy\"\n",
    "vault write auth/userpass/users/tio password=\"passw0rd\" policies=\"static-policy, dynamic-policy\"\n",
    "vault write auth/userpass/users/moayad password=\"passw0rd\" policies=\"static-policy, dynamic-policy\"\n",
    "vault write auth/userpass/users/raymond password=\"passw0rd\" policies=\"static-policy, dynamic-policy\""
   ]
  },
  {
   "cell_type": "markdown",
   "metadata": {},
   "source": [
    "### Login"
   ]
  },
  {
   "cell_type": "code",
   "execution_count": null,
   "metadata": {},
   "outputs": [],
   "source": [
    "unset VAULT_TOKEN\n",
    "vault login -method=userpass username=tio password=passw0rd"
   ]
  },
  {
   "cell_type": "markdown",
   "metadata": {},
   "source": [
    "**Via cURL**\n",
    "The response will contain the token at `auth.client_token`"
   ]
  },
  {
   "cell_type": "code",
   "execution_count": null,
   "metadata": {},
   "outputs": [],
   "source": [
    "curl -s --request POST --data '{\"password\": \"passw0rd\"}' \\\n",
    "    http://127.0.0.1:8200/v1/auth/userpass/login/tio | jq"
   ]
  },
  {
   "cell_type": "code",
   "execution_count": null,
   "metadata": {},
   "outputs": [],
   "source": [
    "vault list auth/userpass/users"
   ]
  },
  {
   "cell_type": "markdown",
   "metadata": {},
   "source": [
    "---\n",
    "# LDAP Authentication Method\n",
    "<img src=\"images/ldap-auth-workflow.svg\" width=700>  \n",
    "\n",
    "\n",
    "Vault supports many different authentication methods, suitable for human and applications (e.g. AppRole, AWS/Azure/Google, K8s).\n",
    "Most Vault auth methods need to be explicitly enabled.  Each method has a default path.\n",
    "\n",
    "\n",
    "**Prerequisites:** \n",
    "You need to have Vault up and running\n",
    "\n",
    "`VAULT_UI=true VAULT_REDIRECT_ADDR=http://127.0.0.1:8200 vault server -log-level=trace -dev -dev-root-token-id=root -dev-listen-address=127.0.0.1:8200 -dev-ha -dev-transactional`"
   ]
  },
  {
   "cell_type": "code",
   "execution_count": 5,
   "metadata": {},
   "outputs": [],
   "source": [
    "export VAULT_ADDR=http://127.0.0.1:8200\n",
    "export VAULT_SKIP_VERIFY=true"
   ]
  },
  {
   "cell_type": "code",
   "execution_count": 6,
   "metadata": {},
   "outputs": [
    {
     "name": "stdout",
     "output_type": "stream",
     "text": [
      "\u001b[0mSuccess! You are now authenticated. The token information displayed below\n",
      "is already stored in the token helper. You do NOT need to run \"vault login\"\n",
      "again. Future Vault requests will automatically use this token.\n",
      "\u001b[0m\n",
      "\u001b[0mKey                  Value\n",
      "---                  -----\n",
      "token                root\n",
      "token_accessor       dRq6usE3NFp7vjYtgtH8uqQv\n",
      "token_duration       ∞\n",
      "token_renewable      false\n",
      "token_policies       [\"root\"]\n",
      "identity_policies    []\n",
      "policies             [\"root\"]\u001b[0m\n"
     ]
    }
   ],
   "source": [
    "vault login root"
   ]
  },
  {
   "cell_type": "code",
   "execution_count": null,
   "metadata": {},
   "outputs": [],
   "source": [
    "vault status; vault version"
   ]
  },
  {
   "cell_type": "markdown",
   "metadata": {},
   "source": [
    "### Setup LDAP"
   ]
  },
  {
   "cell_type": "code",
   "execution_count": 7,
   "metadata": {},
   "outputs": [
    {
     "name": "stdout",
     "output_type": "stream",
     "text": [
      "Error response from daemon: No such container: ldap-service\n",
      "c22e095f69d718d791ae324960616f8ef4b978745466c6940b6d32af77e1f4f6\n"
     ]
    }
   ],
   "source": [
    "docker stop ldap-service;\n",
    "sleep 5;\n",
    "docker run \\\n",
    "  --name ldap-service \\\n",
    "  --env LDAP_ORGANISATION=\"engineers\" \\\n",
    "  --env LDAP_DOMAIN=\"example.org\" \\\n",
    "  --env LDAP_ADMIN_PASSWORD=\"admin\" \\\n",
    "  -p 389:389 \\\n",
    "  -p 636:636 \\\n",
    "  --detach \\\n",
    "  --rm \\\n",
    "  osixia/openldap:latest"
   ]
  },
  {
   "cell_type": "code",
   "execution_count": 8,
   "metadata": {},
   "outputs": [
    {
     "name": "stdout",
     "output_type": "stream",
     "text": [
      "NAMES          STATUS\n",
      "ldap-service   Up 8 seconds\n"
     ]
    }
   ],
   "source": [
    "docker ps -f name=ldap-service --format \"table {{.Names}}\\t{{.Status}}\""
   ]
  },
  {
   "cell_type": "markdown",
   "metadata": {},
   "source": [
    "### Adding entries to LDAP"
   ]
  },
  {
   "cell_type": "code",
   "execution_count": 10,
   "metadata": {},
   "outputs": [],
   "source": [
    "cat > /tmp/ldap-example.ldif <<EOF\n",
    "dn: ou=groups,dc=example,dc=org\n",
    "objectClass: organizationalunit\n",
    "objectClass: top\n",
    "ou: groups\n",
    "description: groups of users\n",
    "\n",
    "dn: ou=users,dc=example,dc=org\n",
    "objectClass: organizationalunit\n",
    "objectClass: top\n",
    "ou: users\n",
    "description: users\n",
    "\n",
    "dn: cn=dev,ou=groups,dc=example,dc=org\n",
    "objectClass: groupofnames\n",
    "objectClass: top\n",
    "description: testing group for dev\n",
    "cn: dev\n",
    "member: cn=alice,ou=users,dc=example,dc=org\n",
    "member: cn=bob,ou=users,dc=example,dc=org\n",
    "\n",
    "dn: cn=manager,ou=groups,dc=example,dc=org\n",
    "objectClass: groupofnames\n",
    "objectClass: top\n",
    "description: testing group for dev\n",
    "cn: manager\n",
    "member: cn=raymond,ou=users,dc=example,dc=org\n",
    "\n",
    "dn: cn=alice,ou=users,dc=example,dc=org\n",
    "objectClass: person\n",
    "objectClass: top\n",
    "cn: alice\n",
    "sn: lee\n",
    "memberOf: cn=dev,ou=groups,dc=example,dc=org\n",
    "userPassword: passw0rd\n",
    "\n",
    "dn: cn=bob,ou=users,dc=example,dc=org\n",
    "objectClass: person\n",
    "objectClass: top\n",
    "cn: bob\n",
    "sn: villa\n",
    "memberOf: cn=dev,ou=groups,dc=example,dc=org\n",
    "userPassword: passw0rd\n",
    "\n",
    "dn: cn=raymond,ou=users,dc=example,dc=org\n",
    "objectClass: person\n",
    "objectClass: top\n",
    "cn: raymond\n",
    "sn: goh\n",
    "memberOf: cn=manager,ou=groups,dc=example,dc=org\n",
    "userPassword: passw0rd\n",
    "EOF"
   ]
  },
  {
   "cell_type": "code",
   "execution_count": 11,
   "metadata": {},
   "outputs": [
    {
     "name": "stdout",
     "output_type": "stream",
     "text": [
      "adding new entry \"ou=groups,dc=example,dc=org\"\n",
      "\n",
      "adding new entry \"ou=users,dc=example,dc=org\"\n",
      "\n",
      "adding new entry \"cn=dev,ou=groups,dc=example,dc=org\"\n",
      "\n",
      "adding new entry \"cn=manager,ou=groups,dc=example,dc=org\"\n",
      "\n",
      "adding new entry \"cn=alice,ou=users,dc=example,dc=org\"\n",
      "\n",
      "adding new entry \"cn=bob,ou=users,dc=example,dc=org\"\n",
      "\n",
      "adding new entry \"cn=raymond,ou=users,dc=example,dc=org\"\n",
      "\n"
     ]
    }
   ],
   "source": [
    "#-c continous operation mode (do not stop on errors)\n",
    "#-x simple authentication\n",
    "#-W prompt for bind password\n",
    "#-D bindn \n",
    "ldapadd -cxD \"cn=admin,dc=example,dc=org\" -f /tmp/ldap-example.ldif -w admin"
   ]
  },
  {
   "cell_type": "markdown",
   "metadata": {},
   "source": [
    "**Search ldap (test)**"
   ]
  },
  {
   "cell_type": "code",
   "execution_count": 12,
   "metadata": {
    "collapsed": true,
    "jupyter": {
     "outputs_hidden": true
    }
   },
   "outputs": [
    {
     "name": "stdout",
     "output_type": "stream",
     "text": [
      "# extended LDIF\n",
      "#\n",
      "# LDAPv3\n",
      "# base <dc=example,dc=org> with scope subtree\n",
      "# filter: (objectclass=*)\n",
      "# requesting: ALL\n",
      "#\n",
      "\n",
      "# example.org\n",
      "dn: dc=example,dc=org\n",
      "objectClass: top\n",
      "objectClass: dcObject\n",
      "objectClass: organization\n",
      "o: engineers\n",
      "dc: example\n",
      "\n",
      "# groups, example.org\n",
      "dn: ou=groups,dc=example,dc=org\n",
      "objectClass: organizationalUnit\n",
      "objectClass: top\n",
      "ou: groups\n",
      "description: groups of users\n",
      "\n",
      "# users, example.org\n",
      "dn: ou=users,dc=example,dc=org\n",
      "objectClass: organizationalUnit\n",
      "objectClass: top\n",
      "ou: users\n",
      "description: users\n",
      "\n",
      "# dev, groups, example.org\n",
      "dn: cn=dev,ou=groups,dc=example,dc=org\n",
      "objectClass: groupOfNames\n",
      "objectClass: top\n",
      "description: testing group for dev\n",
      "cn: dev\n",
      "member: cn=alice,ou=users,dc=example,dc=org\n",
      "member: cn=bob,ou=users,dc=example,dc=org\n",
      "\n",
      "# manager, groups, example.org\n",
      "dn: cn=manager,ou=groups,dc=example,dc=org\n",
      "objectClass: groupOfNames\n",
      "objectClass: top\n",
      "description: testing group for dev\n",
      "cn: manager\n",
      "member: cn=raymond,ou=users,dc=example,dc=org\n",
      "\n",
      "# alice, users, example.org\n",
      "dn: cn=alice,ou=users,dc=example,dc=org\n",
      "objectClass: person\n",
      "objectClass: top\n",
      "cn: alice\n",
      "sn: lee\n",
      "userPassword:: cGFzc3cwcmQ=\n",
      "\n",
      "# bob, users, example.org\n",
      "dn: cn=bob,ou=users,dc=example,dc=org\n",
      "objectClass: person\n",
      "objectClass: top\n",
      "cn: bob\n",
      "sn: villa\n",
      "userPassword:: cGFzc3cwcmQ=\n",
      "\n",
      "# raymond, users, example.org\n",
      "dn: cn=raymond,ou=users,dc=example,dc=org\n",
      "objectClass: person\n",
      "objectClass: top\n",
      "cn: raymond\n",
      "sn: goh\n",
      "userPassword:: cGFzc3cwcmQ=\n",
      "\n",
      "# search result\n",
      "search: 2\n",
      "result: 0 Success\n",
      "\n",
      "# numResponses: 9\n",
      "# numEntries: 8\n"
     ]
    }
   ],
   "source": [
    "docker exec ldap-service ldapsearch -x \\\n",
    "  -H ldap://localhost -b dc=example,dc=org -D \"cn=admin,dc=example,dc=org\" -w admin"
   ]
  },
  {
   "cell_type": "markdown",
   "metadata": {},
   "source": [
    "### Configure web Admin frontend to LDAP"
   ]
  },
  {
   "cell_type": "code",
   "execution_count": 17,
   "metadata": {},
   "outputs": [
    {
     "name": "stdout",
     "output_type": "stream",
     "text": [
      "e86cbb6ba4506248f07f3784de6021b1cdff94e67b241e668155337c51728d5c\n"
     ]
    }
   ],
   "source": [
    "# docker rm phpldapadmin-service\n",
    "\n",
    "docker run -p 6443:443 --name phpldapadmin-service --hostname phpldapadmin-service \\\n",
    "    --link ldap-service:ldap-host \\\n",
    "    --env PHPLDAPADMIN_LDAP_HOSTS=ldap-host \\\n",
    "    --detach osixia/phpldapadmin:latest"
   ]
  },
  {
   "cell_type": "markdown",
   "metadata": {},
   "source": [
    "**Information about the containers**"
   ]
  },
  {
   "cell_type": "code",
   "execution_count": 18,
   "metadata": {},
   "outputs": [
    {
     "name": "stdout",
     "output_type": "stream",
     "text": [
      "open browser to https://localhost:6443\n",
      "phpweb IP is 172.17.0.5; ldap IP is 172.17.0.4\n",
      "Login DN: cn=admin,dc=example,dc=org\n",
      "Password: admin\n"
     ]
    }
   ],
   "source": [
    "PHPLDAP_IP=$(docker inspect -f \"{{ .NetworkSettings.IPAddress }}\" phpldapadmin-service)\n",
    "LDAP_IP=$(docker inspect -f \"{{ .NetworkSettings.IPAddress }}\" ldap-service)\n",
    "echo \"open browser to https://localhost:6443\"\n",
    "echo \"phpweb IP is $PHPLDAP_IP; ldap IP is $LDAP_IP\"\n",
    "echo \"Login DN: cn=admin,dc=example,dc=org\"\n",
    "echo \"Password: admin\""
   ]
  },
  {
   "cell_type": "markdown",
   "metadata": {},
   "source": [
    "### Setup Vault to talk to LDAP"
   ]
  },
  {
   "cell_type": "code",
   "execution_count": 19,
   "metadata": {},
   "outputs": [
    {
     "name": "stdout",
     "output_type": "stream",
     "text": [
      "\u001b[0mSuccess! You are now authenticated. The token information displayed below\n",
      "is already stored in the token helper. You do NOT need to run \"vault login\"\n",
      "again. Future Vault requests will automatically use this token.\n",
      "\u001b[0m\n",
      "\u001b[0mKey                  Value\n",
      "---                  -----\n",
      "token                root\n",
      "token_accessor       dRq6usE3NFp7vjYtgtH8uqQv\n",
      "token_duration       ∞\n",
      "token_renewable      false\n",
      "token_policies       [\"root\"]\n",
      "identity_policies    []\n",
      "policies             [\"root\"]\u001b[0m\n",
      "\u001b[0mSuccess! Enabled ldap auth method at: ldap/\u001b[0m\n"
     ]
    }
   ],
   "source": [
    "export VAULT_ADDR=http://127.0.0.1:8200\n",
    "vault login root\n",
    "vault auth enable ldap"
   ]
  },
  {
   "cell_type": "markdown",
   "metadata": {},
   "source": [
    "### Setup Vault to search LDAP"
   ]
  },
  {
   "cell_type": "code",
   "execution_count": 20,
   "metadata": {},
   "outputs": [
    {
     "name": "stdout",
     "output_type": "stream",
     "text": [
      "\u001b[0mSuccess! Data written to: auth/ldap/config\u001b[0m\n"
     ]
    }
   ],
   "source": [
    "vault write auth/ldap/config \\\n",
    "    url=ldap://127.0.0.1 \\\n",
    "    userdn=\"ou=users,dc=example,dc=org\" \\\n",
    "    groupdn=\"ou=groups,dc=example,dc=org\" \\\n",
    "    binddn=\"cn=admin,dc=example,dc=org\" \\\n",
    "    bindpass=admin \\\n",
    "    token_policies=dynamic-policy"
   ]
  },
  {
   "cell_type": "code",
   "execution_count": null,
   "metadata": {},
   "outputs": [],
   "source": [
    "VAULT_TOKEN=root vault read auth/ldap/config"
   ]
  },
  {
   "cell_type": "markdown",
   "metadata": {},
   "source": [
    "### Login to Vault using LDAP credential"
   ]
  },
  {
   "cell_type": "code",
   "execution_count": 21,
   "metadata": {},
   "outputs": [
    {
     "name": "stdout",
     "output_type": "stream",
     "text": [
      "\u001b[0mSuccess! You are now authenticated. The token information displayed below\n",
      "is already stored in the token helper. You do NOT need to run \"vault login\"\n",
      "again. Future Vault requests will automatically use this token.\n",
      "\u001b[0m\n",
      "\u001b[0mKey                    Value\n",
      "---                    -----\n",
      "token                  s.BzZfT2G4DsLW9FIIWtAStoMg\n",
      "token_accessor         wf7uvNwWd4AFjBb3FKdP63uv\n",
      "token_duration         768h\n",
      "token_renewable        true\n",
      "token_policies         [\"default\" \"dynamic-policy\"]\n",
      "identity_policies      []\n",
      "policies               [\"default\" \"dynamic-policy\"]\n",
      "token_meta_username    raymond\u001b[0m\n"
     ]
    }
   ],
   "source": [
    "vault login -method=ldap username=raymond password=passw0rd"
   ]
  },
  {
   "cell_type": "markdown",
   "metadata": {},
   "source": [
    "### Cleanup"
   ]
  },
  {
   "cell_type": "code",
   "execution_count": null,
   "metadata": {},
   "outputs": [],
   "source": [
    "vault auth disable ldap"
   ]
  },
  {
   "cell_type": "code",
   "execution_count": null,
   "metadata": {},
   "outputs": [],
   "source": [
    "docker stop vault-ldap"
   ]
  },
  {
   "cell_type": "code",
   "execution_count": null,
   "metadata": {},
   "outputs": [],
   "source": [
    "docker rm vault-ldap"
   ]
  },
  {
   "cell_type": "code",
   "execution_count": null,
   "metadata": {},
   "outputs": [],
   "source": [
    "docker stop phpldapadmin-service"
   ]
  },
  {
   "cell_type": "code",
   "execution_count": null,
   "metadata": {},
   "outputs": [],
   "source": [
    "docker rm phpldapadmin-service"
   ]
  },
  {
   "cell_type": "markdown",
   "metadata": {},
   "source": [
    "---\n",
    "### View Vault via a browser\n",
    "Open a web browser and visit http://127.0.0.1:8200/ui/vault\n",
    "Use **TOKEN** and **Sign in**"
   ]
  },
  {
   "cell_type": "markdown",
   "metadata": {},
   "source": [
    "### TODO:\n",
    "- how to set AWS_ACCESS_KEY_ID, AWS_SECRET_ACCESS for a certain profile"
   ]
  },
  {
   "cell_type": "markdown",
   "metadata": {},
   "source": [
    "&nbsp;\n",
    "\n",
    "---\n",
    "#### Thank you.\n",
    "<img src=images/HashiCorp_PrimaryLogo_Black_RGB.png width=100 align=\"left\">"
   ]
  }
 ],
 "metadata": {
  "kernelspec": {
   "display_name": "Z shell",
   "language": "zsh",
   "name": "zsh"
  },
  "language_info": {
   "codemirror_mode": "shell",
   "file_extension": ".zsh",
   "mimetype": "text/x-zsh",
   "name": "zsh",
   "pygments_lexer": "shell",
   "version": "5.7.1"
  }
 },
 "nbformat": 4,
 "nbformat_minor": 4
}
