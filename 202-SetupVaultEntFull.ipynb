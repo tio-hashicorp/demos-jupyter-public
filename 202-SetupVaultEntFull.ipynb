{
 "cells": [
  {
   "cell_type": "markdown",
   "metadata": {},
   "source": [
    "<img align=right src=images/HashiCorp_PrimaryLogo_Black_RGB.png width=150>\n",
    "<img src=images/acme.jpeg  width=100 align=\"left\">"
   ]
  },
  {
   "cell_type": "markdown",
   "metadata": {},
   "source": [
    "# Vault Enterprise\n",
    "<img src=images/vault-enterprise1.png width=\"500\">\n",
    "\n",
    "Find the full list of Enterprise features at https://www.hashicorp.com/products/vault/pricing/\n",
    "\n",
    "Prereq: \n",
    "You need to have Vault Enterprise binary and appropriate License file\n",
    "\n",
    "## Setup"
   ]
  },
  {
   "cell_type": "code",
   "execution_count": null,
   "metadata": {},
   "outputs": [],
   "source": [
    "/bin/rm -rf $HOME/demos/vault_cluster/vrd/data/*"
   ]
  },
  {
   "cell_type": "code",
   "execution_count": null,
   "metadata": {},
   "outputs": [],
   "source": [
    "export VAULT_ADDR=http://127.0.0.1:8200\n",
    "export VAULT_SKIP_VERIFY=true"
   ]
  },
  {
   "cell_type": "code",
   "execution_count": null,
   "metadata": {},
   "outputs": [],
   "source": [
    "which evault\n",
    "evault --version\n"
   ]
  },
  {
   "cell_type": "markdown",
   "metadata": {},
   "source": [
    "### Populate Vault server configuration file (hcl or json format)\n",
    "Configures:\n",
    "* storage\n",
    "* listener\n",
    "* ui\n",
    "* telemetry\n",
    "* seal\n",
    "* etc"
   ]
  },
  {
   "cell_type": "code",
   "execution_count": null,
   "metadata": {},
   "outputs": [],
   "source": [
    "mkdir -p $HOME/demo/vault_cluster/vrd/data/raft\n",
    "cat <<EOF > $HOME/demos/vault_cluster/vrd/vrd_config.hcl\n",
    "storage \"raft\" {\n",
    "  path = \"$HOME/demos/vault_cluster/vrd/data\"\n",
    "  node_id = \"demo\"\n",
    "}\n",
    "listener \"tcp\" {\n",
    "  address = \"0.0.0.0:8200\"\n",
    "  cluster_address = \"0.0.0.0:8201\"\n",
    "  tls_disable = \"true\"\n",
    "}\n",
    "api_addr = \"https://127.0.0.1:8200\"\n",
    "cluster_addr = \"https://127.0.0.1:8201\"\n",
    "disable_mlock=\"false\"\n",
    "disable_cache=\"false\"\n",
    "ui = \"true\"\n",
    "max_lease_ttl=\"24h\"\n",
    "default_lease_ttl=\"1h\"\n",
    "raw_storage_endpoint=true\n",
    "cluster_name=\"hashi-vault\"\n",
    "insecure_tls=\"true\"\n",
    "plugin_directory=\"$HOME/demos/vault_cluster/vrd/data/plugins\"\n",
    "EOF"
   ]
  },
  {
   "cell_type": "markdown",
   "metadata": {},
   "source": [
    "\\\n",
    "**EXECUTE the following command in SEPARATE window**\n",
    "\n",
    "```\n",
    "vaulte server -config=$HOME/demos/vault_cluster/vrd/vrd_config.hcl\n",
    "```"
   ]
  },
  {
   "cell_type": "code",
   "execution_count": null,
   "metadata": {
    "scrolled": true
   },
   "outputs": [],
   "source": [
    "vault status"
   ]
  },
  {
   "cell_type": "markdown",
   "metadata": {},
   "source": [
    "##### Notice Initialized and Sealed status\n",
    "When a Vault server is started, it starts in a **sealed** state and it does not know how to decrypt data.  Before any operation can be performed on the Vault, it must be unsealed.  "
   ]
  },
  {
   "cell_type": "markdown",
   "metadata": {},
   "source": [
    "## Initialize Vault\n",
    "\n",
    "Initialization is the process of configuring the Vault:\n",
    "* Encryption key gets generated \n",
    "* Unseal keys are created\n",
    "* Initial root token is setup\n",
    "\n",
    "Note: the initialization takes few seconds to complete.\n",
    "\n",
    "<img src=images/shamir_secret_sharing.png width=500>\n",
    "\n"
   ]
  },
  {
   "cell_type": "code",
   "execution_count": null,
   "metadata": {},
   "outputs": [],
   "source": [
    "curl --request POST --data '{\"secret_shares\": 1, \"secret_threshold\": 1}' $VAULT_ADDR/v1/sys/init > ~/demos/vault_cluster/vrd/vault_init_output"
   ]
  },
  {
   "cell_type": "markdown",
   "metadata": {},
   "source": [
    "**The above command is the same as**  \n",
    "```\n",
    "vault operator init -key-shares=1 -key-threshold=1 |tee  ~/demos/vault_cluster/vrd/vault_init_output\n",
    "```\n"
   ]
  },
  {
   "cell_type": "markdown",
   "metadata": {},
   "source": [
    "##### Parse output to variables (for demo use)"
   ]
  },
  {
   "cell_type": "code",
   "execution_count": null,
   "metadata": {},
   "outputs": [],
   "source": [
    "export VAULT_ROOT_TOKEN=$(cat ~/demos/vault_cluster/vrd/vault_init_output | jq -r '.root_token')\n",
    "export VAULT_KEY_BASE64=$(cat ~/demos/vault_cluster/vrd/vault_init_output | jq -r '.keys_base64[0]' )\n",
    "echo $VAULT_ROOT_TOKEN\n",
    "echo $VAULT_KEY_BASE64"
   ]
  },
  {
   "cell_type": "markdown",
   "metadata": {},
   "source": [
    "---\n",
    "## Unseal Vault\n",
    "Unsealing  is the process of constructing the master key necessary to decrypt the data encryption keys and read the data.  It requires a threshold of unseal keys (see the Intialize Vault above). Unsealing is a manual process and can become tedious when you have multiple Vault clusters! Hint: explore/use Auto-Unseal feature.\n",
    "\n",
    "Seal the Vault is an ultimate **break glass** procedure.  For example, you suspect that someone has unauthorized access to Vault with wrong intention."
   ]
  },
  {
   "cell_type": "code",
   "execution_count": null,
   "metadata": {},
   "outputs": [],
   "source": [
    "curl \\\n",
    "    --insecure \\\n",
    "    --header \"X-Vault-Token: $VAULT_ROOT_TOKEN\" \\\n",
    "    --request PUT \\\n",
    "    --data '{ \"key\": \"'$VAULT_KEY_BASE64'\" }' \\\n",
    "    $VAULT_ADDR/v1/sys/unseal"
   ]
  },
  {
   "cell_type": "markdown",
   "metadata": {},
   "source": [
    "## Apply License to Vault"
   ]
  },
  {
   "cell_type": "code",
   "execution_count": null,
   "metadata": {},
   "outputs": [],
   "source": [
    "sleep 5\n",
    "curl \\\n",
    "    --insecure \\\n",
    "    --header \"X-Vault-Token: $VAULT_ROOT_TOKEN\" \\\n",
    "    --request PUT \\\n",
    "    --data @/Users/tio/Documents/vault_license.json \\\n",
    "    $VAULT_ADDR/v1/sys/license"
   ]
  },
  {
   "cell_type": "markdown",
   "metadata": {},
   "source": [
    "### Vault Auto Unseal\n",
    "Vault supports opt-in automatic unsealing via cloud technologies: AliCloud KMS, Amazon KMS, Azure Key Vault and Google Cloud KMS.  This feature delegates the unsealing process to trusted cloud providers to ease operation."
   ]
  },
  {
   "cell_type": "markdown",
   "metadata": {},
   "source": [
    "## Interacting with Vault\n",
    "\n",
    "Vault **HTTP API**\n",
    "* Full access to Vault via HTTP\n",
    "* Every aspect of Vault can be controlled via API\n",
    "\n",
    "\n",
    "Vault **CLI**\n",
    "* uses HTTP API to access Vault\n",
    "* it is a thin wrapper around the HTTP API\n",
    "* outputs are formatted\n",
    "\n",
    "**Note**: You should remember **-output-curl-string** CLI flag to find out the `curl` equivalent of CLI."
   ]
  },
  {
   "cell_type": "code",
   "execution_count": null,
   "metadata": {},
   "outputs": [],
   "source": [
    "vault secrets list -output-curl-string"
   ]
  },
  {
   "cell_type": "markdown",
   "metadata": {},
   "source": [
    "### Getting help"
   ]
  },
  {
   "cell_type": "code",
   "execution_count": null,
   "metadata": {},
   "outputs": [],
   "source": [
    "vault server -h"
   ]
  },
  {
   "cell_type": "markdown",
   "metadata": {},
   "source": [
    "### View Vault via a browser\n",
    "Open a web browser and visit http://127.0.0.1:8200/ui/vault\n",
    "Use **TOKEN** and **Sign in**"
   ]
  },
  {
   "cell_type": "markdown",
   "metadata": {},
   "source": [
    "&nbsp;\n",
    "\n",
    "---\n",
    "#### Thank you.\n",
    "<img src=images/HashiCorp_PrimaryLogo_Black_RGB.png width=100 align=\"left\">"
   ]
  }
 ],
 "metadata": {
  "kernelspec": {
   "display_name": "Z shell",
   "language": "zsh",
   "name": "zsh"
  },
  "language_info": {
   "codemirror_mode": "shell",
   "file_extension": ".zsh",
   "mimetype": "text/x-zsh",
   "name": "zsh",
   "pygments_lexer": "shell",
   "version": "5.7.1"
  }
 },
 "nbformat": 4,
 "nbformat_minor": 4
}
