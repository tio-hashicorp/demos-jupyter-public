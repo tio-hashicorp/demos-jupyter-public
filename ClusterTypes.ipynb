{
 "cells": [
  {
   "cell_type": "markdown",
   "metadata": {},
   "source": [
    "<img align=right src=images/HashiCorp_PrimaryLogo_Black_RGB.png width=150>\n",
    "<img src=images/acme.jpeg width=100 align=\"left\">\n",
    "<img src=images/vault-cluster1.png width=900 >"
   ]
  },
  {
   "cell_type": "markdown",
   "metadata": {},
   "source": [
    "## Vaults Setup"
   ]
  },
  {
   "cell_type": "markdown",
   "metadata": {},
   "source": [
    "**Shell alias setup**"
   ]
  },
  {
   "cell_type": "code",
   "execution_count": null,
   "metadata": {},
   "outputs": [],
   "source": [
    "source ~/.zshrc"
   ]
  },
  {
   "cell_type": "code",
   "execution_count": null,
   "metadata": {},
   "outputs": [],
   "source": [
    "alias |grep -i \"evault[1-3]\""
   ]
  },
  {
   "cell_type": "code",
   "execution_count": null,
   "metadata": {},
   "outputs": [],
   "source": [
    "alias |grep -i \"evrd[1-3]\""
   ]
  },
  {
   "cell_type": "markdown",
   "metadata": {},
   "source": [
    "### Launch 3 Vault servers, each on its own windows\n",
    "  \n",
    "Model is as follows\n",
    "```\n",
    "+---------------------------------+                    +------------------------------------+\n",
    "| vault1 port:8200                |                    | vault2 port: 8202                  |\n",
    "| Performance primary replication |    +----------->   | Performance secondary replication  |\n",
    "| DR primary replication          |                    | (vault1 -> vault2)                 |\n",
    "|                                 |                    |                                    |\n",
    "+---------------------------------+                    +------------------------------------+\n",
    "               +\n",
    "               |\n",
    "               v\n",
    "+---------------------------------+\n",
    "| vault3 port:8204                |\n",
    "| DR secondary replication        |\n",
    "| (vault1 -> vault3)              |\n",
    "|                                 |\n",
    "+---------------------------------+\n",
    "```\n",
    "Make sure you record the unseal key for each Vault server.\n"
   ]
  },
  {
   "cell_type": "markdown",
   "metadata": {},
   "source": [
    "### License Vault (Optional)"
   ]
  },
  {
   "cell_type": "code",
   "execution_count": null,
   "metadata": {},
   "outputs": [],
   "source": [
    "VAULT_ADDR=\"http://127.0.0.1:8200\"; curl \\\n",
    "    --insecure \\\n",
    "    --header \"X-Vault-Token: $VAULT_ROOT_TOKEN\" \\\n",
    "    --request PUT \\\n",
    "    --data @/Users/tio/Documents/vault_license.json \\\n",
    "    $VAULT_ADDR/sys/license"
   ]
  },
  {
   "cell_type": "markdown",
   "metadata": {},
   "source": [
    "### Vault1 - create users, policies and secrets on the primary cluster"
   ]
  },
  {
   "cell_type": "code",
   "execution_count": null,
   "metadata": {},
   "outputs": [],
   "source": [
    "vault1 login root > /dev/null\n",
    "echo \"----\"\n",
    "vault1 auth enable userpass\n",
    "echo '\n",
    "path \"*\" {\n",
    "    capabilities = [\"create\", \"read\", \"update\", \"delete\", \"list\", \"sudo\"]\n",
    "}' | vault1 policy write vault-admin -\n",
    "\n",
    "echo '\n",
    "path \"supersecret/*\" {\n",
    "  capabilities = [\"list\", \"read\"]\n",
    "}' | vault1 policy write user -\n",
    "\n",
    "vault1 write auth/userpass/users/vault password=vault policies=vault-admin\n",
    "vault1 write auth/userpass/users/drtest password=drtest policies=user\n",
    "echo \"----\"\n",
    "vault1 secrets enable -path=supersecret generic"
   ]
  },
  {
   "cell_type": "markdown",
   "metadata": {},
   "source": [
    "### Setup Performance Replication (Vault -> Vault2)"
   ]
  },
  {
   "cell_type": "code",
   "execution_count": null,
   "metadata": {},
   "outputs": [],
   "source": [
    "vault1 login root > /dev/null\n",
    "vault1 write -f sys/replication/performance/primary/enable\n",
    "sleep 10\n",
    "PRIMARY_PERF_TOKEN=$(vault1 write -format=json sys/replication/performance/primary/secondary-token id=vault2 \\\n",
    "  | jq --raw-output '.wrap_info .token' )\n",
    "echo \"---\"\n",
    "vault2 login root > /dev/null\n",
    "vault2 write sys/replication/performance/secondary/enable token=${PRIMARY_PERF_TOKEN}"
   ]
  },
  {
   "cell_type": "markdown",
   "metadata": {},
   "source": [
    "#### Validation \n",
    "Enable another secret engine on Vault1, configure it *not* to be replicated and perform validations:\n",
    "* of Performance Replication on the Secondary cluser (Vault2)\n",
    "* of Performance Replication on the Primary cluster (Vault1)\n"
   ]
  },
  {
   "cell_type": "markdown",
   "metadata": {},
   "source": [
    "### Setup DR Replication (Vault1 -> Vault3)"
   ]
  },
  {
   "cell_type": "code",
   "execution_count": null,
   "metadata": {},
   "outputs": [],
   "source": [
    "vault1 login root > /dev/null\n",
    "vault1 write -f /sys/replication/dr/primary/enable\n",
    "sleep 10\n",
    "PRIMARY_DR_TOKEN=$(vault1 write -format=json /sys/replication/dr/primary/secondary-token id=\"vault3\" | jq --raw-output '.wrap_info .token' )\n",
    "vault3 login root > /dev/null\n",
    "vault3 write /sys/replication/dr/secondary/enable token=${PRIMARY_DR_TOKEN}"
   ]
  },
  {
   "cell_type": "markdown",
   "metadata": {},
   "source": [
    "#### Validation of DR"
   ]
  },
  {
   "cell_type": "code",
   "execution_count": null,
   "metadata": {},
   "outputs": [],
   "source": [
    "vault3 read -format=json sys/replication/status |jq"
   ]
  },
  {
   "cell_type": "markdown",
   "metadata": {},
   "source": [
    "### Promote DR Secondary (Vault3) to Primary Cluster\n",
    "Shutdown Vault1\n",
    "\n",
    "Generate operation token on Vault3\n",
    "\n",
    "$ vault operator generate-root -dr-token -otp=\"vZUKRgIcHMgwNeB8T9jf0YwUvm\" -decode=\"BXRjc2QLECsbfDQtJSEtVhxRHQRYPx8DGio\"\n",
    "\n",
    "s.686lYHS1SZkDonHhwbhfhVlG\n",
    "\n",
    "curl -s http://127.0.0.1:8204/v1/sys/replication/dr/secondary/generate-operation-token/attempt | jq\n",
    "\n",
    "Next generate OTP (one time pasword)\n",
    "DR_OTP=$(vault3 operator generate-root -dr-token -generate-otp)\n",
    "\n",
    "Create Nonce\n",
    "NONCE=$(vault3 operator generate-root -dr-token -init -otp=${DR_OTP} |grep -i nonce | awk '{print $2}')\n",
    "\n"
   ]
  },
  {
   "cell_type": "markdown",
   "metadata": {},
   "source": [
    "### Swing it back - Vault1 is back to become Primary\n",
    "\n",
    "Run `vrd1` - starts empty Vault   \n",
    "Configure Vault1 to become DR Secondary   \n",
    "Demote Vault3  "
   ]
  },
  {
   "cell_type": "code",
   "execution_count": null,
   "metadata": {},
   "outputs": [],
   "source": []
  },
  {
   "cell_type": "markdown",
   "metadata": {},
   "source": [
    "### Promote DR Secondary (Vault2) to Primary"
   ]
  },
  {
   "cell_type": "markdown",
   "metadata": {},
   "source": [
    "&nbsp;\n",
    "\n",
    "---\n",
    "#### Thank you.\n",
    "<img src=images/HashiCorp_PrimaryLogo_Black_RGB.png width=100 class=\"center\">"
   ]
  }
 ],
 "metadata": {
  "kernelspec": {
   "display_name": "Z shell",
   "language": "zsh",
   "name": "zsh"
  },
  "language_info": {
   "codemirror_mode": "shell",
   "file_extension": ".zsh",
   "mimetype": "text/x-zsh",
   "name": "zsh",
   "pygments_lexer": "shell",
   "version": "5.7.1"
  }
 },
 "nbformat": 4,
 "nbformat_minor": 4
}
