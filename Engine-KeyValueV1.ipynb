{
 "cells": [
  {
   "cell_type": "markdown",
   "metadata": {},
   "source": [
    "<img align=right src=images/HashiCorp_PrimaryLogo_Black_RGB.png width=150>\n",
    "<img src=images/sglogo.png width=50 align=\"left\">"
   ]
  },
  {
   "cell_type": "markdown",
   "metadata": {},
   "source": [
    "# Static Secrets (v1)\n",
    "---\n",
    "Key/Value Secrets engine is used to store arbitrary secrets.  It can be a generic Key-Value store that stores one value for a key. Or Versioning can be enabled and a number of versions for each key will be stored.\n",
    "\n",
    "**Prerequisites:**\n",
    "* Vault binary\n",
    "\n",
    "EXECUTE the following command in SEPARATE window\n",
    "```\n",
    "VAULT_UI=true VAULT_REDIRECT_ADDR=http://127.0.0.1:8200 evault server -log-level=trace -dev -dev-root-token-id=root -dev-listen-address=127.0.0.1:8200 -dev-ha -dev-transactional\n",
    "```\n",
    " \n",
    "### Setup\n",
    "**Note**:  \n",
    "* Run > Render All Markdown Cells\n",
    "* Edit > Clear all outputs"
   ]
  },
  {
   "cell_type": "code",
   "execution_count": null,
   "metadata": {},
   "outputs": [],
   "source": [
    "export VAULT_ADDR=http://127.0.0.1:8200\n",
    "export VAULT_SKIP_VERIFY=true"
   ]
  },
  {
   "cell_type": "code",
   "execution_count": null,
   "metadata": {},
   "outputs": [],
   "source": [
    "vault login root"
   ]
  },
  {
   "cell_type": "code",
   "execution_count": null,
   "metadata": {},
   "outputs": [],
   "source": [
    "vault status; vault version"
   ]
  },
  {
   "cell_type": "markdown",
   "metadata": {},
   "source": [
    "---\n",
    "### Demo: Your First Secret\n",
    "Now that the Vault server is up and running, let's get read and write your first secret.  One of the core features of Vault is the ability to read and write arbitrary secrets securely.  Secrets are written to Vaul are encrypted and then written to backend storage.\n",
    "\n",
    "Let's write a secret to Key/Value secret engine.  \n",
    "   \n",
    "**Note**:  \n",
    "* Run > Render All Markdown Cells\n",
    "* Edit > Clear all outputs"
   ]
  },
  {
   "cell_type": "code",
   "execution_count": null,
   "metadata": {},
   "outputs": [],
   "source": [
    "vault secrets enable -version=1 -path=secret1 kv"
   ]
  },
  {
   "cell_type": "markdown",
   "metadata": {},
   "source": [
    "### Write key/value secrets\n",
    "This writes multiple data, `username` and `password`, to the path `secret1/training`.  The `secret1/` prefix is where the secret engine is.  Vault offers the concepth of paths which means that engines, policies, and data can be applied to different paths to control access."
   ]
  },
  {
   "cell_type": "code",
   "execution_count": null,
   "metadata": {},
   "outputs": [],
   "source": [
    "vault kv put secret1/training username=\"student01\" password=\"r31nsta11\""
   ]
  },
  {
   "cell_type": "code",
   "execution_count": null,
   "metadata": {},
   "outputs": [],
   "source": [
    "vault kv put secret1/web01 ip=\"192.168.1.191\" username=\"arthur\" password=\"passw0rd123\"\n",
    "vault kv put secret1/web02 ip=\"192.168.1.192\" username=\"raymond\" password=\"passw0rd123\""
   ]
  },
  {
   "cell_type": "code",
   "execution_count": null,
   "metadata": {},
   "outputs": [],
   "source": [
    "curl -X PUT -H \"X-Vault-Token: $(vault print token)\" \\ \n",
    "-d '{\"ip\": \"192.168.1.192\", \"password\":\"r31nsta11\",\"username\":\"student01\"}' http://127.0.0.1:8200/v1/secret1/training"
   ]
  },
  {
   "cell_type": "markdown",
   "metadata": {},
   "source": [
    "### Read the secrets"
   ]
  },
  {
   "cell_type": "code",
   "execution_count": null,
   "metadata": {},
   "outputs": [],
   "source": [
    "vault kv get secret1/training"
   ]
  },
  {
   "cell_type": "code",
   "execution_count": null,
   "metadata": {},
   "outputs": [],
   "source": [
    "curl -H \"X-Vault-Token: $(vault print token)\"  http://127.0.0.1:8200/v1/secret1/training |jq ."
   ]
  },
  {
   "cell_type": "code",
   "execution_count": null,
   "metadata": {},
   "outputs": [],
   "source": [
    "vault kv get -format=json secret1/training | jq -r .data"
   ]
  },
  {
   "cell_type": "code",
   "execution_count": null,
   "metadata": {},
   "outputs": [],
   "source": [
    "vault kv get -field=username secret1/training"
   ]
  },
  {
   "cell_type": "markdown",
   "metadata": {},
   "source": [
    "### Use response wrapping  \n",
    "When requested, Vault can insert the secret into `cubbyhole` of a single-use token, returning that single-use token instead.  \n",
    "Use case: provide cover for the secret information, detect interception or tampering and limit lifetime of secret exposure."
   ]
  },
  {
   "cell_type": "code",
   "execution_count": null,
   "metadata": {},
   "outputs": [],
   "source": [
    "vault kv get -output-curl-string -wrap-ttl=3m secret1/training"
   ]
  },
  {
   "cell_type": "markdown",
   "metadata": {},
   "source": [
    "&nbsp;"
   ]
  },
  {
   "cell_type": "code",
   "execution_count": null,
   "metadata": {},
   "outputs": [],
   "source": [
    "vault unwrap s.TVe2ebDexeTcHuefRMKKh8L8"
   ]
  },
  {
   "cell_type": "markdown",
   "metadata": {},
   "source": [
    "**Perform a lookup on response-wrapping token, this immediately tells you if the token has already been unwrapped or is expired**"
   ]
  },
  {
   "cell_type": "code",
   "execution_count": null,
   "metadata": {},
   "outputs": [],
   "source": [
    "curl -X PUT -H \"X-Vault-Token: $(vault print token)\" -d '{\"token\":\"s.2DuCg2mFzef2cl9ifacRxGiq\"}' http://127.0.0.1:8200/v1/sys/wrapping/lookup  | jq ."
   ]
  },
  {
   "cell_type": "markdown",
   "metadata": {},
   "source": [
    "### List all the secret keys stored in the K/V Secret backend"
   ]
  },
  {
   "cell_type": "code",
   "execution_count": null,
   "metadata": {},
   "outputs": [],
   "source": [
    "vault kv list secret1"
   ]
  },
  {
   "cell_type": "markdown",
   "metadata": {},
   "source": [
    "### Delete Secrets"
   ]
  },
  {
   "cell_type": "code",
   "execution_count": null,
   "metadata": {},
   "outputs": [],
   "source": [
    "VAULT_TOKEN=root vault kv delete secret1/training"
   ]
  },
  {
   "cell_type": "markdown",
   "metadata": {},
   "source": [
    "## API"
   ]
  },
  {
   "cell_type": "code",
   "execution_count": null,
   "metadata": {},
   "outputs": [],
   "source": [
    "#-output-curl-string\n",
    "vault kv put -output-curl-string secret1/apikey/google apikey=\"xvafdoygad1158\""
   ]
  },
  {
   "cell_type": "markdown",
   "metadata": {},
   "source": [
    "**execute the cURL command**"
   ]
  },
  {
   "cell_type": "code",
   "execution_count": null,
   "metadata": {},
   "outputs": [],
   "source": [
    "curl -X PUT -H \"X-Vault-Token: $(vault print token)\" \\\n",
    "   -d '{\"apikey\":\"xvafdoygad1157\"}' \\\n",
    "   http://127.0.0.1:8200/v1/secret1/apikey/google"
   ]
  },
  {
   "cell_type": "markdown",
   "metadata": {},
   "source": [
    "**Read the secret **"
   ]
  },
  {
   "cell_type": "code",
   "execution_count": null,
   "metadata": {},
   "outputs": [],
   "source": [
    "curl -s -H \"X-Vault-Token: $(vault print token)\" http://127.0.0.1:8200/v1/secret1/apikey/google   | jq .data.apikey"
   ]
  },
  {
   "cell_type": "code",
   "execution_count": null,
   "metadata": {},
   "outputs": [],
   "source": [
    "vault kv get secret1/apikey/google"
   ]
  },
  {
   "cell_type": "markdown",
   "metadata": {},
   "source": [
    "**Delete the secret**"
   ]
  },
  {
   "cell_type": "code",
   "execution_count": null,
   "metadata": {},
   "outputs": [],
   "source": [
    "curl -s -X DELETE -H \"X-Vault-Token: $(vault print token)\" http://127.0.0.1:8200/v1/secret1/apikey/google "
   ]
  },
  {
   "cell_type": "markdown",
   "metadata": {},
   "source": [
    "---\n",
    "## Upgrading from Version 1 \n",
    "An existing version 1 KeyValue can be upgraded to a version 2 KeyValue store"
   ]
  },
  {
   "cell_type": "code",
   "execution_count": null,
   "metadata": {},
   "outputs": [],
   "source": [
    "vault kv enable-versioning secret1/"
   ]
  },
  {
   "cell_type": "markdown",
   "metadata": {},
   "source": [
    "---\n",
    "### Via UI\n",
    "Open a web browser and visit http://127.0.0.1:8200/ui/vault Use TOKEN and Sign in\n"
   ]
  },
  {
   "cell_type": "markdown",
   "metadata": {},
   "source": [
    "**TODO:**. \n",
    "- delete vs destroy with version"
   ]
  },
  {
   "cell_type": "markdown",
   "metadata": {},
   "source": [
    "&nbsp;\n",
    "\n",
    "---\n",
    "#### Thank you.\n",
    "<img src=images/HashiCorp_PrimaryLogo_Black_RGB.png width=100 align=\"left\">"
   ]
  }
 ],
 "metadata": {
  "kernelspec": {
   "display_name": "Z shell",
   "language": "zsh",
   "name": "zsh"
  },
  "language_info": {
   "codemirror_mode": "shell",
   "file_extension": ".zsh",
   "mimetype": "text/x-zsh",
   "name": "zsh",
   "pygments_lexer": "shell",
   "version": "5.7.1"
  }
 },
 "nbformat": 4,
 "nbformat_minor": 4
}
