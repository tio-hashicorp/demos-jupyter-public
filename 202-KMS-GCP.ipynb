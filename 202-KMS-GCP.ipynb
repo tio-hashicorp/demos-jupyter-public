{
 "cells": [
  {
   "cell_type": "markdown",
   "metadata": {},
   "source": [
    "<img align=right src=images/HashiCorp_PrimaryLogo_Black_RGB.png width=150>\n",
    "<img src=images/acme.jpeg width=100 align=\"left\">"
   ]
  },
  {
   "cell_type": "markdown",
   "metadata": {},
   "source": [
    "# Google Cloud Key Management Secrets Engine\n",
    "\n",
    "You want to maintain root of trust and control of the encryption key lifecycle.\n",
    "\n",
    "<img src=\"images/vault-tokenization-1.png\">\n",
    "\n",
    "\n",
    "**Prerequisites:**\n",
    "* Vault binary\n",
    "\n",
    "## Setup"
   ]
  },
  {
   "cell_type": "code",
   "execution_count": null,
   "metadata": {},
   "outputs": [],
   "source": [
    "export VAULT_ADDR=http://127.0.0.1:8200\n",
    "export VAULT_SKIP_VERIFY=true"
   ]
  },
  {
   "cell_type": "code",
   "execution_count": null,
   "metadata": {},
   "outputs": [],
   "source": [
    "which vault\n",
    "vault --version"
   ]
  },
  {
   "cell_type": "markdown",
   "metadata": {},
   "source": [
    "\\\n",
    "**EXECUTE the following command in SEPARATE window**\n",
    "\n",
    "```\n",
    "VAULT_UI=true VAULT_REDIRECT_ADDR=http://127.0.0.1:8200 vault server -log-level=trace -dev -dev-root-token-id=root -dev-listen-address=127.0.0.1:8200 -dev-ha -dev-transactional\n",
    "```\n",
    "OR\n",
    "`vrd1`"
   ]
  },
  {
   "cell_type": "code",
   "execution_count": null,
   "metadata": {
    "scrolled": true
   },
   "outputs": [],
   "source": [
    "vault status"
   ]
  },
  {
   "cell_type": "code",
   "execution_count": null,
   "metadata": {},
   "outputs": [],
   "source": [
    "unset VAULT_TOKEN\n",
    "vault login root"
   ]
  },
  {
   "cell_type": "markdown",
   "metadata": {},
   "source": [
    "##### Notice Initialized (=true) and Sealed (=false) status "
   ]
  },
  {
   "cell_type": "markdown",
   "metadata": {},
   "source": [
    "## Enable the Key Management secrets engine"
   ]
  },
  {
   "cell_type": "code",
   "execution_count": null,
   "metadata": {},
   "outputs": [],
   "source": [
    "vault secrets enable gcpkms"
   ]
  },
  {
   "cell_type": "code",
   "execution_count": null,
   "metadata": {},
   "outputs": [],
   "source": [
    "vault write gcpkms/config credentials=@/Users/tio/gcloud/terraform-gcloud1-785d7e769495.json"
   ]
  },
  {
   "cell_type": "markdown",
   "metadata": {},
   "source": [
    "### Create a Google Cloud KMS key\n",
    "\n",
    "Let's write a pair of RSA keys to the secret engine\n"
   ]
  },
  {
   "cell_type": "code",
   "execution_count": null,
   "metadata": {},
   "outputs": [],
   "source": [
    "vault write gcpkms/keys/my-key\\\n",
    "  key_ring=projects/terraform-gcloud1/locations/asia-southeast1/keyRings/tio-keys \\\n",
    "  rotation_period=72h"
   ]
  },
  {
   "cell_type": "markdown",
   "metadata": {},
   "source": [
    "### Read keys"
   ]
  },
  {
   "cell_type": "code",
   "execution_count": null,
   "metadata": {},
   "outputs": [],
   "source": [
    "vault read gcpkms/key/rsa-2 -format=json | jq   ###not working"
   ]
  },
  {
   "cell_type": "markdown",
   "metadata": {},
   "source": [
    "---\n",
    "# Symmetric Encryption/Decryption\n",
    "Use a Cloud KMS key for symmetric encryption/decryption.  \n",
    "\n",
    "\n",
    "| Purpose | Supported Algorithms |\n",
    "|---------|-----------------------|\n",
    "| encrypt_decrypt | symmetric_encryption |"
   ]
  },
  {
   "cell_type": "code",
   "execution_count": null,
   "metadata": {},
   "outputs": [],
   "source": [
    "vault write gcpkms/keys/my-key3\\\n",
    "  key_ring=projects/terraform-gcloud1/locations/asia-southeast1/keyRings/tio-keys \\\n",
    "  purpose=encrypt_decrypt \\\n",
    "  algorithm=symmetric_encryption"
   ]
  },
  {
   "cell_type": "markdown",
   "metadata": {},
   "source": [
    "### Encrypt plaintext"
   ]
  },
  {
   "cell_type": "code",
   "execution_count": null,
   "metadata": {},
   "outputs": [],
   "source": [
    "vault write gcpkms/encrypt/my-key3 plaintext=\"hello world\""
   ]
  },
  {
   "cell_type": "markdown",
   "metadata": {},
   "source": [
    "### Decrypt ciphertext"
   ]
  },
  {
   "cell_type": "code",
   "execution_count": null,
   "metadata": {},
   "outputs": [],
   "source": [
    "vault write gcpkms/decrypt/my-key3 ciphertext=\"CiQAtzWXx1sEvCM2rit4nVLWXxKoZUPzmY88eBwW/TcCTEFWzfISNAAsWQBDXVIiu/AnDLZCHtP27AowgAxj1zN9aqlad4UIktnKGi8XNoHHcvwC/OQfCdTCcfc=\""
   ]
  },
  {
   "cell_type": "markdown",
   "metadata": {},
   "source": [
    "**OR**"
   ]
  },
  {
   "cell_type": "code",
   "execution_count": null,
   "metadata": {},
   "outputs": [],
   "source": [
    "vault write -field=plaintext gcpkms/decrypt/my-key2 ciphertext=\"CiQAUpRiLOW2HHR9NHmMk2JCNUZbgd75fzUqJdkTJqhfdpRZVUwSNABFEwz2bWrzaCskVQYwI+OgxelTe146xmkD3c89Z1D5SCKsHsVlPdQrTckaHS8Hj76I9/A=\""
   ]
  },
  {
   "cell_type": "markdown",
   "metadata": {},
   "source": [
    "### Rotate underlying encryption key"
   ]
  },
  {
   "cell_type": "code",
   "execution_count": null,
   "metadata": {},
   "outputs": [],
   "source": [
    "vault write -f gcpkms/keys/rotate/my-key3"
   ]
  },
  {
   "cell_type": "code",
   "execution_count": null,
   "metadata": {},
   "outputs": [],
   "source": [
    "vault write gcpkms/reencrypt/my-key2 ciphertext=\"CiQAUpRiLOW2HHR9NHmMk2JCNUZbgd75fzUqJdkTJqhfdpRZVUwSNABFEwz2bWrzaCskVQYwI+OgxelTe146xmkD3c89Z1D5SCKsHsVlPdQrTckaHS8Hj76I9/A=\""
   ]
  },
  {
   "cell_type": "markdown",
   "metadata": {},
   "source": [
    "### Delete key versions older than min_version"
   ]
  },
  {
   "cell_type": "code",
   "execution_count": null,
   "metadata": {},
   "outputs": [],
   "source": [
    "vault write -f gcpkms/keys/config/my-key3 min_version=10"
   ]
  },
  {
   "cell_type": "code",
   "execution_count": null,
   "metadata": {},
   "outputs": [],
   "source": [
    "vault write -f gcpkms/keys/trim/my-key3"
   ]
  },
  {
   "cell_type": "markdown",
   "metadata": {},
   "source": [
    "### Delete key"
   ]
  },
  {
   "cell_type": "code",
   "execution_count": null,
   "metadata": {},
   "outputs": [],
   "source": [
    "vault delete gcpkms/keys/my-key3"
   ]
  },
  {
   "cell_type": "code",
   "execution_count": null,
   "metadata": {},
   "outputs": [],
   "source": [
    "vault list gcpkms/keys"
   ]
  },
  {
   "cell_type": "markdown",
   "metadata": {},
   "source": [
    "### Asymmetric Decryption\n",
    "Use Cloud KMS key for asymmetric decryption.  In this model Google Cloud manages the key ring and exposes the public key via an API endpoint.  The public key is used to encrypt data offline and produce ciphertext.\n",
    "\n",
    "| Purpose | Supported Algorithms |\n",
    "|---------|-----------------------|\n",
    "| asymmetric_decrypt | rsa_decrypt_oaep_2048_sha256 |\n",
    "| | rsa_decrypt_oaep_3072_sha256 |\n",
    "| | rsa_decrypt_oaep_4096_sha256 |\n",
    "\n"
   ]
  },
  {
   "cell_type": "code",
   "execution_count": null,
   "metadata": {},
   "outputs": [],
   "source": [
    "vault write gcpkms/keys/t2-key\\\n",
    "  key_ring=projects/terraform-gcloud1/locations/asia-southeast1/keyRings/tio2-keys \\\n",
    "  purpose=asymmetric_decrypt \\\n",
    "  algorithm=rsa_decrypt_oaep_4096_sha256"
   ]
  },
  {
   "cell_type": "markdown",
   "metadata": {},
   "source": [
    "### Retrieve the public key from Cloud KMS"
   ]
  },
  {
   "cell_type": "code",
   "execution_count": null,
   "metadata": {},
   "outputs": [],
   "source": [
    "gcloud kms keys versions get-public-key v1 \\\n",
    "    --location asia-southeast1 \\\n",
    "    --keyring projects/terraform-gcloud1/locations/asia-southeast1/keyRings/tio2-keys  \\\n",
    "    --key t2-key \\\n",
    "    --output-file /tmp/mykey.pub"
   ]
  },
  {
   "cell_type": "code",
   "execution_count": null,
   "metadata": {},
   "outputs": [],
   "source": [
    "openssl pkeyutl -in ~/my-secret-file \\\n",
    "    -encrypt -pubin \\\n",
    "    -inkey ~/mykey.pub \\\n",
    "    -pkeyopt rsa_padding_mode:oaep \\\n",
    "    -pkeyopt rsa_oaep_md:sha256 \\\n",
    "    -pkeyopt rsa_mgf1_md:sha256"
   ]
  },
  {
   "cell_type": "markdown",
   "metadata": {},
   "source": [
    "**Note** the encryption happens offline (outside of Vault).  The encryption is hapenning with a public key. Only Cloud KMS has the corresponding private key."
   ]
  },
  {
   "cell_type": "code",
   "execution_count": null,
   "metadata": {},
   "outputs": [],
   "source": [
    "vault write gcpkms/decrypt/t2-key key_version=1 ciphertext=CiQAuMv0lTiKjrF43Lgr4"
   ]
  },
  {
   "cell_type": "code",
   "execution_count": null,
   "metadata": {},
   "outputs": [],
   "source": []
  },
  {
   "cell_type": "markdown",
   "metadata": {},
   "source": [
    "&nbsp;\n",
    "\n",
    "---\n",
    "#### Thank you.\n",
    "<img src=images/HashiCorp_PrimaryLogo_Black_RGB.png width=100 align=\"left\">"
   ]
  }
 ],
 "metadata": {
  "kernelspec": {
   "display_name": "Z shell",
   "language": "zsh",
   "name": "zsh"
  },
  "language_info": {
   "codemirror_mode": "shell",
   "file_extension": ".zsh",
   "mimetype": "text/x-zsh",
   "name": "zsh",
   "pygments_lexer": "shell",
   "version": "5.7.1"
  }
 },
 "nbformat": 4,
 "nbformat_minor": 4
}
