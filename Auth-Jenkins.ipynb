{
 "cells": [
  {
   "cell_type": "markdown",
   "metadata": {},
   "source": [
    "<img src=images/HashiCorp_PrimaryLogo_Black_RGB.png width=150 align=\"right\">\n",
    "<img src=images/Acme.jpeg width=100 align=\"left\">"
   ]
  },
  {
   "cell_type": "markdown",
   "metadata": {},
   "source": [
    "\n",
    "Jenkins Integration\n",
    "---\n",
    "## Business Values\n",
    " * Provide a way for operators to manage policy without being involved in generating tokens or creds for applications (minimize coordination) \n",
    " * Operators have less work to do\n",
    " * Orchestration tools can take over the task of giving applications secrets access"
   ]
  },
  {
   "cell_type": "markdown",
   "metadata": {},
   "source": [
    "## How AppRole Auth Method works\n",
    "\n",
    "How can a Jenkins server programmatically request a token so that it can read secrets from Vault?\n",
    "\n",
    "Using the AppRole which is an authentication mechanism within Vault to allow machines or apps to acquire a token to interact with Vault and using the policies you can set access limitations for your app.\n",
    "<br />   \n",
    "<img src=\"images/vault-jenkins-workflow.png\" width=800>\n"
   ]
  },
  {
   "cell_type": "markdown",
   "metadata": {},
   "source": [
    "### Setup\n",
    "---"
   ]
  },
  {
   "cell_type": "code",
   "execution_count": 3,
   "metadata": {},
   "outputs": [],
   "source": [
    "export VAULT_ADDR=http://127.0.0.1:8200\n",
    "export VAULT_SKIP_VERIFY=true"
   ]
  },
  {
   "cell_type": "code",
   "execution_count": 4,
   "metadata": {},
   "outputs": [
    {
     "name": "stdout",
     "output_type": "stream",
     "text": [
      "\u001b[0mSuccess! You are now authenticated. The token information displayed below\n",
      "is already stored in the token helper. You do NOT need to run \"vault login\"\n",
      "again. Future Vault requests will automatically use this token.\n",
      "\u001b[0m\n",
      "\u001b[0mKey                  Value\n",
      "---                  -----\n",
      "token                root\n",
      "token_accessor       dRq6usE3NFp7vjYtgtH8uqQv\n",
      "token_duration       ∞\n",
      "token_renewable      false\n",
      "token_policies       [\"root\"]\n",
      "identity_policies    []\n",
      "policies             [\"root\"]\u001b[0m\n"
     ]
    }
   ],
   "source": [
    "vault login root"
   ]
  },
  {
   "cell_type": "code",
   "execution_count": null,
   "metadata": {},
   "outputs": [],
   "source": [
    "vault status; vault version"
   ]
  },
  {
   "cell_type": "markdown",
   "metadata": {},
   "source": [
    "### Demo\n",
    "---"
   ]
  },
  {
   "cell_type": "markdown",
   "metadata": {},
   "source": [
    "### Enable the approle authentication method\n"
   ]
  },
  {
   "cell_type": "code",
   "execution_count": 3,
   "metadata": {},
   "outputs": [
    {
     "name": "stdout",
     "output_type": "stream",
     "text": [
      "\u001b[91mError enabling approle auth: Error making API request.\n",
      "\n",
      "URL: POST http://127.0.0.1:8200/v1/sys/auth/approle\n",
      "Code: 400. Errors:\n",
      "\n",
      "* path is already in use at approle/\u001b[0m\n"
     ]
    }
   ],
   "source": [
    "vault auth enable approle"
   ]
  },
  {
   "cell_type": "markdown",
   "metadata": {},
   "source": [
    "### Create a secret\n",
    "NOTE: num_uses determines how many times secret can be used.\n",
    "\n",
    "In this example, a SecretID of the myapp role can be used for up to 5 times to authenticate and fetch a client token. After the number of uses is reached, the SecretID expires and you would need to generate a new one. This is similar to forcing a password rotation."
   ]
  },
  {
   "cell_type": "code",
   "execution_count": 14,
   "metadata": {},
   "outputs": [
    {
     "name": "stdout",
     "output_type": "stream",
     "text": [
      "  path \"secret1/*\" {\n",
      "    capabilities = [ \"read\", \"list\"]\n",
      "  }\n",
      "\n",
      "  path \"aws/*\" {\n",
      "    capabilities = [ \"read\" ]\n",
      "  }\n",
      "\n",
      "  path \"mdb1/*\" {\n",
      "    capabilities = [ \"read\" ]\n",
      "  }\n"
     ]
    }
   ],
   "source": [
    "# use KV 1\n",
    "\n",
    "tee /tmp/orchestrator-policy.hcl <<\"EOF\"\n",
    "  path \"secret1/*\" {\n",
    "    capabilities = [ \"read\", \"list\"]\n",
    "  }\n",
    "\n",
    "  path \"aws/*\" {\n",
    "    capabilities = [ \"read\" ]\n",
    "  }\n",
    "\n",
    "  path \"mdb1/*\" {\n",
    "    capabilities = [ \"read\" ]\n",
    "  }\n",
    "EOF"
   ]
  },
  {
   "cell_type": "code",
   "execution_count": 15,
   "metadata": {},
   "outputs": [
    {
     "name": "stdout",
     "output_type": "stream",
     "text": [
      "\u001b[0mSuccess! Uploaded policy: orchestrator-policy\u001b[0m\n"
     ]
    }
   ],
   "source": [
    "vault policy write orchestrator-policy /tmp/orchestrator-policy.hcl"
   ]
  },
  {
   "cell_type": "markdown",
   "metadata": {},
   "source": [
    "### Create a role id for Jenkins\n",
    "Typically a constant value, provide this to the app developer team"
   ]
  },
  {
   "cell_type": "code",
   "execution_count": 6,
   "metadata": {},
   "outputs": [
    {
     "name": "stdout",
     "output_type": "stream",
     "text": [
      "\u001b[0mSuccess! Data written to: auth/approle/role/orchestrator\u001b[0m\n"
     ]
    }
   ],
   "source": [
    "vault write auth/approle/role/orchestrator token_max_ttl=4h token_ttl=30m token_policies=\"orchestrator-policy\""
   ]
  },
  {
   "cell_type": "code",
   "execution_count": 7,
   "metadata": {},
   "outputs": [
    {
     "name": "stdout",
     "output_type": "stream",
     "text": [
      "\u001b[0mKey        Value\n",
      "---        -----\n",
      "role_id    00fdf1d9-8ff0-4df4-d113-ae3e3f8ed321\u001b[0m\n"
     ]
    }
   ],
   "source": [
    "vault read auth/approle/role/orchestrator/role-id"
   ]
  },
  {
   "cell_type": "markdown",
   "metadata": {},
   "source": [
    "**Generate a Secret ID**"
   ]
  },
  {
   "cell_type": "code",
   "execution_count": 8,
   "metadata": {},
   "outputs": [
    {
     "name": "stdout",
     "output_type": "stream",
     "text": [
      "\u001b[0mKey                   Value\n",
      "---                   -----\n",
      "secret_id             40f74c8d-b0a3-bb63-8a9e-e9e83e7194bb\n",
      "secret_id_accessor    bec41b91-47a7-a250-aead-a2252b1bf4f6\u001b[0m\n"
     ]
    }
   ],
   "source": [
    "vault write -f auth/approle/role/orchestrator/secret-id"
   ]
  },
  {
   "cell_type": "markdown",
   "metadata": {},
   "source": [
    "### Use API"
   ]
  },
  {
   "cell_type": "code",
   "execution_count": 10,
   "metadata": {},
   "outputs": [
    {
     "name": "stdout",
     "output_type": "stream",
     "text": [
      "00fdf1d9-8ff0-4df4-d113-ae3e3f8ed321\n"
     ]
    }
   ],
   "source": [
    "export APPROLE=\"orchestrator\"\n",
    "export VAULT_TOKEN=$(vault print token)\n",
    "ROLE_ID=$(curl -s -H \"X-Vault-Token: ${VAULT_TOKEN}\" \"http://127.0.0.1:8200/v1/auth/approle/role/${APPROLE}/role-id\" | jq -r '.data.role_id')\n",
    "echo $ROLE_ID"
   ]
  },
  {
   "cell_type": "code",
   "execution_count": 10,
   "metadata": {},
   "outputs": [
    {
     "name": "stdout",
     "output_type": "stream",
     "text": [
      "\u001b[0mKey                   Value\n",
      "---                   -----\n",
      "secret_id             1424f553-5412-24eb-044f-5369e96cb1e7\n",
      "secret_id_accessor    86822756-4b86-6c3c-a21b-66a8133cf9f5\u001b[0m\n"
     ]
    }
   ],
   "source": [
    "#another secret-id\n",
    "vault write -f auth/approle/role/orchestrator/secret-id"
   ]
  },
  {
   "cell_type": "markdown",
   "metadata": {},
   "source": [
    "**Using CURL instead**  "
   ]
  },
  {
   "cell_type": "code",
   "execution_count": null,
   "metadata": {},
   "outputs": [],
   "source": [
    "SECRET_ID=$(curl -s -X POST -H \"X-Vault-Token:${VAULT_TOKEN}\" \"http://127.0.0.1:8200/v1/auth/jenkins/role/${APPROLE}/secret-id\" | jq -r '.data.secret_id')\n",
    "echo ${SECRET_ID}"
   ]
  },
  {
   "cell_type": "markdown",
   "metadata": {},
   "source": [
    "### Get a token for logging into Vault using roleID and secretID"
   ]
  },
  {
   "cell_type": "code",
   "execution_count": 11,
   "metadata": {},
   "outputs": [
    {
     "name": "stdout",
     "output_type": "stream",
     "text": [
      "\u001b[0mKey                     Value\n",
      "---                     -----\n",
      "token                   s.WFxlF06y382aTScsl3ZT3AJE\n",
      "token_accessor          GEfIvhEFtVbyFss9ScdNo1md\n",
      "token_duration          30m\n",
      "token_renewable         true\n",
      "token_policies          [\"default\" \"orchestrator-policy\"]\n",
      "identity_policies       []\n",
      "policies                [\"default\" \"orchestrator-policy\"]\n",
      "token_meta_role_name    orchestrator\u001b[0m\n"
     ]
    }
   ],
   "source": [
    "ROLE_ID=00fdf1d9-8ff0-4df4-d113-ae3e3f8ed321 SECRET_ID=40f74c8d-b0a3-bb63-8a9e-e9e83e7194bb;\n",
    "vault write auth/approle/login role_id=${ROLE_ID} secret_id=${SECRET_ID}"
   ]
  },
  {
   "cell_type": "markdown",
   "metadata": {},
   "source": [
    "**Again, we can do the same using CURL**"
   ]
  },
  {
   "cell_type": "code",
   "execution_count": null,
   "metadata": {},
   "outputs": [],
   "source": [
    "APP_ROLE_TOKEN=$(curl -s -X POST -d '{\"role_id\": \"'\"${ROLE_ID}\"'\", \"secret_id\": \"'\"${SECRET_ID}\"'\"}' http://127.0.0.1:8200/v1/auth/approle/login | jq -r '.auth.client_token')\n",
    "echo ${APP_ROLE_TOKEN}"
   ]
  },
  {
   "cell_type": "code",
   "execution_count": 16,
   "metadata": {},
   "outputs": [
    {
     "name": "stdout",
     "output_type": "stream",
     "text": [
      "\u001b[0mSuccess! You are now authenticated. The token information displayed below\n",
      "is already stored in the token helper. You do NOT need to run \"vault login\"\n",
      "again. Future Vault requests will automatically use this token.\n",
      "\u001b[0m\n",
      "\u001b[0mKey                     Value\n",
      "---                     -----\n",
      "token                   s.mSaXjM2gjtQrbh2h1sRdMktF\n",
      "token_accessor          FTgfgFExmtv429q2eO2CM06K\n",
      "token_duration          19m40s\n",
      "token_renewable         true\n",
      "token_policies          [\"default\" \"jenkins-policy\"]\n",
      "identity_policies       []\n",
      "policies                [\"default\" \"jenkins-policy\"]\n",
      "token_meta_role_name    jenkins\u001b[0m\n"
     ]
    }
   ],
   "source": [
    "APP_ROLE_TOKEN=s.mSaXjM2gjtQrbh2h1sRdMktF\n",
    "vault login ${APP_ROLE_TOKEN}"
   ]
  },
  {
   "cell_type": "code",
   "execution_count": 23,
   "metadata": {},
   "outputs": [
    {
     "name": "stdout",
     "output_type": "stream",
     "text": [
      "\u001b[0mKeys\n",
      "----\n",
      "AlupWSwLEGqrVAuBtxqC0ymu\n",
      "FTgfgFExmtv429q2eO2CM06K\n",
      "SRRjFv6GWrxQzPHtyDupBRlQ\n",
      "WhqpAsK30bQgNj9LcttppqRZ\n",
      "vMBmDMzQcFBsc1oCuhFDqT7A\u001b[0m\n"
     ]
    }
   ],
   "source": [
    "VAULT_TOKEN=root vault list auth/token/accessors"
   ]
  },
  {
   "cell_type": "code",
   "execution_count": 32,
   "metadata": {},
   "outputs": [
    {
     "name": "stdout",
     "output_type": "stream",
     "text": [
      "\u001b[0mKey                 Value\n",
      "---                 -----\n",
      "accessor            FTgfgFExmtv429q2eO2CM06K\n",
      "creation_time       1615646146\n",
      "creation_ttl        30m\n",
      "display_name        approle\n",
      "entity_id           df55bd26-ff52-c59d-2e8d-a7ff154d448a\n",
      "expire_time         2021-03-13T23:05:46.589912+08:00\n",
      "explicit_max_ttl    0s\n",
      "id                  n/a\n",
      "issue_time          2021-03-13T22:35:46.589915+08:00\n",
      "meta                map[role_name:jenkins]\n",
      "num_uses            0\n",
      "orphan              true\n",
      "path                auth/approle/login\n",
      "policies            [default jenkins-policy]\n",
      "renewable           true\n",
      "ttl                 11m4s\n",
      "type                service\u001b[0m\n"
     ]
    }
   ],
   "source": [
    "VAULT_TOKEN=root vault token lookup -accessor  FTgfgFExmtv429q2eO2CM06K"
   ]
  },
  {
   "cell_type": "code",
   "execution_count": 37,
   "metadata": {},
   "outputs": [
    {
     "name": "stdout",
     "output_type": "stream",
     "text": [
      "\u001b[0mKey                 Value\n",
      "---                 -----\n",
      "accessor            FTgfgFExmtv429q2eO2CM06K\n",
      "creation_time       1615646146\n",
      "creation_ttl        30m\n",
      "display_name        approle\n",
      "entity_id           df55bd26-ff52-c59d-2e8d-a7ff154d448a\n",
      "expire_time         2021-03-13T23:05:46.589912+08:00\n",
      "explicit_max_ttl    0s\n",
      "id                  s.mSaXjM2gjtQrbh2h1sRdMktF\n",
      "issue_time          2021-03-13T22:35:46.589915+08:00\n",
      "meta                map[role_name:jenkins]\n",
      "num_uses            0\n",
      "orphan              true\n",
      "path                auth/approle/login\n",
      "policies            [default jenkins-policy]\n",
      "renewable           true\n",
      "ttl                 6m14s\n",
      "type                service\u001b[0m\n"
     ]
    }
   ],
   "source": [
    "VAULT_TOKEN=s.mSaXjM2gjtQrbh2h1sRdMktF vault token lookup"
   ]
  },
  {
   "cell_type": "markdown",
   "metadata": {},
   "source": [
    "## Response Wrap the SecretID\n",
    "The RoleID is equivalent to a username, and SecretID is the corresponding password. The app needs both to log in with Vault. Naturally, the next question becomes how to deliver those values to the client securely.\n",
    "\n",
    "A common solution involves three personas instead of two: admin, app, and trusted entity. The trusted entity delivers the RoleID and SecretID to the client by separate means.\n",
    "\n",
    "For example, Terraform as a trusted entity can deliver the RoleID onto the virtual machine. When the app runs on the virtual machine, the RoleID already exists on the virtual machine.\n",
    "\n",
    "<img src=\"images/vault-approle-workflow2.png\">"
   ]
  },
  {
   "cell_type": "markdown",
   "metadata": {},
   "source": [
    "SecretID is like password.  Use **response wrapping** so that only expecting client can unwrap the SecretID."
   ]
  },
  {
   "cell_type": "code",
   "execution_count": null,
   "metadata": {},
   "outputs": [],
   "source": [
    "## parameter order matters\n",
    "vault write -wrap-ttl=60s -f auth/approle/role/myapp/secret-id."
   ]
  },
  {
   "cell_type": "code",
   "execution_count": null,
   "metadata": {},
   "outputs": [],
   "source": [
    "VAULT_TOKEN=s.ILPSggHj70JSzTWpcWtot7nU vault unwrap"
   ]
  },
  {
   "cell_type": "code",
   "execution_count": null,
   "metadata": {},
   "outputs": [],
   "source": [
    "# should give error\n",
    "VAULT_TOKEN=s.ILPSggHj70JSzTWpcWtot7nU vault unwrap"
   ]
  },
  {
   "cell_type": "markdown",
   "metadata": {},
   "source": [
    "&nbsp;\n",
    "\n",
    "---\n",
    "#### Thank you.\n",
    "<img src=images/HashiCorp_PrimaryLogo_Black_RGB.png width=100 align=\"left\">"
   ]
  },
  {
   "cell_type": "markdown",
   "metadata": {},
   "source": [
    "---\n",
    "# AppRole Auhentication Method\n",
    "\n",
    "Vault provides internal and external authentication methods.  External methods are called *tusted third-party authenticators* such as AWS, LDAP, Github, etc.\n",
    "\n",
    "In some situations trusted third-party authenticator is not available, so Vault has an alternate approach - **AppRole** .   \n",
    "AppRole allows machines or apps to authenticate.  This auth method is oriented to automated workflows (machines and services) and is less useful for human operators.\n",
    "\n",
    "* AppRole generates **RoleID** and **SecretID**\n",
    "    - RoleID is an identifier similar to username\n",
    "    - SecretID is a credential to login (similart to password)   \n",
    "    "
   ]
  },
  {
   "cell_type": "markdown",
   "metadata": {},
   "source": [
    "### Setup\n",
    "<img src=\"images/vault-approle-workflow.png\" width=800>\n"
   ]
  },
  {
   "cell_type": "code",
   "execution_count": null,
   "metadata": {},
   "outputs": [],
   "source": [
    "vault login root\n",
    "vault auth enable approle"
   ]
  },
  {
   "cell_type": "code",
   "execution_count": null,
   "metadata": {},
   "outputs": [],
   "source": [
    "vault write auth/approle/role/tio-crm \\\n",
    "  token_num_users=3 \\\n",
    "  token_ttl=10m \\\n",
    "  token_max_ttl=30m \\\n",
    "  secret_id_ttl=5m \\\n",
    "  secret_id_num_uses=40 "
   ]
  },
  {
   "cell_type": "markdown",
   "metadata": {},
   "source": [
    "### RoleID\n",
    "RoleID is a unique identifier for the app.  They can be set to particular values to match introspected information by the client (ex: client's domain name)."
   ]
  },
  {
   "cell_type": "code",
   "execution_count": null,
   "metadata": {},
   "outputs": [],
   "source": [
    "vault read auth/approle/role/tio-crm/role-id"
   ]
  },
  {
   "cell_type": "markdown",
   "metadata": {},
   "source": [
    "### SecretID\n",
    "SecretID is like a password, it is intended to always be secret.  SecretIDs can be created agains an AppRole either via generation of a 128-bit purely random UUID by the role itself or via specific custom values.  SecretIDs have properties like usage-limit, TTLs, and expirations.\n",
    "\n",
    "**Pull and Push SecretID Modes**  \n",
    "If SecretID is fetched from an AppRole, this is Pull Mode.  Most cases Pull mode is the better approach.\n",
    "\n",
    "<img src=\"images/vault-approle-pull.png\" width=800>  \n",
    "\n",
    "If a \"custom\" secretID is set by the client, it is Push Mode.  \n",
    "<img src=\"images/vault-approle-push.png\" width=800>\n",
    "\n",
    "Push Mode requires some other system to have knowledge of the full set of credentials (RoleID and SecretID) in order to create the entry.   \n",
    "However in Pull Mode, the SecretID can be kept confidential from all parties except for the final authenticating client by using Response w Wrapping.\n",
    "  \n"
   ]
  },
  {
   "cell_type": "code",
   "execution_count": null,
   "metadata": {},
   "outputs": [],
   "source": [
    "vault write -f auth/approle/role/tio-crm/secret-id"
   ]
  },
  {
   "cell_type": "markdown",
   "metadata": {},
   "source": [
    "### Login"
   ]
  },
  {
   "cell_type": "code",
   "execution_count": null,
   "metadata": {},
   "outputs": [],
   "source": [
    "vault write auth/approle/login \\\n",
    "  role_id=d56c9c46-7198-4238-fb0c-3a2b26e97e18   \\\n",
    "  secret_id=e151cb41-0152-8974-e259-75d9fd7c2972 "
   ]
  },
  {
   "cell_type": "markdown",
   "metadata": {},
   "source": [
    "**Using cURL**  \n",
    "The default endpoint is `auth/approle/login`.  The response will contain the token at `auth.client_token`"
   ]
  },
  {
   "cell_type": "code",
   "execution_count": null,
   "metadata": {},
   "outputs": [],
   "source": [
    "curl -s --request POST \\\n",
    "    --data \"{\\\"role_id\\\":\\\"d56c9c46-7198-4238-fb0c-3a2b26e97e18\\\", \\\"secret_id\\\":\\\"e151cb41-0152-8974-e259-75d9fd7c2972\\\"}\" \\\n",
    "    http://127.0.0.1:8200/v1/auth/approle/login |jq"
   ]
  },
  {
   "cell_type": "code",
   "execution_count": null,
   "metadata": {},
   "outputs": [],
   "source": []
  }
 ],
 "metadata": {
  "kernelspec": {
   "display_name": "Z shell",
   "language": "zsh",
   "name": "zsh"
  },
  "language_info": {
   "codemirror_mode": "shell",
   "file_extension": ".zsh",
   "mimetype": "text/x-zsh",
   "name": "zsh",
   "pygments_lexer": "shell",
   "version": "5.7.1"
  }
 },
 "nbformat": 4,
 "nbformat_minor": 4
}
