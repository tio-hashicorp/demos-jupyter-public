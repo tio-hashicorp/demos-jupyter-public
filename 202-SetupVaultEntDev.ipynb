{
 "cells": [
  {
   "cell_type": "markdown",
   "metadata": {},
   "source": [
    "<img align=right src=images/HashiCorp_PrimaryLogo_Black_RGB.png width=150>\n",
    "<img src=images/lionhead.png  width=100 align=\"left\">"
   ]
  },
  {
   "cell_type": "markdown",
   "metadata": {},
   "source": [
    "# Vault Enterprise\n",
    "<img src=images/vault-enterprise1.png width=\"500\">\n",
    "\n",
    "Find the full list of Enterprise features at https://www.hashicorp.com/products/vault/pricing/\n",
    "\n",
    "Prereq: \n",
    "You need to have Vault Enterprise binary and appropriate License file\n",
    "\n",
    "## Setup"
   ]
  },
  {
   "cell_type": "code",
   "execution_count": null,
   "metadata": {},
   "outputs": [],
   "source": [
    "which evault\n",
    "evault --version"
   ]
  },
  {
   "cell_type": "code",
   "execution_count": null,
   "metadata": {},
   "outputs": [],
   "source": [
    "alias evrd1"
   ]
  },
  {
   "cell_type": "markdown",
   "metadata": {},
   "source": [
    "### Run Vault Enterprise server(s) by running the following command in a SEPARATE window\n",
    "```\n",
    "evrd1\n",
    "```"
   ]
  },
  {
   "cell_type": "markdown",
   "metadata": {},
   "source": [
    "### Apply License to Vault\n",
    "Do the followings to Vault server(s) you have, just need to change the **VAULT_ADDR** port.  YOu can check whether the license has been applied properly through GUI."
   ]
  },
  {
   "cell_type": "code",
   "execution_count": null,
   "metadata": {},
   "outputs": [],
   "source": [
    "export VAULT_ADDR=http://127.0.0.1:8200\n",
    "export VAULT_ROOT_TOKEN=root\n",
    "curl --header \"X-Vault-Token: $VAULT_ROOT_TOKEN\" \\\n",
    "    --insecure \\\n",
    "    --request PUT \\\n",
    "    --data @/Users/tio/Documents/vault_license.json \\\n",
    "    $VAULT_ADDR/v1/sys/license"
   ]
  },
  {
   "cell_type": "code",
   "execution_count": null,
   "metadata": {},
   "outputs": [],
   "source": [
    "VAULT_ADDR=http://127.0.0.1:8200 vault status"
   ]
  },
  {
   "cell_type": "markdown",
   "metadata": {},
   "source": [
    "##### Notice Initialized and Sealed status\n",
    "When a Vault server is started, it starts in a **sealed** state and it does not know how to decrypt data.  Before any operation can be performed on the Vault, it must be unsealed (sealed = false)."
   ]
  },
  {
   "cell_type": "markdown",
   "metadata": {},
   "source": [
    "### Populate Vault data\n",
    "Using GUI is also easy!"
   ]
  },
  {
   "cell_type": "code",
   "execution_count": null,
   "metadata": {},
   "outputs": [],
   "source": [
    "export VAULT_ADDR=http://127.0.0.1:8200\n",
    "export VAULT_ROOT_TOKEN=root\n",
    "vault secrets enable aws\n",
    "vault secrets enable -version=1 --path=secret1 kv\n",
    "vault secrets enable pki\n",
    "vault secrets enable -path=mdb1 database"
   ]
  },
  {
   "cell_type": "markdown",
   "metadata": {},
   "source": [
    "### Use GUI to show Disaster Recovery and Replication\n",
    "1. Enable Primary  \n",
    "2a. Add Secondary DR1 (same region)  \n",
    "2b. Add Secondary DR2 - another region  \n",
    "3. Add Secondary Performance  \n",
    "3b. Whitelist/Blacklist Secret Engines"
   ]
  },
  {
   "cell_type": "code",
   "execution_count": null,
   "metadata": {},
   "outputs": [],
   "source": []
  },
  {
   "cell_type": "markdown",
   "metadata": {},
   "source": [
    "### View Vault via a browser\n",
    "Open a web browser and visit http://127.0.0.1:8200/ui/vault\n",
    "Use **TOKEN** and **Sign in**"
   ]
  },
  {
   "cell_type": "markdown",
   "metadata": {},
   "source": [
    "&nbsp;\n",
    "\n",
    "---\n",
    "#### Thank you.\n",
    "<img src=images/HashiCorp_PrimaryLogo_Black_RGB.png width=100 align=\"left\">"
   ]
  }
 ],
 "metadata": {
  "kernelspec": {
   "display_name": "Z shell",
   "language": "zsh",
   "name": "zsh"
  },
  "language_info": {
   "codemirror_mode": "shell",
   "file_extension": ".zsh",
   "mimetype": "text/x-zsh",
   "name": "zsh",
   "pygments_lexer": "shell",
   "version": "5.7.1"
  }
 },
 "nbformat": 4,
 "nbformat_minor": 4
}
