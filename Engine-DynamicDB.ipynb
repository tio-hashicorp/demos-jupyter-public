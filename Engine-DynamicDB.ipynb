{
 "cells": [
  {
   "cell_type": "markdown",
   "metadata": {},
   "source": [
    "<img align=right src=images/HashiCorp_PrimaryLogo_Black_RGB.png width=150>\n",
    "<img src=images/sglogo.png width=50  align=\"left\">"
   ]
  },
  {
   "cell_type": "code",
   "execution_count": null,
   "metadata": {},
   "outputs": [],
   "source": []
  },
  {
   "cell_type": "markdown",
   "metadata": {},
   "source": [
    "# Database Engine - MariaDB/MySQL Dynamic Credentials\n",
    "---\n",
    "Dynamic Secrets are generated when they are accessed.  In other words, Dynamic Secrets do not exist until they are read.\n",
    "Vault has built-in revocation mechanism.\n",
    "Database Secrets engine:\n",
    "* Cassandra\n",
    "* Couchbase\n",
    "* Elasticsearch\n",
    "* InfluxDB\n",
    "* HanaDB\n",
    "* MongoDB\n",
    "* MongoDB Atlas\n",
    "* MSSQL\n",
    "* MySQL/MariaDB\n",
    "* PostgreSQL\n",
    "* Oracle\n",
    "* Redshift\n",
    "\n",
    "## Business Value of Capability\n",
    "We use dynamic secrets to allow applications to get dynamic creds to access databases.  \n",
    "<img src=images/db-secret-engine.png width=800>\n",
    "\n",
    "### Setup   \n",
    "```\n",
    "vrd1\n",
    "```   \n",
    "\n",
    "#### **Note:** \n",
    "* Run > Render All Markdown Cells\n",
    "* Edit > Clear all outputs\n",
    "---"
   ]
  },
  {
   "cell_type": "code",
   "execution_count": 13,
   "metadata": {},
   "outputs": [],
   "source": [
    "export VAULT_ADDR=http://127.0.0.1:8200\n",
    "export VAULT_SKIP_VERIFY=true"
   ]
  },
  {
   "cell_type": "code",
   "execution_count": 2,
   "metadata": {},
   "outputs": [
    {
     "name": "stdout",
     "output_type": "stream",
     "text": [
      "\u001b[0mSuccess! You are now authenticated. The token information displayed below\n",
      "is already stored in the token helper. You do NOT need to run \"vault login\"\n",
      "again. Future Vault requests will automatically use this token.\n",
      "\u001b[0m\n",
      "\u001b[0mKey                  Value\n",
      "---                  -----\n",
      "token                root\n",
      "token_accessor       dRq6usE3NFp7vjYtgtH8uqQv\n",
      "token_duration       ∞\n",
      "token_renewable      false\n",
      "token_policies       [\"root\"]\n",
      "identity_policies    []\n",
      "policies             [\"root\"]\u001b[0m\n"
     ]
    }
   ],
   "source": [
    "unset VAULT_TOKEN; vault login root"
   ]
  },
  {
   "cell_type": "code",
   "execution_count": null,
   "metadata": {},
   "outputs": [],
   "source": [
    "vault status; vault version"
   ]
  },
  {
   "cell_type": "markdown",
   "metadata": {},
   "source": [
    "**Create a database**  \n",
    "Note the additional options MYSQL_USER and MYSQL_PASSWORD are being used to create demodb, it's not for Vault.\n"
   ]
  },
  {
   "cell_type": "code",
   "execution_count": 15,
   "metadata": {},
   "outputs": [
    {
     "name": "stdout",
     "output_type": "stream",
     "text": [
      "eccb0a5df7c7cc5577be09976cd31878da431e7254f081850bae280d272a45fb\n"
     ]
    }
   ],
   "source": [
    "## NO LONGER IN USE\n",
    "docker create \\\n",
    "  --name=mariadb \\\n",
    "  -e PUID=1000 \\\n",
    "  -e PGID=1000 \\\n",
    "  -e TZ=Asia/Singapore \\\n",
    "  -e MYSQL_ROOT_PASSWORD=password \\\n",
    "  -e MYSQL_DATABASE=vaultdemodb `#optional` \\\n",
    "  -e MYSQL_USER=tio `#optional` \\\n",
    "  -e MYSQL_PASSWORD=password `#optional` \\\n",
    "  -p 3306:3306 \\\n",
    "  --restart unless-stopped \\\n",
    "  linuxserver/mariadb"
   ]
  },
  {
   "cell_type": "markdown",
   "metadata": {},
   "source": [
    "**Start the database**"
   ]
  },
  {
   "cell_type": "code",
   "execution_count": 16,
   "metadata": {},
   "outputs": [
    {
     "name": "stdout",
     "output_type": "stream",
     "text": [
      "e6d0695ac94e18af1811541aa8983279d22470b2b106b996ef4070ba5cc7618b\n"
     ]
    }
   ],
   "source": [
    "#  -v /tmp/workshop-data:/var/lib/mysql \\\n",
    "docker run --rm --name workshop-mysql \\\n",
    "  -p 3306:3306 \\\n",
    "  -e MYSQL_ROOT_PASSWORD=root \\\n",
    "  -e MYSQL_ROOT_HOST=% \\\n",
    "  -e MYSQL_DATABASE=my_app \\\n",
    "  -e MYSQL_USER=vault \\\n",
    "  -e MYSQL_PASSWORD=vaultpw \\\n",
    "  -d mysql/mysql-server:5.7.21"
   ]
  },
  {
   "cell_type": "code",
   "execution_count": 17,
   "metadata": {},
   "outputs": [
    {
     "name": "stdout",
     "output_type": "stream",
     "text": [
      "CONTAINER ID   IMAGE                       COMMAND                  CREATED         STATUS                            PORTS                               NAMES\n",
      "e6d0695ac94e   mysql/mysql-server:5.7.21   \"/entrypoint.sh mysq…\"   8 seconds ago   Up 7 seconds (health: starting)   0.0.0.0:3306->3306/tcp, 33060/tcp   workshop-mysql\n",
      "9b8d32ee26c5   nginx:1.13.6-alpine         \"nginx -g 'daemon of…\"   2 weeks ago     Up 22 minutes                     80/tcp, 0.0.0.0:8443->443/tcp       nginx_proxy\n",
      "1124a54fb16e   cyberark/conjur             \"conjurctl server\"       2 weeks ago     Up 26 seconds                     80/tcp                              conjur_server\n",
      "3f4eef754b3c   kindest/node:v1.20.2        \"/usr/local/bin/entr…\"   3 weeks ago     Up 22 minutes                     127.0.0.1:51133->6443/tcp           terraform-learn-control-plane\n"
     ]
    }
   ],
   "source": [
    "# mariadb\n",
    "docker ps"
   ]
  },
  {
   "cell_type": "code",
   "execution_count": 18,
   "metadata": {},
   "outputs": [
    {
     "name": "stdout",
     "output_type": "stream",
     "text": [
      "mysql: [Warning] Using a password on the command line interface can be insecure.\n"
     ]
    }
   ],
   "source": [
    "docker exec -it workshop-mysql mysql -u root -p 'root' \\\n",
    "  -e \"GRANT ALL PRIVILEGES ON *.* TO 'vaultadmin'@'%' IDENTIFIED BY 'vadmin' WITH GRANT OPTION;  FLUSH PRIVILEGES;\""
   ]
  },
  {
   "cell_type": "code",
   "execution_count": 1,
   "metadata": {},
   "outputs": [
    {
     "name": "stdout",
     "output_type": "stream",
     "text": [
      "mysql: [Warning] Using a password on the command line interface can be insecure.\n",
      "+-------------------------------------------------------------+\n",
      "| Grants for root@%                                           |\n",
      "+-------------------------------------------------------------+\n",
      "| GRANT ALL PRIVILEGES ON *.* TO 'root'@'%' WITH GRANT OPTION |\n",
      "| GRANT PROXY ON ''@'' TO 'root'@'%' WITH GRANT OPTION        |\n",
      "+-------------------------------------------------------------+\n",
      "+-------------------------------------------------------------------+\n",
      "| Grants for vaultadmin@%                                           |\n",
      "+-------------------------------------------------------------------+\n",
      "| GRANT ALL PRIVILEGES ON *.* TO 'vaultadmin'@'%' WITH GRANT OPTION |\n",
      "+-------------------------------------------------------------------+\n"
     ]
    }
   ],
   "source": [
    "docker exec -it workshop-mysql mysql -u root -p'root' \\\n",
    "  -e \"show grants for root; show grants for vaultadmin\""
   ]
  },
  {
   "cell_type": "markdown",
   "metadata": {},
   "source": [
    "**Display existing database users**"
   ]
  },
  {
   "cell_type": "code",
   "execution_count": 2,
   "metadata": {},
   "outputs": [
    {
     "name": "stdout",
     "output_type": "stream",
     "text": [
      "mysql: [Warning] Using a password on the command line interface can be insecure.\n",
      "+---------------+\n",
      "| user          |\n",
      "+---------------+\n",
      "| root          |\n",
      "| vault         |\n",
      "| vaultadmin    |\n",
      "| healthchecker |\n",
      "| mysql.session |\n",
      "| mysql.sys     |\n",
      "| root          |\n",
      "+---------------+\n"
     ]
    }
   ],
   "source": [
    "docker exec -it workshop-mysql mysql -u vaultadmin -p'vadmin' -e \"select user from mysql.user;\""
   ]
  },
  {
   "cell_type": "code",
   "execution_count": null,
   "metadata": {},
   "outputs": [],
   "source": [
    "docker exec -it workshop-mysql mysql -u vaultadmin -p'vadmin' -e \"show databases\""
   ]
  },
  {
   "cell_type": "code",
   "execution_count": 7,
   "metadata": {},
   "outputs": [
    {
     "name": "stdout",
     "output_type": "stream",
     "text": [
      "mysql: [Warning] Using a password on the command line interface can be insecure.\n",
      "ERROR 1050 (42S01) at line 1: Table 'test' already exists\n"
     ]
    }
   ],
   "source": [
    "docker exec -it workshop-mysql mysql -u vaultadmin -p'vadmin' -e \"use my_app; create table test (score int not null)\""
   ]
  },
  {
   "cell_type": "code",
   "execution_count": 4,
   "metadata": {},
   "outputs": [
    {
     "name": "stdout",
     "output_type": "stream",
     "text": [
      "mysql: [Warning] Using a password on the command line interface can be insecure.\n"
     ]
    }
   ],
   "source": [
    "docker exec -it workshop-mysql mysql -u vaultadmin -p'vadmin' -e \"use my_app; insert into test values (10)\""
   ]
  },
  {
   "cell_type": "code",
   "execution_count": 5,
   "metadata": {},
   "outputs": [
    {
     "name": "stdout",
     "output_type": "stream",
     "text": [
      "mysql: [Warning] Using a password on the command line interface can be insecure.\n",
      "+-------+\n",
      "| score |\n",
      "+-------+\n",
      "|    10 |\n",
      "+-------+\n"
     ]
    }
   ],
   "source": [
    "docker exec -it workshop-mysql mysql -u vaultadmin -p'vadmin' -e \"use my_app; select * from test\""
   ]
  },
  {
   "cell_type": "markdown",
   "metadata": {},
   "source": [
    "**Password Policy**"
   ]
  },
  {
   "cell_type": "code",
   "execution_count": 8,
   "metadata": {},
   "outputs": [
    {
     "name": "stdout",
     "output_type": "stream",
     "text": [
      "length=8\n",
      "\n",
      "rule \"charset\" {\n",
      "  charset = \"abcdefghijklmnopqrstuvwxyz\"\n",
      "  min-chars = 1\n",
      "}\n",
      "\n",
      "rule \"charset\" {\n",
      "  charset = \"ABCDEFGHIJKLMNOPQRSTUVWXYZ\"\n",
      "  min-chars = 1\n",
      "}\n",
      "\n",
      "rule \"charset\" {\n",
      "  charset = \"0123456789\"\n",
      "  min-chars = 1\n",
      "}\n",
      "\n",
      "rule \"charset\" {\n",
      "  charset = \"!@#$%^&*\"\n",
      "  min-chars = 1\n",
      "}\n"
     ]
    }
   ],
   "source": [
    "tee /tmp/example_policy.hcl <<EOF\n",
    "length=8\n",
    "\n",
    "rule \"charset\" {\n",
    "  charset = \"abcdefghijklmnopqrstuvwxyz\"\n",
    "  min-chars = 1\n",
    "}\n",
    "\n",
    "rule \"charset\" {\n",
    "  charset = \"ABCDEFGHIJKLMNOPQRSTUVWXYZ\"\n",
    "  min-chars = 1\n",
    "}\n",
    "\n",
    "rule \"charset\" {\n",
    "  charset = \"0123456789\"\n",
    "  min-chars = 1\n",
    "}\n",
    "\n",
    "rule \"charset\" {\n",
    "  charset = \"!@#$%^&*\"\n",
    "  min-chars = 1\n",
    "}\n",
    "EOF"
   ]
  },
  {
   "cell_type": "code",
   "execution_count": 9,
   "metadata": {},
   "outputs": [
    {
     "name": "stdout",
     "output_type": "stream",
     "text": [
      "\u001b[91mError writing data to sys/policies/password/example: Put \"https://127.0.0.1:8200/v1/sys/policies/password/example\": http: server gave HTTP response to HTTPS client\u001b[0m\n"
     ]
    }
   ],
   "source": [
    "vault write sys/policies/password/example policy=@/tmp/example_policy.hcl"
   ]
  },
  {
   "cell_type": "code",
   "execution_count": 10,
   "metadata": {},
   "outputs": [
    {
     "name": "stdout",
     "output_type": "stream",
     "text": [
      "\u001b[91mError reading sys/policies/password/example/generate: Get \"https://127.0.0.1:8200/v1/sys/policies/password/example/generate\": http: server gave HTTP response to HTTPS client\u001b[0m\n"
     ]
    }
   ],
   "source": [
    "vault read sys/policies/password/example/generate"
   ]
  },
  {
   "cell_type": "markdown",
   "metadata": {},
   "source": [
    "### Demo\n",
    "---"
   ]
  },
  {
   "cell_type": "markdown",
   "metadata": {},
   "source": [
    "### Enable Database secrets engine"
   ]
  },
  {
   "cell_type": "code",
   "execution_count": 11,
   "metadata": {},
   "outputs": [
    {
     "name": "stdout",
     "output_type": "stream",
     "text": [
      "\u001b[91mError enabling: Post \"https://127.0.0.1:8200/v1/sys/mounts/mdb1\": http: server gave HTTP response to HTTPS client\u001b[0m\n"
     ]
    }
   ],
   "source": [
    "vault secrets enable -path=mdb1 -default-lease-ttl=5m -max-lease-ttl=30m database"
   ]
  },
  {
   "cell_type": "markdown",
   "metadata": {},
   "source": [
    "**Configure it with the correct plugin, connection string and allowed_roles**\n",
    "\n",
    "You can specify `root_rotation_statements` when writing to the path <database/config/<connection>.  For example\n",
    "```  \n",
    "   root_rotation-statements=\"ALTER USER {{username}}'@'localhost' IDENTIFIED BY '{{password}}';\"\n",
    "```  \n",
    "    "
   ]
  },
  {
   "cell_type": "code",
   "execution_count": 14,
   "metadata": {},
   "outputs": [],
   "source": [
    "vault write mdb1/config/mysql \\\n",
    "    plugin_name=mysql-legacy-database-plugin \\\n",
    "    connection_url=\"vaultadmin:vadmin@tcp(127.0.0.1:3306)/\" \\\n",
    "    allowed_roles=\"manager,engineer\" \\\n",
    "    root_rotation-statements=\"ALTER USER '{{username}}'@'%' IDENTIFIED BY '{{password}}';\" \\\n",
    "    password_policy=\"example\" \\\n",
    "    username=\"vaultadmin\" \\\n",
    "    password=\"vadmin\" "
   ]
  },
  {
   "cell_type": "markdown",
   "metadata": {},
   "source": [
    "**Create one or more Vault roles with TTLs and SQL that specify permissions**"
   ]
  },
  {
   "cell_type": "code",
   "execution_count": 18,
   "metadata": {},
   "outputs": [
    {
     "name": "stdout",
     "output_type": "stream",
     "text": [
      "\u001b[0mSuccess! Data written to: mdb1/roles/manager\u001b[0m\n"
     ]
    }
   ],
   "source": [
    "# read only\n",
    "vault write mdb1/roles/manager \\\n",
    "    db_name=mysql \\\n",
    "    creation_statements=\"CREATE USER '{{name}}'@'%' IDENTIFIED BY '{{password}}';GRANT SELECT ON my_app.* TO '{{name}}'@'%';\" \\\n",
    "    default_ttl=\"3m\" \\\n",
    "    metadata=\"engineering manager SG\"\n",
    "    max_ttl=\"24h\""
   ]
  },
  {
   "cell_type": "code",
   "execution_count": 16,
   "metadata": {},
   "outputs": [
    {
     "name": "stdout",
     "output_type": "stream",
     "text": [
      "\u001b[0mSuccess! Data written to: mdb1/roles/engineer\u001b[0m\n"
     ]
    }
   ],
   "source": [
    "# grant all\n",
    "vault write mdb1/roles/engineer \\\n",
    "    db_name=mysql \\\n",
    "    creation_statements=\"CREATE USER '{{name}}'@'%' IDENTIFIED BY '{{password}}';GRANT ALL ON my_app.* TO '{{name}}'@'%';\" \\\n",
    "    default_ttl=\"10m\" \\\n",
    "    max_ttl=\"24h\""
   ]
  },
  {
   "cell_type": "code",
   "execution_count": null,
   "metadata": {},
   "outputs": [],
   "source": [
    "# OPTIONAL: rotate root password\n",
    "#vault write -force mdb1/rotate-root/mysql"
   ]
  },
  {
   "cell_type": "markdown",
   "metadata": {},
   "source": [
    "**Note**: When this is done, the password for the user specified in the previous step is no longer accessible. Because of this, it is highly recommended that a user is created specifically for Vault to use to manage database users."
   ]
  },
  {
   "cell_type": "markdown",
   "metadata": {},
   "source": [
    "## Use Case: Get Dyamic Database credential"
   ]
  },
  {
   "cell_type": "code",
   "execution_count": 19,
   "metadata": {},
   "outputs": [
    {
     "name": "stdout",
     "output_type": "stream",
     "text": [
      "\u001b[0mKey                Value\n",
      "---                -----\n",
      "lease_id           mdb1/creds/manager/XISAo12MwZEpuUwhG7FPt9ou\n",
      "lease_duration     3m\n",
      "lease_renewable    true\n",
      "password           6Jm@l5*w\n",
      "username           v_mana_X6rWJAzIe\u001b[0m\n"
     ]
    }
   ],
   "source": [
    "vault read mdb1/creds/manager"
   ]
  },
  {
   "cell_type": "code",
   "execution_count": 3,
   "metadata": {},
   "outputs": [
    {
     "name": "stdout",
     "output_type": "stream",
     "text": [
      "\u001b[91mError reading mdb1/creds/engineer: Error making API request.\n",
      "\n",
      "URL: GET http://127.0.0.1:8200/v1/mdb1/creds/engineer\n",
      "Code: 500. Errors:\n",
      "\n",
      "* 1 error occurred:\n",
      "\t* dial tcp 127.0.0.1:3306: connect: connection refused\n",
      "\n",
      "\u001b[0m\n"
     ]
    }
   ],
   "source": [
    "#-output-curl-string always available\n",
    "vault read mdb1/creds/engineer"
   ]
  },
  {
   "cell_type": "markdown",
   "metadata": {},
   "source": [
    "&nbsp;"
   ]
  },
  {
   "cell_type": "markdown",
   "metadata": {},
   "source": [
    "   \n",
    "**Display database users** (note new user added by Vault)"
   ]
  },
  {
   "cell_type": "code",
   "execution_count": null,
   "metadata": {},
   "outputs": [],
   "source": [
    "docker exec -it workshop-mysql mysql -u vaultadmin -p'vadmin' -e \"select user from mysql.user\"; "
   ]
  },
  {
   "cell_type": "markdown",
   "metadata": {},
   "source": [
    "**Database test using the newly created credential**"
   ]
  },
  {
   "cell_type": "code",
   "execution_count": null,
   "metadata": {},
   "outputs": [],
   "source": [
    "docker exec -it workshop-mysql mysql -u v_engi_qVrNwPIBZ -p'SQ&U28vx' \\\n",
    "  -e \"use my_app; select * from my_app.test\""
   ]
  },
  {
   "cell_type": "code",
   "execution_count": null,
   "metadata": {},
   "outputs": [],
   "source": [
    "# manager - read only role\n",
    "docker exec -it workshop-mysql mysql -u v_engi_qVrNwPIBZ -p'SQ&U28vx' \\\n",
    "  -e \"use my_app ; insert into test values (7)\""
   ]
  },
  {
   "cell_type": "code",
   "execution_count": null,
   "metadata": {},
   "outputs": [],
   "source": [
    "docker exec -it workshop-mysql mysql -u v_engi_qVrNwPIBZ -p'SQ&U28vx' \\\n",
    "  -e \"use my_app; select * from my_app.test\""
   ]
  },
  {
   "cell_type": "markdown",
   "metadata": {},
   "source": [
    "**List the Vault leases**"
   ]
  },
  {
   "cell_type": "code",
   "execution_count": null,
   "metadata": {},
   "outputs": [],
   "source": [
    "vault list sys/leases/lookup/mdb1/creds/engineer/"
   ]
  },
  {
   "cell_type": "markdown",
   "metadata": {},
   "source": [
    "**Details on a lease, e.g. the remaining lifetime of the credential**  \n",
    "COPY LEASE ABOVE TO REPLACE END OF THIS LINE "
   ]
  },
  {
   "cell_type": "code",
   "execution_count": null,
   "metadata": {},
   "outputs": [],
   "source": [
    "vault write sys/leases/lookup lease_id=mdb1/creds/engineer/5ifXuzH5W7WAvV91KGP2BcKr"
   ]
  },
  {
   "cell_type": "markdown",
   "metadata": {},
   "source": [
    "**Renew leases*"
   ]
  },
  {
   "cell_type": "code",
   "execution_count": null,
   "metadata": {},
   "outputs": [],
   "source": [
    "vault write sys/leases/renew lease_id=mdb1/creds/engineer/nsAyHW7BzHhRVSRvt7R1G2Ak"
   ]
  },
  {
   "cell_type": "markdown",
   "metadata": {},
   "source": [
    "**Revoke a specific Vault lease**   \n",
    "Vault automatically deletes expired credentials but if credentials are compromised, you can revoke them immediately."
   ]
  },
  {
   "cell_type": "code",
   "execution_count": null,
   "metadata": {},
   "outputs": [],
   "source": [
    "vault write sys/leases/revoke lease_id=mdb1/creds/engineer/nsAyHW7BzHhRVSRvt7R1G2Ak"
   ]
  },
  {
   "cell_type": "code",
   "execution_count": null,
   "metadata": {},
   "outputs": [],
   "source": [
    "vault lease revoke mdb1/creds/engineer/nsAyHW7BzHhRVSRvt7R1G2Ak"
   ]
  },
  {
   "cell_type": "markdown",
   "metadata": {},
   "source": [
    "**Revoke all Vault leases**"
   ]
  },
  {
   "cell_type": "code",
   "execution_count": null,
   "metadata": {},
   "outputs": [],
   "source": [
    "vault lease revoke -prefix=true mdb1/creds/engineer"
   ]
  },
  {
   "cell_type": "markdown",
   "metadata": {},
   "source": [
    "**Disable Database Secret Engine**"
   ]
  },
  {
   "cell_type": "code",
   "execution_count": null,
   "metadata": {},
   "outputs": [],
   "source": [
    "vault secrets disable mdb1/ "
   ]
  },
  {
   "cell_type": "markdown",
   "metadata": {},
   "source": [
    "---\n",
    "### Cleanup\n"
   ]
  },
  {
   "cell_type": "markdown",
   "metadata": {},
   "source": [
    "**Shutdown Docker**"
   ]
  },
  {
   "cell_type": "code",
   "execution_count": 4,
   "metadata": {},
   "outputs": [
    {
     "name": "stdout",
     "output_type": "stream",
     "text": [
      "workshop-mysql\n"
     ]
    }
   ],
   "source": [
    "docker stop workshop-mysql"
   ]
  },
  {
   "cell_type": "markdown",
   "metadata": {},
   "source": [
    "**Remove the container**"
   ]
  },
  {
   "cell_type": "code",
   "execution_count": 5,
   "metadata": {},
   "outputs": [
    {
     "name": "stdout",
     "output_type": "stream",
     "text": [
      "workshop-mysql\n"
     ]
    }
   ],
   "source": [
    "docker rm workshop-mysql"
   ]
  },
  {
   "cell_type": "markdown",
   "metadata": {},
   "source": [
    "**TODO:**. \n",
    "- root-rotation\n",
    "- wrapping token"
   ]
  },
  {
   "cell_type": "markdown",
   "metadata": {},
   "source": [
    "**END**"
   ]
  },
  {
   "cell_type": "code",
   "execution_count": null,
   "metadata": {},
   "outputs": [],
   "source": [
    "docker exec -it mariadb mysql -u root -p'password' \\\n",
    "  -e \"GRANT ALL PRIVILEGES ON *.* TO 'vaultadmin'@'%' IDENTIFIED BY 'vadmin' WITH GRANT OPTION; FLUSH PRIVILEGES;\""
   ]
  }
 ],
 "metadata": {
  "kernelspec": {
   "display_name": "Z shell",
   "language": "zsh",
   "name": "zsh"
  },
  "language_info": {
   "codemirror_mode": "shell",
   "file_extension": ".zsh",
   "mimetype": "text/x-zsh",
   "name": "zsh",
   "pygments_lexer": "shell",
   "version": "5.7.1"
  }
 },
 "nbformat": 4,
 "nbformat_minor": 4
}
