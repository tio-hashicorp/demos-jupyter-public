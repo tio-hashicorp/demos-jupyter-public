{
 "cells": [
  {
   "cell_type": "markdown",
   "metadata": {},
   "source": [
    "<img src=images/HashiCorp_PrimaryLogo_Black_RGB.png width=150 align=\"right\">\n",
    "<img src=images/Acme.jpeg width=100 align=\"left\">"
   ]
  },
  {
   "cell_type": "markdown",
   "metadata": {},
   "source": [
    "\n",
    "# UC-4 App Role Authentication\n",
    "---\n",
    "## Business Values\n",
    " * Provide a way for operators to manage policy without being involved in generating tokens or creds for applications (minimize coordination) \n",
    " * Operators have less work to do\n",
    " * Orchestration tools can take over the task of giving applications secrets access"
   ]
  },
  {
   "cell_type": "markdown",
   "metadata": {},
   "source": [
    "## How AppRole Auth Method works\n",
    "\n",
    "Vault provides internal and external authentication methods.  External methods are called *tusted third-party authenticators* such as AWS, LDAP, Github, etc.\n",
    "\n",
    "In some situations trusted third-party authenticator is not available, so Vault has an alternate approach - **AppRole**\n",
    "* AppRole generates **RoleID** and **SecretID**\n",
    "    - RoleID is an identifier similar to username\n",
    "    - SecretID is a credential to login (similart to password)  \n",
    "\n",
    "<br />   \n",
    "<img src=\"images/vault-approle-workflow.png\" width=1000>\n",
    "<img src=\"images/vault-approle-pull.png\" width=1000>\n",
    "<img src=\"images/vault-approle-push.png\" width=1000>"
   ]
  },
  {
   "cell_type": "markdown",
   "metadata": {},
   "source": [
    "### Setup\n",
    "---"
   ]
  },
  {
   "cell_type": "code",
   "execution_count": null,
   "metadata": {},
   "outputs": [],
   "source": [
    "export VAULT_ADDR=http://127.0.0.1:8200\n",
    "export VAULT_TOKEN=root\n",
    "export VAULT_SKIP_VERIFY=true"
   ]
  },
  {
   "cell_type": "code",
   "execution_count": null,
   "metadata": {},
   "outputs": [],
   "source": [
    "unset VAULT_TOKEN; vault login root"
   ]
  },
  {
   "cell_type": "code",
   "execution_count": null,
   "metadata": {},
   "outputs": [],
   "source": [
    "vault status"
   ]
  },
  {
   "cell_type": "code",
   "execution_count": null,
   "metadata": {},
   "outputs": [],
   "source": [
    "vault -version"
   ]
  },
  {
   "cell_type": "markdown",
   "metadata": {},
   "source": [
    "### Demo\n",
    "---"
   ]
  },
  {
   "cell_type": "markdown",
   "metadata": {},
   "source": [
    "### Enable the approle authentication method\n"
   ]
  },
  {
   "cell_type": "code",
   "execution_count": null,
   "metadata": {},
   "outputs": [],
   "source": [
    "vault auth enable approle"
   ]
  },
  {
   "cell_type": "markdown",
   "metadata": {},
   "source": [
    "### Create a secret\n",
    "NOTE: num_uses determines how many times secret can be used.\n",
    "\n",
    "In this example, a SecretID of the myapp role can be used for up to 5 times to authenticate and fetch a client token. After the number of uses is reached, the SecretID expires and you would need to generate a new one. This is similar to forcing a password rotation."
   ]
  },
  {
   "cell_type": "code",
   "execution_count": null,
   "metadata": {},
   "outputs": [],
   "source": [
    "vault write auth/approle/role/myapp secret_id_num_uses=3 secret_id_ttl=5m"
   ]
  },
  {
   "cell_type": "markdown",
   "metadata": {},
   "source": [
    "##### Read the secret"
   ]
  },
  {
   "cell_type": "code",
   "execution_count": null,
   "metadata": {},
   "outputs": [],
   "source": [
    "vault read auth/approle/role/myapp"
   ]
  },
  {
   "cell_type": "markdown",
   "metadata": {},
   "source": [
    "### Create a role id \n",
    "Typically a constant value, provide this to the app developer team"
   ]
  },
  {
   "cell_type": "code",
   "execution_count": null,
   "metadata": {},
   "outputs": [],
   "source": [
    "vault read auth/approle/role/myapp/role-id"
   ]
  },
  {
   "cell_type": "markdown",
   "metadata": {},
   "source": [
    "**Attempt to read the role id (same as above) using the API**. \n"
   ]
  },
  {
   "cell_type": "code",
   "execution_count": null,
   "metadata": {},
   "outputs": [],
   "source": [
    "export APPROLE=\"myapp\"\n",
    "export VAULT_TOKEN=root\n",
    "ROLE_ID=$(curl -s -H \"X-Vault-Token: ${VAULT_TOKEN}\" \"http://127.0.0.1:8200/v1/auth/approle/role/${APPROLE}/role-id\" | jq -r '.data.role_id')\n",
    "echo $ROLE_ID"
   ]
  },
  {
   "cell_type": "markdown",
   "metadata": {},
   "source": [
    "### Generate a Secret ID  "
   ]
  },
  {
   "cell_type": "code",
   "execution_count": null,
   "metadata": {},
   "outputs": [],
   "source": [
    "vault write -f auth/approle/role/myapp/secret-id"
   ]
  },
  {
   "cell_type": "code",
   "execution_count": null,
   "metadata": {},
   "outputs": [],
   "source": [
    "#another secret-id\n",
    "vault write -f auth/approle/role/myapp/secret-id"
   ]
  },
  {
   "cell_type": "markdown",
   "metadata": {},
   "source": [
    "**Using CURL instead**  "
   ]
  },
  {
   "cell_type": "code",
   "execution_count": null,
   "metadata": {},
   "outputs": [],
   "source": [
    "SECRET_ID=$(curl -s -X POST -H \"X-Vault-Token:${VAULT_TOKEN}\" \"http://127.0.0.1:8200/v1/auth/approle/role/${APPROLE}/secret-id\" | jq -r '.data.secret_id')\n",
    "echo ${SECRET_ID}"
   ]
  },
  {
   "cell_type": "markdown",
   "metadata": {},
   "source": [
    "### Get a token for logging into Vault using roleID and secretID"
   ]
  },
  {
   "cell_type": "code",
   "execution_count": null,
   "metadata": {},
   "outputs": [],
   "source": [
    "vault write auth/approle/login role_id=${ROLE_ID} secret_id=${SECRET_ID}\n"
   ]
  },
  {
   "cell_type": "markdown",
   "metadata": {},
   "source": [
    "**Again, we can do the same using CURL**"
   ]
  },
  {
   "cell_type": "code",
   "execution_count": null,
   "metadata": {},
   "outputs": [],
   "source": [
    "APP_ROLE_TOKEN=$(curl -s -X POST -d '{\"role_id\": \"'\"${ROLE_ID}\"'\", \"secret_id\": \"'\"${SECRET_ID}\"'\"}' http://127.0.0.1:8200/v1/auth/approle/login | jq -r '.auth.client_token')\n",
    "echo ${APP_ROLE_TOKEN}"
   ]
  },
  {
   "cell_type": "code",
   "execution_count": null,
   "metadata": {},
   "outputs": [],
   "source": [
    "vault login ${APP_ROLE_TOKEN}"
   ]
  },
  {
   "cell_type": "markdown",
   "metadata": {},
   "source": [
    "## Response Wrap the SecretID\n",
    "The RoleID is equivalent to a username, and SecretID is the corresponding password. The app needs both to log in with Vault. Naturally, the next question becomes how to deliver those values to the client securely.\n",
    "\n",
    "A common solution involves three personas instead of two: admin, app, and trusted entity. The trusted entity delivers the RoleID and SecretID to the client by separate means.\n",
    "\n",
    "For example, Terraform as a trusted entity can deliver the RoleID onto the virtual machine. When the app runs on the virtual machine, the RoleID already exists on the virtual machine.\n",
    "\n",
    "<img src=\"images/vault-approle-workflow2.png\">"
   ]
  },
  {
   "cell_type": "markdown",
   "metadata": {},
   "source": [
    "SecretID is like password.  Use **response wrapping** so that only expecting client can unwrap the SecretID."
   ]
  },
  {
   "cell_type": "code",
   "execution_count": null,
   "metadata": {},
   "outputs": [],
   "source": [
    "## parameter order matters\n",
    "vault write -wrap-ttl=60s -f auth/approle/role/myapp/secret-id."
   ]
  },
  {
   "cell_type": "code",
   "execution_count": null,
   "metadata": {},
   "outputs": [],
   "source": [
    "VAULT_TOKEN=s.ILPSggHj70JSzTWpcWtot7nU vault unwrap"
   ]
  },
  {
   "cell_type": "code",
   "execution_count": null,
   "metadata": {},
   "outputs": [],
   "source": [
    "# should give error\n",
    "VAULT_TOKEN=s.ILPSggHj70JSzTWpcWtot7nU vault unwrap"
   ]
  },
  {
   "cell_type": "markdown",
   "metadata": {},
   "source": [
    "&nbsp;\n",
    "\n",
    "---\n",
    "#### Thank you.\n",
    "<img src=images/HashiCorp_PrimaryLogo_Black_RGB.png width=100 align=\"left\">"
   ]
  },
  {
   "cell_type": "markdown",
   "metadata": {},
   "source": [
    "---\n",
    "# AppRole Auhentication Method\n",
    "\n",
    "Vault provides internal and external authentication methods.  External methods are called *tusted third-party authenticators* such as AWS, LDAP, Github, etc.\n",
    "\n",
    "In some situations trusted third-party authenticator is not available, so Vault has an alternate approach - **AppRole** .   \n",
    "AppRole allows machines or apps to authenticate.  This auth method is oriented to automated workflows (machines and services) and is less useful for human operators.\n",
    "\n",
    "* AppRole generates **RoleID** and **SecretID**\n",
    "    - RoleID is an identifier similar to username\n",
    "    - SecretID is a credential to login (similart to password)   \n",
    "    "
   ]
  },
  {
   "cell_type": "markdown",
   "metadata": {},
   "source": [
    "### Setup\n",
    "<img src=\"images/vault-approle-workflow.png\" width=800>\n"
   ]
  },
  {
   "cell_type": "code",
   "execution_count": null,
   "metadata": {},
   "outputs": [],
   "source": [
    "vault login root\n",
    "vault auth enable approle"
   ]
  },
  {
   "cell_type": "code",
   "execution_count": null,
   "metadata": {},
   "outputs": [],
   "source": [
    "vault write auth/approle/role/tio-crm \\\n",
    "  token_num_users=3 \\\n",
    "  token_ttl=10m \\\n",
    "  token_max_ttl=30m \\\n",
    "  secret_id_ttl=5m \\\n",
    "  secret_id_num_uses=40 "
   ]
  },
  {
   "cell_type": "markdown",
   "metadata": {},
   "source": [
    "### RoleID\n",
    "RoleID is a unique identifier for the app.  They can be set to particular values to match introspected information by the client (ex: client's domain name)."
   ]
  },
  {
   "cell_type": "code",
   "execution_count": null,
   "metadata": {},
   "outputs": [],
   "source": [
    "vault read auth/approle/role/tio-crm/role-id"
   ]
  },
  {
   "cell_type": "markdown",
   "metadata": {},
   "source": [
    "### SecretID\n",
    "SecretID is like a password, it is intended to always be secret.  SecretIDs can be created agains an AppRole either via generation of a 128-bit purely random UUID by the role itself or via specific custom values.  SecretIDs have properties like usage-limit, TTLs, and expirations.\n",
    "\n",
    "**Pull and Push SecretID Modes**  \n",
    "If SecretID is fetched from an AppRole, this is Pull Mode.  Most cases Pull mode is the better approach.\n",
    "\n",
    "<img src=\"images/vault-approle-pull.png\" width=800>  \n",
    "\n",
    "If a \"custom\" secretID is set by the client, it is Push Mode.  \n",
    "<img src=\"images/vault-approle-push.png\" width=800>\n",
    "\n",
    "Push Mode requires some other system to have knowledge of the full set of credentials (RoleID and SecretID) in order to create the entry.   \n",
    "However in Pull Mode, the SecretID can be kept confidential from all parties except for the final authenticating client by using Response w Wrapping.\n",
    "  \n"
   ]
  },
  {
   "cell_type": "code",
   "execution_count": null,
   "metadata": {},
   "outputs": [],
   "source": [
    "vault write -f auth/approle/role/tio-crm/secret-id"
   ]
  },
  {
   "cell_type": "markdown",
   "metadata": {},
   "source": [
    "### Login"
   ]
  },
  {
   "cell_type": "code",
   "execution_count": null,
   "metadata": {},
   "outputs": [],
   "source": [
    "vault write auth/approle/login \\\n",
    "  role_id=d56c9c46-7198-4238-fb0c-3a2b26e97e18   \\\n",
    "  secret_id=e151cb41-0152-8974-e259-75d9fd7c2972 "
   ]
  },
  {
   "cell_type": "markdown",
   "metadata": {},
   "source": [
    "**Using cURL**  \n",
    "The default endpoint is `auth/approle/login`.  The response will contain the token at `auth.client_token`"
   ]
  },
  {
   "cell_type": "code",
   "execution_count": null,
   "metadata": {},
   "outputs": [],
   "source": [
    "curl -s --request POST \\\n",
    "    --data \"{\\\"role_id\\\":\\\"d56c9c46-7198-4238-fb0c-3a2b26e97e18\\\", \\\"secret_id\\\":\\\"e151cb41-0152-8974-e259-75d9fd7c2972\\\"}\" \\\n",
    "    http://127.0.0.1:8200/v1/auth/approle/login |jq"
   ]
  },
  {
   "cell_type": "code",
   "execution_count": null,
   "metadata": {},
   "outputs": [],
   "source": []
  }
 ],
 "metadata": {
  "kernelspec": {
   "display_name": "Z shell",
   "language": "zsh",
   "name": "zsh"
  },
  "language_info": {
   "codemirror_mode": "shell",
   "file_extension": ".zsh",
   "mimetype": "text/x-zsh",
   "name": "zsh",
   "pygments_lexer": "shell",
   "version": "5.7.1"
  }
 },
 "nbformat": 4,
 "nbformat_minor": 4
}
