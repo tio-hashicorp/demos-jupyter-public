{
 "cells": [
  {
   "cell_type": "markdown",
   "metadata": {},
   "source": [
    "<img align=right src=images/HashiCorp_PrimaryLogo_Black_RGB.png width=150>\n",
    "<img src=images/acme.jpeg width=100 align=left>"
   ]
  },
  {
   "cell_type": "markdown",
   "metadata": {},
   "source": [
    "# AWS Serverless\n",
    "\n",
    "AWS Lambda is a compute service that executes code written in JavaScript, Python, C#, Java on AWS infra.\n",
    "Source code is zipped up and deployed on an isolated container that has an allocation of memory, disk, cpu.\n",
    "Combination of the code, configuration, and dependencies are referred to as \"Lambda function\".\n",
    "\n",
    "There are two ways to invoke a Lambda function: using the AWS SDK or via an API Gateway. We’ll go with the second option, so you need to create an API Gateway.\n",
    "\n",
    "Here we're going to zip the Javascript function and Store in S3 first."
   ]
  },
  {
   "cell_type": "markdown",
   "metadata": {},
   "source": [
    "## Zip Javascript function and Store in S3"
   ]
  },
  {
   "cell_type": "code",
   "execution_count": 1,
   "metadata": {},
   "outputs": [],
   "source": [
    "cd ~/mydemo/terraform/tio-hashicorp/myworkshop/05b-serverless"
   ]
  },
  {
   "cell_type": "code",
   "execution_count": 2,
   "metadata": {},
   "outputs": [
    {
     "name": "stdout",
     "output_type": "stream",
     "text": [
      "/Users/tio/mydemo/terraform/tio-hashicorp/myworkshop/05b-serverless\n",
      "total 88\n",
      "-rw-r--r--  1 tio  staff   353 Feb 22 21:42 README.md\n",
      "-rw-r--r--  1 tio  staff  2190 Feb 22 21:42 api_gateway.ft\n",
      "drwxr-xr-x  5 tio  staff   160 Feb 22 22:00 builds\n",
      "drwxr-xr-x  3 tio  staff    96 Feb 22 22:06 example\n",
      "-rw-r--r--  1 tio  staff   359 Feb 22 22:20 example.zip\n",
      "-rw-r--r--  1 tio  staff  1021 Feb 22 21:42 lambda.ft\n",
      "-rw-r--r--  1 tio  staff  1022 Feb 22 22:00 main.tf\n",
      "-rw-r--r--  1 tio  staff    78 Feb 22 21:42 output.ft\n",
      "-rw-r--r--  1 tio  staff   101 Feb 22 22:23 output.tx\n",
      "-rw-r--r--  1 tio  staff   101 Feb 22 22:04 output.txt\n",
      "-rw-r--r--  1 tio  staff   158 Feb 22 21:57 terraform.tfstate\n",
      "-rw-r--r--  1 tio  staff  7253 Feb 22 21:57 terraform.tfstate.backup\n"
     ]
    }
   ],
   "source": [
    "pwd; ls -l"
   ]
  },
  {
   "cell_type": "code",
   "execution_count": 3,
   "metadata": {},
   "outputs": [
    {
     "name": "stdout",
     "output_type": "stream",
     "text": [
      "total 8\n",
      "-rw-r--r--  1 tio  staff  261 Feb 22 22:06 main.js\n"
     ]
    }
   ],
   "source": [
    "cd example\n",
    "ls -l"
   ]
  },
  {
   "cell_type": "markdown",
   "metadata": {},
   "source": [
    "### Modify main.js\n",
    "\n",
    "Zip the new version of main.js after modification"
   ]
  },
  {
   "cell_type": "code",
   "execution_count": null,
   "metadata": {},
   "outputs": [],
   "source": [
    "zip ../example.zip main.js\n",
    "cd ..\n",
    "ls -l"
   ]
  },
  {
   "cell_type": "markdown",
   "metadata": {},
   "source": [
    "### Copy to S3 bucket\n",
    "Note: Update the **version** in the S3 path and check via AWS Console afterwards."
   ]
  },
  {
   "cell_type": "code",
   "execution_count": null,
   "metadata": {},
   "outputs": [],
   "source": [
    "aws s3 cp example.zip s3://terraform-serverless-thb/v1.0.1/example.zip"
   ]
  },
  {
   "cell_type": "markdown",
   "metadata": {},
   "source": [
    "### Invoke Lambda from aws cli"
   ]
  },
  {
   "cell_type": "code",
   "execution_count": null,
   "metadata": {},
   "outputs": [],
   "source": [
    "aws lambda invoke --region=us-east-1 --function-name=ServerlessExample output.tx\n",
    "cat output.txt"
   ]
  },
  {
   "cell_type": "markdown",
   "metadata": {},
   "source": [
    "&nbsp;\n",
    "\n",
    "---\n",
    "#### Thank you.\n",
    "<img src=images/HashiCorp_PrimaryLogo_Black_RGB.png width=100 align=\"left\">"
   ]
  }
 ],
 "metadata": {
  "kernelspec": {
   "display_name": "Z shell",
   "language": "zsh",
   "name": "zsh"
  },
  "language_info": {
   "codemirror_mode": "shell",
   "file_extension": ".zsh",
   "mimetype": "text/x-zsh",
   "name": "zsh",
   "pygments_lexer": "shell",
   "version": "5.7.1"
  }
 },
 "nbformat": 4,
 "nbformat_minor": 4
}
