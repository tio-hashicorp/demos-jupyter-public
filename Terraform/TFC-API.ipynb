{
 "cells": [
  {
   "cell_type": "markdown",
   "metadata": {},
   "source": [
    "<img align=right src=images/HashiCorp_PrimaryLogo_Black_RGB.png width=150>\n",
    "<img src=images/acme.jpeg width=100 align=\"left\">"
   ]
  },
  {
   "cell_type": "markdown",
   "metadata": {},
   "source": [
    "# Terraform Cloud/Enterprise API Demo\n",
    "Terraform Cloud (TFC) and Terraform Enterprise affor us three workflows:\n",
    "* VCS-driven workflow\n",
    "* CLI-driven workflow\n",
    "* API-driven workflow\n",
    "\n",
    "## Setup Environment Variables"
   ]
  },
  {
   "cell_type": "code",
   "execution_count": null,
   "metadata": {},
   "outputs": [],
   "source": [
    "source ~/.tfapi"
   ]
  },
  {
   "cell_type": "code",
   "execution_count": null,
   "metadata": {},
   "outputs": [],
   "source": [
    "echo \"VAULT_TFE_KV: $VAULT_TFE_KV\"\n",
    "\n",
    "echo \"TFE_TEAM_TOKEN: $TFE_TEAM_TOKEN\"\n",
    "\n",
    "echo \"TFE_ORG_TOKEN: $TFE_ORG_TOKEN\"\n",
    "\n",
    "echo \"TFE_ORG: $TFE_ORG\"\n",
    "\n",
    "echo \"TFE_ADDR: $TFE_ADDR\"\n",
    "\n",
    "echo \"VCS_OATH_TOKEN_ID: $VCS_OAUTH_TOKEN_ID\""
   ]
  },
  {
   "cell_type": "code",
   "execution_count": null,
   "metadata": {},
   "outputs": [],
   "source": [
    "export VCS_WORKSPACE_NAME=\"vcs-driven-workspace\"\n",
    "export TF_VERSION=\"0.14.3\"\n",
    "export WORKING_DIRECTORY=\"\"\n",
    "export VCS_REPO=\"tio-hashicorp/tfe-demo-aws\"\n",
    "export VCS_BRANCH=\"\" #  for default"
   ]
  },
  {
   "cell_type": "markdown",
   "metadata": {},
   "source": [
    "---\n",
    "## Workspace \n"
   ]
  },
  {
   "cell_type": "markdown",
   "metadata": {},
   "source": [
    "### Create Workspace with a VCS connection.  \n",
    "This is useful for VCS-driven workflow.   \n",
    "API Call: \n",
    "```\n",
    "POST /organizations/:organization_name/workspaces\n",
    "```"
   ]
  },
  {
   "cell_type": "code",
   "execution_count": null,
   "metadata": {},
   "outputs": [],
   "source": [
    "cat <<EOF > /tmp/payload.json\n",
    "{\n",
    "  \"data\": {\n",
    "    \"attributes\": {\n",
    "      \"name\": \"${VCS_WORKSPACE_NAME}\",\n",
    "      \"terraform_version\": \"${TF_VERSION}\",\n",
    "      \"working-directory\": \"${WORKING_DIRECTORY}\",\n",
    "      \"vcs-repo\": {\n",
    "        \"identifier\": \"${VCS_REPO}\",\n",
    "        \"oauth-token-id\": \"${VCS_OAUTH_TOKEN_ID}\",\n",
    "        \"branch\": \"${VCS_BRANCH}\",\n",
    "        \"default-branch\": true\n",
    "      }\n",
    "    },\n",
    "    \"type\": \"workspaces\"\n",
    "  }\n",
    "}\n",
    "EOF\n",
    "\n",
    "cat /tmp/payload.json\n"
   ]
  },
  {
   "cell_type": "code",
   "execution_count": null,
   "metadata": {},
   "outputs": [],
   "source": [
    "curl -s \\\n",
    "  --header \"Authorization: Bearer $TFE_ORG_TOKEN\" \\\n",
    "  --header \"Content-Type: application/vnd.api+json\" \\\n",
    "  --request POST \\\n",
    "  --data @/tmp/payload.json \\\n",
    "  ${TFE_ADDR}/api/v2/organizations/${TFE_ORG}/workspaces | jq -r ."
   ]
  },
  {
   "cell_type": "markdown",
   "metadata": {},
   "source": [
    "### Create Workspace without specifying a VCS connection.  \n",
    "This is useful when the TF runs are going to be initiated by a CI system.  \n",
    "API Call: \n",
    "```\n",
    "POST /organizations/:organization_name/workspaces\n",
    "```"
   ]
  },
  {
   "cell_type": "code",
   "execution_count": null,
   "metadata": {},
   "outputs": [],
   "source": [
    "export API_WORKSPACE_NAME=\"api-driven-workspace\"\n",
    "\n",
    "cat <<EOF > /tmp/payload.json\n",
    "{\n",
    "  \"data\": {\n",
    "    \"attributes\": {\n",
    "      \"name\": \"${API_WORKSPACE_NAME}\",\n",
    "      \"auto-apply\": true\n",
    "    },\n",
    "    \"type\": \"workspaces\"\n",
    "  }\n",
    "}\n",
    "EOF\n",
    "cat /tmp/payload.json"
   ]
  },
  {
   "cell_type": "code",
   "execution_count": null,
   "metadata": {},
   "outputs": [],
   "source": [
    "curl -s \\\n",
    "  --header \"Authorization: Bearer $TFE_ORG_TOKEN\" \\\n",
    "  --header \"Content-Type: application/vnd.api+json\" \\\n",
    "  --request POST \\\n",
    "  --data @/tmp/payload.json \\\n",
    "  ${TFE_ADDR}/api/v2/organizations/${TFE_ORG}/workspaces | jq -r ."
   ]
  },
  {
   "cell_type": "markdown",
   "metadata": {},
   "source": [
    "## List Workspaces\n",
    "API Call: \n",
    "```\n",
    "GET /organizations/:organization_name/workspaces\n",
    "```"
   ]
  },
  {
   "cell_type": "code",
   "execution_count": null,
   "metadata": {},
   "outputs": [],
   "source": [
    "curl -s \\\n",
    "  --header \"Authorization: Bearer $TFE_ORG_TOKEN\" \\\n",
    "  --header \"Content-Type: application/vnd.api+json\" \\\n",
    "  ${TFE_ADDR}/api/v2/organizations/${TFE_ORG}/workspaces | jq -r ."
   ]
  },
  {
   "cell_type": "markdown",
   "metadata": {},
   "source": [
    "## Show workspace using name\n",
    "API Call: \n",
    "```\n",
    "GET /organizations/:organization_name/workspaces/:name\n",
    "```"
   ]
  },
  {
   "cell_type": "code",
   "execution_count": null,
   "metadata": {},
   "outputs": [],
   "source": [
    "curl -s \\\n",
    "  --header \"Authorization: Bearer $TFE_ORG_TOKEN\" \\\n",
    "  --header \"Content-Type: application/vnd.api+json\" \\\n",
    "  ${TFE_ADDR}/api/v2/organizations/${TFE_ORG}/workspaces/${VCS_WORKSPACE_NAME} | jq -r ."
   ]
  },
  {
   "cell_type": "markdown",
   "metadata": {},
   "source": [
    "## Show workspace using id\n",
    "API Call: \n",
    "```\n",
    "GET /organizations/:organization_name/workspaces/:name\n",
    "```"
   ]
  },
  {
   "cell_type": "markdown",
   "metadata": {},
   "source": [
    "\n",
    "#### Get the  workspace ID"
   ]
  },
  {
   "cell_type": "code",
   "execution_count": null,
   "metadata": {},
   "outputs": [],
   "source": [
    "export WORKSPACE_ID=$(curl -s \\\n",
    "  --header \"Authorization: Bearer $TFE_ORG_TOKEN\" \\\n",
    "  --header \"Content-Type: application/vnd.api+json\" \\\n",
    "  ${TFE_ADDR}/api/v2/organizations/${TFE_ORG}/workspaces | \\\n",
    "  jq -r \".data[] | select (.attributes.name==\\\"${API_WORKSPACE_NAME}\\\") | .id\")"
   ]
  },
  {
   "cell_type": "code",
   "execution_count": null,
   "metadata": {},
   "outputs": [],
   "source": [
    "echo $WORKSPACE_ID"
   ]
  },
  {
   "cell_type": "markdown",
   "metadata": {},
   "source": [
    "### Show workspace using workspace id"
   ]
  },
  {
   "cell_type": "code",
   "execution_count": null,
   "metadata": {},
   "outputs": [],
   "source": [
    "curl -s \\\n",
    "  --header \"Authorization: Bearer $TFE_ORG_TOKEN\" \\\n",
    "  --header \"Content-Type: application/vnd.api+json\" \\\n",
    "  ${TFE_ADDR}/api/v2//workspaces/${WORKSPACE_ID} | jq -r ."
   ]
  },
  {
   "cell_type": "markdown",
   "metadata": {},
   "source": [
    "---\n",
    "## Workspace variables"
   ]
  },
  {
   "cell_type": "code",
   "execution_count": null,
   "metadata": {},
   "outputs": [],
   "source": [
    "export VARIABLE_0_KEY=\"instance_type\"\n",
    "export VARIABLE_0_VALUE=\"t2.small\"\n",
    "export VARIABLE_0_DESCRIPTION=\"AWS Instance size\""
   ]
  },
  {
   "cell_type": "markdown",
   "metadata": {},
   "source": [
    "### Create JSON payload, using aforementioned environment variables"
   ]
  },
  {
   "cell_type": "code",
   "execution_count": null,
   "metadata": {},
   "outputs": [],
   "source": [
    "cat <<EOF > /tmp/payload.json\n",
    "{\n",
    "  \"data\": {\n",
    "    \"type\":\"vars\",\n",
    "    \"attributes\": {\n",
    "      \"key\":\"${VARIABLE_0_KEY}\",\n",
    "      \"value\":\"${VARIABLE_0_VALUE}\",\n",
    "      \"description\":\"${VARIABLE_0_DESCRIPTION}\",\n",
    "      \"category\":\"terraform\",\n",
    "      \"hcl\":false,\n",
    "      \"sensitive\":false\n",
    "    }\n",
    "  }\n",
    "}\n",
    "EOF\n",
    "cat /tmp/payload.json"
   ]
  },
  {
   "cell_type": "markdown",
   "metadata": {},
   "source": [
    "### Create variables in the workspace"
   ]
  },
  {
   "cell_type": "code",
   "execution_count": null,
   "metadata": {},
   "outputs": [],
   "source": [
    "curl -s \\\n",
    "  --header \"Authorization: Bearer $TFE_TEAM_TOKEN\" \\\n",
    "  --header \"Content-Type: application/vnd.api+json\" \\\n",
    "  --request POST \\\n",
    "  --data @/tmp/payload.json \\\n",
    "  ${TFE_ADDR}/api/v2/workspaces/${WORKSPACE_ID}/vars | jq -r ."
   ]
  },
  {
   "cell_type": "markdown",
   "metadata": {},
   "source": [
    "### More variables"
   ]
  },
  {
   "cell_type": "code",
   "execution_count": null,
   "metadata": {},
   "outputs": [],
   "source": [
    "export VARIABLE_1_KEY=\"aws_region\"\n",
    "export VARIABLE_1_VALUE=\"us-west-2\"\n",
    "export VARIABLE_1_DESCRIPTION=\"AWS Region\""
   ]
  },
  {
   "cell_type": "code",
   "execution_count": null,
   "metadata": {},
   "outputs": [],
   "source": [
    "cat <<EOF > /tmp/payload.json\n",
    "{\n",
    "  \"data\": {\n",
    "    \"type\":\"vars\",\n",
    "    \"attributes\": {\n",
    "      \"key\":\"${VARIABLE_1_KEY}\",\n",
    "      \"value\":\"${VARIABLE_1_VALUE}\",\n",
    "      \"description\":\"${VARIABLE_1_DESCRIPTION}\",\n",
    "      \"category\":\"terraform\",\n",
    "      \"hcl\":false,\n",
    "      \"sensitive\":false\n",
    "    }\n",
    "  }\n",
    "}\n",
    "EOF\n",
    "cat /tmp/payload.json"
   ]
  },
  {
   "cell_type": "code",
   "execution_count": null,
   "metadata": {},
   "outputs": [],
   "source": [
    "curl -s \\\n",
    "  --header \"Authorization: Bearer $TFE_TEAM_TOKEN\" \\\n",
    "  --header \"Content-Type: application/vnd.api+json\" \\\n",
    "  --request POST \\\n",
    "  --data @/tmp/payload.json \\\n",
    "  ${TFE_ADDR}/api/v2/workspaces/${WORKSPACE_ID}/vars | jq -r ."
   ]
  },
  {
   "cell_type": "markdown",
   "metadata": {},
   "source": [
    "### Set Sensitive Variable"
   ]
  },
  {
   "cell_type": "markdown",
   "metadata": {},
   "source": [
    "### Set AWS_ACCESS_KEY_ID"
   ]
  },
  {
   "cell_type": "code",
   "execution_count": null,
   "metadata": {},
   "outputs": [],
   "source": [
    "export VARIABLE_2_KEY=\"AWS_ACCESS_KEY_ID\""
   ]
  },
  {
   "cell_type": "code",
   "execution_count": null,
   "metadata": {},
   "outputs": [],
   "source": [
    "cat <<EOF > /tmp/payload.json\n",
    "{\n",
    "  \"data\": {\n",
    "    \"type\":\"vars\",\n",
    "    \"attributes\": {\n",
    "      \"key\":\"${VARIABLE_2_KEY}\",\n",
    "      \"value\":\"${AWS_ACCESS_KEY_ID}\",\n",
    "      \"category\":\"env\",\n",
    "      \"hcl\":false,\n",
    "      \"sensitive\":true\n",
    "    }\n",
    "  }\n",
    "}\n",
    "EOF\n",
    "cat /tmp/payload.json"
   ]
  },
  {
   "cell_type": "code",
   "execution_count": null,
   "metadata": {},
   "outputs": [],
   "source": [
    "curl -s \\\n",
    "  --header \"Authorization: Bearer $TFE_TEAM_TOKEN\" \\\n",
    "  --header \"Content-Type: application/vnd.api+json\" \\\n",
    "  --request POST \\\n",
    "  --data @/tmp/payload.json \\\n",
    "  ${TFE_ADDR}/api/v2/workspaces/${WORKSPACE_ID}/vars | jq -r ."
   ]
  },
  {
   "cell_type": "code",
   "execution_count": null,
   "metadata": {},
   "outputs": [],
   "source": [
    "cat <<EOF > /tmp/payload.json\n",
    "{\n",
    "  \"data\": {\n",
    "    \"type\":\"vars\",\n",
    "    \"attributes\": {\n",
    "      \"key\":\"AWS_SECRET_ACCESS_KEY\",\n",
    "      \"value\":\"${AWS_SECRET_ACCESS_KEY}\",\n",
    "      \"category\":\"env\",\n",
    "      \"hcl\":false,\n",
    "      \"sensitive\":true\n",
    "    }\n",
    "  }\n",
    "}\n",
    "EOF\n",
    "cat /tmp/payload.json"
   ]
  },
  {
   "cell_type": "markdown",
   "metadata": {},
   "source": [
    "### Set AWS_SECRET_ACCESS_KEY"
   ]
  },
  {
   "cell_type": "code",
   "execution_count": null,
   "metadata": {},
   "outputs": [],
   "source": [
    "curl -s \\\n",
    "  --header \"Authorization: Bearer $TFE_TEAM_TOKEN\" \\\n",
    "  --header \"Content-Type: application/vnd.api+json\" \\\n",
    "  --request POST \\\n",
    "  --data @/tmp/payload.json \\\n",
    "  ${TFE_ADDR}/api/v2/workspaces/${WORKSPACE_ID}/vars | jq -r ."
   ]
  },
  {
   "cell_type": "code",
   "execution_count": null,
   "metadata": {},
   "outputs": [],
   "source": [
    "vault write transform/template/nric \\\n",
    "  type=regex \\\n",
    "  pattern='[STFG]{1}(\\d{7})[A-Z]{1}' \\\n",
    "  alphabet=builtin/numeric"
   ]
  },
  {
   "cell_type": "code",
   "execution_count": null,
   "metadata": {},
   "outputs": [],
   "source": [
    "vault write transform/transformation/nric \\\n",
    "  type=fpe \\\n",
    "  template=nric \\\n",
    "  tweak_source=internal \\\n",
    "  allowed_roles=payments"
   ]
  },
  {
   "cell_type": "code",
   "execution_count": null,
   "metadata": {},
   "outputs": [],
   "source": [
    "vault write transform/encode/payments value=T7180802G transformation=nric"
   ]
  },
  {
   "cell_type": "markdown",
   "metadata": {},
   "source": [
    "---\n",
    "## Create Terraform Configuration tar-gzip file\n",
    "\n",
    "### Create a configuration version"
   ]
  },
  {
   "cell_type": "code",
   "execution_count": null,
   "metadata": {},
   "outputs": [],
   "source": [
    "export CONTENT_DIRECTORY=./tf_config\n",
    "\n",
    "export UPLOAD_FILE_NAME=\"./content-$(date +%s).tar.gz\"\n",
    "\n",
    "tar -zcvf \"$UPLOAD_FILE_NAME\" -C \"$CONTENT_DIRECTORY\" ."
   ]
  },
  {
   "cell_type": "code",
   "execution_count": null,
   "metadata": {},
   "outputs": [],
   "source": [
    "cat <<EOF > /tmp/create_config_version.json\n",
    "{\n",
    "  \"data\": {\n",
    "    \"type\": \"configuration-versions\"\n",
    "  }\n",
    "}\n",
    "EOF"
   ]
  },
  {
   "cell_type": "code",
   "execution_count": null,
   "metadata": {},
   "outputs": [],
   "source": [
    "export WORKSPACE_ID=\"ws-JQMwp4itmLo7zE4G\"\n",
    "\n",
    "UPLOAD_URL=($(curl -s \\\n",
    "  --header \"Authorization: Bearer $TFE_TEAM_TOKEN\" \\\n",
    "  --header \"Content-Type: application/vnd.api+json\" \\\n",
    "  --request POST \\\n",
    "  --data @/tmp/create_config_version.json \\\n",
    "  ${TFE_ADDR}/api/v2/workspaces/${WORKSPACE_ID}/configuration-versions \\\n",
    "  | jq -r '.data.attributes.\"upload-url\"' ) )\n",
    "  \n",
    "echo $UPLOAD_URL"
   ]
  },
  {
   "cell_type": "markdown",
   "metadata": {},
   "source": [
    "### Upload Configuration\n"
   ]
  },
  {
   "cell_type": "code",
   "execution_count": null,
   "metadata": {},
   "outputs": [],
   "source": [
    "curl \\\n",
    "  --header \"Content-Type: application/octet-stream\" \\\n",
    "  --request PUT \\\n",
    "  --data-binary @\"${UPLOAD_FILE_NAME}\" \\\n",
    "  ${UPLOAD_URL}"
   ]
  },
  {
   "cell_type": "markdown",
   "metadata": {},
   "source": [
    "**Note** Because we configured our workspace to auto-apply, we don't need to create a run. Otherwise, we could POST to the /runs API to create a run."
   ]
  },
  {
   "cell_type": "markdown",
   "metadata": {},
   "source": [
    "&nbsp;\n",
    "\n",
    "---\n",
    "#### Thank you.\n",
    "<img src=images/HashiCorp_PrimaryLogo_Black_RGB.png width=100 align=\"left\">"
   ]
  }
 ],
 "metadata": {
  "kernelspec": {
   "display_name": "Z shell",
   "language": "zsh",
   "name": "zsh"
  },
  "language_info": {
   "codemirror_mode": "shell",
   "file_extension": ".zsh",
   "mimetype": "text/x-zsh",
   "name": "zsh",
   "pygments_lexer": "shell",
   "version": "5.7.1"
  }
 },
 "nbformat": 4,
 "nbformat_minor": 4
}
