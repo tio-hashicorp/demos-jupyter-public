{
 "cells": [
  {
   "cell_type": "markdown",
   "metadata": {},
   "source": [
    "<img src=images/HashiCorp_PrimaryLogo_Black_RGB.png width=100>"
   ]
  },
  {
   "cell_type": "markdown",
   "metadata": {},
   "source": [
    "# Namespace\n",
    "\n",
    "Namespaces are isolated environments.\n",
    "\n",
    "- It exists as \"Vaults within a Vault\"\n",
    "- They have separate login paths\n",
    "- Support creating and managing data (secret engines, auth methods, policies, identities, etc.) isolated to their namespaces."
   ]
  },
  {
   "cell_type": "markdown",
   "metadata": {},
   "source": [
    "### Vault Setup"
   ]
  },
  {
   "cell_type": "code",
   "execution_count": null,
   "metadata": {},
   "outputs": [],
   "source": [
    "vault --version"
   ]
  },
  {
   "cell_type": "code",
   "execution_count": null,
   "metadata": {},
   "outputs": [],
   "source": [
    "export VAULT_ADDR=http://127.0.0.1:8200\n",
    "export VAULT_SKIP_VERIFY=true"
   ]
  },
  {
   "cell_type": "code",
   "execution_count": null,
   "metadata": {
    "scrolled": true
   },
   "outputs": [],
   "source": [
    "vault status"
   ]
  },
  {
   "cell_type": "code",
   "execution_count": null,
   "metadata": {
    "scrolled": true
   },
   "outputs": [],
   "source": [
    "vault login root"
   ]
  },
  {
   "cell_type": "markdown",
   "metadata": {},
   "source": [
    "### Create namespaces\n"
   ]
  },
  {
   "cell_type": "code",
   "execution_count": null,
   "metadata": {},
   "outputs": [],
   "source": [
    "vault namespace create edu"
   ]
  },
  {
   "cell_type": "code",
   "execution_count": null,
   "metadata": {},
   "outputs": [],
   "source": [
    "vault namespace create -namespace=edu teaching"
   ]
  },
  {
   "cell_type": "code",
   "execution_count": null,
   "metadata": {},
   "outputs": [],
   "source": [
    "vault namespace create -namespace=edu rnd"
   ]
  },
  {
   "cell_type": "code",
   "execution_count": null,
   "metadata": {},
   "outputs": [],
   "source": [
    "vault namespace list"
   ]
  },
  {
   "cell_type": "code",
   "execution_count": null,
   "metadata": {},
   "outputs": [],
   "source": [
    "vault namespace list -namespace=edu"
   ]
  },
  {
   "cell_type": "markdown",
   "metadata": {},
   "source": [
    "## Create KV secret engine in a namespace"
   ]
  },
  {
   "cell_type": "code",
   "execution_count": null,
   "metadata": {},
   "outputs": [],
   "source": [
    "vault secrets enable -namespace=edu -path=secret-edu kv"
   ]
  },
  {
   "cell_type": "code",
   "execution_count": null,
   "metadata": {},
   "outputs": [],
   "source": [
    "vault secrets list -namespace=edu"
   ]
  },
  {
   "cell_type": "code",
   "execution_count": null,
   "metadata": {},
   "outputs": [],
   "source": [
    "vault kv put edu/secret-edu/training username=\"student01\" password=\"pAssw0rd\""
   ]
  },
  {
   "cell_type": "code",
   "execution_count": null,
   "metadata": {},
   "outputs": [],
   "source": [
    "vault kv get edu/secret-edu/training"
   ]
  },
  {
   "cell_type": "markdown",
   "metadata": {},
   "source": [
    "### View Vault via a browser\n",
    "Open a web browser and visit http://127.0.0.1:8200/ui/vault\n",
    "Use **TOKEN** and **Sign in**"
   ]
  },
  {
   "cell_type": "markdown",
   "metadata": {},
   "source": [
    "&nbsp;\n",
    "\n",
    "---\n",
    "#### Thank you.\n",
    "<img src=images/HashiCorp_PrimaryLogo_Black_RGB.png width=100 align=\"left\">"
   ]
  }
 ],
 "metadata": {
  "kernelspec": {
   "display_name": "Z shell",
   "language": "zsh",
   "name": "zsh"
  },
  "language_info": {
   "codemirror_mode": "shell",
   "file_extension": ".zsh",
   "mimetype": "text/x-zsh",
   "name": "zsh",
   "pygments_lexer": "shell",
   "version": "5.7.1"
  }
 },
 "nbformat": 4,
 "nbformat_minor": 4
}
