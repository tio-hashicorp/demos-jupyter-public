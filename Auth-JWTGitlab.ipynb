{
 "cells": [
  {
   "cell_type": "markdown",
   "metadata": {},
   "source": [
    "<img align=right src=images/HashiCorp_PrimaryLogo_Black_RGB.png width=150>\n",
    "<img src=images/Acme.jpeg width=100 align=\"left\">"
   ]
  },
  {
   "cell_type": "markdown",
   "metadata": {},
   "source": [
    "# JWT Auth\n",
    "---\n",
    "\n",
    "## Business Value of Capability\n",
    "\n",
    "### Setup\n",
    "```vrd1```\n",
    "---"
   ]
  },
  {
   "cell_type": "code",
   "execution_count": null,
   "metadata": {},
   "outputs": [],
   "source": [
    "export VAULT_ADDR=http://127.0.0.1:8200\n",
    "export VAULT_SKIP_VERIFY=true"
   ]
  },
  {
   "cell_type": "code",
   "execution_count": null,
   "metadata": {},
   "outputs": [],
   "source": [
    "vault login root"
   ]
  },
  {
   "cell_type": "code",
   "execution_count": null,
   "metadata": {},
   "outputs": [],
   "source": [
    "vault status"
   ]
  },
  {
   "cell_type": "code",
   "execution_count": null,
   "metadata": {},
   "outputs": [],
   "source": [
    "vault -version"
   ]
  },
  {
   "cell_type": "markdown",
   "metadata": {},
   "source": [
    "### Demo\n",
    "---\n",
    "**Enable the Vault JWT Authentication**"
   ]
  },
  {
   "cell_type": "code",
   "execution_count": null,
   "metadata": {},
   "outputs": [],
   "source": [
    "vault auth enable jwt"
   ]
  },
  {
   "cell_type": "markdown",
   "metadata": {},
   "source": [
    "**Write some policies**"
   ]
  },
  {
   "cell_type": "code",
   "execution_count": null,
   "metadata": {},
   "outputs": [],
   "source": [
    "vault policy write myproject-staging - <<EOF\n",
    "# Policy name: myproject-staging\n",
    "#\n",
    "# Read-only permission on 'secret/data/myproject/staging/*' path\n",
    "path \"secret/data/myproject/staging/*\" {\n",
    "  capabilities = [ \"read\" ]\n",
    "}\n",
    "EOF"
   ]
  },
  {
   "cell_type": "code",
   "execution_count": null,
   "metadata": {},
   "outputs": [],
   "source": [
    "vault policy write myproject-production - <<EOF\n",
    "# Policy name: myproject-production\n",
    "#\n",
    "# Read-only permission on 'secret/data/myproject/production/*' path\n",
    "path \"secret/data/myproject/production/*\" {\n",
    "  capabilities = [ \"read\" ]\n",
    "}\n",
    "EOF"
   ]
  },
  {
   "cell_type": "markdown",
   "metadata": {},
   "source": [
    "**Config JWT for a role with bound_claim**"
   ]
  },
  {
   "cell_type": "code",
   "execution_count": null,
   "metadata": {},
   "outputs": [],
   "source": [
    "vault write auth/jwt/role/myproject-staging - <<EOF\n",
    "{\n",
    "  \"role_type\": \"jwt\",\n",
    "  \"policies\": [\"myproject-staging\"],\n",
    "  \"token_explicit_max_ttl\": 60,\n",
    "  \"user_claim\": \"user_email\",\n",
    "  \"bound_claims\": {\n",
    "    \"project_id\": \"9937757\",\n",
    "    \"ref\": \"master\",\n",
    "    \"ref_type\": \"branch\"\n",
    "  }\n",
    "}\n",
    "EOF"
   ]
  },
  {
   "cell_type": "markdown",
   "metadata": {},
   "source": [
    "**NOte:** the project_id `9937757` refers to gitlab.com/bjc project   \n",
    "**Config JWT for another role with bound_claim**"
   ]
  },
  {
   "cell_type": "code",
   "execution_count": null,
   "metadata": {},
   "outputs": [],
   "source": [
    " vault write auth/jwt/role/myproject-production - <<EOF\n",
    " {\n",
    "   \"role_type\": \"jwt\",\n",
    "   \"policies\": [\"myproject-production\"],\n",
    "   \"token_explicit_max_ttl\": 60,\n",
    "   \"user_claim\": \"user_email\",\n",
    "   \"bound_claims_type\": \"glob\",\n",
    "   \"bound_claims\": {\n",
    "     \"project_id\": \"9937757\",\n",
    "     \"ref_protected\": \"true\",\n",
    "     \"ref_type\": \"branch\",\n",
    "     \"ref\": \"auto-deploy-*\"\n",
    "   }\n",
    " }\n",
    "EOF"
   ]
  },
  {
   "cell_type": "code",
   "execution_count": null,
   "metadata": {},
   "outputs": [],
   "source": [
    "vault write auth/jwt/config \\\n",
    "     jwks_url=\"https://gitlab.com/-/jwks\" \\\n",
    "     bound_issuer=\"gitlab.com\""
   ]
  },
  {
   "cell_type": "markdown",
   "metadata": {},
   "source": [
    "---\n",
    "### Populate the KV Engine"
   ]
  },
  {
   "cell_type": "code",
   "execution_count": null,
   "metadata": {},
   "outputs": [],
   "source": [
    "vault kv write secret/myproject/staging/db password=r31nsta11"
   ]
  },
  {
   "cell_type": "markdown",
   "metadata": {},
   "source": [
    "**Revoke all leases**"
   ]
  },
  {
   "cell_type": "code",
   "execution_count": null,
   "metadata": {},
   "outputs": [],
   "source": [
    "vault kv write secret/myproject/production/db password=r31nsta11"
   ]
  },
  {
   "cell_type": "markdown",
   "metadata": {},
   "source": [
    "---\n",
    "## Authenticate to Vault using the JWT"
   ]
  },
  {
   "cell_type": "code",
   "execution_count": null,
   "metadata": {},
   "outputs": [],
   "source": [
    "export VAULT_ADDR=http://54.186.105.168:8200\n",
    "\n",
    "export VAULT_TOKEN=\"$(vault write -field=token auth/jwt/login role=myproject-staging jwt=$CI_JOB_JWT)\"\n",
    "\n",
    "export PASSWORD=\"$(vault kv get -field=password secret/myproject/staging/db)\"\n",
    "\n",
    "echo $PASSWORD\n",
    "\n",
    "# This will fail because the role myproject-staging can not read secrets from secret/myproject/production/*\n",
    "export PASSWORD=\"$(vault kv get -field=password secret/myproject/production/db)\""
   ]
  },
  {
   "cell_type": "code",
   "execution_count": null,
   "metadata": {},
   "outputs": [],
   "source": [
    "export VAULT_ADDR=http://vault.example.com:8200\n",
    "\n",
    "export VAULT_TOKEN=\"$(vault write -field=token auth/jwt/login role=myproject-production jwt=$CI_JOB_JWT)\"\n",
    "\n",
    "export PASSWORD=\"$(vault kv get -field=password secret/myproject/production/db)\"\n",
    "    # Use the secret\n",
    "\n",
    "echo $PASSWORD"
   ]
  },
  {
   "cell_type": "code",
   "execution_count": null,
   "metadata": {},
   "outputs": [],
   "source": []
  },
  {
   "cell_type": "code",
   "execution_count": null,
   "metadata": {},
   "outputs": [],
   "source": []
  },
  {
   "cell_type": "code",
   "execution_count": null,
   "metadata": {},
   "outputs": [],
   "source": []
  },
  {
   "cell_type": "markdown",
   "metadata": {},
   "source": [
    "**END**"
   ]
  }
 ],
 "metadata": {
  "kernelspec": {
   "display_name": "Z shell",
   "language": "zsh",
   "name": "zsh"
  },
  "language_info": {
   "codemirror_mode": "shell",
   "file_extension": ".zsh",
   "mimetype": "text/x-zsh",
   "name": "zsh",
   "pygments_lexer": "shell",
   "version": "5.7.1"
  }
 },
 "nbformat": 4,
 "nbformat_minor": 4
}
