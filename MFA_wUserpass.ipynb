{
 "cells": [
  {
   "cell_type": "markdown",
   "metadata": {},
   "source": [
    "<img align=right src=images/HashiCorp_PrimaryLogo_Black_RGB.png width=150>\n",
    "<img src=images/sglogo.png width=50 align=\"left\">"
   ]
  },
  {
   "cell_type": "markdown",
   "metadata": {},
   "source": [
    "# TOTP MFA\n",
    "<img src=\"images/vault-totp1.png\" width=300>  \n",
    "\n",
    "MFA works only for tokens that have identity information on them\n",
    "Tokens created by logging in using auth methods will have the associated identity information\n",
    "\n",
    "**Prerequisites:** \n",
    "You need to have Enterprise Vault up and running\n",
    "\n",
    "`VAULT_UI=true VAULT_REDIRECT_ADDR=http://127.0.0.1:8200 evault server -log-level=trace -dev -dev-root-token-id=root -dev-listen-address=127.0.0.1:8200 -dev-ha -dev-transactional`"
   ]
  },
  {
   "cell_type": "code",
   "execution_count": 2,
   "metadata": {},
   "outputs": [],
   "source": [
    "export VAULT_ADDR=http://127.0.0.1:8200\n",
    "export VAULT_SKIP_VERIFY=true"
   ]
  },
  {
   "cell_type": "code",
   "execution_count": 3,
   "metadata": {},
   "outputs": [
    {
     "name": "stdout",
     "output_type": "stream",
     "text": [
      "\u001b[0mSuccess! You are now authenticated. The token information displayed below\n",
      "is already stored in the token helper. You do NOT need to run \"vault login\"\n",
      "again. Future Vault requests will automatically use this token.\n",
      "\u001b[0m\n",
      "\u001b[0mKey                  Value\n",
      "---                  -----\n",
      "token                root\n",
      "token_accessor       1yDVFzpd0DllvRwkhbX1NPtT\n",
      "token_duration       ∞\n",
      "token_renewable      false\n",
      "token_policies       [\"root\"]\n",
      "identity_policies    []\n",
      "policies             [\"root\"]\u001b[0m\n"
     ]
    }
   ],
   "source": [
    "vault login root"
   ]
  },
  {
   "cell_type": "code",
   "execution_count": 4,
   "metadata": {},
   "outputs": [
    {
     "name": "stdout",
     "output_type": "stream",
     "text": [
      "\u001b[0mKey             Value\n",
      "---             -----\n",
      "Seal Type       shamir\n",
      "Initialized     true\n",
      "Sealed          false\n",
      "Total Shares    1\n",
      "Threshold       1\n",
      "Version         1.7.0+ent\n",
      "Storage Type    inmem_transactional_ha\n",
      "Cluster Name    vault-cluster-1141985c\n",
      "Cluster ID      4855d8f8-cc99-b3dd-13f5-c54ae795613a\n",
      "HA Enabled      true\n",
      "HA Cluster      https://0.0.0.0:8201\n",
      "HA Mode         active\n",
      "Active Since    2021-03-27T15:15:04.519803Z\n",
      "Last WAL        35\u001b[0m\n",
      "\u001b[0mVault v1.7.0 (4e222b85c40a810b74400ee3c54449479e32bb9f)\u001b[0m\n"
     ]
    }
   ],
   "source": [
    "vault status; vault version"
   ]
  },
  {
   "cell_type": "markdown",
   "metadata": {},
   "source": [
    "### Create static secrets"
   ]
  },
  {
   "cell_type": "code",
   "execution_count": 5,
   "metadata": {},
   "outputs": [
    {
     "name": "stdout",
     "output_type": "stream",
     "text": [
      "\u001b[0mSuccess! Enabled the kv secrets engine at: secret1/\u001b[0m\n"
     ]
    }
   ],
   "source": [
    "vault secrets enable -version=1 -path=secret1 kv"
   ]
  },
  {
   "cell_type": "code",
   "execution_count": 6,
   "metadata": {},
   "outputs": [
    {
     "name": "stdout",
     "output_type": "stream",
     "text": [
      "\u001b[0mSuccess! Data written to: secret1/web01\u001b[0m\n",
      "\u001b[0mSuccess! Data written to: secret1/web02\u001b[0m\n"
     ]
    }
   ],
   "source": [
    "vault kv put secret1/web01 ip=\"192.168.1.191\" username=\"arthur\" password=\"passw0rd123\"\n",
    "vault kv put secret1/web02 ip=\"192.168.1.192\" username=\"raymond\" password=\"passw0rd123\""
   ]
  },
  {
   "cell_type": "markdown",
   "metadata": {},
   "source": [
    "---\n",
    "## Configure TOTP MFA"
   ]
  },
  {
   "cell_type": "code",
   "execution_count": 7,
   "metadata": {},
   "outputs": [
    {
     "name": "stdout",
     "output_type": "stream",
     "text": [
      "\u001b[0mSuccess! Data written to: sys/mfa/method/totp/my_totp\u001b[0m\n"
     ]
    }
   ],
   "source": [
    "vault write sys/mfa/method/totp/my_totp \\\n",
    "    issuer=Vault \\\n",
    "    period=30 \\\n",
    "    key_size=30 \\\n",
    "    algorithm=SHA256 \\\n",
    "    digits=6"
   ]
  },
  {
   "cell_type": "code",
   "execution_count": 8,
   "metadata": {},
   "outputs": [
    {
     "name": "stdout",
     "output_type": "stream",
     "text": [
      "\u001b[0mSuccess! Uploaded policy: totp-policy\u001b[0m\n"
     ]
    }
   ],
   "source": [
    "vault policy write totp-policy -<<EOF\n",
    "path \"secret1/*\" {\n",
    "  capabilities = [\"read\"]\n",
    "  mfa_methods  = [\"my_totp\"]\n",
    "}\n",
    "EOF"
   ]
  },
  {
   "cell_type": "markdown",
   "metadata": {},
   "source": [
    "**Note:** the policy above allows reading of `secret1` but it also requires MFA `my_totp`"
   ]
  },
  {
   "cell_type": "markdown",
   "metadata": {},
   "source": [
    "### Use Userpass authentication"
   ]
  },
  {
   "cell_type": "code",
   "execution_count": 9,
   "metadata": {},
   "outputs": [
    {
     "name": "stdout",
     "output_type": "stream",
     "text": [
      "\u001b[0mSuccess! Enabled userpass auth method at: userpass/\u001b[0m\n"
     ]
    }
   ],
   "source": [
    "vault auth enable userpass"
   ]
  },
  {
   "cell_type": "code",
   "execution_count": 10,
   "metadata": {},
   "outputs": [
    {
     "name": "stdout",
     "output_type": "stream",
     "text": [
      "\u001b[0mSuccess! Data written to: auth/userpass/users/tiobagio\u001b[0m\n"
     ]
    }
   ],
   "source": [
    "vault write auth/userpass/users/tiobagio \\\n",
    "    password=passw0rd \\\n",
    "    policies=totp-policy"
   ]
  },
  {
   "cell_type": "code",
   "execution_count": 11,
   "metadata": {},
   "outputs": [
    {
     "name": "stdout",
     "output_type": "stream",
     "text": [
      "\u001b[0mKey                    Value\n",
      "---                    -----\n",
      "token                  s.eiaWMTXRNJf5O5NUN1aS0Ryp\n",
      "token_accessor         J1FjbmEMZQD7pypWuCJPTuwd\n",
      "token_duration         768h\n",
      "token_renewable        true\n",
      "token_policies         [\"default\" \"totp-policy\"]\n",
      "identity_policies      []\n",
      "policies               [\"default\" \"totp-policy\"]\n",
      "token_meta_username    tiobagio\u001b[0m\n"
     ]
    }
   ],
   "source": [
    "vault write auth/userpass/login/tiobagio \\\n",
    "    password=passw0rd"
   ]
  },
  {
   "cell_type": "markdown",
   "metadata": {},
   "source": [
    "**Note:** the CLI is not authenticated with the newly created token yet, we **did not** call `vault login`, instead we used the login API to simply return a token"
   ]
  },
  {
   "cell_type": "code",
   "execution_count": 12,
   "metadata": {},
   "outputs": [
    {
     "name": "stdout",
     "output_type": "stream",
     "text": [
      "\u001b[0mKey                 Value\n",
      "---                 -----\n",
      "accessor            J1FjbmEMZQD7pypWuCJPTuwd\n",
      "creation_time       1616858164\n",
      "creation_ttl        768h\n",
      "display_name        userpass-tiobagio\n",
      "entity_id           7777ca15-2f47-68d0-8953-687656c95783\n",
      "expire_time         2021-04-28T23:16:04.233537+08:00\n",
      "explicit_max_ttl    0s\n",
      "id                  s.eiaWMTXRNJf5O5NUN1aS0Ryp\n",
      "issue_time          2021-03-27T23:16:04.233543+08:00\n",
      "meta                map[username:tiobagio]\n",
      "num_uses            0\n",
      "orphan              true\n",
      "path                auth/userpass/login/tiobagio\n",
      "policies            [default totp-policy]\n",
      "renewable           true\n",
      "ttl                 767h59m51s\n",
      "type                service\u001b[0m\n"
     ]
    }
   ],
   "source": [
    "VAULT_TOKEN=root vault token lookup s.eiaWMTXRNJf5O5NUN1aS0Ryp"
   ]
  },
  {
   "cell_type": "markdown",
   "metadata": {},
   "source": [
    "### MFA works only for tokens that have identity information on them\n",
    "Tokens created by logging in using auth methods will have the associated identity information"
   ]
  },
  {
   "cell_type": "code",
   "execution_count": 13,
   "metadata": {},
   "outputs": [
    {
     "name": "stdout",
     "output_type": "stream",
     "text": [
      "\u001b[0mKey        Value\n",
      "---        -----\n",
      "barcode    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\n",
      "url        otpauth://totp/Vault:7777ca15-2f47-68d0-8953-687656c95783?algorithm=SHA256&digits=6&issuer=Vault&period=30&secret=DAHU3AFEUEIYN3NZWHCO2NLTXUYDDJWM7AN36AWMCLMVT6ZB\u001b[0m\n"
     ]
    }
   ],
   "source": [
    "#use entity_id from the previous output\n",
    "vault write sys/mfa/method/totp/my_totp/admin-generate \\\n",
    "    entity_id=7777ca15-2f47-68d0-8953-687656c95783"
   ]
  },
  {
   "cell_type": "markdown",
   "metadata": {},
   "source": [
    "**Note**: the above barcode is a .png file that looks like the picture below.  Use\n",
    "`echo \"<insert barcode value here>\" | base64 --decode > /tmp/barcode.png` "
   ]
  },
  {
   "cell_type": "markdown",
   "metadata": {},
   "source": [
    "<img src=\"images/barcode.png\" width=100>"
   ]
  },
  {
   "cell_type": "markdown",
   "metadata": {},
   "source": [
    "### Use Google Authenticator\n",
    "Open Google Authenticator, click + (plus sign) and press \"Scan barcode\".   \n",
    "<img src=\"images/authenticator1.png\" width=100>\n",
    "<img src=\"images/authenticator2.png\" width=100>"
   ]
  },
  {
   "cell_type": "markdown",
   "metadata": {},
   "source": [
    "### Demo - Read the secret"
   ]
  },
  {
   "cell_type": "code",
   "execution_count": 14,
   "metadata": {},
   "outputs": [
    {
     "name": "stdout",
     "output_type": "stream",
     "text": [
      "\u001b[0mSuccess! You are now authenticated. The token information displayed below\n",
      "is already stored in the token helper. You do NOT need to run \"vault login\"\n",
      "again. Future Vault requests will automatically use this token.\n",
      "\u001b[0m\n",
      "\u001b[0mKey                    Value\n",
      "---                    -----\n",
      "token                  s.eiaWMTXRNJf5O5NUN1aS0Ryp\n",
      "token_accessor         J1FjbmEMZQD7pypWuCJPTuwd\n",
      "token_duration         767h56m56s\n",
      "token_renewable        true\n",
      "token_policies         [\"default\" \"totp-policy\"]\n",
      "identity_policies      []\n",
      "policies               [\"default\" \"totp-policy\"]\n",
      "token_meta_username    tiobagio\u001b[0m\n"
     ]
    }
   ],
   "source": [
    "unset VAULT_TOKEN;vault login s.eiaWMTXRNJf5O5NUN1aS0Ryp"
   ]
  },
  {
   "cell_type": "code",
   "execution_count": 15,
   "metadata": {},
   "outputs": [
    {
     "name": "stdout",
     "output_type": "stream",
     "text": [
      "\u001b[0ms.eiaWMTXRNJf5O5NUN1aS0Ryp\u001b[0m\n",
      "\u001b[91mError reading secret1/web01: Error making API request.\n",
      "\n",
      "URL: GET http://127.0.0.1:8200/v1/secret1/web01\n",
      "Code: 403. Errors:\n",
      "\n",
      "* 1 error occurred:\n",
      "\t* permission denied\n",
      "\n",
      "\u001b[0m\n"
     ]
    }
   ],
   "source": [
    "vault print token; vault kv get secret1/web01"
   ]
  },
  {
   "cell_type": "markdown",
   "metadata": {},
   "source": [
    "**Note**: OTP is required!!"
   ]
  },
  {
   "cell_type": "code",
   "execution_count": 16,
   "metadata": {},
   "outputs": [
    {
     "name": "stdout",
     "output_type": "stream",
     "text": [
      "\u001b[0ms.eiaWMTXRNJf5O5NUN1aS0Ryp\u001b[0m\n",
      "\u001b[91mError reading secret1/web01: Error making API request.\n",
      "\n",
      "URL: GET http://127.0.0.1:8200/v1/secret1/web01\n",
      "Code: 403. Errors:\n",
      "\n",
      "* 1 error occurred:\n",
      "\t* permission denied\n",
      "\n",
      "\u001b[0m\n"
     ]
    }
   ],
   "source": [
    "vault print token;  vault read -mfa my_totp:443937 secret1/web01"
   ]
  },
  {
   "cell_type": "markdown",
   "metadata": {},
   "source": [
    "**Note**: Use Google Authenticator to get 6 digits number. Using wrong OTP results in `permission denied`"
   ]
  },
  {
   "cell_type": "code",
   "execution_count": 17,
   "metadata": {},
   "outputs": [
    {
     "name": "stdout",
     "output_type": "stream",
     "text": [
      "\u001b[0ms.eiaWMTXRNJf5O5NUN1aS0Ryp\u001b[0m\n",
      "\u001b[0mKey                 Value\n",
      "---                 -----\n",
      "refresh_interval    768h\n",
      "ip                  192.168.1.191\n",
      "password            passw0rd123\n",
      "username            arthur\u001b[0m\n"
     ]
    }
   ],
   "source": [
    "vault print token;  vault read -mfa my_totp:238670 secret1/web01"
   ]
  },
  {
   "cell_type": "markdown",
   "metadata": {},
   "source": [
    "---\n",
    "### TOTP Secret Engine"
   ]
  },
  {
   "cell_type": "code",
   "execution_count": 21,
   "metadata": {},
   "outputs": [
    {
     "name": "stdout",
     "output_type": "stream",
     "text": [
      "\u001b[0mSuccess! Enabled the totp secrets engine at: totp/\u001b[0m\n"
     ]
    }
   ],
   "source": [
    "export VAULT_TOKEN=root; vault secrets enable totp"
   ]
  },
  {
   "cell_type": "markdown",
   "metadata": {},
   "source": [
    "### Use url from above"
   ]
  },
  {
   "cell_type": "code",
   "execution_count": 22,
   "metadata": {},
   "outputs": [
    {
     "name": "stdout",
     "output_type": "stream",
     "text": [
      "\u001b[0mSuccess! Data written to: totp/keys/my-key\u001b[0m\n"
     ]
    }
   ],
   "source": [
    "VAULT_TOKEN=root; \n",
    "vault write totp/keys/my-key \\\n",
    "    url=\"otpauth://totp/Vault:7777ca15-2f47-68d0-8953-687656c95783?algorithm=SHA256&digits=6&issuer=Vault&period=30&secret=DAHU3AFEUEIYN3NZWHCO2NLTXUYDDJWM7AN36AWMCLMVT6ZB\""
   ]
  },
  {
   "cell_type": "code",
   "execution_count": 27,
   "metadata": {},
   "outputs": [
    {
     "name": "stdout",
     "output_type": "stream",
     "text": [
      "\u001b[0mKey     Value\n",
      "---     -----\n",
      "code    813039\u001b[0m\n"
     ]
    }
   ],
   "source": [
    "export VAULT_TOKEN=root; vault read totp/code/my-key"
   ]
  },
  {
   "cell_type": "code",
   "execution_count": 28,
   "metadata": {},
   "outputs": [
    {
     "name": "stdout",
     "output_type": "stream",
     "text": [
      "\u001b[91mError reading secret1/web01: Error making API request.\n",
      "\n",
      "URL: GET http://127.0.0.1:8200/v1/secret1/web01\n",
      "Code: 403. Errors:\n",
      "\n",
      "* 1 error occurred:\n",
      "\t* permission denied\n",
      "\n",
      "\u001b[0m\n"
     ]
    }
   ],
   "source": [
    "VAULT_TOKEN=s.eiaWMTXRNJf5O5NUN1aS0Ryp;\n",
    "vault read secret1/web01"
   ]
  },
  {
   "cell_type": "markdown",
   "metadata": {},
   "source": [
    "**Note**: OTP is required!!"
   ]
  },
  {
   "cell_type": "code",
   "execution_count": 29,
   "metadata": {},
   "outputs": [
    {
     "name": "stdout",
     "output_type": "stream",
     "text": [
      "\u001b[0mKey                 Value\n",
      "---                 -----\n",
      "refresh_interval    768h\n",
      "ip                  192.168.1.191\n",
      "password            passw0rd123\n",
      "username            arthur\u001b[0m\n"
     ]
    }
   ],
   "source": [
    "VAULT_TOKEN=s.eiaWMTXRNJf5O5NUN1aS0Ryp;\n",
    "vault read -mfa my_totp:813039 secret1/web01"
   ]
  },
  {
   "cell_type": "code",
   "execution_count": 30,
   "metadata": {},
   "outputs": [
    {
     "name": "stdout",
     "output_type": "stream",
     "text": [
      "\u001b[0mKey      Value\n",
      "---      -----\n",
      "valid    true\u001b[0m\n"
     ]
    }
   ],
   "source": [
    "VAULT_TOKEN=root\n",
    "vault write totp/code/my-key code=813039"
   ]
  },
  {
   "cell_type": "code",
   "execution_count": 31,
   "metadata": {},
   "outputs": [
    {
     "name": "stdout",
     "output_type": "stream",
     "text": [
      "\u001b[0mKey      Value\n",
      "---      -----\n",
      "valid    false\u001b[0m\n"
     ]
    }
   ],
   "source": [
    "VAULT_TOKEN=root\n",
    "vault write totp/code/my-key code=813030"
   ]
  },
  {
   "cell_type": "markdown",
   "metadata": {},
   "source": [
    "&nbsp;\n",
    "\n",
    "---\n",
    "#### Thank you.\n",
    "<img src=images/HashiCorp_PrimaryLogo_Black_RGB.png width=100 align=\"left\">"
   ]
  }
 ],
 "metadata": {
  "kernelspec": {
   "display_name": "Z shell",
   "language": "zsh",
   "name": "zsh"
  },
  "language_info": {
   "codemirror_mode": "shell",
   "file_extension": ".zsh",
   "mimetype": "text/x-zsh",
   "name": "zsh",
   "pygments_lexer": "shell",
   "version": "5.7.1"
  }
 },
 "nbformat": 4,
 "nbformat_minor": 4
}
