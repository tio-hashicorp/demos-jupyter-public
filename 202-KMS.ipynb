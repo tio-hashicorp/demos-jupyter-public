{
 "cells": [
  {
   "cell_type": "markdown",
   "metadata": {},
   "source": [
    "<img align=right src=images/HashiCorp_PrimaryLogo_Black_RGB.png width=150>\n",
    "<img src=images/acme.jpeg width=100 align=\"left\">"
   ]
  },
  {
   "cell_type": "markdown",
   "metadata": {},
   "source": [
    "# Key Management Secrets Engine\n",
    "\n",
    "You want to maintain root of trust and control of the encryption key lifecycle.\n",
    "\n",
    "<img src=\"images/vault-tokenization-1.png\">\n",
    "\n",
    "\n",
    "**Prerequisites:**\n",
    "* Vault Enterprise binary with Advanced Data Protection\n",
    "* Vault License\n",
    "\n",
    "## Setup"
   ]
  },
  {
   "cell_type": "code",
   "execution_count": null,
   "metadata": {},
   "outputs": [],
   "source": [
    "/bin/rm -rf $HOME/demos/vault_cluster/vrd/data/*"
   ]
  },
  {
   "cell_type": "code",
   "execution_count": null,
   "metadata": {},
   "outputs": [],
   "source": [
    "export VAULT_ADDR=http://127.0.0.1:8200\n",
    "export VAULT_SKIP_VERIFY=true\n",
    "export VAULT_TOKEN=root"
   ]
  },
  {
   "cell_type": "code",
   "execution_count": null,
   "metadata": {},
   "outputs": [],
   "source": [
    "which vault\n",
    "vault --version\n"
   ]
  },
  {
   "cell_type": "markdown",
   "metadata": {},
   "source": [
    "\\\n",
    "**EXECUTE the following command in SEPARATE window**\n",
    "\n",
    "```\n",
    "VAULT_UI=true VAULT_REDIRECT_ADDR=http://127.0.0.1:8200 evault server -log-level=trace -dev -dev-root-token-id=root -dev-listen-address=127.0.0.1:8200 -dev-ha -dev-transactional\n",
    "```\n",
    "OR   \n",
    "`evrd1`   "
   ]
  },
  {
   "cell_type": "markdown",
   "metadata": {},
   "source": [
    "## (Optional)  Apply the license"
   ]
  },
  {
   "cell_type": "code",
   "execution_count": null,
   "metadata": {},
   "outputs": [],
   "source": [
    "curl \\\n",
    "    --insecure \\\n",
    "    --header \"X-Vault-Token: $VAULT_ROOT_TOKEN\" \\\n",
    "    --request PUT \\\n",
    "    --data @/Users/tio/Documents/vault_license.json \\\n",
    "    $VAULT_ADDR/v1/sys/license"
   ]
  },
  {
   "cell_type": "code",
   "execution_count": null,
   "metadata": {
    "scrolled": true
   },
   "outputs": [],
   "source": [
    "vault status"
   ]
  },
  {
   "cell_type": "markdown",
   "metadata": {},
   "source": [
    "##### Notice Initialized (=true) and Sealed (=false) status "
   ]
  },
  {
   "cell_type": "markdown",
   "metadata": {},
   "source": [
    "## Enable the Key Management secrets engine"
   ]
  },
  {
   "cell_type": "code",
   "execution_count": null,
   "metadata": {},
   "outputs": [],
   "source": [
    "vault secrets enable keymgmt"
   ]
  },
  {
   "cell_type": "markdown",
   "metadata": {},
   "source": [
    "### Write keys\n",
    "\n",
    "Let's write a pair of RSA keys to the secret engine\n"
   ]
  },
  {
   "cell_type": "code",
   "execution_count": null,
   "metadata": {},
   "outputs": [],
   "source": [
    "vault write keymgmt/key/rsa-1 type=\"rsa-2048\""
   ]
  },
  {
   "cell_type": "code",
   "execution_count": null,
   "metadata": {},
   "outputs": [],
   "source": [
    "vault write keymgmt/key/rsa-2 type=\"rsa-2048\""
   ]
  },
  {
   "cell_type": "markdown",
   "metadata": {},
   "source": [
    "### Read keys"
   ]
  },
  {
   "cell_type": "code",
   "execution_count": null,
   "metadata": {},
   "outputs": [],
   "source": [
    "vault read keymgmt/key/rsa-1 -format=json | jq"
   ]
  },
  {
   "cell_type": "markdown",
   "metadata": {},
   "source": [
    "### Read the second key"
   ]
  },
  {
   "cell_type": "code",
   "execution_count": null,
   "metadata": {},
   "outputs": [],
   "source": [
    "vault read keymgmt/key/rsa-2 -format=json | jq"
   ]
  },
  {
   "cell_type": "markdown",
   "metadata": {},
   "source": [
    "### Create KMS provider\n",
    "This corresponds to the key vault instance you prveiously created in Azure/AWS"
   ]
  },
  {
   "cell_type": "code",
   "execution_count": null,
   "metadata": {},
   "outputs": [],
   "source": []
  },
  {
   "cell_type": "code",
   "execution_count": null,
   "metadata": {},
   "outputs": [],
   "source": []
  },
  {
   "cell_type": "code",
   "execution_count": null,
   "metadata": {},
   "outputs": [],
   "source": []
  },
  {
   "cell_type": "code",
   "execution_count": null,
   "metadata": {},
   "outputs": [],
   "source": []
  },
  {
   "cell_type": "markdown",
   "metadata": {},
   "source": [
    "### Rotate key"
   ]
  },
  {
   "cell_type": "code",
   "execution_count": null,
   "metadata": {},
   "outputs": [],
   "source": [
    "vault write -f keymgmt/key/rsa-1/rotate"
   ]
  },
  {
   "cell_type": "code",
   "execution_count": null,
   "metadata": {},
   "outputs": [],
   "source": [
    "vault read -format=json keymgmt/key/rsa-1 | jq '.data.latest_version'"
   ]
  },
  {
   "cell_type": "code",
   "execution_count": null,
   "metadata": {},
   "outputs": [],
   "source": []
  },
  {
   "cell_type": "code",
   "execution_count": null,
   "metadata": {},
   "outputs": [],
   "source": []
  },
  {
   "cell_type": "markdown",
   "metadata": {},
   "source": [
    "&nbsp;\n",
    "\n",
    "---\n",
    "#### Thank you.\n",
    "<img src=images/HashiCorp_PrimaryLogo_Black_RGB.png width=100 align=\"left\">"
   ]
  }
 ],
 "metadata": {
  "kernelspec": {
   "display_name": "Z shell",
   "language": "zsh",
   "name": "zsh"
  },
  "language_info": {
   "codemirror_mode": "shell",
   "file_extension": ".zsh",
   "mimetype": "text/x-zsh",
   "name": "zsh",
   "pygments_lexer": "shell",
   "version": "5.7.1"
  }
 },
 "nbformat": 4,
 "nbformat_minor": 4
}
