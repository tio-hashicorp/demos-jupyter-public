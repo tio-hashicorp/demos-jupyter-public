{
 "cells": [
  {
   "cell_type": "markdown",
   "metadata": {},
   "source": [
    "<img align=right src=images/HashiCorp_PrimaryLogo_Black_RGB.png width=150>\n",
    "<img src=images/sglogo.png width=50 align=\"left\">"
   ]
  },
  {
   "cell_type": "markdown",
   "metadata": {},
   "source": [
    "# Vault Authentication Methods\n",
    "<img src=\"images/vault-auth-1.png\" width=600>  \n",
    "\n",
    "\n",
    "Vault supports many different authentication methods, suitable for human and applications (e.g. AppRole, AWS/Azure/Google, K8s).\n",
    "Most Vault auth methods need to be explicitly enabled.  Each method has a default path.\n",
    "\n",
    "\n",
    "**Prerequisites:** \n",
    "You need to have Vault up and running\n",
    "\n",
    "`VAULT_UI=true VAULT_REDIRECT_ADDR=http://127.0.0.1:8200 vault server -log-level=trace -dev -dev-root-token-id=root -dev-listen-address=127.0.0.1:8200 -dev-ha -dev-transactional`"
   ]
  },
  {
   "cell_type": "code",
   "execution_count": null,
   "metadata": {},
   "outputs": [],
   "source": [
    "export VAULT_ADDR=http://127.0.0.1:8200\n",
    "export VAULT_SKIP_VERIFY=true"
   ]
  },
  {
   "cell_type": "code",
   "execution_count": null,
   "metadata": {},
   "outputs": [],
   "source": [
    "vault login root"
   ]
  },
  {
   "cell_type": "code",
   "execution_count": null,
   "metadata": {},
   "outputs": [],
   "source": [
    "vault status; vault version"
   ]
  },
  {
   "cell_type": "markdown",
   "metadata": {},
   "source": [
    "---\n",
    "# Userpass Authentication method\n",
    "authenticates users with usernames and passwords managed by Vault.\n",
    "\n"
   ]
  },
  {
   "cell_type": "markdown",
   "metadata": {},
   "source": [
    "### Setup"
   ]
  },
  {
   "cell_type": "code",
   "execution_count": null,
   "metadata": {},
   "outputs": [],
   "source": [
    "vault auth enable userpass"
   ]
  },
  {
   "cell_type": "markdown",
   "metadata": {},
   "source": [
    "**Configure username/password**"
   ]
  },
  {
   "cell_type": "code",
   "execution_count": null,
   "metadata": {},
   "outputs": [],
   "source": [
    "vault auth enable userpass\n",
    "vault write auth/userpass/users/arthur password=\"passw0rd\" policies=\"static-policy\"\n",
    "vault write auth/userpass/users/samantha password=\"passw0rd\" policies=\"static-policy\"\n",
    "vault write auth/userpass/users/tio password=\"passw0rd\" policies=\"static-policy, dynamic-policy\"\n",
    "vault write auth/userpass/users/moayad password=\"passw0rd\" policies=\"static-policy, dynamic-policy\"\n",
    "vault write auth/userpass/users/raymond password=\"passw0rd\" policies=\"static-policy, dynamic-policy\""
   ]
  },
  {
   "cell_type": "markdown",
   "metadata": {},
   "source": [
    "### Login"
   ]
  },
  {
   "cell_type": "code",
   "execution_count": null,
   "metadata": {},
   "outputs": [],
   "source": [
    "unset VAULT_TOKEN\n",
    "vault login -method=userpass username=tio password=passw0rd"
   ]
  },
  {
   "cell_type": "markdown",
   "metadata": {},
   "source": [
    "**Via cURL**\n",
    "The response will contain the token at `auth.client_token`"
   ]
  },
  {
   "cell_type": "code",
   "execution_count": null,
   "metadata": {},
   "outputs": [],
   "source": [
    "curl -s --request POST --data '{\"password\": \"passw0rd\"}' \\\n",
    "    http://127.0.0.1:8200/v1/auth/userpass/login/tio | jq"
   ]
  },
  {
   "cell_type": "code",
   "execution_count": null,
   "metadata": {},
   "outputs": [],
   "source": [
    "vault list auth/userpass/users"
   ]
  },
  {
   "cell_type": "markdown",
   "metadata": {},
   "source": [
    "---\n",
    "# Github Authentication method"
   ]
  },
  {
   "cell_type": "markdown",
   "metadata": {},
   "source": [
    "### Setup Vault-Github integration"
   ]
  },
  {
   "cell_type": "code",
   "execution_count": null,
   "metadata": {},
   "outputs": [],
   "source": [
    "export VAULT_ADDR=http://127.0.0.1:8200\n",
    "vault login root"
   ]
  },
  {
   "cell_type": "code",
   "execution_count": null,
   "metadata": {},
   "outputs": [],
   "source": [
    "vault auth enable github"
   ]
  },
  {
   "cell_type": "markdown",
   "metadata": {},
   "source": [
    "### Configure Vault to talk to Github"
   ]
  },
  {
   "cell_type": "code",
   "execution_count": null,
   "metadata": {},
   "outputs": [],
   "source": [
    "vault write auth/github/config organization=hashicorp"
   ]
  },
  {
   "cell_type": "markdown",
   "metadata": {},
   "source": [
    "### Map users/teams of that Github organization to policies in Vault.  \n",
    "Team names must be \"slugified\""
   ]
  },
  {
   "cell_type": "code",
   "execution_count": null,
   "metadata": {},
   "outputs": [],
   "source": [
    "vault write auth/github/map/teams/team-se value=static-policy"
   ]
  },
  {
   "cell_type": "code",
   "execution_count": null,
   "metadata": {},
   "outputs": [],
   "source": [
    "vault write auth/github/map/users/tiobagio value=dynamic-policy"
   ]
  },
  {
   "cell_type": "markdown",
   "metadata": {},
   "source": [
    "### Login using Github token\n",
    "The `github` auth method can be used to authenticate with Vault using a Github personal access token.  This method of authentication is most useful for operators or developers usign Vault directly."
   ]
  },
  {
   "cell_type": "code",
   "execution_count": null,
   "metadata": {},
   "outputs": [],
   "source": [
    "MY_GITHUB_TOKEN=$(cat /tmp/githubtoken)\n",
    "vault login -method=github token=$MY_GITHUB_TOKEN"
   ]
  },
  {
   "cell_type": "markdown",
   "metadata": {},
   "source": [
    "**Using cURL**"
   ]
  },
  {
   "cell_type": "code",
   "execution_count": null,
   "metadata": {},
   "outputs": [],
   "source": [
    "MY_GITHUB_TOKEN=$(cat /tmp/githubtoken)\n",
    "curl -s --request POST --data \" {\\\"token\\\": \\\"$MY_GITHUB_TOKEN\\\"} \" \\\n",
    "    http://127.0.0.1:8200/v1/auth/github/login  | jq"
   ]
  },
  {
   "cell_type": "markdown",
   "metadata": {},
   "source": [
    "---\n",
    "# AWS Auth method\n",
    "There are two authentication types in the AWS auth method:  `iam` and `ec2`.  \n",
    "\n",
    "The aws auth method provides an automated mechanism to retrieve Vault token for IAM principals and AWS EC2 instances.   \n",
    "This method does not require manual first-deploying or profisioning security-sensitive credentials."
   ]
  },
  {
   "cell_type": "markdown",
   "metadata": {},
   "source": [
    "### Setup AWS auth config"
   ]
  },
  {
   "cell_type": "code",
   "execution_count": null,
   "metadata": {},
   "outputs": [],
   "source": [
    "export VAULT_ADDR=http://127.0.0.1:8200\n",
    "vault login root"
   ]
  },
  {
   "cell_type": "code",
   "execution_count": null,
   "metadata": {},
   "outputs": [],
   "source": [
    "vault auth enable aws"
   ]
  },
  {
   "cell_type": "code",
   "execution_count": null,
   "metadata": {},
   "outputs": [],
   "source": [
    "source ~/.zshrc; echo $AWS_ACCESS_KEY_ID; aws sts get-caller-identity"
   ]
  },
  {
   "cell_type": "code",
   "execution_count": null,
   "metadata": {},
   "outputs": [],
   "source": [
    "# tbagio profile in ~/.aws/credentials\n",
    "#\n",
    "vault write auth/aws/config/client \\\n",
    "  secret_key=$AWS_SECRET_ACCESS_KEY \\\n",
    "  access_key=$AWS_ACCESS_KEY_ID "
   ]
  },
  {
   "cell_type": "code",
   "execution_count": null,
   "metadata": {},
   "outputs": [],
   "source": [
    "vault read auth/aws/config/client"
   ]
  },
  {
   "cell_type": "markdown",
   "metadata": {},
   "source": [
    "**EC2 authentication type**"
   ]
  },
  {
   "cell_type": "code",
   "execution_count": null,
   "metadata": {},
   "outputs": [],
   "source": [
    "VAULT_TOKEN=root vault write auth/aws/role/dev-role-ec2 \\\n",
    "   auth_type=ec2 \\\n",
    "   bound_ami_id=ami-fce3c696 \\\n",
    "   policies=prod,dev max_ttl=5m"
   ]
  },
  {
   "cell_type": "markdown",
   "metadata": {},
   "source": [
    "&nbsp;   \n",
    "**IAM authentication type**"
   ]
  },
  {
   "cell_type": "code",
   "execution_count": null,
   "metadata": {},
   "outputs": [],
   "source": [
    "export VAULT_ADDR=http://127.0.0.1:8200\n",
    "vault login root"
   ]
  },
  {
   "cell_type": "code",
   "execution_count": null,
   "metadata": {},
   "outputs": [],
   "source": [
    "#bound_iam_principal_arn=arn:aws:iam::451256746182:user/tbagio \\\n",
    "#bound_iam_role_arn=arn:aws:iam::451256726182:role/example-role \\\n",
    "VAULT_TOKEN=root vault write auth/aws/role/dev-role-iam \\\n",
    "   auth_type=iam \\\n",
    "   bound_iam_principal_arn=\"arn:aws:iam::451256726182:*\"\\\n",
    "   policies=dynamic-policy,prod,dev ttl=5m"
   ]
  },
  {
   "cell_type": "code",
   "execution_count": null,
   "metadata": {},
   "outputs": [],
   "source": [
    "vault write auth/aws/config/client iam_server_id_header_value=vault.example.com"
   ]
  },
  {
   "cell_type": "code",
   "execution_count": null,
   "metadata": {},
   "outputs": [],
   "source": [
    "vault read auth/aws/role/dev-role-iam"
   ]
  },
  {
   "cell_type": "markdown",
   "metadata": {},
   "source": [
    "### Login using AWS IAM information"
   ]
  },
  {
   "cell_type": "code",
   "execution_count": null,
   "metadata": {},
   "outputs": [],
   "source": [
    "# chip\n",
    "vault login -method=aws header_value=vault.example.com \\\n",
    "  role=dev-role-iam \\\n",
    "  aws_access_key_id=$(cat /tmp/aws_access_key) \\\n",
    "  aws_secret_access_key=$(cat /tmp/aws_secret_key)"
   ]
  },
  {
   "cell_type": "code",
   "execution_count": null,
   "metadata": {},
   "outputs": [],
   "source": [
    "AWS_SECRET_ACCESS_KEY=$(cat /tmp/aws_secret_key); AWS_ACCESS_KEY_ID=$(cat /tmp/aws_access_key); aws sts get-caller-identity"
   ]
  },
  {
   "cell_type": "markdown",
   "metadata": {},
   "source": [
    "### and get a secret"
   ]
  },
  {
   "cell_type": "code",
   "execution_count": null,
   "metadata": {},
   "outputs": [],
   "source": [
    "VAULT_TOKEN=s.7N3PlDOxaVd7llNInH7vBPFW vault  kv get secret1/training"
   ]
  },
  {
   "cell_type": "markdown",
   "metadata": {},
   "source": [
    "---\n",
    "# Azure Auth "
   ]
  },
  {
   "cell_type": "code",
   "execution_count": null,
   "metadata": {},
   "outputs": [],
   "source": [
    "vault login root\n",
    "vault auth enable azure"
   ]
  },
  {
   "cell_type": "code",
   "execution_count": null,
   "metadata": {},
   "outputs": [],
   "source": [
    "vault write auth/azure/config \\\n",
    "    resource=https://vault.hashicorp.com \\\n",
    "    tenant_id=7cd1f227-ca67-4fc6-a1a4-9888ea7f388c \\\n",
    "    client_id=dd794de4-4c6c-40b3-a930-d84cd32e9699 \\\n",
    "    client_secret=IT3B2XfZvWnfB98s1cie8EMe7zWg483Xy8zY004="
   ]
  },
  {
   "cell_type": "code",
   "execution_count": null,
   "metadata": {},
   "outputs": [],
   "source": [
    "vault write auth/azure/role/dev-role \\\n",
    "    policies=\"prod,dev\" \\\n",
    "    bound_subscription_ids=6a1d5988-5917-4221-b224-904cd7e24a25 \\\n",
    "    bound_resource_groups=vault"
   ]
  },
  {
   "cell_type": "markdown",
   "metadata": {},
   "source": [
    "### Login"
   ]
  },
  {
   "cell_type": "code",
   "execution_count": null,
   "metadata": {},
   "outputs": [],
   "source": [
    "vault write auth/azure/login \\\n",
    "   role=\"dev-role\" \\\n",
    "   jwt=\"eyJhbGciOiJIUzI1NiIsInR5cCI6IkpXVCJ9...\" \\\n",
    "   subscription_id=\"12345-...\" \\\n",
    "   resource_group_name=\"test-group\" \\\n",
    "   vm_name=\"test-vm\""
   ]
  },
  {
   "cell_type": "code",
   "execution_count": null,
   "metadata": {},
   "outputs": [],
   "source": [
    "vault write auth/azure/login \\\n",
    "   role=\"dev-role\" \\\n",
    "   jwt=\"$(curl -s 'http://169.254.169.254/metadata/identity/oauth2/token?api-version=2018-02-01&resource=https%3A%2F%2Fvault.hashicorp.com%2F' -H Metadata:true | jq -r '.access_token')\" \\\n",
    "   subscription_id=$(curl -s -H Metadata:true \"http://169.254.169.254/metadata/instance?api-version=2017-08-01\" | jq -r '.compute | .subscriptionId')  \\\n",
    "   resource_group_name=$(curl -s -H Metadata:true \"http://169.254.169.254/metadata/instance?api-version=2017-08-01\" | jq -r '.compute | .resourceGroupName') \\\n",
    "   vm_name=$(curl -s -H Metadata:true \"http://169.254.169.254/metadata/instance?api-version=2017-08-01\" | jq -r '.compute | .name')"
   ]
  },
  {
   "cell_type": "markdown",
   "metadata": {},
   "source": [
    "\n",
    "\n"
   ]
  },
  {
   "cell_type": "markdown",
   "metadata": {},
   "source": [
    "---\n",
    "# Google Cloud Auth Method\n",
    "The `gcp` auth method allows Google Cloud Platform entities to authenticate to Vault.  \n",
    "Vault treats Google Cloud as a trusted third party and verifies authenticating entities against the Google Cloud APIs.\n",
    "  \n",
    "This backend allow for authentication of:\n",
    "* IAM service accounts\n",
    "* GCE (compute engine) instances\n",
    "\n",
    "It does not support authenticating arbitrary Google/G Suite users or generic OAuth against Google.\n",
    "\n",
    "### Setup"
   ]
  },
  {
   "cell_type": "code",
   "execution_count": null,
   "metadata": {},
   "outputs": [],
   "source": [
    "vault login root\n",
    "vault auth enable gcp"
   ]
  },
  {
   "cell_type": "code",
   "execution_count": null,
   "metadata": {},
   "outputs": [],
   "source": [
    "vault write auth/gcp/config credentials=@/path/to/credentials.json"
   ]
  },
  {
   "cell_type": "markdown",
   "metadata": {},
   "source": [
    "**Create a role**  \n",
    "For `iam` type role.  Note that `bound_service_account` is only required for `iam`-type roles"
   ]
  },
  {
   "cell_type": "code",
   "execution_count": null,
   "metadata": {},
   "outputs": [],
   "source": [
    "vault write auth/gcp/role/my-iam-role \\\n",
    "   type=\"iam\" \\\n",
    "   policies=\"dev, prod\" \\\n",
    "   bound_service_accounts=\"my-service@my-project.iam.gserviceaccount.com\""
   ]
  },
  {
   "cell_type": "markdown",
   "metadata": {},
   "source": [
    "For `gce` type role"
   ]
  },
  {
   "cell_type": "code",
   "execution_count": null,
   "metadata": {},
   "outputs": [],
   "source": [
    "vault write auth/gcp/role/my-gce-role \\\n",
    "   type=\"gce\" \\\n",
    "   policies=\"dev, prod\" \\\n",
    "   bound_projects=\"my-prject1,my-project2\" \\\n",
    "   bound_zones=\"us-east1-b\" \\\n",
    "   bound_labels=\"fooLbar, zip:zap\" \\\n",
    "   bound_service_accounts=\"my-service@my-project.iam.gserviceaccount.com\""
   ]
  },
  {
   "cell_type": "markdown",
   "metadata": {},
   "source": [
    "### Login/Authenticate"
   ]
  },
  {
   "cell_type": "code",
   "execution_count": null,
   "metadata": {},
   "outputs": [],
   "source": [
    "vault write -field=token auth/gcp/login \\\n",
    "  role=\"my-role\" \\\n",
    "  jwt=\"...\" "
   ]
  },
  {
   "cell_type": "markdown",
   "metadata": {},
   "source": [
    "Vault includes a CLI helper that obtains a signed JWT locally and sends the request to Vault.  This helper is only for IAM-type roles."
   ]
  },
  {
   "cell_type": "code",
   "execution_count": null,
   "metadata": {},
   "outputs": [],
   "source": [
    "vault login -method=gcp \\\n",
    "   role=\"my-role\" \\\n",
    "   service_account=\"authenticating-account@my-project.iam.gserviceaccount.com\" \\\n",
    "   project=\"my-project\" \\\n",
    "   jwt_exp=\"15m\" \\\n",
    "   credentials=@path/to/signer/credentials.json"
   ]
  },
  {
   "cell_type": "code",
   "execution_count": null,
   "metadata": {},
   "outputs": [],
   "source": []
  },
  {
   "cell_type": "markdown",
   "metadata": {},
   "source": [
    "---\n",
    "# Okta Auth method"
   ]
  },
  {
   "cell_type": "markdown",
   "metadata": {},
   "source": [
    "### Configure Vault to talk to Okta"
   ]
  },
  {
   "cell_type": "code",
   "execution_count": null,
   "metadata": {},
   "outputs": [],
   "source": [
    "export VAULT_ADDR=http://127.0.0.1:8200\n",
    "vault login root\n",
    "vault auth enable okta"
   ]
  },
  {
   "cell_type": "code",
   "execution_count": null,
   "metadata": {},
   "outputs": [],
   "source": [
    "vault write auth/okta/config \\\n",
    "  base_url=\"okta.com\" \\\n",
    "  org_name=\"hashicorp\" \\\n",
    "  token_policies=\"static-policy\""
   ]
  },
  {
   "cell_type": "markdown",
   "metadata": {},
   "source": [
    "**Anyone who successfully authenticates via Okta who's a member of scientists\" group will receive a Vault token with \"nuclear-reactor\" policy attached**"
   ]
  },
  {
   "cell_type": "code",
   "execution_count": null,
   "metadata": {},
   "outputs": [],
   "source": [
    "vault write auth/okta/users/tio@hashicorp.com policies=\"dynamic-policy,other-policy\""
   ]
  },
  {
   "cell_type": "markdown",
   "metadata": {},
   "source": [
    "### Login using Okta method"
   ]
  },
  {
   "cell_type": "code",
   "execution_count": null,
   "metadata": {},
   "outputs": [],
   "source": [
    "vault login -method=okta username=tio@hashicorp.com"
   ]
  },
  {
   "cell_type": "markdown",
   "metadata": {},
   "source": [
    "**Using cURL**"
   ]
  },
  {
   "cell_type": "code",
   "execution_count": null,
   "metadata": {},
   "outputs": [],
   "source": [
    "MY_PASSWORD=$(cat /tmp/mypassword)\n",
    "curl -s --request POST --data \" {\\\"password\\\": \\\"$MY_PASSWORD\\\"} \" \\\n",
    "    http://127.0.0.1:8200/v1/auth/okta/login/tio@hashicorp.com"
   ]
  },
  {
   "cell_type": "markdown",
   "metadata": {},
   "source": [
    "# AppRole\n",
    "\n",
    "Vault provides internal and external authentication methods.  External methods are called *tusted third-party authenticators* such as AWS, LDAP, Github, etc.\n",
    "\n",
    "In some situations trusted third-party authenticator is not available, so Vault has an alternate approach - **AppRole** .   \n",
    "AppRole allows machines or apps to authenticate.  This auth method is oriented to automated workflows (machines and services) and is less useful for human operators.\n",
    "\n",
    "* AppRole generates **RoleID** and **SecretID**\n",
    "    - RoleID is an identifier similar to username\n",
    "    - SecretID is a credential to login (similart to password)   \n",
    "    "
   ]
  },
  {
   "cell_type": "markdown",
   "metadata": {},
   "source": [
    "### Setup\n",
    "<img src=\"images/vault-approle-workflow.png\" width=800>\n"
   ]
  },
  {
   "cell_type": "code",
   "execution_count": null,
   "metadata": {},
   "outputs": [],
   "source": [
    "vault login root\n",
    "vault auth enable approle"
   ]
  },
  {
   "cell_type": "code",
   "execution_count": null,
   "metadata": {},
   "outputs": [],
   "source": [
    "vault write auth/approle/role/tio-crm \\\n",
    "  token_num_users=3 \\\n",
    "  token_ttl=10m \\\n",
    "  token_max_ttl=30m \\\n",
    "  secret_id_ttl=5m \\\n",
    "  secret_id_num_uses=40 "
   ]
  },
  {
   "cell_type": "markdown",
   "metadata": {},
   "source": [
    "### RoleID\n",
    "RoleID is a unique identifier for the app.  They can be set to particular values to match introspected information by the client (ex: client's domain name)."
   ]
  },
  {
   "cell_type": "code",
   "execution_count": null,
   "metadata": {},
   "outputs": [],
   "source": [
    "vault read auth/approle/role/tio-crm/role-id"
   ]
  },
  {
   "cell_type": "markdown",
   "metadata": {},
   "source": [
    "### SecretID\n",
    "SecretID is like a password, it is intended to always be secret.  SecretIDs can be created agains an AppRole either via generation of a 128-bit purely random UUID by the role itself or via specific custom values.  SecretIDs have properties like usage-limit, TTLs, and expirations.\n",
    "\n",
    "**Pull and Push SecretID Modes**  \n",
    "If SecretID is fetched from an AppRole, this is Pull Mode.  Most cases Pull mode is the better approach.\n",
    "\n",
    "<img src=\"images/vault-approle-pull.png\" width=800>  \n",
    "\n",
    "If a \"custom\" secretID is set by the client, it is Push Mode.  \n",
    "<img src=\"images/vault-approle-push.png\" width=800>\n",
    "\n",
    "Push Mode requires some other system to have knowledge of the full set of credentials (RoleID and SecretID) in order to create the entry.   \n",
    "However in Pull Mode, the SecretID can be kept confidential from all parties except for the final authenticating client by using Response w Wrapping.\n",
    "  \n"
   ]
  },
  {
   "cell_type": "code",
   "execution_count": null,
   "metadata": {},
   "outputs": [],
   "source": [
    "vault write -f auth/approle/role/tio-crm/secret-id"
   ]
  },
  {
   "cell_type": "markdown",
   "metadata": {},
   "source": [
    "### Login"
   ]
  },
  {
   "cell_type": "code",
   "execution_count": null,
   "metadata": {},
   "outputs": [],
   "source": [
    "vault write auth/approle/login \\\n",
    "  role_id=d56c9c46-7198-4238-fb0c-3a2b26e97e18   \\\n",
    "  secret_id=e151cb41-0152-8974-e259-75d9fd7c2972 "
   ]
  },
  {
   "cell_type": "markdown",
   "metadata": {},
   "source": [
    "**Using cURL**  \n",
    "The default endpoint is `auth/approle/login`.  The response will contain the token at `auth.client_token`"
   ]
  },
  {
   "cell_type": "code",
   "execution_count": null,
   "metadata": {},
   "outputs": [],
   "source": [
    "curl -s --request POST \\\n",
    "    --data \"{\\\"role_id\\\":\\\"d56c9c46-7198-4238-fb0c-3a2b26e97e18\\\", \\\"secret_id\\\":\\\"e151cb41-0152-8974-e259-75d9fd7c2972\\\"}\" \\\n",
    "    http://127.0.0.1:8200/v1/auth/approle/login |jq"
   ]
  },
  {
   "cell_type": "code",
   "execution_count": null,
   "metadata": {},
   "outputs": [],
   "source": []
  },
  {
   "cell_type": "markdown",
   "metadata": {},
   "source": [
    "---\n",
    "### View Vault via a browser\n",
    "Open a web browser and visit http://127.0.0.1:8200/ui/vault\n",
    "Use **TOKEN** and **Sign in**"
   ]
  },
  {
   "cell_type": "markdown",
   "metadata": {},
   "source": [
    "### TODO:\n",
    "- how to set AWS_ACCESS_KEY_ID, AWS_SECRET_ACCESS for a certain profile"
   ]
  },
  {
   "cell_type": "markdown",
   "metadata": {},
   "source": [
    "&nbsp;\n",
    "\n",
    "---\n",
    "#### Thank you.\n",
    "<img src=images/HashiCorp_PrimaryLogo_Black_RGB.png width=100 align=\"left\">"
   ]
  }
 ],
 "metadata": {
  "kernelspec": {
   "display_name": "Z shell",
   "language": "zsh",
   "name": "zsh"
  },
  "language_info": {
   "codemirror_mode": "shell",
   "file_extension": ".zsh",
   "mimetype": "text/x-zsh",
   "name": "zsh",
   "pygments_lexer": "shell",
   "version": "5.7.1"
  }
 },
 "nbformat": 4,
 "nbformat_minor": 4
}
