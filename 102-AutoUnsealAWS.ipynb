{
 "cells": [
  {
   "cell_type": "markdown",
   "metadata": {},
   "source": [
    "<img align=right src=images/HashiCorp_PrimaryLogo_Black_RGB.png width=150>\n",
    "<img src=images/acme.jpeg width=100 align=\"left\">"
   ]
  },
  {
   "cell_type": "markdown",
   "metadata": {},
   "source": [
    "# Vault Auto Unseal\n",
    "Vault supports opt-in automatic unsealing via cloud technologies: AliCloud KMS, Amazon KMS, Azure Key Vault and Google Cloud KMS.  This feature delegates the unsealing process to trusted cloud providers to ease operation.\n",
    "\n",
    "<img src=images/shamir_secret_sharing.png width=500 align=\"left\">\n",
    "<img src=images/aws-auto-unseal.png width=300 align=\"right\">   "
   ]
  },
  {
   "cell_type": "markdown",
   "metadata": {},
   "source": [
    "**Note:**  \n",
    "* With Auto-unseal enabled, Shamir's key are NOT used to unseal the Vault server; however they still exist\n",
    "* The cloud provider's key is used to protect the **master key**\n",
    "* You still need Shamir's keys (**recovery keys**) for other operations: regenerate a root token, or unseal Vault"
   ]
  },
  {
   "cell_type": "markdown",
   "metadata": {},
   "source": [
    "**Prerequisites:** \n",
    "* You need to have Vault binary  \n",
    "* You need to have AWS KMS key (enabled) and  AWS ACCESS ID & SECRET KEY"
   ]
  },
  {
   "cell_type": "markdown",
   "metadata": {},
   "source": [
    "## Vault Setup"
   ]
  },
  {
   "cell_type": "code",
   "execution_count": null,
   "metadata": {},
   "outputs": [],
   "source": [
    "# cleanup data directory\n",
    "\n",
    "/bin/rm -rf $HOME/demos/vault_cluster/vrd/data\n",
    "mkdir -p $HOME/demos/vault_cluster/vrd/data"
   ]
  },
  {
   "cell_type": "code",
   "execution_count": null,
   "metadata": {},
   "outputs": [],
   "source": [
    "export VAULT_ADDR=http://127.0.0.1:8200\n",
    "export VAULT_SKIP_VERIFY=true"
   ]
  },
  {
   "cell_type": "code",
   "execution_count": null,
   "metadata": {},
   "outputs": [],
   "source": [
    "which vault\n",
    "vault -version"
   ]
  },
  {
   "cell_type": "markdown",
   "metadata": {},
   "source": [
    "### Populate Vault server configuration file (hcl or json format)\n",
    "Configures:\n",
    "* storage\n",
    "* listener\n",
    "* ui\n",
    "* telemetry\n",
    "* seal\n",
    "* etc"
   ]
  },
  {
   "cell_type": "code",
   "execution_count": null,
   "metadata": {},
   "outputs": [],
   "source": [
    "cat <<EOF > $HOME/demos/vault_cluster/vrd/vrd_config.hcl\n",
    "storage \"raft\" {\n",
    "  path = \"$HOME/demos/vault_cluster/vrd/data\"\n",
    "  node_id = \"demo\"\n",
    "}\n",
    "listener \"tcp\" {\n",
    "  address = \"0.0.0.0:8200\"\n",
    "  cluster_address = \"0.0.0.0:8201\"\n",
    "  tls_disable = \"true\"\n",
    "}\n",
    "seal \"awskms\" {\n",
    "  region = \"ap-southeast-1\"\n",
    "  kms_key_id = \"a95ba676-d102-42ba-90bb-65bd4a8306ba\"\n",
    "}\n",
    "api_addr = \"https://127.0.0.1:8200\"\n",
    "cluster_addr = \"https://127.0.0.1:8201\"\n",
    "disable_mlock=\"false\"\n",
    "disable_cache=\"false\"\n",
    "ui = \"true\"\n",
    "max_lease_ttl=\"24h\"\n",
    "default_lease_ttl=\"1h\"\n",
    "raw_storage_endpoint=true\n",
    "cluster_name=\"hashi-vault\"\n",
    "insecure_tls=\"true\"\n",
    "plugin_directory=\"$HOME/demos/vault_cluster/vrd/data/plugins\"\n",
    "EOF"
   ]
  },
  {
   "cell_type": "markdown",
   "metadata": {},
   "source": [
    "\\\n",
    "**EXECUTE the following command in SEPARATE window**\n",
    "\n",
    "```\n",
    "# make sure AWS_ACCESS_KEY_ID, AWS_SECRET_ACCESS_KEY are set beforehand\n",
    "#\n",
    "vault server -config=$HOME/demos/vault_cluster/vrd/vrd_config.hcl\n",
    "```"
   ]
  },
  {
   "cell_type": "code",
   "execution_count": null,
   "metadata": {
    "scrolled": true
   },
   "outputs": [],
   "source": [
    "vault status"
   ]
  },
  {
   "cell_type": "markdown",
   "metadata": {},
   "source": [
    "##### Notice the Seal Type, Initialized and Sealed status\n",
    "When a Vault server is started, it starts in a **sealed** state and it does not know how to decrypt data.  Before any operation can be performed on the Vault, it must be unsealed.  \n",
    "\n",
    "First run of Vault, you'll see these in the Vault's log because the Vault has not been initialized.\n",
    "2020-12-27T10:50:13.382+0800 [INFO]  core: stored unseal keys supported, attempting fetch  \n",
    "2020-12-27T10:50:13.382+0800 [WARN]  failed to unseal core: error=\"stored unseal keys are supported, but none were found\"  "
   ]
  },
  {
   "cell_type": "markdown",
   "metadata": {},
   "source": [
    "## Initialize Vault\n",
    "\n",
    "Initialization is the process of preparing Vault's storage backend to receive data, which includes:\n",
    "* Encryption key (data key) gets generated \n",
    "* Generates in memory master key and applies Shamir's secret sharing algorithm to disamble the mster key \n",
    "(Unseal keys are created)\n",
    "* Initial root token is setup\n",
    "\n",
    "Note: the initialization takes few seconds to complete.  In HA mode, Vault servers share the same storage backend so you need to initialize one Vault.\n",
    "\n",
    "Unseal keys are not returned to the operator.  Recovery key shares returned instead.  \n",
    "Recovery keys are used for the followings:  \n",
    "\t- Trigger an auto-unseal  \n",
    "\t- Rekey   \n",
    "    - Root token generation  \n",
    "    \n"
   ]
  },
  {
   "cell_type": "code",
   "execution_count": null,
   "metadata": {},
   "outputs": [],
   "source": [
    "vault operator init -key-shares=3 -key-threshold=2 "
   ]
  },
  {
   "cell_type": "code",
   "execution_count": null,
   "metadata": {},
   "outputs": [],
   "source": [
    "vault operator init -recovery-shares=3 -recovery-threshold=2 | tee ~/demos/vault_cluster/vrd/vault_init_output"
   ]
  },
  {
   "cell_type": "code",
   "execution_count": null,
   "metadata": {},
   "outputs": [],
   "source": [
    "export RECOVERY_KEY1=$(cat ~/demos/vault_cluster/vrd/vault_init_output | sed -n -e '/Recovery Key 1/ s/.*\\: *//p')\n",
    "export RECOVERY_KEY2=$(cat ~/demos/vault_cluster/vrd/vault_init_output | sed -n -e '/Recovery Key 2/ s/.*\\: *//p')\n",
    "export RECOVERY_KEY3=$(cat ~/demos/vault_cluster/vrd/vault_init_output | sed -n -e '/Recovery Key 3/ s/.*\\: *//p')\n",
    "export VAULT_ROOT_TOKEN=$(cat ~/demos/vault_cluster/vrd/vault_init_output | sed -n -e '/Initial Root Token/ s/.*\\: *//p')\n",
    "\n",
    "echo \"Initial Root Token: $VAULT_ROOT_TOKEN\"\n",
    "echo \"Recovery Keys:\"\n",
    "echo $RECOVERY_KEY1\n",
    "echo $RECOVERY_KEY2\n",
    "echo $RECOVERY_KEY3"
   ]
  },
  {
   "cell_type": "code",
   "execution_count": null,
   "metadata": {},
   "outputs": [],
   "source": [
    "vault status"
   ]
  },
  {
   "cell_type": "markdown",
   "metadata": {},
   "source": [
    "#### By this time Vault is initialized, unsealed and ready to be used."
   ]
  },
  {
   "cell_type": "code",
   "execution_count": null,
   "metadata": {},
   "outputs": [],
   "source": [
    "vault login $VAULT_ROOT_TOKEN"
   ]
  },
  {
   "cell_type": "code",
   "execution_count": null,
   "metadata": {},
   "outputs": [],
   "source": [
    "vault secrets enable kv"
   ]
  },
  {
   "cell_type": "markdown",
   "metadata": {},
   "source": [
    "## Shutdown the Vault and Start it\n",
    "\n",
    "Shutdown is going to seal Vault.  \n",
    "   \n",
    "Restart Vault by EXECUTE the following command in **SEPARATE window**\n",
    "\n",
    "```\n",
    "vault server -config=$HOME/demos/vault_cluster/vrd/vrd_config.hcl\n",
    "```"
   ]
  },
  {
   "cell_type": "code",
   "execution_count": null,
   "metadata": {},
   "outputs": [],
   "source": [
    "vault status"
   ]
  },
  {
   "cell_type": "markdown",
   "metadata": {},
   "source": [
    "Note:  Vault is **Auto-unseal (sealed=false)**   \n",
    "You should see the followings in the Vault log file   \n",
    "==> Vault server configuration:\n",
    "\n",
    "           AWS KMS KeyID: a95ba676-d102-42ba-90bb-65bd4a8306ba\n",
    "          AWS KMS Region: ap-southeast-1\n",
    "             Api Address: https://127.0.0.1:8200\n",
    "                     Cgo: disabled\n",
    "         Cluster Address: https://127.0.0.1:8201\n",
    "              Go Version: go1.15.4\n",
    "...   \n",
    "2020-12-23T23:15:57.564+0800 [INFO]  core: vault is unsealed   \n",
    "2020-12-23T23:15:57.564+0800 [INFO]  core: **unsealed with stored key**   \n",
    "2020-12-23T23:15:57.564+0800 [INFO]  core: entering standby mode  "
   ]
  },
  {
   "cell_type": "markdown",
   "metadata": {},
   "source": [
    "### Disable AWS KMS key\n",
    "Here's what you should see when disabling KMS key\n",
    "\n",
    "2020-12-24T12:57:26.032+0800 [INFO]  core: stored unseal keys supported, attempting fetch  \n",
    "2020-12-24T12:57:26.094+0800 [WARN]  failed to unseal core: error=\"fetching stored unseal keys failed: failed to encrypt keys for storage: error decrypting data   encryption key: DisabledException: arn:aws:kms:ap-southeast-1:451256726182:key/a95ba676-d102-42ba-90bb-65bd4a8306ba is disabled.\"  \n",
    "2020-12-24T12:57:31.099+0800 [INFO]  core: stored unseal keys supported, attempting fetch  "
   ]
  },
  {
   "cell_type": "markdown",
   "metadata": {},
   "source": [
    "### Seal Vault\n",
    "\n",
    "Seal the Vault is an ultimate **break glass** procedure.  For example, you suspect that someone has unauthorized access to Vault with wrong intention."
   ]
  },
  {
   "cell_type": "code",
   "execution_count": null,
   "metadata": {},
   "outputs": [],
   "source": [
    "vault login $VAULT_ROOT_TOKEN"
   ]
  },
  {
   "cell_type": "code",
   "execution_count": null,
   "metadata": {},
   "outputs": [],
   "source": [
    "vault operator seal"
   ]
  },
  {
   "cell_type": "markdown",
   "metadata": {},
   "source": [
    "---\n",
    "## Unseal Vault\n",
    "Unsealing  is the process of constructing the master key necessary to decrypt the data encryption keys and read the data.  It requires a threshold of unseal keys (see the Intialize Vault above). Unsealing is a manual process and can become tedious when you have multiple Vault clusters! Hint: explore/use Auto-Unseal feature.\n",
    "\n"
   ]
  },
  {
   "cell_type": "code",
   "execution_count": null,
   "metadata": {},
   "outputs": [],
   "source": [
    "vault operator unseal $RECOVERY_KEY1"
   ]
  },
  {
   "cell_type": "code",
   "execution_count": null,
   "metadata": {},
   "outputs": [],
   "source": [
    "vault operator unseal $RECOVERY_KEY2"
   ]
  },
  {
   "cell_type": "code",
   "execution_count": null,
   "metadata": {},
   "outputs": [],
   "source": [
    "vault status"
   ]
  },
  {
   "cell_type": "markdown",
   "metadata": {},
   "source": [
    "### View Vault via a browser\n",
    "Open a web browser and visit http://127.0.0.1:8200/ui/vault\n",
    "Use **TOKEN** and **Sign in**"
   ]
  },
  {
   "cell_type": "markdown",
   "metadata": {},
   "source": [
    "&nbsp;\n",
    "\n",
    "---\n",
    "#### Thank you.\n",
    "<img src=images/HashiCorp_PrimaryLogo_Black_RGB.png width=100 align=\"left\">"
   ]
  }
 ],
 "metadata": {
  "kernelspec": {
   "display_name": "Z shell",
   "language": "zsh",
   "name": "zsh"
  },
  "language_info": {
   "codemirror_mode": "shell",
   "file_extension": ".zsh",
   "mimetype": "text/x-zsh",
   "name": "zsh",
   "pygments_lexer": "shell",
   "version": "5.7.1"
  }
 },
 "nbformat": 4,
 "nbformat_minor": 4
}
