{
 "cells": [
  {
   "cell_type": "markdown",
   "metadata": {},
   "source": [
    "<img align=right src=images/HashiCorp_PrimaryLogo_Black_RGB.png width=150>\n",
    "<img src=images/acme.jpeg width=100 align=\"left\">"
   ]
  },
  {
   "cell_type": "markdown",
   "metadata": {},
   "source": [
    "# Transform Secrets Engine\n",
    "Transform is a Secret Engine that allows Vault to encode and decode sensitive values residing in external systems such as databases or filesystems.\n",
    "Transform is capable of two types of transformations:\n",
    "* masking - one way transformation that allows for Vault to anonymize data\n",
    "* data type protection - another mode to encode and decode sensitive data while protecting the structure of data\n",
    "<img src=images/vault-transform-1.png width=\"800\">\n",
    "\n",
    "**Note:** This secret engine requires Vault Enterprise with Advanced Data Protection module.\n",
    "\n",
    "The Transform secrets engine handles secure data transformation and tokenization against input value.  Transformation methods may encompass NIST vetted cryptoraphic standards such as **format-preserving encryption (FPE)** via **FFE-1**, but can also be pseudonymous transformations of the data through other means, such as masking.\n",
    "\n",
    "The secret engine currently supports `fpe`, `masking` and `tokenization` as data transformation types.\n",
    "\n",
    "Prerequisites: \n",
    "* Vault Enterprise binary  \n",
    "* Vault License\n",
    "\n",
    "## Setup"
   ]
  },
  {
   "cell_type": "code",
   "execution_count": null,
   "metadata": {},
   "outputs": [],
   "source": [
    "/bin/rm -rf $HOME/demos/vault_cluster/vrd/data/*"
   ]
  },
  {
   "cell_type": "code",
   "execution_count": 1,
   "metadata": {},
   "outputs": [],
   "source": [
    "export VAULT_ADDR=http://127.0.0.1:8200\n",
    "export VAULT_SKIP_VERIFY=true"
   ]
  },
  {
   "cell_type": "code",
   "execution_count": 2,
   "metadata": {},
   "outputs": [
    {
     "name": "stdout",
     "output_type": "stream",
     "text": [
      "\u001b[0mSuccess! You are now authenticated. The token information displayed below\n",
      "is already stored in the token helper. You do NOT need to run \"vault login\"\n",
      "again. Future Vault requests will automatically use this token.\n",
      "\u001b[0m\n",
      "\u001b[0mKey                  Value\n",
      "---                  -----\n",
      "token                root\n",
      "token_accessor       dRq6usE3NFp7vjYtgtH8uqQv\n",
      "token_duration       ∞\n",
      "token_renewable      false\n",
      "token_policies       [\"root\"]\n",
      "identity_policies    []\n",
      "policies             [\"root\"]\u001b[0m\n"
     ]
    }
   ],
   "source": [
    "vault login root"
   ]
  },
  {
   "cell_type": "code",
   "execution_count": 3,
   "metadata": {},
   "outputs": [
    {
     "name": "stdout",
     "output_type": "stream",
     "text": [
      "\u001b[0mKey             Value\n",
      "---             -----\n",
      "Seal Type       shamir\n",
      "Initialized     true\n",
      "Sealed          false\n",
      "Total Shares    1\n",
      "Threshold       1\n",
      "Version         1.6.1+ent\n",
      "Storage Type    inmem_transactional_ha\n",
      "Cluster Name    vault-cluster-b21c5852\n",
      "Cluster ID      f49c7f18-415c-4dac-feaf-bf2adce232b5\n",
      "HA Enabled      true\n",
      "HA Cluster      https://0.0.0.0:8201\n",
      "HA Mode         active\n",
      "Last WAL        35\u001b[0m\n"
     ]
    }
   ],
   "source": [
    "vault status"
   ]
  },
  {
   "cell_type": "code",
   "execution_count": null,
   "metadata": {},
   "outputs": [],
   "source": [
    "which vault\n",
    "vault --version"
   ]
  },
  {
   "cell_type": "code",
   "execution_count": null,
   "metadata": {},
   "outputs": [],
   "source": [
    "echo $VAULT_ADDR"
   ]
  },
  {
   "cell_type": "markdown",
   "metadata": {},
   "source": [
    "\\\n",
    "**EXECUTE the following command in SEPARATE window**\n",
    "\n",
    "```\n",
    "VAULT_UI=true VAULT_REDIRECT_ADDR=http://127.0.0.1:8200 evault server -log-level=trace -dev -dev-root-token-id=root -dev-listen-address=127.0.0.1:8200 -dev-ha -dev-transactional\n",
    "```\n",
    "OR   \n",
    "`evrd1`   "
   ]
  },
  {
   "cell_type": "markdown",
   "metadata": {},
   "source": [
    "## (Optional)  Apply the license"
   ]
  },
  {
   "cell_type": "code",
   "execution_count": 5,
   "metadata": {},
   "outputs": [],
   "source": [
    "curl \\\n",
    "    --insecure \\\n",
    "    --header \"X-Vault-Token: $(vault print token)\" \\\n",
    "    --request PUT \\\n",
    "    --data @/Users/tio/Documents/vault_license.json \\\n",
    "    $VAULT_ADDR/v1/sys/license"
   ]
  },
  {
   "cell_type": "code",
   "execution_count": null,
   "metadata": {
    "scrolled": true
   },
   "outputs": [],
   "source": [
    "vault status"
   ]
  },
  {
   "cell_type": "markdown",
   "metadata": {},
   "source": [
    "##### Notice Initialized (=true) and Sealed (=false) status "
   ]
  },
  {
   "cell_type": "markdown",
   "metadata": {},
   "source": [
    "# Demo"
   ]
  },
  {
   "cell_type": "markdown",
   "metadata": {},
   "source": [
    "## Enable the Transform secrets engine"
   ]
  },
  {
   "cell_type": "code",
   "execution_count": 6,
   "metadata": {},
   "outputs": [
    {
     "name": "stdout",
     "output_type": "stream",
     "text": [
      "\u001b[0mSuccess! Enabled the transform secrets engine at: transform/\u001b[0m\n"
     ]
    }
   ],
   "source": [
    "vault secrets enable transform"
   ]
  },
  {
   "cell_type": "markdown",
   "metadata": {},
   "source": [
    "## Roles, Transformations, Templates and Alphabets\n",
    "\n",
    "The Transform secret engine contains several types resources that encapsulates different aspects of information required to perform transformation.  \n",
    "**Roles** - holds the set of transformation allowed.  The role name is provided when performing encode and decode\n",
    "  \n",
    "**Transformations** - holds particular transformation.  It contains information about the type of transformation, template it should use for value detection, and other values such as tweak source or the masking character to use.\n",
    "  \n",
    "**Templates** - allow us to determine what and how to capture the value we want to transform\n",
    "  \n",
    "**Alphabets** - set of valid UTF-8 character contained within the input and transformed value on FPE transformations\n",
    "<img src=images/vault-transform-3.png width=\"600\">\n"
   ]
  },
  {
   "cell_type": "markdown",
   "metadata": {},
   "source": [
    "\n",
    "## Use Case: Transform Credit Card\n",
    "### Create a Role"
   ]
  },
  {
   "cell_type": "code",
   "execution_count": null,
   "metadata": {},
   "outputs": [],
   "source": [
    "vault write transform/role/payments transformations=card-number"
   ]
  },
  {
   "cell_type": "markdown",
   "metadata": {},
   "source": [
    "### Specify the transformation"
   ]
  },
  {
   "cell_type": "code",
   "execution_count": null,
   "metadata": {},
   "outputs": [],
   "source": [
    "vault write transform/transformation/card-number \\\n",
    "  type=fpe \\\n",
    "  template=ccn \\\n",
    "  tweak_source=internal \\\n",
    "  allowed_roles=payments"
   ]
  },
  {
   "cell_type": "markdown",
   "metadata": {},
   "source": [
    "### Optionally create a template (i.e. specify pattern for input)"
   ]
  },
  {
   "cell_type": "code",
   "execution_count": null,
   "metadata": {},
   "outputs": [],
   "source": [
    "vault write transform/template/ccn \\\n",
    "  type=regex \\\n",
    "  pattern='(\\d{4})-(\\d{4})-(\\d{4})-(\\d{4})' \\\n",
    "  alphabet=numerics"
   ]
  },
  {
   "cell_type": "markdown",
   "metadata": {},
   "source": [
    "### Optionally create an alphabet (a set of valid characters or numbers for the input)"
   ]
  },
  {
   "cell_type": "code",
   "execution_count": null,
   "metadata": {},
   "outputs": [],
   "source": [
    "vault write transform/alphabet/numerics alphabet=\"0123456789\""
   ]
  },
  {
   "cell_type": "markdown",
   "metadata": {},
   "source": [
    "### Transform it\n",
    "After the secrets engine is configured and a user machine has a Vault token, it can use this secret engine to encode and decode input values"
   ]
  },
  {
   "cell_type": "code",
   "execution_count": null,
   "metadata": {},
   "outputs": [],
   "source": [
    "vault write transform/encode/payments value=1111-2222-3333-4444"
   ]
  },
  {
   "cell_type": "markdown",
   "metadata": {},
   "source": [
    "### Decode some input value using the /decode endpoint with a named role:"
   ]
  },
  {
   "cell_type": "code",
   "execution_count": null,
   "metadata": {},
   "outputs": [],
   "source": [
    "vault write transform/decode/payments value=9093-6066-0313-5513"
   ]
  },
  {
   "cell_type": "markdown",
   "metadata": {},
   "source": [
    "### Transform secrets\n",
    "The Vault client applications must have the following policies to perform data encoding and ecoding using Tranform secrets engine enabled at `transform/`\n",
    "\n",
    "\n",
    "> path \"transform/encode/*\" {  \n",
    "> &nbsp; capabilities = [ \"update\" ]  \n",
    "> }\n",
    "> \n",
    "> path \"transform/decode/*\" {  \n",
    "> &nbsp; capabilities = [ \"update\" ]  \n",
    "> }\n"
   ]
  },
  {
   "cell_type": "markdown",
   "metadata": {},
   "source": [
    "## Masking Credit card"
   ]
  },
  {
   "cell_type": "code",
   "execution_count": null,
   "metadata": {},
   "outputs": [],
   "source": [
    "vault write transform/role/payments transformations=ccn-masking"
   ]
  },
  {
   "cell_type": "code",
   "execution_count": null,
   "metadata": {},
   "outputs": [],
   "source": [
    "vault write transform/transformation/ccn-masking \\\n",
    "  type=masking \\\n",
    "  template=\"ccn\" \\\n",
    "  masking_character=X \\\n",
    "  allowed_roles=payments"
   ]
  },
  {
   "cell_type": "code",
   "execution_count": null,
   "metadata": {},
   "outputs": [],
   "source": [
    "vault write transform/template/ccn \\\n",
    "  type=regex \\\n",
    "  pattern='(\\d{4})-(\\d{4})-(\\d{4})-\\d\\d\\d\\d' \\\n",
    "  alphabet=numerics"
   ]
  },
  {
   "cell_type": "code",
   "execution_count": null,
   "metadata": {},
   "outputs": [],
   "source": [
    "vault write transform/encode/payments value=1111-2222-3333-4444"
   ]
  },
  {
   "cell_type": "markdown",
   "metadata": {},
   "source": [
    "## Transform Singapore NRIC"
   ]
  },
  {
   "cell_type": "code",
   "execution_count": 7,
   "metadata": {},
   "outputs": [
    {
     "name": "stdout",
     "output_type": "stream",
     "text": [
      "\u001b[0mSuccess! Data written to: transform/role/payments\u001b[0m\n"
     ]
    }
   ],
   "source": [
    "vault write transform/role/payments transformations=card-number,ccn-masking,nric"
   ]
  },
  {
   "cell_type": "markdown",
   "metadata": {},
   "source": [
    "### Create a template for NRIC (i.e. specify pattern)"
   ]
  },
  {
   "cell_type": "code",
   "execution_count": 8,
   "metadata": {},
   "outputs": [
    {
     "name": "stdout",
     "output_type": "stream",
     "text": [
      "\u001b[0mSuccess! Data written to: transform/template/nric\u001b[0m\n"
     ]
    }
   ],
   "source": [
    "vault write transform/template/nric \\\n",
    "  type=regex \\\n",
    "  pattern='[STFG]{1}(\\d{7})[A-Z]{1}' \\\n",
    "  alphabet=builtin/numeric"
   ]
  },
  {
   "cell_type": "code",
   "execution_count": 9,
   "metadata": {},
   "outputs": [
    {
     "name": "stdout",
     "output_type": "stream",
     "text": [
      "\u001b[0mSuccess! Data written to: transform/transformation/nric\u001b[0m\n"
     ]
    }
   ],
   "source": [
    "vault write transform/transformation/nric \\\n",
    "  type=fpe \\\n",
    "  template=nric \\\n",
    "  tweak_source=internal \\\n",
    "  allowed_roles=payments"
   ]
  },
  {
   "cell_type": "code",
   "execution_count": 10,
   "metadata": {},
   "outputs": [
    {
     "name": "stdout",
     "output_type": "stream",
     "text": [
      "\u001b[0mKey              Value\n",
      "---              -----\n",
      "encoded_value    T9005337G\u001b[0m\n"
     ]
    }
   ],
   "source": [
    "vault write transform/encode/payments value=T7780802G transformation=nric"
   ]
  },
  {
   "cell_type": "markdown",
   "metadata": {},
   "source": [
    "## Masking Singapore NRIC\n",
    "Masking replaces matched characters on the input value with a desired character. \n",
    "Masking is unidirectional; therefor only encode is supported.\n"
   ]
  },
  {
   "cell_type": "code",
   "execution_count": null,
   "metadata": {},
   "outputs": [],
   "source": [
    "vault write transform/role/payments transformations=card-number,ccn-masking,nric,mask-nric"
   ]
  },
  {
   "cell_type": "code",
   "execution_count": null,
   "metadata": {},
   "outputs": [],
   "source": [
    "vault write transform/transformation/mask-nric \\\n",
    "        type=masking \\\n",
    "        template=\"nric\" \\\n",
    "        masking_character=X \\\n",
    "        allowed_roles=payments"
   ]
  },
  {
   "cell_type": "code",
   "execution_count": null,
   "metadata": {},
   "outputs": [],
   "source": [
    "vault write transform/template/nric \\\n",
    "  type=regex \\\n",
    "  pattern='[STFG]{1}(\\d{7})[A-Z]{1}' \\\n",
    "  alphabet=builtin/numeric"
   ]
  },
  {
   "cell_type": "code",
   "execution_count": null,
   "metadata": {},
   "outputs": [],
   "source": [
    "vault write transform/encode/payments value=S7180802G transformation=\"mask-nric\""
   ]
  },
  {
   "cell_type": "markdown",
   "metadata": {},
   "source": [
    "### Batch Input Processing\n",
    "You can send multiple secrets in a request payload as **batch_input** insetad of invoking API multiple times."
   ]
  },
  {
   "cell_type": "code",
   "execution_count": null,
   "metadata": {},
   "outputs": [],
   "source": [
    "#tee input-multiple.json <<EOF\n",
    "\n",
    "cat <<EOF > /tmp/input-multiple.json\n",
    "{\n",
    "  \"batch_input\": [\n",
    "    {\n",
    "      \"value\": \"1111-1111-1111-1111\",\n",
    "      \"transformation\": \"card-number\"\n",
    "    },\n",
    "    {\n",
    "      \"value\": \"S7780801G\",\n",
    "      \"transformation\": \"nric\"\n",
    "    },\n",
    "    {\n",
    "      \"value\": \"S7780801G\",\n",
    "      \"transformation\": \"mask-nric\"\n",
    "    }\n",
    "  ]\n",
    "}\n",
    "EOF\n"
   ]
  },
  {
   "cell_type": "code",
   "execution_count": null,
   "metadata": {},
   "outputs": [],
   "source": [
    "export VAULT_TOKEN=root\n",
    "curl -s --header \"X-Vault-Token: $VAULT_TOKEN\" \\\n",
    "     --request POST \\\n",
    "     --data @/tmp/input-multiple.json \\\n",
    "     $VAULT_ADDR/v1/transform/encode/payments | jq \".data\""
   ]
  },
  {
   "cell_type": "code",
   "execution_count": null,
   "metadata": {},
   "outputs": [],
   "source": [
    "#tee payload-batch.json <<EOF\n",
    "\n",
    "cat <<EOF > /tmp/input-multiple.json\n",
    "{\n",
    "  \"batch_input\": [\n",
    "    { \"value\": \"1111-1111-1111-1111\", \"transformation\": \"card-number\" },\n",
    "    { \"value\": \"2222-2222-2222-2222\", \"transformation\": \"card-number\" },\n",
    "    { \"value\": \"3333-3333-3333-3333\", \"transformation\": \"card-number\" },\n",
    "    { \"value\": \"4444-4444-4444-4444\", \"transformation\": \"card-number\" }\n",
    "  ]\n",
    "}\n",
    "EOF\n"
   ]
  },
  {
   "cell_type": "code",
   "execution_count": null,
   "metadata": {},
   "outputs": [],
   "source": [
    "curl -s --header \"X-Vault-Token: $VAULT_TOKEN\" \\\n",
    "     --request POST \\\n",
    "     --data @/tmp/input-multiple.json \\\n",
    "     $VAULT_ADDR/v1/transform/encode/payments | jq \".data\""
   ]
  },
  {
   "cell_type": "markdown",
   "metadata": {},
   "source": [
    "### Next Steps\n",
    "Before application can even request data transformation, it needs to authenticate with Vault.  THerefore an auth method (.e.g. AWS, K8s, AppRole) must be enabled and onfigured. In addition an appropriate policy must be created and attached to the client token"
   ]
  },
  {
   "cell_type": "markdown",
   "metadata": {},
   "source": [
    "### View Vault via a browser\n",
    "Open a web browser and visit http://127.0.0.1:8200/ui/vault\n",
    "Use **TOKEN** and **Sign in**"
   ]
  },
  {
   "cell_type": "markdown",
   "metadata": {},
   "source": [
    "&nbsp;\n",
    "\n",
    "---\n",
    "#### Thank you.\n",
    "<img src=images/HashiCorp_PrimaryLogo_Black_RGB.png width=100 align=\"left\">"
   ]
  }
 ],
 "metadata": {
  "kernelspec": {
   "display_name": "Z shell",
   "language": "zsh",
   "name": "zsh"
  },
  "language_info": {
   "codemirror_mode": "shell",
   "file_extension": ".zsh",
   "mimetype": "text/x-zsh",
   "name": "zsh",
   "pygments_lexer": "shell",
   "version": "5.7.1"
  }
 },
 "nbformat": 4,
 "nbformat_minor": 4
}
