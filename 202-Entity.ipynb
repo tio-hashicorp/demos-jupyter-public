{
 "cells": [
  {
   "cell_type": "markdown",
   "metadata": {},
   "source": [
    "<img align=right src=images/HashiCorp_PrimaryLogo_Black_RGB.png width=150>\n",
    "<img src=images/acme.jpeg width=100 align=left>"
   ]
  },
  {
   "cell_type": "markdown",
   "metadata": {},
   "source": [
    "# Identity: Entity and Groups\n",
    "Vault client may have multiple accounts with various IdP that are enabled on the Vault server.  Vault clients can be mapped as **entities** and their corresponding accounts with authentication providers can be mapped as aliases.  In essence, each entity is made of zero or more aliases.\n",
    "<img src=images/vault-identity-1.png width=600 align=left>"
   ]
  },
  {
   "cell_type": "markdown",
   "metadata": {},
   "source": [
    "### Vault Setup\n",
    "\n",
    "Prerequisities:\n",
    "* Vault binary\n",
    "\n",
    "Command to execute (in separate windows):\n",
    "```\n",
    "VAULT_UI=true VAULT_REDIRECT_ADDR=http://127.0.0.1:8200 vault server -log-level=trace -dev -dev-root-token-id=root -dev-listen-address=127.0.0.1:8200 -dev-ha -dev-transactional\n",
    "```"
   ]
  },
  {
   "cell_type": "code",
   "execution_count": null,
   "metadata": {},
   "outputs": [],
   "source": [
    "export VAULT_ADDR=http://127.0.0.1:8200\n",
    "export VAULT_SKIP_VERIFY=true"
   ]
  },
  {
   "cell_type": "code",
   "execution_count": null,
   "metadata": {},
   "outputs": [],
   "source": [
    "vault --version"
   ]
  },
  {
   "cell_type": "markdown",
   "metadata": {},
   "source": [
    "### Apply License (recommended)"
   ]
  },
  {
   "cell_type": "code",
   "execution_count": null,
   "metadata": {},
   "outputs": [],
   "source": [
    "export VAULT_TOKEN=root\n",
    "curl \\\n",
    "    --insecure \\\n",
    "    --header \"X-Vault-Token: $VAULT_TOKEN\" \\\n",
    "    --request PUT \\\n",
    "    --data @/Users/tio/Documents/vault_license.json \\\n",
    "    $VAULT_ADDR/v1/sys/license"
   ]
  },
  {
   "cell_type": "code",
   "execution_count": null,
   "metadata": {},
   "outputs": [],
   "source": [
    "curl -s \\\n",
    "    --insecure \\\n",
    "    --header \"X-Vault-Token: $VAULT_TOKEN\" \\\n",
    "    $VAULT_ADDR/v1/sys/license  |jq \".data\"\n",
    "unset VAULT_TOKEN"
   ]
  },
  {
   "cell_type": "code",
   "execution_count": null,
   "metadata": {},
   "outputs": [],
   "source": [
    "vault status"
   ]
  },
  {
   "cell_type": "code",
   "execution_count": null,
   "metadata": {},
   "outputs": [],
   "source": [
    "unset VAULT_TOKEN\n",
    "vault login root"
   ]
  },
  {
   "cell_type": "markdown",
   "metadata": {},
   "source": [
    "**Note:** the Initialized and Sealed status above."
   ]
  },
  {
   "cell_type": "code",
   "execution_count": null,
   "metadata": {},
   "outputs": [],
   "source": [
    "\n",
    "vault auth enable userpass\n",
    "\n",
    "vault policy write base - <<\"EOF\"\n",
    "path \"secret/data/training\" {\n",
    "   capabilities = [ \"create\", \"read\"]\n",
    "}\n",
    "EOF\n",
    "\n",
    "vault policy write team-qa - <<\"EOF\"\n",
    "path \"secret/data/team/qa\" {\n",
    "   capabilities = [ \"create\", \"read\", \"delete\" ]\n",
    "}\n",
    "EOF\n",
    "\n",
    "vault policy write test - <<\"EOF\"\n",
    "path \"secret/data/test\" {\n",
    "   capabilities = [ \"create\", \"read\", \"update\", \"delete\" ]\n",
    "}\n",
    "EOF\n",
    "\n",
    "vault policy write team-eng - <<\"EOF\"\n",
    "path \"secret/data/team/eng\" { \n",
    "   capabilities = [ \"create\", \"read\", \"update\", \"delete\" ]\n",
    "} \n",
    "EOF\n"
   ]
  },
  {
   "cell_type": "markdown",
   "metadata": {},
   "source": [
    "### Create Users\n",
    "<img src=\"images/vault-entity-1.png\">\n",
    "\n",
    "Create two users (entity aliases) each having a different policy."
   ]
  },
  {
   "cell_type": "code",
   "execution_count": null,
   "metadata": {},
   "outputs": [],
   "source": [
    "vault write auth/userpass/users/bob password=\"training\" policies=\"test\""
   ]
  },
  {
   "cell_type": "code",
   "execution_count": null,
   "metadata": {},
   "outputs": [],
   "source": [
    "vault write auth/userpass/users/bsmith password=\"training\" policies=\"team-qa\""
   ]
  },
  {
   "cell_type": "code",
   "execution_count": null,
   "metadata": {},
   "outputs": [],
   "source": [
    "vault auth list\n",
    "ACCESSOR=$(vault auth list -format=json | jq -r '.[\"userpass/\"].accessor')\n",
    "echo \"\\nuserpass/ accessor is $ACCESSOR\""
   ]
  },
  {
   "cell_type": "markdown",
   "metadata": {},
   "source": [
    "### Create an Entity"
   ]
  },
  {
   "cell_type": "code",
   "execution_count": null,
   "metadata": {},
   "outputs": [],
   "source": [
    "vault write -format=json identity/entity name=\"bob-smith\" policies=\"base\" \\\n",
    "   metadata=organization=\"ACME Inc.\" metadata=team=\"QA\" | tee /tmp/bob-smith-entity.json"
   ]
  },
  {
   "cell_type": "code",
   "execution_count": null,
   "metadata": {},
   "outputs": [],
   "source": [
    "cat /tmp/bob-smith-entity.json | jq -r \".data.id\" > /tmp/bob-smith-entity_id.txt\n",
    "cat /tmp/bob-smith-entity_id.txt"
   ]
  },
  {
   "cell_type": "markdown",
   "metadata": {},
   "source": [
    "### Create Aliases for the Entity"
   ]
  },
  {
   "cell_type": "code",
   "execution_count": null,
   "metadata": {},
   "outputs": [],
   "source": [
    "vault write identity/entity-alias name=\"bob\" canonical_id=$(cat /tmp/bob-smith-entity_id.txt) mount_accessor=$ACCESSOR"
   ]
  },
  {
   "cell_type": "code",
   "execution_count": null,
   "metadata": {},
   "outputs": [],
   "source": [
    "vault write identity/entity-alias name=\"bsmith\" canonical_id=$(cat /tmp/bob-smith-entity_id.txt) mount_accessor=$ACCESSOR"
   ]
  },
  {
   "cell_type": "code",
   "execution_count": null,
   "metadata": {},
   "outputs": [],
   "source": [
    "vault list identity/entity/id"
   ]
  },
  {
   "cell_type": "markdown",
   "metadata": {},
   "source": [
    "**Check Entity's aliases**"
   ]
  },
  {
   "cell_type": "code",
   "execution_count": null,
   "metadata": {},
   "outputs": [],
   "source": [
    "vault read identity/entity/id/$(cat /tmp/bob-smith-entity_id.txt) -format=json"
   ]
  },
  {
   "cell_type": "markdown",
   "metadata": {},
   "source": [
    "**Note:** Alternatively, launch Vault UI http://localhost:8200/ui and go to **ACCESS > Entities** followed by **Aliases**"
   ]
  },
  {
   "cell_type": "markdown",
   "metadata": {},
   "source": [
    "### Test the Entity\n",
    "Understand how a token inherits the capabilities from entity's policy."
   ]
  },
  {
   "cell_type": "code",
   "execution_count": null,
   "metadata": {},
   "outputs": [],
   "source": [
    "vault login -method=userpass username=bob password=training"
   ]
  },
  {
   "cell_type": "markdown",
   "metadata": {},
   "source": [
    "**Note:**  \n",
    "* the token generated has `default` and `test` policies attached (`token_policies`)\n",
    "* because `bob` is a member of `bob-smith` entity, he inherited `base` policy  (`identity_policies`)\n",
    "* therefore `bob` is permitted to perform operations allowed by `base`, `test` and `default` policies"
   ]
  },
  {
   "cell_type": "markdown",
   "metadata": {},
   "source": [
    "### Test Policies\n",
    "`test` policy grants CRUD on `secret/data/test` path."
   ]
  },
  {
   "cell_type": "code",
   "execution_count": null,
   "metadata": {},
   "outputs": [],
   "source": [
    "vault kv put secret/test owner=\"bob\""
   ]
  },
  {
   "cell_type": "code",
   "execution_count": null,
   "metadata": {},
   "outputs": [],
   "source": [
    "vault kv get secret/test"
   ]
  },
  {
   "cell_type": "markdown",
   "metadata": {},
   "source": [
    "**Note:** Although `bob` and `bsmith` belong to the same person, allowed permissions may differ depending on the authentication account he uses to login."
   ]
  },
  {
   "cell_type": "code",
   "execution_count": null,
   "metadata": {},
   "outputs": [],
   "source": [
    "vault token capabilities secret/data/team/qa`"
   ]
  },
  {
   "cell_type": "markdown",
   "metadata": {},
   "source": [
    "### Create an Internal Group\n",
    "<img src=\"images/vault-identity-2.png\" width=500>"
   ]
  },
  {
   "cell_type": "code",
   "execution_count": null,
   "metadata": {},
   "outputs": [],
   "source": [
    "vault login root"
   ]
  },
  {
   "cell_type": "code",
   "execution_count": null,
   "metadata": {},
   "outputs": [],
   "source": [
    "vault policy read team-eng"
   ]
  },
  {
   "cell_type": "code",
   "execution_count": null,
   "metadata": {},
   "outputs": [],
   "source": [
    "vault write -format=json identity/group name=\"engineers2\" policies=\"team-eng\" \\\n",
    "   member_entity_ids=$(cat /tmp/bob-smith-entity_id.txt) \\\n",
    "   metadata=team=\"Engineering\" metadata=region=\"North America\" | tee /tmp/engineers.json"
   ]
  },
  {
   "cell_type": "code",
   "execution_count": null,
   "metadata": {},
   "outputs": [],
   "source": [
    "cat /tmp/engineers.json | jq -r \".data.id\" > /tmp/engineers-group_id.txt\n",
    "cat /tmp/engineers-group_id.txt"
   ]
  },
  {
   "cell_type": "markdown",
   "metadata": {},
   "source": [
    "**List existing groups by IDs**"
   ]
  },
  {
   "cell_type": "code",
   "execution_count": null,
   "metadata": {},
   "outputs": [],
   "source": [
    "vault list identity/group/id"
   ]
  },
  {
   "cell_type": "markdown",
   "metadata": {},
   "source": [
    "**List existing groups by Name**"
   ]
  },
  {
   "cell_type": "code",
   "execution_count": null,
   "metadata": {},
   "outputs": [],
   "source": [
    "vault list identity/group/name"
   ]
  },
  {
   "cell_type": "code",
   "execution_count": null,
   "metadata": {},
   "outputs": [],
   "source": [
    "vault read identity/group/name/engineers"
   ]
  },
  {
   "cell_type": "markdown",
   "metadata": {},
   "source": [
    "**Note:** by default, Vault creates an **internal group**. When you create an internal group, you specify the group members.  You do not specify any group alias.  Group aliases are mapping between Vault and external IdP (e.g. LDAP, GitHub, etc.).\n",
    "Therefore, you define group aliases only when you create **external groups**.  For internal groups, you have `member_entity_ids` and/or `member_group_ids` instead."
   ]
  },
  {
   "cell_type": "markdown",
   "metadata": {},
   "source": [
    "### Test the Group\n",
    "Let's understand how a token inherits capabilities from its associating group."
   ]
  },
  {
   "cell_type": "code",
   "execution_count": null,
   "metadata": {},
   "outputs": [],
   "source": [
    "unset VAULT_TOKEN\n",
    "vault login -method=userpass username=\"bsmith\" password=\"training\""
   ]
  },
  {
   "cell_type": "markdown",
   "metadata": {},
   "source": [
    "**Note:**  \n",
    "* the token generated has `default` and `team-qa` policies attached (`token_policies`)\n",
    "* because `bsmith` is a member of `bob-smith` entity, he inherited `base` policy  (`identity_policies`)\n",
    "* because `bsmith` is a member of `team-qa` group, he inherited `team-qa` policy\n",
    "* therefore `bsmith` is permitted to perform operations allowed by `base`, `default`, `team-eng`, and `team-qa` policies"
   ]
  },
  {
   "cell_type": "code",
   "execution_count": null,
   "metadata": {},
   "outputs": [],
   "source": [
    "vault token capabilities secret/data/team/qa"
   ]
  },
  {
   "cell_type": "markdown",
   "metadata": {},
   "source": [
    "**Note:** do the same for\n",
    "```\n",
    "1. secret/data/training_test\n",
    "2. secret/data/team/qa\n",
    "3. secret/data/team/eng\n",
    "4. secret/data/test\n",
    "```"
   ]
  },
  {
   "cell_type": "markdown",
   "metadata": {},
   "source": [
    "### Create External Group and Group Alias\n",
    "Test your Github token:\n",
    "```\n",
    "curl -H \"Authorization: token <your_github_token>\" https://api.github.com/user/teams\n",
    "```\n"
   ]
  },
  {
   "cell_type": "code",
   "execution_count": null,
   "metadata": {},
   "outputs": [],
   "source": [
    "vault login root > /dev/null\n",
    "\n",
    "vault policy write education - <<\"EOF\"\n",
    "path \"secret/data/education\" {\n",
    "   capabilities = [ \"create\", \"read\", \"update\", \"delete\" , \"list\"]\n",
    "}\n",
    "EOF\n"
   ]
  },
  {
   "cell_type": "markdown",
   "metadata": {},
   "source": [
    "### Github Auth"
   ]
  },
  {
   "cell_type": "code",
   "execution_count": null,
   "metadata": {},
   "outputs": [],
   "source": [
    "vault login root"
   ]
  },
  {
   "cell_type": "code",
   "execution_count": null,
   "metadata": {},
   "outputs": [],
   "source": [
    "vault auth enable github"
   ]
  },
  {
   "cell_type": "code",
   "execution_count": null,
   "metadata": {},
   "outputs": [],
   "source": [
    "vault write auth/github/config organization=hashicorp"
   ]
  },
  {
   "cell_type": "code",
   "execution_count": null,
   "metadata": {},
   "outputs": [],
   "source": [
    "vault auth list\n",
    "GITHUB_ACCESSOR=$(vault auth list -format=json | jq -r '.[\"github/\"].accessor')\n",
    "echo \"\\ngithub accessor is $GITHUB_ACCESSOR\""
   ]
  },
  {
   "cell_type": "markdown",
   "metadata": {},
   "source": [
    "### Create External Group"
   ]
  },
  {
   "cell_type": "code",
   "execution_count": null,
   "metadata": {},
   "outputs": [],
   "source": [
    "vault write identity/group name=\"team-se\" -format=json \\\n",
    "  type=external \\\n",
    "  policies=\"education\" | tee /tmp/education.json\n",
    "  "
   ]
  },
  {
   "cell_type": "code",
   "execution_count": null,
   "metadata": {},
   "outputs": [],
   "source": [
    "\n",
    "EDU_GROUP_ID=$(cat /tmp/education.json | jq -r \".data.id\" )\n",
    "echo $EDU_GROUP_ID"
   ]
  },
  {
   "cell_type": "markdown",
   "metadata": {},
   "source": [
    "### Create Group Alias"
   ]
  },
  {
   "cell_type": "code",
   "execution_count": null,
   "metadata": {},
   "outputs": [],
   "source": [
    "vault login root > /dev/null\n",
    "vault write identity/group-alias name=\"team-se\" \\\n",
    "  mount_accessor=$GITHUB_ACCESSOR \\\n",
    "  canonical_id=$EDU_GROUP_ID"
   ]
  },
  {
   "cell_type": "code",
   "execution_count": null,
   "metadata": {},
   "outputs": [],
   "source": [
    "curl -H \"Authorization: token \" https://api.github.com/user/teams"
   ]
  },
  {
   "cell_type": "code",
   "execution_count": null,
   "metadata": {
    "jupyter": {
     "source_hidden": true
    }
   },
   "outputs": [],
   "source": [
    "vault login root\n",
    "vault write auth/github/config organization=hashicorp"
   ]
  },
  {
   "cell_type": "code",
   "execution_count": null,
   "metadata": {},
   "outputs": [],
   "source": [
    "\n",
    "vault login -method=github token=\"\""
   ]
  },
  {
   "cell_type": "markdown",
   "metadata": {},
   "source": [
    "**Note:** I belong to `team-se` in GitHub and therefore to external group `team-se` which inherit `education` policy.  Therefore I can modify secret/data/education and nothing else."
   ]
  },
  {
   "cell_type": "code",
   "execution_count": null,
   "metadata": {},
   "outputs": [],
   "source": [
    "vault login root \n",
    "vault read identity/group/name/team-se -format=json"
   ]
  },
  {
   "cell_type": "markdown",
   "metadata": {},
   "source": [
    "### License Vault"
   ]
  },
  {
   "cell_type": "code",
   "execution_count": null,
   "metadata": {},
   "outputs": [],
   "source": [
    "vault token capabilities secret/data/training"
   ]
  },
  {
   "cell_type": "code",
   "execution_count": null,
   "metadata": {},
   "outputs": [],
   "source": [
    "vault token capabilities secret/data/education"
   ]
  },
  {
   "cell_type": "markdown",
   "metadata": {},
   "source": [
    "&nbsp;\n",
    "\n",
    "---\n",
    "#### Thank you.\n",
    "<img src=images/HashiCorp_PrimaryLogo_Black_RGB.png width=100 align=\"left\">"
   ]
  },
  {
   "cell_type": "code",
   "execution_count": null,
   "metadata": {},
   "outputs": [],
   "source": []
  }
 ],
 "metadata": {
  "kernelspec": {
   "display_name": "Python 3",
   "language": "python",
   "name": "python3"
  },
  "language_info": {
   "codemirror_mode": {
    "name": "ipython",
    "version": 3
   },
   "file_extension": ".py",
   "mimetype": "text/x-python",
   "name": "python",
   "nbconvert_exporter": "python",
   "pygments_lexer": "ipython3",
   "version": "3.9.1"
  }
 },
 "nbformat": 4,
 "nbformat_minor": 4
}
