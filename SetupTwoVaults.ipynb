{
 "cells": [
  {
   "cell_type": "markdown",
   "metadata": {},
   "source": [
    "<img align=right src=images/HashiCorp_PrimaryLogo_Black_RGB.png width=150>\n",
    "<img src=images/Acme.jpeg width=100 align=\"left\">\n",
    "<img src=images/SingaporeMBS2.png>"
   ]
  },
  {
   "cell_type": "markdown",
   "metadata": {},
   "source": [
    "## Vaults Setup"
   ]
  },
  {
   "cell_type": "markdown",
   "metadata": {},
   "source": [
    "**Cleanup Old Files**"
   ]
  },
  {
   "cell_type": "code",
   "execution_count": null,
   "metadata": {},
   "outputs": [],
   "source": [
    "alias vault='/usr/local/bin/vaulte'"
   ]
  },
  {
   "cell_type": "code",
   "execution_count": null,
   "metadata": {},
   "outputs": [],
   "source": [
    "#rm $HOME/demos/vault_cluster/vrd/vault_init_output\n",
    "rm -rf $HOME/demos/vault_cluster/vrd/data/*\n",
    "#rm -r $HOME/demos/vault_cluster/vrd/vrd*"
   ]
  },
  {
   "cell_type": "code",
   "execution_count": null,
   "metadata": {},
   "outputs": [],
   "source": [
    "#rm $HOME/demos/vault_cluster/vrd2/vault_init_output\n",
    "rm -r $HOME/demos/vault_cluster/vrd2/data/*\n",
    "#rm -r $HOME/demos/vault_cluster/vrd2/vrd*\n",
    "#tree $HOME/demos/vault_cluster/vrd2"
   ]
  },
  {
   "cell_type": "markdown",
   "metadata": {},
   "source": [
    "### Begin Performance Replication"
   ]
  },
  {
   "cell_type": "code",
   "execution_count": null,
   "metadata": {},
   "outputs": [],
   "source": [
    "vault version"
   ]
  },
  {
   "cell_type": "code",
   "execution_count": null,
   "metadata": {},
   "outputs": [],
   "source": [
    "export VAULT_ADDR=http://127.0.0.1:8200\n",
    "export VAULT_SKIP_VERIFY=true"
   ]
  },
  {
   "cell_type": "code",
   "execution_count": null,
   "metadata": {},
   "outputs": [],
   "source": [
    "export VAULT_ADDR2=http://127.0.0.1:8202\n",
    "export VAULT_SKIP_VERIFY=true"
   ]
  },
  {
   "cell_type": "code",
   "execution_count": null,
   "metadata": {},
   "outputs": [],
   "source": [
    "env |grep -i vault"
   ]
  },
  {
   "cell_type": "markdown",
   "metadata": {},
   "source": [
    "### Start Two Vault Servers"
   ]
  },
  {
   "cell_type": "markdown",
   "metadata": {},
   "source": [
    "**Populate Vault Server configuration files**"
   ]
  },
  {
   "cell_type": "code",
   "execution_count": null,
   "metadata": {},
   "outputs": [],
   "source": [
    "mkdir -p $HOME/demo/vault_cluster/vrd/data/raft\n",
    "cat <<EOF > $HOME/demos/vault_cluster/vrd/vrd_config.hcl\n",
    "storage \"raft\" {\n",
    "  path = \"$HOME/demos/vault_cluster/vrd/data\"\n",
    "  node_id = \"demo\"\n",
    "}\n",
    "listener \"tcp\" {\n",
    "  address = \"0.0.0.0:8200\"\n",
    "  cluster_address = \"0.0.0.0:8201\"\n",
    "  tls_disable = \"true\"\n",
    "}\n",
    "api_addr = \"https://127.0.0.1:8200\"\n",
    "cluster_addr = \"https://127.0.0.1:8201\"\n",
    "disable_mlock=\"false\"\n",
    "disable_cache=\"false\"\n",
    "ui = \"true\"\n",
    "max_lease_ttl=\"24h\"\n",
    "default_lease_ttl=\"1h\"\n",
    "raw_storage_endpoint=true\n",
    "cluster_name=\"hashi-vault\"\n",
    "insecure_tls=\"true\"\n",
    "plugin_directory=\"$HOME/demos/vault_cluster/vrd/data/plugins\"\n",
    "EOF"
   ]
  },
  {
   "cell_type": "code",
   "execution_count": null,
   "metadata": {},
   "outputs": [],
   "source": [
    "mkdir -p $HOME/demos/vault_cluster/vrd2/\n",
    "cat <<EOF > $HOME/demos/vault_cluster/vrd2/vrd2_config.hcl\n",
    "storage \"raft\" {\n",
    "  path = \"$HOME/demos/vault_cluster/vrd2/data\"\n",
    "  node_id = \"demo\"\n",
    "}\n",
    "listener \"tcp\" {\n",
    "  address = \"0.0.0.0:8202\"\n",
    "  cluster_address = \"0.0.0.0:8203\"\n",
    "  tls_disable = \"true\"\n",
    "}\n",
    "api_addr = \"https://127.0.0.1:8202\"\n",
    "cluster_addr = \"https://127.0.0.1:8203\"\n",
    "disable_mlock=\"false\"\n",
    "disable_cache=\"false\"\n",
    "ui = \"true\"\n",
    "max_lease_ttl=\"24h\"\n",
    "default_lease_ttl=\"1h\"\n",
    "raw_storage_endpoint=true\n",
    "cluster_name=\"hashi-vault\"\n",
    "insecure_tls=\"true\"\n",
    "plugin_directory=\"$HOME/demos/vault_cluster/vr2/data/vault/plugins\"\n",
    "EOF"
   ]
  },
  {
   "cell_type": "markdown",
   "metadata": {},
   "source": [
    "**AUTO RUN ABOVE**"
   ]
  },
  {
   "cell_type": "markdown",
   "metadata": {},
   "source": [
    "**EXECUTE EACH COMMAND IN SEPARATE TERMINAL WINDOW**\n",
    "\n",
    "`vaulte server -config=$HOME/demos/vault_cluster/vrd/vrd_config.hcl`\n",
    "\n",
    "`vaulte server -config=$HOME/demos/vault_cluster/vrd2/vrd2_config.hcl`"
   ]
  },
  {
   "cell_type": "markdown",
   "metadata": {},
   "source": [
    "### Initialize Vaults\n",
    "(save output to file for demo use) \n",
    "\n",
    "Note: the initialization takes few seconds to complete"
   ]
  },
  {
   "cell_type": "code",
   "execution_count": null,
   "metadata": {},
   "outputs": [],
   "source": [
    "curl --request POST --data '{\"secret_shares\": 1, \"secret_threshold\": 1}' $VAULT_ADDR/v1/sys/init > ~/demos/vault_cluster/vrd/vault_init_output"
   ]
  },
  {
   "cell_type": "code",
   "execution_count": null,
   "metadata": {},
   "outputs": [],
   "source": [
    "curl --request POST --data '{\"secret_shares\": 1, \"secret_threshold\": 1}' $VAULT_ADDR2/v1/sys/init > ~/demos/vault_cluster/vrd2/vault_init_output"
   ]
  },
  {
   "cell_type": "markdown",
   "metadata": {},
   "source": [
    "**Parse output to variables** (for demo use)"
   ]
  },
  {
   "cell_type": "code",
   "execution_count": null,
   "metadata": {},
   "outputs": [],
   "source": [
    "export VAULT_ROOT_TOKEN=$(cat ~/demos/vault_cluster/vrd/vault_init_output | jq -r '.root_token')\n",
    "export VAULT_KEY_BASE64=$(cat ~/demos/vault_cluster/vrd/vault_init_output | jq -r '.keys_base64[0]' )\n",
    "echo $VAULT_ROOT_TOKEN\n",
    "echo $VAULT_KEY_BASE64"
   ]
  },
  {
   "cell_type": "code",
   "execution_count": null,
   "metadata": {},
   "outputs": [],
   "source": [
    "export VAULT_ROOT_TOKEN2=$(cat ~/demos/vault_cluster/vrd2/vault_init_output | jq -r '.root_token')\n",
    "export VAULT_KEY_BASE642=$(cat ~/demos/vault_cluster/vrd2/vault_init_output | jq -r '.keys_base64[0]' )\n",
    "echo $VAULT_ROOT_TOKEN2\n",
    "echo $VAULT_KEY_BASE642"
   ]
  },
  {
   "cell_type": "markdown",
   "metadata": {},
   "source": [
    "### Unseal Vaults"
   ]
  },
  {
   "cell_type": "code",
   "execution_count": null,
   "metadata": {},
   "outputs": [],
   "source": [
    "curl \\\n",
    "    --insecure \\\n",
    "    --header \"X-Vault-Token: $VAULT_ROOT_TOKEN\" \\\n",
    "    --request PUT \\\n",
    "    --data '{ \"key\": \"'$VAULT_KEY_BASE64'\" }' \\\n",
    "    $VAULT_ADDR/v1/sys/unseal"
   ]
  },
  {
   "cell_type": "code",
   "execution_count": null,
   "metadata": {},
   "outputs": [],
   "source": [
    "  curl \\\n",
    "    --insecure \\\n",
    "    --header \"X-Vault-Token: $VAULT_ROOT_TOKEN2\" \\\n",
    "    --request PUT \\\n",
    "    --data '{ \"key\": \"'$VAULT_KEY_BASE642'\" }' \\\n",
    "    $VAULT_ADDR2/v1/sys/unseal"
   ]
  },
  {
   "cell_type": "markdown",
   "metadata": {},
   "source": [
    "### License Vaults"
   ]
  },
  {
   "cell_type": "code",
   "execution_count": null,
   "metadata": {},
   "outputs": [],
   "source": [
    "curl \\\n",
    "    --insecure \\\n",
    "    --header \"X-Vault-Token: $VAULT_ROOT_TOKEN\" \\\n",
    "    --request PUT \\\n",
    "    --data @/Users/tio/Documents/vault_license.json \\\n",
    "    $VAULT_ADDR/sys/license"
   ]
  },
  {
   "cell_type": "code",
   "execution_count": null,
   "metadata": {},
   "outputs": [],
   "source": [
    "curl \\\n",
    "    --insecure \\\n",
    "    --header \"X-Vault-Token: $VAULT_ROOT_TOKEN2\" \\\n",
    "    --request PUT \\\n",
    "    --data \"@/Users/tio/Documents/vault_license.json\" \\\n",
    "    $VAULT_ADDR2/sys/license"
   ]
  },
  {
   "cell_type": "markdown",
   "metadata": {},
   "source": [
    "# Interactive Demo: Enable Performance Replication"
   ]
  },
  {
   "cell_type": "markdown",
   "metadata": {},
   "source": [
    "**Copy Token to Pasteboard for UI Login**"
   ]
  },
  {
   "cell_type": "code",
   "execution_count": null,
   "metadata": {},
   "outputs": [],
   "source": [
    "echo $VAULT_ROOT_TOKEN | pbcopy\n",
    "echo $VAULT_ROOT_TOKEN"
   ]
  },
  {
   "cell_type": "code",
   "execution_count": null,
   "metadata": {},
   "outputs": [],
   "source": [
    "echo $VAULT_ROOT_TOKEN2 | pbcopy\n",
    "echo $VAULT_ROOT_TOKEN2"
   ]
  },
  {
   "cell_type": "markdown",
   "metadata": {},
   "source": [
    "**Generate NEW root key for Performance Replication cluster**"
   ]
  },
  {
   "cell_type": "code",
   "execution_count": null,
   "metadata": {},
   "outputs": [],
   "source": [
    "## Generate One Time Password (OTP) Needed to Generate DR token\n",
    "#alias vault_secondary='VAULT_UI=true VAULT_ADDR=http://127.0.0.1:8202 vault'\n",
    "#VAULT_SECONDARY_ADDR='127.0.0.1:8202'\n",
    "#ONE_TIME_PASSWORD=$(vault_secondary operator generate-root -generate-otp)\n",
    "ONE_TIME_PASSWORD=$(vault operator generate-root -generate-otp VAULT_ADDR=http://127.0.0.1:8202)\n",
    "echo $ONE_TIME_PASSWORD"
   ]
  },
  {
   "cell_type": "code",
   "execution_count": null,
   "metadata": {},
   "outputs": [],
   "source": [
    "curl --header \"X-Vault-Token: $VAULT_ROOT_TOKEN\" --request PUT --data '{\"otp\":\"'\"${ONE_TIME_PASSWORD}\"'\"}' 127.0.0.1:8202/v1/sys/generate-root/attempt"
   ]
  },
  {
   "cell_type": "code",
   "execution_count": null,
   "metadata": {},
   "outputs": [],
   "source": [
    "## Start Generation of DR Operation Token Attempt -- Get NONCE to give to UNSEAL KEY holders\n",
    "NONCE=$(curl --header \"X-Vault-Token: $VAULT_ROOT_TOKEN\" --request PUT --data '{\"otp\":\"'\"${ONE_TIME_PASSWORD}\"'\"}' 127.0.0.1:8202/v1/sys/generate-root/attempt | jq --raw-output '.nonce')\n",
    "echo $NONCE"
   ]
  },
  {
   "cell_type": "code",
   "execution_count": null,
   "metadata": {},
   "outputs": [],
   "source": [
    "## Get Your ENCODED TOKEN that will be combined with OTP to produce New Root Token for Perf Replica cluster\n",
    "export UNSEAL_KEY=$(cat ~/demos/vault_cluster/vrd/vault_init_output | jq -r '.keys[0]')\n",
    "echo $UNSEAL_KEY\n",
    "ENCODED_TOKEN=$(curl -s --header \"X-Vault-Token: ${VAULT_ROOT_TOKEN}\" --request PUT --data '{\"key\":\"'\"${UNSEAL_KEY}\"'\", \"nonce\":\"'\"${NONCE}\"'\"}' http://127.0.0.1:8202/v1/sys/generate-root/update | jq --raw-output '.encoded_token')\n",
    "echo $ENCODED_TOKEN\n",
    "#PR_ROOT_TOKEN=$(vault_secondary operator generate-root -otp=\"${ONE_TIME_PASSWORD}\" -decode=\"${ENCODED_TOKEN}\")\n",
    "PR_ROOT_TOKEN=$(VAULT_ADDR=http://127.0.0.1:8202 vault operator generate-root -otp=\"${ONE_TIME_PASSWORD}\" -decode=\"${ENCODED_TOKEN}\")\n",
    "echo $PR_ROOT_TOKEN"
   ]
  },
  {
   "cell_type": "code",
   "execution_count": null,
   "metadata": {},
   "outputs": [],
   "source": [
    "echo $PR_ROOT_TOKEN | pbcopy"
   ]
  },
  {
   "cell_type": "markdown",
   "metadata": {},
   "source": [
    "## Interactive Demo: Log Into Replica\n",
    "## Interactive Demo: Create / Delete Secrets in Primary and View in Replica"
   ]
  },
  {
   "cell_type": "markdown",
   "metadata": {},
   "source": [
    "**END**"
   ]
  },
  {
   "cell_type": "markdown",
   "metadata": {},
   "source": [
    "&nbsp;\n",
    "\n",
    "---\n",
    "#### Thank you.\n",
    "<img src=images/HashiCorp_PrimaryLogo_Black_RGB.png width=100 class=\"center\">"
   ]
  }
 ],
 "metadata": {
  "kernelspec": {
   "display_name": "Z shell",
   "language": "zsh",
   "name": "zsh"
  },
  "language_info": {
   "codemirror_mode": "shell",
   "file_extension": ".zsh",
   "mimetype": "text/x-zsh",
   "name": "zsh",
   "pygments_lexer": "shell",
   "version": "5.7.1"
  }
 },
 "nbformat": 4,
 "nbformat_minor": 4
}
