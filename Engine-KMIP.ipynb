{
 "cells": [
  {
   "cell_type": "markdown",
   "metadata": {},
   "source": [
    "<img src=images/HashiCorp_PrimaryLogo_Black_RGB.png width=150 align=\"right\">\n",
    "<img src=images/Acme.jpeg width=100 align=\"left\">"
   ]
  },
  {
   "cell_type": "markdown",
   "metadata": {},
   "source": [
    "<a id =1></a>\n",
    "## KMIP Secrets Engine\n",
    "\n",
    "\n",
    "## Business Values:\n",
    " * allows Vault to act as a Key Management Interoperability Protocol (KMIP) server provider and handle the lifecycle of its KMIP managed objects. \n",
    " * relatively short time to live (TTL), often for the applications lifespan.\n",
    " * eliminate sharing, unique certificate for each application\n",
    " \n",
    "KMIP is a standardized protocol that allows services and applications to perform cryptographic operations without having to manage cryptographic material, otherwise known as managed objects, by delegating its storage and lifecycle to a key management server.\n",
    "\n",
    "It delegates the key management task to an external provider via KMIP protocol.\n"
   ]
  },
  {
   "cell_type": "markdown",
   "metadata": {},
   "source": [
    "### Vault Setup\n",
    "\n",
    "### Prerequisites\n",
    "* Running Vault instance (in dev mode) \n"
   ]
  },
  {
   "cell_type": "code",
   "execution_count": null,
   "metadata": {},
   "outputs": [],
   "source": [
    "vault -version"
   ]
  },
  {
   "cell_type": "code",
   "execution_count": null,
   "metadata": {},
   "outputs": [],
   "source": [
    "export VAULT_ADDR=http://127.0.0.1:8200\n",
    "export VAULT_SKIP_VERIFY=true"
   ]
  },
  {
   "cell_type": "code",
   "execution_count": null,
   "metadata": {},
   "outputs": [],
   "source": [
    "vault status"
   ]
  },
  {
   "cell_type": "code",
   "execution_count": null,
   "metadata": {},
   "outputs": [],
   "source": [
    "vault login root"
   ]
  },
  {
   "cell_type": "markdown",
   "metadata": {},
   "source": [
    "---\n",
    "### Enable the KMIP Secret Engine\n"
   ]
  },
  {
   "cell_type": "code",
   "execution_count": null,
   "metadata": {},
   "outputs": [],
   "source": [
    "vault secrets enable kmip"
   ]
  },
  {
   "cell_type": "code",
   "execution_count": null,
   "metadata": {},
   "outputs": [],
   "source": [
    "vault write kmip/config listen_addrs=0.0.0.0:5696"
   ]
  },
  {
   "cell_type": "markdown",
   "metadata": {},
   "source": [
    "**When KMIP is configured**\n",
    "it generates and stores a key-pair and uses it to sign a root CA which is used to sign an intermediate CA.  The intermediate CA is used to sign the server TLS certificates used by the KMIP listener to identity itself during the TLS handshake."
   ]
  },
  {
   "cell_type": "code",
   "execution_count": null,
   "metadata": {},
   "outputs": [],
   "source": [
    "vault read kmip/config"
   ]
  },
  {
   "cell_type": "markdown",
   "metadata": {},
   "source": [
    "**Default certificate type is `ec` Elliptical Curve**   \n",
    "If you need RSA, specify the certificate type and bits when you configure the kmip server."
   ]
  },
  {
   "cell_type": "code",
   "execution_count": null,
   "metadata": {},
   "outputs": [],
   "source": [
    "vault write kmip/config listen_addrs=0.0.0.0:5696 \\\n",
    "      tls_ca_key_type=\"rsa\" \\\n",
    "      tls_ca_key_bits=2048"
   ]
  },
  {
   "cell_type": "markdown",
   "metadata": {},
   "source": [
    "**Retrieve the generated CA certificate**"
   ]
  },
  {
   "cell_type": "code",
   "execution_count": null,
   "metadata": {},
   "outputs": [],
   "source": [
    "vault read kmip/ca"
   ]
  },
  {
   "cell_type": "markdown",
   "metadata": {},
   "source": [
    "---\n",
    "### Demo:\n",
    "**Note**:  \n",
    "* Run > Render All Markdown Cells\n",
    "* Edit > Clear all outputs"
   ]
  },
  {
   "cell_type": "markdown",
   "metadata": {},
   "source": [
    "**Use scopes to partition KMIP managed object storage into multiple named buckets.** \n",
    "Within a scope, roles can be created which dictate a set of allowed operations.  TLS client certificates can be generated for a role, which services and applications can then use when sending KMIP requests against Vault's KMIP secret engine."
   ]
  },
  {
   "cell_type": "code",
   "execution_count": null,
   "metadata": {},
   "outputs": [],
   "source": [
    "vault write -f kmip/scope/finance"
   ]
  },
  {
   "cell_type": "code",
   "execution_count": null,
   "metadata": {},
   "outputs": [],
   "source": [
    "vault list kmip/scope/"
   ]
  },
  {
   "cell_type": "code",
   "execution_count": null,
   "metadata": {},
   "outputs": [],
   "source": [
    "vault write kmip/scope/finance/role/accounting operation_all=true"
   ]
  },
  {
   "cell_type": "code",
   "execution_count": null,
   "metadata": {},
   "outputs": [],
   "source": [
    "vault read kmip/scope/finance/role/accounting"
   ]
  },
  {
   "cell_type": "markdown",
   "metadata": {},
   "source": [
    "**Generate a client certificate**      \n",
    "This returns the CA chain, the certificate and the private key."
   ]
  },
  {
   "cell_type": "code",
   "execution_count": null,
   "metadata": {},
   "outputs": [],
   "source": [
    "vault write -format=json kmip/scope/finance/role/accounting/credential/generate \\\n",
    "  format=pem > /tmp/credential.json"
   ]
  },
  {
   "cell_type": "code",
   "execution_count": null,
   "metadata": {},
   "outputs": [],
   "source": [
    "#openssl x509 -in /tmp/cert.pem -noout -text\n",
    "jq -r .data.certificate < /tmp/credential.json > /tmp/cert.pem"
   ]
  },
  {
   "cell_type": "code",
   "execution_count": null,
   "metadata": {},
   "outputs": [],
   "source": [
    "jq -r .data.private_key < /tmp/credential.json > /tmp/key.pem"
   ]
  },
  {
   "cell_type": "markdown",
   "metadata": {},
   "source": [
    "**Note:** the resulting cert.pem and key.pem is what KMIP client will use to establish a connection with Vault KMIP server"
   ]
  },
  {
   "cell_type": "code",
   "execution_count": null,
   "metadata": {},
   "outputs": [],
   "source": [
    "vault list kmip/scope/finance/role/accounting/credential"
   ]
  },
  {
   "cell_type": "markdown",
   "metadata": {},
   "source": [
    "**Use serial number to lookup the client certificate**"
   ]
  },
  {
   "cell_type": "code",
   "execution_count": null,
   "metadata": {},
   "outputs": [],
   "source": [
    " vault read kmip/scope/finance/role/accounting/credential/lookup \\\n",
    "        serial_number=5811251589049531701235691672181269233377583790"
   ]
  },
  {
   "cell_type": "markdown",
   "metadata": {},
   "source": [
    "---\n",
    "### Demo: Your First Secret\n",
    "Now that the Vault server is up and running, let's get read and write your first secret.  One of the core features of Vault is the ability to read and write arbitrary secrets securely.  Secrets are written to Vaul are encrypted and then written to backend storage.\n",
    "\n",
    "Let's write a secret to Key/Value secret engine.  \n",
    "   \n",
    "**Note**:  \n",
    "* Run > Render All Markdown Cells\n",
    "* Edit > Clear all outputs"
   ]
  },
  {
   "cell_type": "markdown",
   "metadata": {},
   "source": [
    "### Client Certificate Signing\n",
    "KMIP secrets engine supports signing of CSR (certificate signing requests).   Some KMIP clients prefer (or only support) retaining the private key associated with their client certificate."
   ]
  },
  {
   "cell_type": "code",
   "execution_count": null,
   "metadata": {},
   "outputs": [],
   "source": [
    "vault write kmip/scope/my-service/role/admin/credential/sign csr=\"$(cat /tmp/my-csr.pem)\""
   ]
  },
  {
   "cell_type": "markdown",
   "metadata": {},
   "source": [
    "\n",
    "### Supported KMIP Operations\n",
    "Vault policies do not come into play during these KMIP operations.  The KMIP secrets engine determines the set of KMIP operations the clients are allowed to performed based on the roles that are applied to the TLS client certificate.\n",
    "* operation_activate\n",
    "* operation_add_attribute\n",
    "* operation_create\n",
    "* operation_destroy\n",
    "* operation_discover_versions\n",
    "* operation_get\n",
    "* operation_get_attributes\n",
    "* operation_get_attribute_list\n",
    "* operation_locate\n",
    "* operation_register\n",
    "* operation_rekey\n",
    "* operation_revoke"
   ]
  },
  {
   "cell_type": "code",
   "execution_count": null,
   "metadata": {},
   "outputs": [],
   "source": [
    "### Generate root certificate"
   ]
  },
  {
   "cell_type": "code",
   "execution_count": null,
   "metadata": {
    "scrolled": true
   },
   "outputs": [],
   "source": [
    "vault write pki/root/generate/internal \\\n",
    "   common_name=my-website.com \\\n",
    "   ttl=8760h"
   ]
  },
  {
   "cell_type": "markdown",
   "metadata": {},
   "source": [
    "**Note** the returned certificate is purely informational.  It and its private key are stored in Vault.\n",
    "We recommend maintaining your root CA outside of Vault and providing Vault a signed intermediate CA."
   ]
  },
  {
   "cell_type": "markdown",
   "metadata": {},
   "source": [
    "\n",
    "### Set URL configuration\n",
    "Generated certificates can have the CRL (Certifiate Revocation List), a list of digital certificates that have been revoked by the issuing CA, location and the location of the issuing certificate encoded.  These values must be set manually and typically to FQDN associated to the Vault server.  \n",
    "These can be updated in the future"
   ]
  },
  {
   "cell_type": "code",
   "execution_count": null,
   "metadata": {},
   "outputs": [],
   "source": [
    "vault write pki/config/urls \\\n",
    "   issuing_certificates=\"http://127.0.0.1:8200/v1/pki/ca\" \\\n",
    "   crl_distribution_points=\"http://127.0.0.1:8200/v1/pki/crl\"\n"
   ]
  },
  {
   "cell_type": "markdown",
   "metadata": {},
   "source": [
    "### Configure a role \n",
    "A role maps a name in Vault to a procedure for generating certificate"
   ]
  },
  {
   "cell_type": "code",
   "execution_count": null,
   "metadata": {
    "scrolled": true
   },
   "outputs": [],
   "source": [
    "vault write pki/roles/example-dot-com \\\n",
    "   allowed_domains=my-website.com \\\n",
    "   allow_subdomains=true \\\n",
    "   max_ttl=72h"
   ]
  },
  {
   "cell_type": "markdown",
   "metadata": {},
   "source": [
    "### Generate a new credential\n",
    "\n",
    "After the secrets engine is configure and a user/machine has a Vault token, it can generae credentials."
   ]
  },
  {
   "cell_type": "code",
   "execution_count": null,
   "metadata": {},
   "outputs": [],
   "source": [
    "vault write pki/issue/example-dot-com common_name=www.my-website.com"
   ]
  },
  {
   "cell_type": "markdown",
   "metadata": {},
   "source": [
    "---\n",
    "### Setting up Intermediate CA\n",
    "Mount the backend"
   ]
  },
  {
   "cell_type": "code",
   "execution_count": null,
   "metadata": {},
   "outputs": [],
   "source": [
    "vault secrets enable -path=pki_int pki"
   ]
  },
  {
   "cell_type": "markdown",
   "metadata": {},
   "source": [
    "### Configure an Intermediate CA"
   ]
  },
  {
   "cell_type": "code",
   "execution_count": null,
   "metadata": {},
   "outputs": [],
   "source": [
    "vault secrets tune -max-lease-ttl=43800h pki_int"
   ]
  },
  {
   "cell_type": "markdown",
   "metadata": {},
   "source": [
    "### Generate intermediate certificate signing request"
   ]
  },
  {
   "cell_type": "code",
   "execution_count": null,
   "metadata": {},
   "outputs": [],
   "source": [
    "vault write pki_int/intermediate/generate/internal common_name=\"myvault.com Intermediate Authority\" \\\n",
    "   ttl=43800h\n",
    "   "
   ]
  },
  {
   "cell_type": "code",
   "execution_count": null,
   "metadata": {},
   "outputs": [],
   "source": [
    "echo \"-----BEGIN CERTIFICATE REQUEST-----\n",
    "MIICcjCCAVoCAQAwLTErMCkGA1UEAxMibXl2YXVsdC5jb20gSW50ZXJtZWRpYXRl\n",
    "IEF1dGhvcml0eTCCASIwDQYJKoZIhvcNAQEBBQADggEPADCCAQoCggEBAL42hybF\n",
    "uK/RSK2SdhHOwDWxgChJKxnmug+fEBPdrvhg+D3uXWZluXFzAwnnFtgPkK+GmXg0\n",
    "ZXmTsnx30CtHksADh7GmkrA7PU8f/NdCiPXGrxsibGYD7aNRE8Y7MUIorcYPsY3d\n",
    "zQ+/a15oM//GQRoMXPL68xnnCnPBP63DC+2YQzr0szQJIuEcoUYFjvI/0f8HMTEr\n",
    "HfcUP3CMmRxEFLu0UloppK3UGXc9ku7r8BsOzovVOCvC6bzVg+lgBsIIV+2w97IM\n",
    "VGl26Mu0WxVk+ECkK9Lheb4PX53kZ693+JumpNMQFMLF3FlBqtCO7Cni4HtG/xgo\n",
    "QcG7dTNeDnLNmJsCAwEAAaAAMA0GCSqGSIb3DQEBCwUAA4IBAQAZcen7BXllqG7O\n",
    "q87395bLdDA1fPTjb5AROMUuCUsJUZKP9dX4rdPD1q0ASijFLRLWtDNmX1kW9o70\n",
    "YCX/pF0qNErIu4GejDAHACY4jTQL7hrVIpL5QPPCILF9TSxJLkZgEQfzTnyN0Unn\n",
    "E1BhKO9NmcNNzE3gRgWlsqOL6Rvd9gr9bAcUQNFWRL13nFFY0JMXocgR6V/t8hUh\n",
    "gB21kS0X/NqKO8el5DrrTKQjKSsnqQ3JjSLF2YgC1/w6rVjhfD9IIWqaY58KqPZv\n",
    "BxutThLBiDFdWIpt0SNky3tYxco4dbVwDABr31CoemsE0Iooln4/o5nrHpMMJS0+\n",
    "hZg20o1D\n",
    "-----END CERTIFICATE REQUEST-----\n",
    "\" > /tmp/pki_int.csr\n",
    "cat /tmp/pki_int.csr"
   ]
  },
  {
   "cell_type": "markdown",
   "metadata": {},
   "source": [
    "\n",
    "### Sign CSR using another certificate authority, \n",
    "in this case the root CA generated in the first example"
   ]
  },
  {
   "cell_type": "code",
   "execution_count": null,
   "metadata": {},
   "outputs": [],
   "source": [
    "vault write pki/root/sign-intermediate csr=@/tmp/pki_int.csr format=pem_bundle ttl=32800h"
   ]
  },
  {
   "cell_type": "markdown",
   "metadata": {},
   "source": [
    "&nbsp;\n",
    "\n",
    "Now set the intermediate certificate authorities signing certificate to the root-signed certificate"
   ]
  },
  {
   "cell_type": "code",
   "execution_count": null,
   "metadata": {},
   "outputs": [],
   "source": [
    "vault write pki_int/intermediate/set-signed certificate=@signed_certificate.pem"
   ]
  },
  {
   "cell_type": "markdown",
   "metadata": {},
   "source": [
    "### Set URL configuration\n",
    "Generate certificates can have the CRL location and the location of the issuing certificate encoded."
   ]
  },
  {
   "cell_type": "code",
   "execution_count": null,
   "metadata": {},
   "outputs": [],
   "source": [
    "vault write pki_int/config/urls \\\n",
    "  issuing_certificates=\"http://127.0.0.1:8200/v1/pki_int/ca\" \\\n",
    "  crl_distribution_points=\"http://127.0.0.1:8200/v1/pki_int/crl\""
   ]
  },
  {
   "cell_type": "markdown",
   "metadata": {},
   "source": [
    "### Configure a role"
   ]
  },
  {
   "cell_type": "code",
   "execution_count": null,
   "metadata": {},
   "outputs": [],
   "source": [
    "vault write pki_int/roles/example-dot-com \\\n",
    "   allowed_domains=example.com \\\n",
    "   allow_subdomain=true max_ttl=72h"
   ]
  },
  {
   "cell_type": "markdown",
   "metadata": {},
   "source": [
    "### Issue Certificates"
   ]
  },
  {
   "cell_type": "code",
   "execution_count": null,
   "metadata": {},
   "outputs": [],
   "source": [
    "vault write pki_int/issue/example-dot-com common_name=blah.example.com"
   ]
  },
  {
   "cell_type": "markdown",
   "metadata": {},
   "source": [
    "&nbsp;\n",
    "\n",
    "Vault now has generated a new set of credentials usign the example-dot-com role coniguration.  Here we see the dynamically generated private key and certificate.  The issuing CA certificate and CA trust chain are returned as well.\n",
    "The CA Chain returns all the intermeiate authorities in the trust chain.  The root authority is not included since that will usually be trusted by the underlying OS."
   ]
  },
  {
   "cell_type": "markdown",
   "metadata": {},
   "source": [
    "---\n",
    "### Use web UI\n",
    "\n",
    "Open a browser and visit http://127.0.0.1:8200\n"
   ]
  },
  {
   "cell_type": "markdown",
   "metadata": {},
   "source": [
    "&nbsp;\n",
    "\n",
    "---\n",
    "#### Thank you.\n",
    "<img src=images/HashiCorp_PrimaryLogo_Black_RGB.png width=100 align=\"left\">"
   ]
  }
 ],
 "metadata": {
  "kernelspec": {
   "display_name": "Z shell",
   "language": "zsh",
   "name": "zsh"
  },
  "language_info": {
   "codemirror_mode": "shell",
   "file_extension": ".zsh",
   "mimetype": "text/x-zsh",
   "name": "zsh",
   "pygments_lexer": "shell",
   "version": "5.7.1"
  }
 },
 "nbformat": 4,
 "nbformat_minor": 4
}
