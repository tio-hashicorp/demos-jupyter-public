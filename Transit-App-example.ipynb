{
 "cells": [
  {
   "cell_type": "markdown",
   "metadata": {},
   "source": [
    "<img align=right src=images/HashiCorp_PrimaryLogo_Black_RGB.png width=150>\n",
    "<img src=images/sglogo.png width=50  align=\"left\">"
   ]
  },
  {
   "cell_type": "markdown",
   "metadata": {},
   "source": [
    "# Encryption as a Service using MySQL\n",
    "Based on\n",
    "https://github.com/assareh/transit-app-example\n",
    "\n",
    "**Requirements:  Enterprise Vault**  \n",
    "Or simply run `evrd1`   \n",
    "---"
   ]
  },
  {
   "cell_type": "code",
   "execution_count": null,
   "metadata": {},
   "outputs": [],
   "source": [
    "export VAULT_ADDR=http://127.0.0.1:8200\n",
    "export VAULT_SKIP_VERIFY=true"
   ]
  },
  {
   "cell_type": "code",
   "execution_count": null,
   "metadata": {},
   "outputs": [],
   "source": [
    "# apply Enterprise License\n",
    "\n",
    "export VAULT_ROOT_TOKEN=root\n",
    "curl --header \"X-Vault-Token: $VAULT_ROOT_TOKEN\" \\\n",
    "    --insecure \\\n",
    "    --request PUT \\\n",
    "    --data @/Users/tio/Documents/vault_license.json \\\n",
    "    $VAULT_ADDR/v1/sys/license"
   ]
  },
  {
   "cell_type": "code",
   "execution_count": null,
   "metadata": {},
   "outputs": [],
   "source": [
    "unset VAULT_TOKEN; vault login root"
   ]
  },
  {
   "cell_type": "code",
   "execution_count": null,
   "metadata": {},
   "outputs": [],
   "source": [
    "vault status; vault version"
   ]
  },
  {
   "cell_type": "markdown",
   "metadata": {},
   "source": [
    "**Create a database**  "
   ]
  },
  {
   "cell_type": "code",
   "execution_count": null,
   "metadata": {},
   "outputs": [],
   "source": [
    "## one time thing\n",
    "docker pull mysql/mysql-server:5.7.21"
   ]
  },
  {
   "cell_type": "code",
   "execution_count": 5,
   "metadata": {},
   "outputs": [],
   "source": [
    "mkdir /tmp/workshop-data"
   ]
  },
  {
   "cell_type": "code",
   "execution_count": 7,
   "metadata": {},
   "outputs": [
    {
     "name": "stdout",
     "output_type": "stream",
     "text": [
      "0a4e9653ddae49a3cc43799b5284cb0ee10f481474971fe30b6878336a3aebdb\n"
     ]
    }
   ],
   "source": [
    "#  -v /tmp/workshop-data:/var/lib/mysql \\\n",
    "docker run --rm --name workshop-mysql \\\n",
    "  -p 3306:3306 \\\n",
    "  -e MYSQL_ROOT_PASSWORD=root \\\n",
    "  -e MYSQL_ROOT_HOST=% \\\n",
    "  -e MYSQL_DATABASE=my_app \\\n",
    "  -e MYSQL_USER=vault \\\n",
    "  -e MYSQL_PASSWORD=vaultpw \\\n",
    "  -d mysql/mysql-server:5.7.21"
   ]
  },
  {
   "cell_type": "markdown",
   "metadata": {},
   "source": [
    "**Start the database**"
   ]
  },
  {
   "cell_type": "code",
   "execution_count": 8,
   "metadata": {},
   "outputs": [
    {
     "name": "stdout",
     "output_type": "stream",
     "text": [
      "CONTAINER ID   IMAGE                       COMMAND                  CREATED          STATUS                             PORTS                               NAMES\n",
      "0a4e9653ddae   mysql/mysql-server:5.7.21   \"/entrypoint.sh mysq…\"   25 seconds ago   Up 24 seconds (health: starting)   0.0.0.0:3306->3306/tcp, 33060/tcp   workshop-mysql\n",
      "9b8d32ee26c5   nginx:1.13.6-alpine         \"nginx -g 'daemon of…\"   2 weeks ago      Up 21 minutes                      80/tcp, 0.0.0.0:8443->443/tcp       nginx_proxy\n",
      "1124a54fb16e   cyberark/conjur             \"conjurctl server\"       2 weeks ago      Up 6 seconds                       80/tcp                              conjur_server\n",
      "3f4eef754b3c   kindest/node:v1.20.2        \"/usr/local/bin/entr…\"   3 weeks ago      Up 21 minutes                      127.0.0.1:51133->6443/tcp           terraform-learn-control-plane\n"
     ]
    }
   ],
   "source": [
    "docker ps"
   ]
  },
  {
   "cell_type": "code",
   "execution_count": 4,
   "metadata": {},
   "outputs": [
    {
     "name": "stdout",
     "output_type": "stream",
     "text": [
      "Error response from daemon: Container 0e605a3a7d10779ea48fe2b4eb29a6848cb12042326c12eb29b2498a78a8684e is not running\n"
     ]
    }
   ],
   "source": [
    "docker exec -it workshop-mysql mysql -uroot -proot -e 'show grants for root'"
   ]
  },
  {
   "cell_type": "markdown",
   "metadata": {},
   "source": [
    "**Display existing database users**"
   ]
  },
  {
   "cell_type": "code",
   "execution_count": null,
   "metadata": {},
   "outputs": [],
   "source": [
    "docker exec -it workshop-mysql mysql -uroot -proot -e  \"select user from mysql.user;\""
   ]
  },
  {
   "cell_type": "code",
   "execution_count": null,
   "metadata": {},
   "outputs": [],
   "source": [
    "docker exec -it workshop-mysql mysql -uroot -proot -e \"show databases\""
   ]
  },
  {
   "cell_type": "markdown",
   "metadata": {},
   "source": [
    "### Configure Vault and Database Engine"
   ]
  },
  {
   "cell_type": "code",
   "execution_count": null,
   "metadata": {},
   "outputs": [],
   "source": [
    "vault audit enable file file_path=/tmp/audit/vault_audit.log"
   ]
  },
  {
   "cell_type": "code",
   "execution_count": null,
   "metadata": {},
   "outputs": [],
   "source": [
    "vault secrets enable -path=lob_a/workshop/database database"
   ]
  },
  {
   "cell_type": "markdown",
   "metadata": {},
   "source": [
    "**Configure Vault `workshop-app` role**"
   ]
  },
  {
   "cell_type": "code",
   "execution_count": null,
   "metadata": {},
   "outputs": [],
   "source": [
    "vault write lob_a/workshop/database/config/ws-mysql-database \\\n",
    "    plugin_name=mysql-database-plugin \\\n",
    "    connection_url=\"{{username}}:{{password}}@tcp(host.docker.internal:3306)/\" \\\n",
    "    allowed_roles=\"workshop-app-long,workshop-app\" \\\n",
    "    username=\"root\" \\\n",
    "    password=\"root\""
   ]
  },
  {
   "cell_type": "code",
   "execution_count": null,
   "metadata": {},
   "outputs": [],
   "source": [
    "vault write lob_a/workshop/database/roles/workshop-app-long \\\n",
    "    db_name=ws-mysql-database \\\n",
    "    creation_statements=\"CREATE USER '{{name}}'@'%' IDENTIFIED BY '{{password}}';GRANT ALL ON *.* TO '{{name}}'@'%';\" \\\n",
    "    default_ttl=\"1h\" \\\n",
    "    max_ttl=\"24h\""
   ]
  },
  {
   "cell_type": "code",
   "execution_count": null,
   "metadata": {},
   "outputs": [],
   "source": [
    "vault write lob_a/workshop/database/roles/workshop-app \\\n",
    "    db_name=ws-mysql-database \\\n",
    "    creation_statements=\"CREATE USER '{{name}}'@'%' IDENTIFIED BY '{{password}}';GRANT ALL ON *.* TO '{{name}}'@'%';\" \\\n",
    "    default_ttl=\"5m\" \\\n",
    "    max_ttl=\"1h\""
   ]
  },
  {
   "cell_type": "markdown",
   "metadata": {},
   "source": [
    "### Demo\n",
    "---"
   ]
  },
  {
   "cell_type": "markdown",
   "metadata": {},
   "source": [
    "### Get Database credential"
   ]
  },
  {
   "cell_type": "code",
   "execution_count": null,
   "metadata": {},
   "outputs": [],
   "source": [
    "vault read lob_a/workshop/database/creds/workshop-app-long"
   ]
  },
  {
   "cell_type": "markdown",
   "metadata": {},
   "source": [
    "&nbsp;"
   ]
  },
  {
   "cell_type": "markdown",
   "metadata": {},
   "source": [
    "   \n",
    "**Display database users** (note new user added by Vault)"
   ]
  },
  {
   "cell_type": "code",
   "execution_count": null,
   "metadata": {},
   "outputs": [],
   "source": [
    "docker exec -it workshop-mysql mysql -u root  -p'root' \\\n",
    "  -e \"select user from mysql.user\"; "
   ]
  },
  {
   "cell_type": "markdown",
   "metadata": {},
   "source": [
    "**Database test using the newly created credential**"
   ]
  },
  {
   "cell_type": "code",
   "execution_count": null,
   "metadata": {},
   "outputs": [],
   "source": [
    "docker exec -it workshop-mysql mysql -u v_token_workshop-a_I0zwAQcm8Tiiu  -p'SYDne2acJSzmmJs-YuG4' \\\n",
    "  -e \"show databases\";"
   ]
  },
  {
   "cell_type": "markdown",
   "metadata": {},
   "source": [
    "### Configure Encryption as a Service "
   ]
  },
  {
   "cell_type": "code",
   "execution_count": null,
   "metadata": {},
   "outputs": [],
   "source": [
    "vault secrets enable -path=lob_a/workshop/transit transit"
   ]
  },
  {
   "cell_type": "code",
   "execution_count": null,
   "metadata": {},
   "outputs": [],
   "source": [
    "vault write -f lob_a/workshop/transit/keys/customer-key"
   ]
  },
  {
   "cell_type": "code",
   "execution_count": null,
   "metadata": {},
   "outputs": [],
   "source": [
    "vault write -f lob_a/workshop/transit/keys/archive-key"
   ]
  },
  {
   "cell_type": "markdown",
   "metadata": {},
   "source": [
    "### Configure Transform"
   ]
  },
  {
   "cell_type": "code",
   "execution_count": null,
   "metadata": {},
   "outputs": [],
   "source": [
    "vault secrets enable -path=lob_a/workshop/transform transform"
   ]
  },
  {
   "cell_type": "code",
   "execution_count": null,
   "metadata": {},
   "outputs": [],
   "source": [
    "vault write lob_a/workshop/transform/role/ssn transformations=ssn-fpe"
   ]
  },
  {
   "cell_type": "code",
   "execution_count": null,
   "metadata": {},
   "outputs": [],
   "source": [
    "vault write lob_a/workshop/transform/transformation/ssn-fpe \\\n",
    "  type=fpe \\\n",
    "  template=builtin/socialsecuritynumber \\\n",
    "  tweak_source=internal \\\n",
    "  allowed_roles=ssn"
   ]
  },
  {
   "cell_type": "markdown",
   "metadata": {},
   "source": [
    "# RUN the transit app \n",
    "**Note:** after a while the transit-app-example gives 500 Internal Server Error.  Just stop and rerun the container."
   ]
  },
  {
   "cell_type": "code",
   "execution_count": 12,
   "metadata": {},
   "outputs": [
    {
     "name": "stdout",
     "output_type": "stream",
     "text": [
      "Transit-App is going to run on http://192.168.1.73:5000\n",
      "\n",
      "afcbf38ccd5cff20a096ea13461ac996bbb7a70ca0f75a66a8a7a34a4385ac0b\n"
     ]
    }
   ],
   "source": [
    "export LAPTOP_IP=$(ipconfig getifaddr en0)\n",
    "echo \"Transit-App is going to run on http://$LAPTOP_IP:5000\\n\"\n",
    "\n",
    "docker run --rm --name transit-app-example \\\n",
    "  -p 5000:5000 \\\n",
    "  -e VAULT_ADDR=http://host.docker.internal:8200 \\\n",
    "  -e VAULT_DATABASE_CREDS_PATH=lob_a/workshop/database/creds/workshop-app-long \\\n",
    "  -e VAULT_NAMESPACE=root \\\n",
    "  -e VAULT_TOKEN=$(vault print token) \\\n",
    "  -e VAULT_TRANSFORM_PATH=lob_a/workshop/transform \\\n",
    "  -e VAULT_TRANSFORM_MASKING_PATH=lob_a/workshop/transform \\\n",
    "  -e VAULT_TRANSIT_PATH=lob_a/workshop/transit \\\n",
    "  -e MYSQL_ADDR=host.docker.internal \\\n",
    "  -d assareh/transit-app-example:latest"
   ]
  },
  {
   "cell_type": "markdown",
   "metadata": {},
   "source": [
    "---\n",
    "### Cleanup\n"
   ]
  },
  {
   "cell_type": "markdown",
   "metadata": {},
   "source": [
    "**Shutdown Transit-app**"
   ]
  },
  {
   "cell_type": "code",
   "execution_count": 13,
   "metadata": {},
   "outputs": [
    {
     "name": "stdout",
     "output_type": "stream",
     "text": [
      "transit-app-example\n"
     ]
    }
   ],
   "source": [
    "docker stop transit-app-example"
   ]
  },
  {
   "cell_type": "markdown",
   "metadata": {},
   "source": [
    "**Shutdown mysql**"
   ]
  },
  {
   "cell_type": "code",
   "execution_count": null,
   "metadata": {},
   "outputs": [],
   "source": [
    "docker stop workshop-mysql"
   ]
  },
  {
   "cell_type": "code",
   "execution_count": null,
   "metadata": {},
   "outputs": [],
   "source": [
    "docker rm workshop-mysql"
   ]
  },
  {
   "cell_type": "markdown",
   "metadata": {},
   "source": [
    "&nbsp;\n",
    "\n",
    "---\n",
    "#### Thank you.\n",
    "<img src=images/HashiCorp_PrimaryLogo_Black_RGB.png width=100 align=\"left\">"
   ]
  },
  {
   "cell_type": "markdown",
   "metadata": {},
   "source": [
    "### Using Transit-App on your laptop\n",
    "Follow Setup instructions on https://github.com/assareh/transit-app-example/tree/docker/setup  \n",
    "\n",
    "**NOTE**: instead of running  \n",
    "`pip3 install mysql-connector-python hvac Flask` \n",
    "use   \n",
    "`python3 -m pip install mysql-connector-python hvac Flask` .  This uses the pip that comes with your particular python3 version."
   ]
  },
  {
   "cell_type": "code",
   "execution_count": null,
   "metadata": {},
   "outputs": [],
   "source": [
    "export LAPTOP_IP=$(ipconfig getifaddr en0)\n",
    "echo \"Transit-App is going to run on http://$LAPTOP_IP:5000\\n\"\n",
    "\n",
    "export VAULT_TOKEN=root\n",
    "export VAULT_ADDR=http://$LAPTOP_IP:8200\n",
    "export VAULT_NAMESPACE=root\n",
    "export VAULT_TRANSIT_PATH=lob_a/workshop/transit\n",
    "export VAULT_TRANSFORM_PATH=lob_a/workshop/transform\n",
    "export VAULT_TRANSFORM_MASKING_PATH=lob_a/workshop/transform\n",
    "export VAULT_DATABASE_CREDS_PATH=lob_a/workshop/database/creds/workshop-app-long\n",
    "export MYSQL_ADDR=$LAPTOP_IP\n",
    "\n",
    "cd ~/mydemo/vault/transit-app-example/backend/\n",
    "python3 app.py"
   ]
  }
 ],
 "metadata": {
  "kernelspec": {
   "display_name": "Z shell",
   "language": "zsh",
   "name": "zsh"
  },
  "language_info": {
   "codemirror_mode": "shell",
   "file_extension": ".zsh",
   "mimetype": "text/x-zsh",
   "name": "zsh",
   "pygments_lexer": "shell",
   "version": "5.7.1"
  }
 },
 "nbformat": 4,
 "nbformat_minor": 4
}
