{
 "cells": [
  {
   "cell_type": "markdown",
   "metadata": {},
   "source": [
    "<img src=images/HashiCorp_PrimaryLogo_Black_RGB.png width=150 align=\"right\">\n",
    "<img src=images/Acme.jpeg width=100 align=\"left\">"
   ]
  },
  {
   "cell_type": "markdown",
   "metadata": {},
   "source": [
    "#  Cubbyhole Secret Engine\n",
    "\n",
    "<img src=\"images/vault-cubbyhole-1.png\" width=800 >\n",
    "Cubbyhole is your own storage, a \"locker\" or \"safe place\" to store your valuables.  \n",
    "\n",
    "In Vault, all secrets are namespaced under your token.  It is not possible to reach into another token's cubbyhole even as the root user.  \n",
    "Compare this to Kev/Value Secrets Engine, where secrets are accessible to any token as long as its policy allows it.\n",
    "\n",
    "\n",
    "**Cubbyhole** secret engine is used to store arbitrary secrets.\n",
    "* Enabled by default at the path  **cubbyhole/**\n",
    "* Cannot be disabled\n",
    "* its lifetime is linked to the token used to write the data  \n",
    "    * even **root** token cannot read the data\n"
   ]
  },
  {
   "cell_type": "markdown",
   "metadata": {},
   "source": [
    "### Prerequisites\n",
    "You need to have Vault up and running\n",
    "\n",
    "`VAULT_UI=true VAULT_REDIRECT_ADDR=http://127.0.0.1:8200 vault server -log-level=trace -dev -dev-root-token-id=root -dev-listen-address=127.0.0.1:8200 -dev-ha -dev-transactional`\n",
    "\n",
    "\n",
    "### Setup\n",
    "**Note**:  \n",
    "* Run > Render All Markdown Cells\n",
    "* Edit > Clear all outputs"
   ]
  },
  {
   "cell_type": "code",
   "execution_count": null,
   "metadata": {},
   "outputs": [],
   "source": [
    "vault -version"
   ]
  },
  {
   "cell_type": "code",
   "execution_count": null,
   "metadata": {},
   "outputs": [],
   "source": [
    "export VAULT_ADDR=http://127.0.0.1:8200\n",
    "export VAULT_SKIP_VERIFY=true"
   ]
  },
  {
   "cell_type": "code",
   "execution_count": null,
   "metadata": {},
   "outputs": [],
   "source": [
    "vault status"
   ]
  },
  {
   "cell_type": "markdown",
   "metadata": {},
   "source": [
    "---\n",
    "### Create Short-Lived Tokens\n",
    "Do the exercise below twice, each using different tokens!"
   ]
  },
  {
   "cell_type": "code",
   "execution_count": null,
   "metadata": {},
   "outputs": [],
   "source": [
    "VAULT_TOKEN=root vault token create -policy=jenkins -ttl=5m"
   ]
  },
  {
   "cell_type": "markdown",
   "metadata": {},
   "source": [
    "s.NgllFwmsuIEJ0WLfjzaIa6LW\n",
    "##### We'll use the value of token above"
   ]
  },
  {
   "cell_type": "code",
   "execution_count": null,
   "metadata": {},
   "outputs": [],
   "source": [
    "VAULT_TOKEN=\"s.MIQoKzBdng5zXD9d2QaWZPHG\" vault write cubbyhole/tio-github-token token=\"123456789_5ww2\""
   ]
  },
  {
   "cell_type": "code",
   "execution_count": null,
   "metadata": {
    "scrolled": true
   },
   "outputs": [],
   "source": [
    "VAULT_TOKEN=\"root\" vault read cubbyhole/tio-github-token"
   ]
  },
  {
   "cell_type": "raw",
   "metadata": {},
   "source": [
    "**root token can not read the cubbyhole**"
   ]
  },
  {
   "cell_type": "code",
   "execution_count": null,
   "metadata": {},
   "outputs": [],
   "source": [
    "VAULT_TOKEN=\"s.MIQoKzBdng5zXD9d2QaWZPHG\" vault read cubbyhole/tio-github-token"
   ]
  },
  {
   "cell_type": "markdown",
   "metadata": {},
   "source": [
    "\n",
    "### Response Wrapping\n",
    "Problem:  Say you generated a token.  How  do you **securely distribute** this initial token to the trusted entity?\n",
    "\n",
    "Solution:\n",
    "Vault's cubbyhole response wrapping feature.  It ensures that only a single party can unwrap the token and see what's inside.\n",
    "\n",
    "How it works:\n",
    "* store the initial token inside a temporary (restricted) token's cubbyhole with a short TTL\n",
    "* only expect client (trusted identity) can unwrap this secret\n",
    "    * wrapping token is a **single use** token\n",
    "    \n"
   ]
  },
  {
   "cell_type": "code",
   "execution_count": null,
   "metadata": {},
   "outputs": [],
   "source": [
    "VAULT_TOKEN=root vault token create -policy=jenkins -wrap-ttl=3m"
   ]
  },
  {
   "cell_type": "markdown",
   "metadata": {},
   "source": [
    "**Note:** Compare the output above (with -wrap-ttl) with the previous one without `wrap-ttl`.  \n",
    "\n",
    "Only one party can unwrap, and only once!"
   ]
  },
  {
   "cell_type": "code",
   "execution_count": null,
   "metadata": {},
   "outputs": [],
   "source": [
    "vault unwrap  s.APTqFCMuG5yVfZNrDDgtr7ce"
   ]
  },
  {
   "cell_type": "markdown",
   "metadata": {},
   "source": [
    "**Note:** wrapping token is a **single-use** token"
   ]
  },
  {
   "cell_type": "code",
   "execution_count": null,
   "metadata": {},
   "outputs": [],
   "source": [
    "VAULT_TOKEN=s.uuCReVpFoQ00STo2aKNQ6ADJ vault unwrap"
   ]
  },
  {
   "cell_type": "markdown",
   "metadata": {},
   "source": [
    "&nbsp;\n",
    "\n",
    "---\n",
    "#### Thank you.\n",
    "<img src=images/HashiCorp_PrimaryLogo_Black_RGB.png width=100 class=\"center\">"
   ]
  }
 ],
 "metadata": {
  "kernelspec": {
   "display_name": "Z shell",
   "language": "zsh",
   "name": "zsh"
  },
  "language_info": {
   "codemirror_mode": "shell",
   "file_extension": ".zsh",
   "mimetype": "text/x-zsh",
   "name": "zsh",
   "pygments_lexer": "shell",
   "version": "5.7.1"
  }
 },
 "nbformat": 4,
 "nbformat_minor": 4
}
